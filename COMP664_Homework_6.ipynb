{
  "cells": [
    {
      "cell_type": "markdown",
      "metadata": {
        "id": "VYovBDSbwfYD"
      },
      "source": [
        "# 1. Batch normalization (2 points)\n",
        "\n",
        "Please make use of the model code from Homework 5 question 2 as you work on this question.\n",
        "\n",
        "1. If your model didn't use batch normalization, add it. If it already had batch normalization, remove it. How does the performance change? Please experiment with different learning rate values, since batch normalization can allow a different range of learning rates to work. You are welcome to write your own batch norm implementaiton or use a pre-existing one from mxnet or pytorch.\n",
        "1. Plot the squared L2 norm of gradients with respect to parameters over the course of training with and without batch normalization. To do this, you will need to compute the gradient of the loss over some data with respect to each parameter, square these gradients, and sum the result across all parameters. You can compute this value at each training step, or after each epoch. What difference does batch normalization make in terms of the squared L2 norm of gradients?"
      ]
    },
    {
      "cell_type": "markdown",
      "source": [
        "**Without Batch Normalization**"
      ],
      "metadata": {
        "id": "5wYAo7HpwSXZ"
      }
    },
    {
      "cell_type": "code",
      "execution_count": 1,
      "metadata": {
        "id": "YxnjsCeSA8XJ"
      },
      "outputs": [],
      "source": [
        "# Import packages\n",
        "import torch\n",
        "import numpy as np\n",
        "from torchvision import datasets\n",
        "import torchvision.transforms as transforms\n",
        "from torch.utils.data.sampler import SubsetRandomSampler\n",
        "\n",
        "import matplotlib.pyplot as plt\n",
        "%matplotlib inline"
      ]
    },
    {
      "cell_type": "code",
      "execution_count": 2,
      "metadata": {
        "colab": {
          "base_uri": "https://localhost:8080/"
        },
        "id": "2nH2NRUIBGe9",
        "outputId": "0bf62318-9a7e-438b-b8ee-a62497faea97"
      },
      "outputs": [
        {
          "output_type": "stream",
          "name": "stdout",
          "text": [
            "CUDA is available!  Training on GPU ...\n"
          ]
        }
      ],
      "source": [
        "# Check if CUDA is available\n",
        "train_on_gpu = torch.cuda.is_available()\n",
        "\n",
        "if not train_on_gpu:\n",
        "    print('CUDA is not available.  Training on CPU ...')\n",
        "else:\n",
        "    print('CUDA is available!  Training on GPU ...')"
      ]
    },
    {
      "cell_type": "code",
      "execution_count": 3,
      "metadata": {
        "colab": {
          "base_uri": "https://localhost:8080/",
          "height": 101,
          "referenced_widgets": [
            "5a41c17c2ce34b81af4a73d1d0bccd93",
            "5a22ab2724194b2c9e948ce06034d0e8",
            "38d18c582ed44aa3ada78608c19d4f4c",
            "5946b3cad8d54396b4e8263711f10dcf",
            "687f0bf8eec547828f1a437e68382e8e",
            "f9b12721fe7b488ab41b421dabfddcb6",
            "05dd20daff7e4a0aa812888e111f2a9b",
            "8e7c4b4cce7348fcb91161db9b5cd7dd",
            "bda78db0cab942158826046a2c78dc7e",
            "fd21a7cfb9d64e989dcda66fbd04d1a2",
            "b1db3eb9a96e4a9989f001b6635a82ad"
          ]
        },
        "id": "hshc42CLBMrg",
        "outputId": "12cf27e2-92f5-4736-9beb-5fdf44a18570"
      },
      "outputs": [
        {
          "output_type": "stream",
          "name": "stdout",
          "text": [
            "Downloading https://www.cs.toronto.edu/~kriz/cifar-10-python.tar.gz to data/cifar-10-python.tar.gz\n"
          ]
        },
        {
          "output_type": "display_data",
          "data": {
            "text/plain": [
              "  0%|          | 0/170498071 [00:00<?, ?it/s]"
            ],
            "application/vnd.jupyter.widget-view+json": {
              "version_major": 2,
              "version_minor": 0,
              "model_id": "5a41c17c2ce34b81af4a73d1d0bccd93"
            }
          },
          "metadata": {}
        },
        {
          "output_type": "stream",
          "name": "stdout",
          "text": [
            "Extracting data/cifar-10-python.tar.gz to data\n",
            "Files already downloaded and verified\n"
          ]
        }
      ],
      "source": [
        "# number of subprocesses to use for data loading\n",
        "num_workers = 0\n",
        "# how many samples per batch to load\n",
        "batch_size = 20\n",
        "# percentage of training set to use as validation\n",
        "valid_size = 0.2\n",
        "\n",
        "# convert data to a normalized torch.FloatTensor\n",
        "transform = transforms.Compose([\n",
        "    transforms.ToTensor(),\n",
        "    transforms.Normalize((0.5, 0.5, 0.5), (0.5, 0.5, 0.5))\n",
        "    ])\n",
        "\n",
        "# choose the training and test datasets\n",
        "train_data = datasets.CIFAR10('data', train=True,\n",
        "                              download=True, transform=transform)\n",
        "test_data = datasets.CIFAR10('data', train=False,\n",
        "                             download=True, transform=transform)\n",
        "\n",
        "# obtain training indices that will be used for validation\n",
        "num_train = len(train_data)\n",
        "indices = list(range(num_train))\n",
        "np.random.shuffle(indices)\n",
        "split = int(np.floor(valid_size * num_train))\n",
        "train_idx, valid_idx = indices[split:], indices[:split]\n",
        "\n",
        "# define samplers for obtaining training and validation batches\n",
        "train_sampler = SubsetRandomSampler(train_idx)\n",
        "valid_sampler = SubsetRandomSampler(valid_idx)\n",
        "\n",
        "# prepare data loaders (combine dataset and sampler)\n",
        "train_loader = torch.utils.data.DataLoader(train_data, batch_size=batch_size,\n",
        "    sampler=train_sampler, num_workers=num_workers)\n",
        "valid_loader = torch.utils.data.DataLoader(train_data, batch_size=batch_size, \n",
        "    sampler=valid_sampler, num_workers=num_workers)\n",
        "test_loader = torch.utils.data.DataLoader(test_data, batch_size=batch_size, \n",
        "    num_workers=num_workers)\n",
        "\n",
        "# specify the image classes\n",
        "classes = ['airplane', 'automobile', 'bird', 'cat', 'deer',\n",
        "           'dog', 'frog', 'horse', 'ship', 'truck']"
      ]
    },
    {
      "cell_type": "code",
      "execution_count": 4,
      "metadata": {
        "colab": {
          "base_uri": "https://localhost:8080/"
        },
        "id": "AJ50N1egBXud",
        "outputId": "56fdd70d-f38b-4f30-babd-f0e2bae0ab91"
      },
      "outputs": [
        {
          "output_type": "stream",
          "name": "stdout",
          "text": [
            "Net(\n",
            "  (conv_layer): Sequential(\n",
            "    (0): Conv2d(3, 32, kernel_size=(3, 3), stride=(1, 1), padding=(1, 1))\n",
            "    (1): ReLU(inplace=True)\n",
            "    (2): Conv2d(32, 64, kernel_size=(3, 3), stride=(1, 1), padding=(1, 1))\n",
            "    (3): ReLU(inplace=True)\n",
            "    (4): MaxPool2d(kernel_size=2, stride=2, padding=0, dilation=1, ceil_mode=False)\n",
            "    (5): Conv2d(64, 128, kernel_size=(3, 3), stride=(1, 1), padding=(1, 1))\n",
            "    (6): ReLU(inplace=True)\n",
            "    (7): Conv2d(128, 128, kernel_size=(3, 3), stride=(1, 1), padding=(1, 1))\n",
            "    (8): ReLU(inplace=True)\n",
            "    (9): MaxPool2d(kernel_size=2, stride=2, padding=0, dilation=1, ceil_mode=False)\n",
            "    (10): Dropout2d(p=0.05, inplace=False)\n",
            "    (11): Conv2d(128, 256, kernel_size=(3, 3), stride=(1, 1), padding=(1, 1))\n",
            "    (12): ReLU(inplace=True)\n",
            "    (13): Conv2d(256, 256, kernel_size=(3, 3), stride=(1, 1), padding=(1, 1))\n",
            "    (14): ReLU(inplace=True)\n",
            "    (15): MaxPool2d(kernel_size=2, stride=2, padding=0, dilation=1, ceil_mode=False)\n",
            "  )\n",
            "  (fc_layer): Sequential(\n",
            "    (0): Dropout(p=0.1, inplace=False)\n",
            "    (1): Linear(in_features=4096, out_features=1024, bias=True)\n",
            "    (2): ReLU(inplace=True)\n",
            "    (3): Linear(in_features=1024, out_features=512, bias=True)\n",
            "    (4): ReLU(inplace=True)\n",
            "    (5): Dropout(p=0.1, inplace=False)\n",
            "    (6): Linear(in_features=512, out_features=10, bias=True)\n",
            "  )\n",
            ")\n"
          ]
        }
      ],
      "source": [
        "import torch.nn as nn\n",
        "import torch.nn.functional as F\n",
        "\n",
        "# define the CNN architecture\n",
        "class Net(nn.Module):\n",
        "\n",
        "    def __init__(self):\n",
        "        \n",
        "        super(Net, self).__init__()\n",
        "\n",
        "        self.conv_layer = nn.Sequential(\n",
        "\n",
        "            # Conv Layer block 1\n",
        "            nn.Conv2d(in_channels=3, out_channels=32, kernel_size=3, padding=1),\n",
        "            nn.ReLU(inplace=True),\n",
        "            nn.Conv2d(in_channels=32, out_channels=64, kernel_size=3, padding=1),\n",
        "            nn.ReLU(inplace=True),\n",
        "            nn.MaxPool2d(kernel_size=2, stride=2),\n",
        "\n",
        "            # Conv Layer block 2\n",
        "            nn.Conv2d(in_channels=64, out_channels=128, kernel_size=3, padding=1),\n",
        "            nn.ReLU(inplace=True),\n",
        "            nn.Conv2d(in_channels=128, out_channels=128, kernel_size=3, padding=1),\n",
        "            nn.ReLU(inplace=True),\n",
        "            nn.MaxPool2d(kernel_size=2, stride=2),\n",
        "            nn.Dropout2d(p=0.05),\n",
        "\n",
        "            # Conv Layer block 3\n",
        "            nn.Conv2d(in_channels=128, out_channels=256, kernel_size=3, padding=1),\n",
        "            nn.ReLU(inplace=True),\n",
        "            nn.Conv2d(in_channels=256, out_channels=256, kernel_size=3, padding=1),\n",
        "            nn.ReLU(inplace=True),\n",
        "            nn.MaxPool2d(kernel_size=2, stride=2),\n",
        "        )\n",
        "\n",
        "\n",
        "        self.fc_layer = nn.Sequential(\n",
        "            nn.Dropout(p=0.1),\n",
        "            nn.Linear(4096, 1024),\n",
        "            nn.ReLU(inplace=True),\n",
        "            nn.Linear(1024, 512),\n",
        "            nn.ReLU(inplace=True),\n",
        "            nn.Dropout(p=0.1),\n",
        "            nn.Linear(512, 10)\n",
        "        )\n",
        "\n",
        "\n",
        "    def forward(self, x):\n",
        "        \"\"\"Perform forward.\"\"\"\n",
        "        \n",
        "        # conv layers\n",
        "        x = self.conv_layer(x)\n",
        "        \n",
        "        # flatten\n",
        "        x = x.view(x.size(0), -1)\n",
        "        \n",
        "        # fc layer\n",
        "        x = self.fc_layer(x)\n",
        "\n",
        "        return x\n",
        "\n",
        "# create a complete CNN\n",
        "model = Net()\n",
        "print(model)\n",
        "\n",
        "# move tensors to GPU if CUDA is available\n",
        "if train_on_gpu:\n",
        "    model.cuda()"
      ]
    },
    {
      "cell_type": "code",
      "execution_count": 5,
      "metadata": {
        "id": "fO_at3o4Ba8s"
      },
      "outputs": [],
      "source": [
        "import torch.optim as optim\n",
        "# specify loss function\n",
        "criterion = nn.CrossEntropyLoss()\n",
        "# specify optimizer\n",
        "optimizer = optim.SGD(model.parameters(), lr=0.1)"
      ]
    },
    {
      "cell_type": "code",
      "execution_count": 6,
      "metadata": {
        "colab": {
          "base_uri": "https://localhost:8080/"
        },
        "id": "aK5oww8pBoEd",
        "outputId": "1179335a-9529-4fd1-a239-75357a0731b8"
      },
      "outputs": [
        {
          "output_type": "stream",
          "name": "stdout",
          "text": [
            "Epoch: 1 \tTraining Loss: 1.700323 \tValidation Loss: 0.355365\n",
            "Validation loss decreased (inf --> 0.355365).  Saving model ...\n",
            "Epoch: 2 \tTraining Loss: 1.229372 \tValidation Loss: 0.317885\n",
            "Validation loss decreased (0.355365 --> 0.317885).  Saving model ...\n",
            "Epoch: 3 \tTraining Loss: 0.928425 \tValidation Loss: 0.201465\n",
            "Validation loss decreased (0.317885 --> 0.201465).  Saving model ...\n",
            "Epoch: 4 \tTraining Loss: 0.705682 \tValidation Loss: 0.169071\n",
            "Validation loss decreased (0.201465 --> 0.169071).  Saving model ...\n",
            "Epoch: 5 \tTraining Loss: 0.556907 \tValidation Loss: 0.165307\n",
            "Validation loss decreased (0.169071 --> 0.165307).  Saving model ...\n",
            "Epoch: 6 \tTraining Loss: 0.441992 \tValidation Loss: 0.138353\n",
            "Validation loss decreased (0.165307 --> 0.138353).  Saving model ...\n",
            "Epoch: 7 \tTraining Loss: 0.358184 \tValidation Loss: 0.148486\n",
            "Epoch: 8 \tTraining Loss: 0.288999 \tValidation Loss: 0.154857\n",
            "Epoch: 9 \tTraining Loss: 0.248102 \tValidation Loss: 0.166914\n",
            "Epoch: 10 \tTraining Loss: 0.201062 \tValidation Loss: 0.192158\n",
            "Epoch: 11 \tTraining Loss: 0.187990 \tValidation Loss: 0.187212\n",
            "Epoch: 12 \tTraining Loss: 0.169938 \tValidation Loss: 0.200937\n",
            "Epoch: 13 \tTraining Loss: 0.172217 \tValidation Loss: 0.196157\n",
            "Epoch: 14 \tTraining Loss: 0.154927 \tValidation Loss: 0.201067\n",
            "Epoch: 15 \tTraining Loss: 0.165169 \tValidation Loss: 0.209940\n",
            "Epoch: 16 \tTraining Loss: 0.162135 \tValidation Loss: 0.204741\n",
            "Epoch: 17 \tTraining Loss: 0.159267 \tValidation Loss: 0.218148\n",
            "Epoch: 18 \tTraining Loss: 0.160187 \tValidation Loss: 0.219661\n",
            "Epoch: 19 \tTraining Loss: 0.170396 \tValidation Loss: 0.233764\n",
            "Epoch: 20 \tTraining Loss: 0.169672 \tValidation Loss: 0.210656\n",
            "Epoch: 21 \tTraining Loss: 0.192792 \tValidation Loss: 0.230879\n",
            "Epoch: 22 \tTraining Loss: 0.216067 \tValidation Loss: 0.218964\n",
            "Epoch: 23 \tTraining Loss: 0.223146 \tValidation Loss: 0.231432\n",
            "Epoch: 24 \tTraining Loss: 0.229773 \tValidation Loss: 0.229635\n",
            "Epoch: 25 \tTraining Loss: 0.270004 \tValidation Loss: 0.241633\n",
            "Epoch: 26 \tTraining Loss: 0.304247 \tValidation Loss: 0.247944\n",
            "Epoch: 27 \tTraining Loss: 0.280325 \tValidation Loss: 0.245190\n",
            "Epoch: 28 \tTraining Loss: 0.369031 \tValidation Loss: 0.222910\n",
            "Epoch: 29 \tTraining Loss: 0.436040 \tValidation Loss: 0.238595\n",
            "Epoch: 30 \tTraining Loss: 0.470179 \tValidation Loss: 0.235152\n"
          ]
        }
      ],
      "source": [
        "# number of epochs to train the model\n",
        "n_epochs = [*range(30)]\n",
        "#List to store loss to visualize\n",
        "train_losslist = []\n",
        "valid_loss_min = np.Inf # track change in validation loss\n",
        "# Initialize a list to store the squared L2 norms of gradients\n",
        "avg_gradient_norms = []\n",
        "\n",
        "for epoch in range(1, len(n_epochs)+1):\n",
        "\n",
        "    # keep track of training and validation loss\n",
        "    train_loss = 0.0\n",
        "    valid_loss = 0.0\n",
        "    # grad_norm = 0.0\n",
        "    total_norm = 0.0\n",
        "\n",
        "    ###################\n",
        "    # train the model #\n",
        "    ###################\n",
        "    model.train()\n",
        "    for data, target in train_loader:\n",
        "        # move tensors to GPU if CUDA is available\n",
        "        if train_on_gpu:\n",
        "            data, target = data.cuda(), target.cuda()\n",
        "        # clear the gradients of all optimized variables\n",
        "        optimizer.zero_grad()\n",
        "        # forward pass: compute predicted outputs by passing inputs to the model\n",
        "        output = model(data)\n",
        "        # calculate the batch loss\n",
        "        loss = criterion(output, target)\n",
        "        # backward pass: compute gradient of the loss with respect to model parameters\n",
        "        loss.backward()\n",
        "        # perform a single optimization step (parameter update)\n",
        "        optimizer.step()\n",
        "        # update training loss\n",
        "        train_loss += loss.item()*data.size(0)\n",
        "\n",
        "        grad_norm = 0.0\n",
        "        parameters = [p for p in model.parameters() if p.grad is not None and p.requires_grad]\n",
        "        for p in parameters:\n",
        "          param_norm = p.grad.detach().data.norm(2)\n",
        "          grad_norm += param_norm.item() ** 2\n",
        "      \n",
        "        total_norm += grad_norm\n",
        "\n",
        "    avg_gradient_norms.append(total_norm/len(train_loader.dataset))\n",
        "    ######################    \n",
        "    # validate the model #\n",
        "    ######################\n",
        "    model.eval()\n",
        "    for data, target in valid_loader:\n",
        "        # move tensors to GPU if CUDA is available\n",
        "        if train_on_gpu:\n",
        "            data, target = data.cuda(), target.cuda()\n",
        "        # forward pass: compute predicted outputs by passing inputs to the model\n",
        "        output = model(data)\n",
        "        # calculate the batch loss\n",
        "        loss = criterion(output, target)\n",
        "        # update average validation loss \n",
        "        valid_loss += loss.item()*data.size(0)\n",
        "    \n",
        "    # calculate average losses\n",
        "    train_loss = train_loss/len(train_loader.dataset)\n",
        "    valid_loss = valid_loss/len(valid_loader.dataset)\n",
        "    train_losslist.append(train_loss)\n",
        "        \n",
        "    # print training/validation statistics \n",
        "    print('Epoch: {} \\tTraining Loss: {:.6f} \\tValidation Loss: {:.6f}'.format(\n",
        "        epoch, train_loss, valid_loss))\n",
        "    \n",
        "    # save model if validation loss has decreased\n",
        "    if valid_loss <= valid_loss_min:\n",
        "        print('Validation loss decreased ({:.6f} --> {:.6f}).  Saving model ...'.format(\n",
        "        valid_loss_min,\n",
        "        valid_loss))\n",
        "        torch.save(model.state_dict(), 'model_cifar.pt')\n",
        "        valid_loss_min = valid_loss"
      ]
    },
    {
      "cell_type": "code",
      "source": [
        "plt.plot(n_epochs, train_losslist)\n",
        "plt.xlabel(\"Epoch\")\n",
        "plt.ylabel(\"Loss\")\n",
        "plt.title(\"Performance of Model\")\n",
        "plt.show()"
      ],
      "metadata": {
        "colab": {
          "base_uri": "https://localhost:8080/",
          "height": 295
        },
        "id": "zJfbjgvSsGuX",
        "outputId": "4974b9ac-506e-42f2-a066-de267ed2d497"
      },
      "execution_count": 7,
      "outputs": [
        {
          "output_type": "display_data",
          "data": {
            "text/plain": [
              "<Figure size 432x288 with 1 Axes>"
            ],
            "image/png": "[encoded data removed]"
          },
          "metadata": {
            "needs_background": "light"
          }
        }
      ]
    },
    {
      "cell_type": "code",
      "source": [
        "plt.plot(avg_gradient_norms)\n",
        "plt.xlabel(\"Iteration\")\n",
        "plt.ylabel(\"Squared L2 norm of gradients\")\n",
        "plt.title(\"Without Batch Normalization\")\n",
        "plt.show()"
      ],
      "metadata": {
        "colab": {
          "base_uri": "https://localhost:8080/",
          "height": 295
        },
        "id": "gndZ4B9Ss797",
        "outputId": "7fc0ccd2-33e0-483f-89ef-737db6cbd8e6"
      },
      "execution_count": 8,
      "outputs": [
        {
          "output_type": "display_data",
          "data": {
            "text/plain": [
              "<Figure size 432x288 with 1 Axes>"
            ],
            "image/png": "[encoded data removed]"
          },
          "metadata": {
            "needs_background": "light"
          }
        }
      ]
    },
    {
      "cell_type": "code",
      "source": [
        "model.load_state_dict(torch.load('model_cifar.pt'))"
      ],
      "metadata": {
        "colab": {
          "base_uri": "https://localhost:8080/"
        },
        "id": "EIdYNwyHxjTl",
        "outputId": "b1a55abe-fe42-40a8-e948-e650727d6176"
      },
      "execution_count": 9,
      "outputs": [
        {
          "output_type": "execute_result",
          "data": {
            "text/plain": [
              "<All keys matched successfully>"
            ]
          },
          "metadata": {},
          "execution_count": 9
        }
      ]
    },
    {
      "cell_type": "code",
      "source": [
        "# track test loss\n",
        "test_loss = 0.0\n",
        "class_correct = list(0. for i in range(10))\n",
        "class_total = list(0. for i in range(10))\n",
        "\n",
        "model.eval()\n",
        "# iterate over test data\n",
        "for data, target in test_loader:\n",
        "    # move tensors to GPU if CUDA is available\n",
        "    if train_on_gpu:\n",
        "        data, target = data.cuda(), target.cuda()\n",
        "    # forward pass: compute predicted outputs by passing inputs to the model\n",
        "    output = model(data)\n",
        "    # calculate the batch loss\n",
        "    loss = criterion(output, target)\n",
        "    # update test loss \n",
        "    test_loss += loss.item()*data.size(0)\n",
        "    # convert output probabilities to predicted class\n",
        "    _, pred = torch.max(output, 1)    \n",
        "    # compare predictions to true label\n",
        "    correct_tensor = pred.eq(target.data.view_as(pred))\n",
        "    correct = np.squeeze(correct_tensor.numpy()) if not train_on_gpu else np.squeeze(correct_tensor.cpu().numpy())\n",
        "    # calculate test accuracy for each object class\n",
        "    for i in range(batch_size):\n",
        "        label = target.data[i]\n",
        "        class_correct[label] += correct[i].item()\n",
        "        class_total[label] += 1\n",
        "\n",
        "# average test loss\n",
        "test_loss = test_loss/len(test_loader.dataset)\n",
        "print('Test Loss: {:.6f}\\n'.format(test_loss))\n",
        "\n",
        "for i in range(10):\n",
        "    if class_total[i] > 0:\n",
        "        print('Test Accuracy of %5s: %2d%% (%2d/%2d)' % (\n",
        "            classes[i], 100 * class_correct[i] / class_total[i],\n",
        "            np.sum(class_correct[i]), np.sum(class_total[i])))\n",
        "    else:\n",
        "        print('Test Accuracy of %5s: N/A (no training examples)' % (classes[i]))\n",
        "\n",
        "print('\\nTest Accuracy (Overall): %2d%% (%2d/%2d)' % (\n",
        "    100. * np.sum(class_correct) / np.sum(class_total),\n",
        "    np.sum(class_correct), np.sum(class_total)))"
      ],
      "metadata": {
        "colab": {
          "base_uri": "https://localhost:8080/"
        },
        "id": "lfsqUJX1xmP_",
        "outputId": "72287941-f5fc-40a8-a214-ee35c6a8a8b6"
      },
      "execution_count": 10,
      "outputs": [
        {
          "output_type": "stream",
          "name": "stdout",
          "text": [
            "Test Loss: 0.694470\n",
            "\n",
            "Test Accuracy of airplane: 83% (830/1000)\n",
            "Test Accuracy of automobile: 86% (866/1000)\n",
            "Test Accuracy of  bird: 60% (603/1000)\n",
            "Test Accuracy of   cat: 56% (568/1000)\n",
            "Test Accuracy of  deer: 71% (714/1000)\n",
            "Test Accuracy of   dog: 76% (762/1000)\n",
            "Test Accuracy of  frog: 85% (850/1000)\n",
            "Test Accuracy of horse: 80% (806/1000)\n",
            "Test Accuracy of  ship: 83% (835/1000)\n",
            "Test Accuracy of truck: 83% (835/1000)\n",
            "\n",
            "Test Accuracy (Overall): 76% (7669/10000)\n"
          ]
        }
      ]
    },
    {
      "cell_type": "markdown",
      "source": [
        "**With Batch Normalization**"
      ],
      "metadata": {
        "id": "Lm2tnKOWBcA5"
      }
    },
    {
      "cell_type": "code",
      "source": [
        "# define the CNN architecture with BN\n",
        "class NetBN(nn.Module):\n",
        "   \n",
        "\n",
        "    def __init__(self):\n",
        "        \n",
        "        super(NetBN, self).__init__()\n",
        "\n",
        "        self.conv_layer = nn.Sequential(\n",
        "\n",
        "            # Conv Layer block 1\n",
        "            nn.Conv2d(in_channels=3, out_channels=32, kernel_size=3, padding=1),\n",
        "            nn.BatchNorm2d(32),\n",
        "            nn.ReLU(inplace=True),\n",
        "            nn.Conv2d(in_channels=32, out_channels=64, kernel_size=3, padding=1),\n",
        "            nn.ReLU(inplace=True),\n",
        "            nn.MaxPool2d(kernel_size=2, stride=2),\n",
        "\n",
        "            # Conv Layer block 2\n",
        "            nn.Conv2d(in_channels=64, out_channels=128, kernel_size=3, padding=1),\n",
        "            nn.BatchNorm2d(128),\n",
        "            nn.ReLU(inplace=True),\n",
        "            nn.Conv2d(in_channels=128, out_channels=128, kernel_size=3, padding=1),\n",
        "            nn.ReLU(inplace=True),\n",
        "            nn.MaxPool2d(kernel_size=2, stride=2),\n",
        "            nn.Dropout2d(p=0.05),\n",
        "\n",
        "            # Conv Layer block 3\n",
        "            nn.Conv2d(in_channels=128, out_channels=256, kernel_size=3, padding=1),\n",
        "            nn.BatchNorm2d(256),\n",
        "            nn.ReLU(inplace=True),\n",
        "            nn.Conv2d(in_channels=256, out_channels=256, kernel_size=3, padding=1),\n",
        "            nn.ReLU(inplace=True),\n",
        "            nn.MaxPool2d(kernel_size=2, stride=2),\n",
        "        )\n",
        "\n",
        "\n",
        "        self.fc_layer = nn.Sequential(\n",
        "            nn.Dropout(p=0.1),\n",
        "            nn.Linear(4096, 1024),\n",
        "            nn.ReLU(inplace=True),\n",
        "            nn.Linear(1024, 512),\n",
        "            nn.ReLU(inplace=True),\n",
        "            nn.Dropout(p=0.1),\n",
        "            nn.Linear(512, 10)\n",
        "        )\n",
        "\n",
        "\n",
        "    def forward(self, x):\n",
        "        \"\"\"Perform forward.\"\"\"\n",
        "        \n",
        "        # conv layers\n",
        "        x = self.conv_layer(x)\n",
        "        \n",
        "        # flatten\n",
        "        x = x.view(x.size(0), -1)\n",
        "        \n",
        "        # fc layer\n",
        "        x = self.fc_layer(x)\n",
        "\n",
        "        return x\n",
        "\n",
        "# create a complete CNN\n",
        "model_bn = NetBN()\n",
        "print(model_bn)\n",
        "\n",
        "# move tensors to GPU if CUDA is available\n",
        "if train_on_gpu:\n",
        "    model_bn.cuda()"
      ],
      "metadata": {
        "colab": {
          "base_uri": "https://localhost:8080/"
        },
        "id": "aUiuuEFcBcbP",
        "outputId": "05e9b130-7d3b-4e0d-d821-2c2f9c2ab73b"
      },
      "execution_count": 11,
      "outputs": [
        {
          "output_type": "stream",
          "name": "stdout",
          "text": [
            "NetBN(\n",
            "  (conv_layer): Sequential(\n",
            "    (0): Conv2d(3, 32, kernel_size=(3, 3), stride=(1, 1), padding=(1, 1))\n",
            "    (1): BatchNorm2d(32, eps=1e-05, momentum=0.1, affine=True, track_running_stats=True)\n",
            "    (2): ReLU(inplace=True)\n",
            "    (3): Conv2d(32, 64, kernel_size=(3, 3), stride=(1, 1), padding=(1, 1))\n",
            "    (4): ReLU(inplace=True)\n",
            "    (5): MaxPool2d(kernel_size=2, stride=2, padding=0, dilation=1, ceil_mode=False)\n",
            "    (6): Conv2d(64, 128, kernel_size=(3, 3), stride=(1, 1), padding=(1, 1))\n",
            "    (7): BatchNorm2d(128, eps=1e-05, momentum=0.1, affine=True, track_running_stats=True)\n",
            "    (8): ReLU(inplace=True)\n",
            "    (9): Conv2d(128, 128, kernel_size=(3, 3), stride=(1, 1), padding=(1, 1))\n",
            "    (10): ReLU(inplace=True)\n",
            "    (11): MaxPool2d(kernel_size=2, stride=2, padding=0, dilation=1, ceil_mode=False)\n",
            "    (12): Dropout2d(p=0.05, inplace=False)\n",
            "    (13): Conv2d(128, 256, kernel_size=(3, 3), stride=(1, 1), padding=(1, 1))\n",
            "    (14): BatchNorm2d(256, eps=1e-05, momentum=0.1, affine=True, track_running_stats=True)\n",
            "    (15): ReLU(inplace=True)\n",
            "    (16): Conv2d(256, 256, kernel_size=(3, 3), stride=(1, 1), padding=(1, 1))\n",
            "    (17): ReLU(inplace=True)\n",
            "    (18): MaxPool2d(kernel_size=2, stride=2, padding=0, dilation=1, ceil_mode=False)\n",
            "  )\n",
            "  (fc_layer): Sequential(\n",
            "    (0): Dropout(p=0.1, inplace=False)\n",
            "    (1): Linear(in_features=4096, out_features=1024, bias=True)\n",
            "    (2): ReLU(inplace=True)\n",
            "    (3): Linear(in_features=1024, out_features=512, bias=True)\n",
            "    (4): ReLU(inplace=True)\n",
            "    (5): Dropout(p=0.1, inplace=False)\n",
            "    (6): Linear(in_features=512, out_features=10, bias=True)\n",
            "  )\n",
            ")\n"
          ]
        }
      ]
    },
    {
      "cell_type": "code",
      "source": [
        "# specify loss function\n",
        "criterion = nn.CrossEntropyLoss()\n",
        "# specify optimizer\n",
        "optimizer = optim.SGD(model_bn.parameters(), lr=0.01)"
      ],
      "metadata": {
        "id": "bcteX747B0YE"
      },
      "execution_count": 12,
      "outputs": []
    },
    {
      "cell_type": "code",
      "source": [
        "# number of epochs to train the model\n",
        "n_epochs = [*range(30)]\n",
        "#List to store loss to visualize\n",
        "train_losslist = []\n",
        "valid_loss_min = np.Inf # track change in validation loss\n",
        "# Initialize a list to store the squared L2 norms of gradients\n",
        "avg_gradient_norms = []\n",
        "\n",
        "for epoch in range(1, len(n_epochs)+1):\n",
        "\n",
        "    # keep track of training and validation loss\n",
        "    train_loss = 0.0\n",
        "    valid_loss = 0.0\n",
        "    # grad_norm = 0.0\n",
        "    total_norm = 0.0\n",
        "\n",
        "    ###################\n",
        "    # train the model #\n",
        "    ###################\n",
        "    model_bn.train()\n",
        "    for data, target in train_loader:\n",
        "        # move tensors to GPU if CUDA is available\n",
        "        if train_on_gpu:\n",
        "            data, target = data.cuda(), target.cuda()\n",
        "        # clear the gradients of all optimized variables\n",
        "        optimizer.zero_grad()\n",
        "        # forward pass: compute predicted outputs by passing inputs to the model\n",
        "        output = model_bn(data)\n",
        "        # calculate the batch loss\n",
        "        loss = criterion(output, target)\n",
        "        # backward pass: compute gradient of the loss with respect to model parameters\n",
        "        loss.backward()\n",
        "        # perform a single optimization step (parameter update)\n",
        "        optimizer.step()\n",
        "        # update training loss\n",
        "        train_loss += loss.item()*data.size(0)\n",
        "\n",
        "        grad_norm = 0.0\n",
        "        parameters = [p for p in model_bn.parameters() if p.grad is not None and p.requires_grad]\n",
        "        for p in parameters:\n",
        "          param_norm = p.grad.detach().data.norm(2)\n",
        "          grad_norm += param_norm.item() ** 2\n",
        "      \n",
        "        total_norm += grad_norm\n",
        "\n",
        "    avg_gradient_norms.append(total_norm/len(train_loader.dataset))\n",
        "    ######################    \n",
        "    # validate the model #\n",
        "    ######################\n",
        "    model_bn.eval()\n",
        "    for data, target in valid_loader:\n",
        "        # move tensors to GPU if CUDA is available\n",
        "        if train_on_gpu:\n",
        "            data, target = data.cuda(), target.cuda()\n",
        "        # forward pass: compute predicted outputs by passing inputs to the model\n",
        "        output = model_bn(data)\n",
        "        # calculate the batch loss\n",
        "        loss = criterion(output, target)\n",
        "        # update average validation loss \n",
        "        valid_loss += loss.item()*data.size(0)\n",
        "    \n",
        "    # calculate average losses\n",
        "    train_loss = train_loss/len(train_loader.dataset)\n",
        "    valid_loss = valid_loss/len(valid_loader.dataset)\n",
        "    train_losslist.append(train_loss)\n",
        "        \n",
        "    # print training/validation statistics \n",
        "    print('Epoch: {} \\tTraining Loss: {:.6f} \\tValidation Loss: {:.6f}'.format(\n",
        "        epoch, train_loss, valid_loss))\n",
        "    \n",
        "    # save model if validation loss has decreased\n",
        "    if valid_loss <= valid_loss_min:\n",
        "        print('Validation loss decreased ({:.6f} --> {:.6f}).  Saving model ...'.format(\n",
        "        valid_loss_min,\n",
        "        valid_loss))\n",
        "        torch.save(model_bn.state_dict(), 'model_cifar.pt')\n",
        "        valid_loss_min = valid_loss"
      ],
      "metadata": {
        "colab": {
          "base_uri": "https://localhost:8080/"
        },
        "id": "kTcvSTPnB2d0",
        "outputId": "22f63f62-0234-4d14-afec-e04c0ecd6a61"
      },
      "execution_count": 13,
      "outputs": [
        {
          "output_type": "stream",
          "name": "stdout",
          "text": [
            "Epoch: 1 \tTraining Loss: 1.209529 \tValidation Loss: 0.222794\n",
            "Validation loss decreased (inf --> 0.222794).  Saving model ...\n",
            "Epoch: 2 \tTraining Loss: 0.778484 \tValidation Loss: 0.166301\n",
            "Validation loss decreased (0.222794 --> 0.166301).  Saving model ...\n",
            "Epoch: 3 \tTraining Loss: 0.601152 \tValidation Loss: 0.149423\n",
            "Validation loss decreased (0.166301 --> 0.149423).  Saving model ...\n",
            "Epoch: 4 \tTraining Loss: 0.502717 \tValidation Loss: 0.130304\n",
            "Validation loss decreased (0.149423 --> 0.130304).  Saving model ...\n",
            "Epoch: 5 \tTraining Loss: 0.420297 \tValidation Loss: 0.130542\n",
            "Epoch: 6 \tTraining Loss: 0.353822 \tValidation Loss: 0.117213\n",
            "Validation loss decreased (0.130304 --> 0.117213).  Saving model ...\n",
            "Epoch: 7 \tTraining Loss: 0.294561 \tValidation Loss: 0.123051\n",
            "Epoch: 8 \tTraining Loss: 0.243085 \tValidation Loss: 0.121858\n",
            "Epoch: 9 \tTraining Loss: 0.199268 \tValidation Loss: 0.117241\n",
            "Epoch: 10 \tTraining Loss: 0.160206 \tValidation Loss: 0.126509\n",
            "Epoch: 11 \tTraining Loss: 0.130443 \tValidation Loss: 0.118814\n",
            "Epoch: 12 \tTraining Loss: 0.099371 \tValidation Loss: 0.153555\n",
            "Epoch: 13 \tTraining Loss: 0.088130 \tValidation Loss: 0.143816\n",
            "Epoch: 14 \tTraining Loss: 0.072137 \tValidation Loss: 0.132375\n",
            "Epoch: 15 \tTraining Loss: 0.058593 \tValidation Loss: 0.153100\n",
            "Epoch: 16 \tTraining Loss: 0.054977 \tValidation Loss: 0.145606\n",
            "Epoch: 17 \tTraining Loss: 0.044666 \tValidation Loss: 0.150353\n",
            "Epoch: 18 \tTraining Loss: 0.038198 \tValidation Loss: 0.148558\n",
            "Epoch: 19 \tTraining Loss: 0.035896 \tValidation Loss: 0.152305\n",
            "Epoch: 20 \tTraining Loss: 0.029708 \tValidation Loss: 0.164030\n",
            "Epoch: 21 \tTraining Loss: 0.027140 \tValidation Loss: 0.160703\n",
            "Epoch: 22 \tTraining Loss: 0.026426 \tValidation Loss: 0.157265\n",
            "Epoch: 23 \tTraining Loss: 0.022427 \tValidation Loss: 0.176746\n",
            "Epoch: 24 \tTraining Loss: 0.026851 \tValidation Loss: 0.164069\n",
            "Epoch: 25 \tTraining Loss: 0.019367 \tValidation Loss: 0.174383\n",
            "Epoch: 26 \tTraining Loss: 0.020824 \tValidation Loss: 0.163578\n",
            "Epoch: 27 \tTraining Loss: 0.018093 \tValidation Loss: 0.167825\n",
            "Epoch: 28 \tTraining Loss: 0.017141 \tValidation Loss: 0.156885\n",
            "Epoch: 29 \tTraining Loss: 0.014637 \tValidation Loss: 0.183270\n",
            "Epoch: 30 \tTraining Loss: 0.014670 \tValidation Loss: 0.169763\n"
          ]
        }
      ]
    },
    {
      "cell_type": "code",
      "source": [
        "plt.plot(n_epochs, train_losslist)\n",
        "plt.xlabel(\"Epoch\")\n",
        "plt.ylabel(\"Loss\")\n",
        "plt.title(\"Performance of Model\")\n",
        "plt.show()"
      ],
      "metadata": {
        "colab": {
          "base_uri": "https://localhost:8080/",
          "height": 295
        },
        "id": "DY2iNuYzGqIZ",
        "outputId": "287cb903-f495-49c0-9b02-64a1182f5cca"
      },
      "execution_count": 14,
      "outputs": [
        {
          "output_type": "display_data",
          "data": {
            "text/plain": [
              "<Figure size 432x288 with 1 Axes>"
            ],
            "image/png": "[encoded data removed]"
          },
          "metadata": {
            "needs_background": "light"
          }
        }
      ]
    },
    {
      "cell_type": "code",
      "source": [
        "plt.plot(avg_gradient_norms)\n",
        "plt.xlabel(\"Iteration\")\n",
        "plt.ylabel(\"Squared L2 norm of gradients\")\n",
        "plt.title(\"With Batch Normalization\")\n",
        "plt.show()"
      ],
      "metadata": {
        "colab": {
          "base_uri": "https://localhost:8080/",
          "height": 295
        },
        "id": "ZcQTQHYlGwWH",
        "outputId": "129e3e47-d29e-454b-92db-173727cbbfe9"
      },
      "execution_count": 15,
      "outputs": [
        {
          "output_type": "display_data",
          "data": {
            "text/plain": [
              "<Figure size 432x288 with 1 Axes>"
            ],
            "image/png": "[encoded data removed]"
          },
          "metadata": {
            "needs_background": "light"
          }
        }
      ]
    },
    {
      "cell_type": "code",
      "source": [
        "model_bn.load_state_dict(torch.load('model_cifar.pt'))"
      ],
      "metadata": {
        "colab": {
          "base_uri": "https://localhost:8080/"
        },
        "id": "Q-kUJvQMh6_U",
        "outputId": "45a20515-8e0e-4889-b173-2b32a1240362"
      },
      "execution_count": 16,
      "outputs": [
        {
          "output_type": "execute_result",
          "data": {
            "text/plain": [
              "<All keys matched successfully>"
            ]
          },
          "metadata": {},
          "execution_count": 16
        }
      ]
    },
    {
      "cell_type": "code",
      "source": [
        "# track test loss\n",
        "test_loss = 0.0\n",
        "class_correct = list(0. for i in range(10))\n",
        "class_total = list(0. for i in range(10))\n",
        "\n",
        "model_bn.eval()\n",
        "# iterate over test data\n",
        "for data, target in test_loader:\n",
        "    # move tensors to GPU if CUDA is available\n",
        "    if train_on_gpu:\n",
        "        data, target = data.cuda(), target.cuda()\n",
        "    # forward pass: compute predicted outputs by passing inputs to the model\n",
        "    output = model_bn(data)\n",
        "    # calculate the batch loss\n",
        "    loss = criterion(output, target)\n",
        "    # update test loss \n",
        "    test_loss += loss.item()*data.size(0)\n",
        "    # convert output probabilities to predicted class\n",
        "    _, pred = torch.max(output, 1)    \n",
        "    # compare predictions to true label\n",
        "    correct_tensor = pred.eq(target.data.view_as(pred))\n",
        "    correct = np.squeeze(correct_tensor.numpy()) if not train_on_gpu else np.squeeze(correct_tensor.cpu().numpy())\n",
        "    # calculate test accuracy for each object class\n",
        "    for i in range(batch_size):\n",
        "        label = target.data[i]\n",
        "        class_correct[label] += correct[i].item()\n",
        "        class_total[label] += 1\n",
        "\n",
        "# average test loss\n",
        "test_loss = test_loss/len(test_loader.dataset)\n",
        "print('Test Loss: {:.6f}\\n'.format(test_loss))\n",
        "\n",
        "for i in range(10):\n",
        "    if class_total[i] > 0:\n",
        "        print('Test Accuracy of %5s: %2d%% (%2d/%2d)' % (\n",
        "            classes[i], 100 * class_correct[i] / class_total[i],\n",
        "            np.sum(class_correct[i]), np.sum(class_total[i])))\n",
        "    else:\n",
        "        print('Test Accuracy of %5s: N/A (no training examples)' % (classes[i]))\n",
        "\n",
        "print('\\nTest Accuracy (Overall): %2d%% (%2d/%2d)' % (\n",
        "    100. * np.sum(class_correct) / np.sum(class_total),\n",
        "    np.sum(class_correct), np.sum(class_total)))"
      ],
      "metadata": {
        "colab": {
          "base_uri": "https://localhost:8080/"
        },
        "id": "9wUsqc1hG1pu",
        "outputId": "6bd5af89-a0ee-475a-9b6a-53844a617fe0"
      },
      "execution_count": 17,
      "outputs": [
        {
          "output_type": "stream",
          "name": "stdout",
          "text": [
            "Test Loss: 0.590321\n",
            "\n",
            "Test Accuracy of airplane: 82% (821/1000)\n",
            "Test Accuracy of automobile: 90% (903/1000)\n",
            "Test Accuracy of  bird: 62% (621/1000)\n",
            "Test Accuracy of   cat: 57% (577/1000)\n",
            "Test Accuracy of  deer: 70% (707/1000)\n",
            "Test Accuracy of   dog: 77% (770/1000)\n",
            "Test Accuracy of  frog: 93% (931/1000)\n",
            "Test Accuracy of horse: 84% (848/1000)\n",
            "Test Accuracy of  ship: 90% (906/1000)\n",
            "Test Accuracy of truck: 90% (907/1000)\n",
            "\n",
            "Test Accuracy (Overall): 79% (7991/10000)\n"
          ]
        }
      ]
    },
    {
      "cell_type": "markdown",
      "source": [
        "(1). Comparison between models without and with Batch Normalization:\n",
        "\n",
        "I experimented with three groups of learning rates with both models. We can see from the results that models using batch normalization have higher accuracy overall compared to those without batch normalization models. \n",
        "\n",
        "|             | Accuracy Without Batch  | Accuracy With Batch      |\n",
        "| :---        | :---                   | :---          |\n",
        "| Lr=0.1      | 75%                  | 78%   |\n",
        "| Lr=0.01     | 72%                  | 82%     |\n",
        "| Lr=0.001    | 12%                  | 75%      |"
      ],
      "metadata": {
        "id": "6beKb9NfHPFq"
      }
    },
    {
      "cell_type": "markdown",
      "source": [
        "(2). Plot the squared L2 norm of gradients with respect to parameters over the course of training with and without batch normalization.\n",
        "\n",
        "For the plot of the model without using batch normalization, we can find the squared L2 norm of gradients getting larger as iterations progress.  It can indicate that the variance of the gradient is increasing so that the training of this model is not stable. On the other hand,  although the squared L2 norm of gradients of the model using batch normalization also becomes larger in the first few epochs, it starts to decrease over time and eventually level off. Therefore, we can find that batch normalization can make our model more stable and reduce the risk of overfitting. "
      ],
      "metadata": {
        "id": "NLCBlB0FKeYY"
      }
    },
    {
      "cell_type": "markdown",
      "metadata": {
        "id": "T8t21JGZyUr-"
      },
      "source": [
        "# 2. Residual connections (2 points)\n",
        "\n",
        "Please make use of the model code from Homework 5 question 2 as you work on this question.\n",
        "\n",
        "If your model didn't use residual connections, add them. If it already had residual connections, remove them. How does the performance change? Please experiment with applying residual connections around different blocks, where a block is a subset of layers (for example, add a residual connection around a single convolution/nonlinearity combination, or a residual connection around two convolution/nonlinearity combinations). Note that you may need to add 1x1 convolutions in the residual path if your block changes the shape (spatial or number of channels) of the input."
      ]
    },
    {
      "cell_type": "markdown",
      "source": [
        "*   I added residual connections to my HW5 assignment, where the performance of the models did not differ much between the three models. This actually did not meet my expectations, as usually using residual connections should improve the accuracy of the model and enable the creation of deeper architectures.\n",
        "\n",
        "\n",
        "|             | Without RC  | Model1      | Model2      |\n",
        "| :---        | :---                   | :---          |:---          |\n",
        "| Accuracy      | 82%                  | 81%   | 80%   |\n",
        "| Test Loss     | 0.59                 | 0.62     | 0.61     |"
      ],
      "metadata": {
        "id": "Nf3P1-v3kVf_"
      }
    },
    {
      "cell_type": "code",
      "source": [
        "# add residual connection around a single convolution/nonlinearity combination (Model1)\n",
        "class ResNet(nn.Module):\n",
        "   \n",
        "\n",
        "    def __init__(self):\n",
        "        \n",
        "        super(ResNet, self).__init__()\n",
        "\n",
        "        self.conv_layer1 = nn.Sequential(\n",
        "            # Conv Layer block 1\n",
        "            nn.Conv2d(in_channels=3, out_channels=32, kernel_size=3, padding=1),\n",
        "            nn.BatchNorm2d(32),\n",
        "            nn.ReLU(inplace=True),\n",
        "            nn.Conv2d(in_channels=32, out_channels=64, kernel_size=3, padding=1),\n",
        "            nn.ReLU(inplace=True),\n",
        "            nn.MaxPool2d(kernel_size=2, stride=2),\n",
        "        )\n",
        "\n",
        "        self.residual1 = nn.Conv2d(in_channels=64, out_channels=64, kernel_size=1, stride=2)\n",
        "        \n",
        "        self.conv_layer2 = nn.Sequential(\n",
        "            # Conv Layer block 2\n",
        "            nn.Conv2d(in_channels=64, out_channels=128, kernel_size=3, padding=1),\n",
        "            nn.BatchNorm2d(128),\n",
        "            nn.ReLU(inplace=True),\n",
        "            nn.Conv2d(in_channels=128, out_channels=128, kernel_size=3, padding=1),\n",
        "            nn.ReLU(inplace=True),\n",
        "            nn.MaxPool2d(kernel_size=2, stride=2),\n",
        "            nn.Dropout2d(p=0.05),\n",
        "        )\n",
        "\n",
        "        self.residual2 = nn.Conv2d(in_channels=128, out_channels=128, kernel_size=1, stride=2)\n",
        "        \n",
        "        self.conv_layer3 = nn.Sequential(\n",
        "            # Conv Layer block 3\n",
        "            nn.Conv2d(in_channels=128, out_channels=256, kernel_size=3, padding=1),\n",
        "            nn.BatchNorm2d(256),\n",
        "            nn.ReLU(inplace=True),\n",
        "            nn.Conv2d(in_channels=256, out_channels=256, kernel_size=3, padding=1),\n",
        "            nn.ReLU(inplace=True),\n",
        "            nn.MaxPool2d(kernel_size=2, stride=2),\n",
        "        )\n",
        "\n",
        "        self.fc_layer = nn.Sequential(\n",
        "            nn.Dropout(p=0.1),\n",
        "            nn.Linear(4096, 1024),\n",
        "            nn.ReLU(inplace=True),\n",
        "            nn.Linear(1024, 512),\n",
        "            nn.ReLU(inplace=True),\n",
        "            nn.Dropout(p=0.1),\n",
        "            nn.Linear(512, 10)\n",
        "        )\n",
        "\n",
        "\n",
        "    def forward(self, x):\n",
        "        \"\"\"Perform forward.\"\"\"\n",
        "        \n",
        "        # conv layers with residual connection\n",
        "        residual = self.residual1(self.conv_layer1(x))\n",
        "        x = self.conv_layer1(x)\n",
        "        x += F.interpolate(residual, size=x.size()[2:], mode='nearest')\n",
        "        \n",
        "        # conv layers with residual connection\n",
        "        residual = self.residual2(self.conv_layer2(x))\n",
        "        x = self.conv_layer2(x)\n",
        "        x += F.interpolate(residual, size=x.size()[2:], mode='nearest')\n",
        "        \n",
        "        # conv layers\n",
        "        x = self.conv_layer3(x)\n",
        "        \n",
        "        # flatten\n",
        "        x = x.view(x.size(0), -1)\n",
        "        \n",
        "        # fc layer\n",
        "        x = self.fc_layer(x)\n",
        "\n",
        "        return x\n",
        "\n",
        "# create a complete CNN\n",
        "model1 = ResNet()\n",
        "print(model1)\n",
        "\n",
        "# move tensors to GPU if CUDA is available\n",
        "if train_on_gpu:\n",
        "    model1.cuda()"
      ],
      "metadata": {
        "colab": {
          "base_uri": "https://localhost:8080/"
        },
        "id": "An5z3fs4aax0",
        "outputId": "1a55228d-688d-47a6-aa40-a7266a352704"
      },
      "execution_count": 18,
      "outputs": [
        {
          "output_type": "stream",
          "name": "stdout",
          "text": [
            "ResNet(\n",
            "  (conv_layer1): Sequential(\n",
            "    (0): Conv2d(3, 32, kernel_size=(3, 3), stride=(1, 1), padding=(1, 1))\n",
            "    (1): BatchNorm2d(32, eps=1e-05, momentum=0.1, affine=True, track_running_stats=True)\n",
            "    (2): ReLU(inplace=True)\n",
            "    (3): Conv2d(32, 64, kernel_size=(3, 3), stride=(1, 1), padding=(1, 1))\n",
            "    (4): ReLU(inplace=True)\n",
            "    (5): MaxPool2d(kernel_size=2, stride=2, padding=0, dilation=1, ceil_mode=False)\n",
            "  )\n",
            "  (residual1): Conv2d(64, 64, kernel_size=(1, 1), stride=(2, 2))\n",
            "  (conv_layer2): Sequential(\n",
            "    (0): Conv2d(64, 128, kernel_size=(3, 3), stride=(1, 1), padding=(1, 1))\n",
            "    (1): BatchNorm2d(128, eps=1e-05, momentum=0.1, affine=True, track_running_stats=True)\n",
            "    (2): ReLU(inplace=True)\n",
            "    (3): Conv2d(128, 128, kernel_size=(3, 3), stride=(1, 1), padding=(1, 1))\n",
            "    (4): ReLU(inplace=True)\n",
            "    (5): MaxPool2d(kernel_size=2, stride=2, padding=0, dilation=1, ceil_mode=False)\n",
            "    (6): Dropout2d(p=0.05, inplace=False)\n",
            "  )\n",
            "  (residual2): Conv2d(128, 128, kernel_size=(1, 1), stride=(2, 2))\n",
            "  (conv_layer3): Sequential(\n",
            "    (0): Conv2d(128, 256, kernel_size=(3, 3), stride=(1, 1), padding=(1, 1))\n",
            "    (1): BatchNorm2d(256, eps=1e-05, momentum=0.1, affine=True, track_running_stats=True)\n",
            "    (2): ReLU(inplace=True)\n",
            "    (3): Conv2d(256, 256, kernel_size=(3, 3), stride=(1, 1), padding=(1, 1))\n",
            "    (4): ReLU(inplace=True)\n",
            "    (5): MaxPool2d(kernel_size=2, stride=2, padding=0, dilation=1, ceil_mode=False)\n",
            "  )\n",
            "  (fc_layer): Sequential(\n",
            "    (0): Dropout(p=0.1, inplace=False)\n",
            "    (1): Linear(in_features=4096, out_features=1024, bias=True)\n",
            "    (2): ReLU(inplace=True)\n",
            "    (3): Linear(in_features=1024, out_features=512, bias=True)\n",
            "    (4): ReLU(inplace=True)\n",
            "    (5): Dropout(p=0.1, inplace=False)\n",
            "    (6): Linear(in_features=512, out_features=10, bias=True)\n",
            "  )\n",
            ")\n"
          ]
        }
      ]
    },
    {
      "cell_type": "code",
      "source": [
        "# specify loss function\n",
        "criterion = nn.CrossEntropyLoss()\n",
        "# specify optimizer\n",
        "optimizer = optim.SGD(model1.parameters(), lr=0.01)"
      ],
      "metadata": {
        "id": "NFfAPpELaxOb"
      },
      "execution_count": 19,
      "outputs": []
    },
    {
      "cell_type": "code",
      "source": [
        "# number of epochs to train the model\n",
        "n_epochs = [*range(30)]\n",
        "#List to store loss to visualize\n",
        "train_losslist = []\n",
        "valid_loss_min = np.Inf # track change in validation loss\n",
        "\n",
        "for epoch in range(1, len(n_epochs)+1):\n",
        "\n",
        "    # keep track of training and validation loss\n",
        "    train_loss = 0.0\n",
        "    valid_loss = 0.0\n",
        "\n",
        "    ###################\n",
        "    # train the model #\n",
        "    ###################\n",
        "    model1.train()\n",
        "    for data, target in train_loader:\n",
        "        # move tensors to GPU if CUDA is available\n",
        "        if train_on_gpu:\n",
        "            data, target = data.cuda(), target.cuda()\n",
        "        # clear the gradients of all optimized variables\n",
        "        optimizer.zero_grad()\n",
        "        # forward pass: compute predicted outputs by passing inputs to the model\n",
        "        output = model1(data)\n",
        "        # calculate the batch loss\n",
        "        loss = criterion(output, target)\n",
        "        # backward pass: compute gradient of the loss with respect to model parameters\n",
        "        loss.backward()\n",
        "        # perform a single optimization step (parameter update)\n",
        "        optimizer.step()\n",
        "        # update training loss\n",
        "        train_loss += loss.item()*data.size(0)\n",
        "\n",
        "    ######################    \n",
        "    # validate the model #\n",
        "    ######################\n",
        "    model1.eval()\n",
        "    for data, target in valid_loader:\n",
        "        # move tensors to GPU if CUDA is available\n",
        "        if train_on_gpu:\n",
        "            data, target = data.cuda(), target.cuda()\n",
        "        # forward pass: compute predicted outputs by passing inputs to the model\n",
        "        output = model1(data)\n",
        "        # calculate the batch loss\n",
        "        loss = criterion(output, target)\n",
        "        # update average validation loss \n",
        "        valid_loss += loss.item()*data.size(0)\n",
        "    \n",
        "    # calculate average losses\n",
        "    train_loss = train_loss/len(train_loader.dataset)\n",
        "    valid_loss = valid_loss/len(valid_loader.dataset)\n",
        "    train_losslist.append(train_loss)\n",
        "        \n",
        "    # print training/validation statistics \n",
        "    print('Epoch: {} \\tTraining Loss: {:.6f} \\tValidation Loss: {:.6f}'.format(\n",
        "        epoch, train_loss, valid_loss))\n",
        "    \n",
        "    # save model if validation loss has decreased\n",
        "    if valid_loss <= valid_loss_min:\n",
        "        print('Validation loss decreased ({:.6f} --> {:.6f}).  Saving model ...'.format(\n",
        "        valid_loss_min,\n",
        "        valid_loss))\n",
        "        torch.save(model1.state_dict(), 'model_cifar.pt')\n",
        "        valid_loss_min = valid_loss"
      ],
      "metadata": {
        "colab": {
          "base_uri": "https://localhost:8080/"
        },
        "id": "hhw4U7rZbF0b",
        "outputId": "0ba53fbd-f8af-42f3-d6b4-b2c43f1e1fcc"
      },
      "execution_count": 20,
      "outputs": [
        {
          "output_type": "stream",
          "name": "stdout",
          "text": [
            "Epoch: 1 \tTraining Loss: 1.230403 \tValidation Loss: 0.243030\n",
            "Validation loss decreased (inf --> 0.243030).  Saving model ...\n",
            "Epoch: 2 \tTraining Loss: 0.806492 \tValidation Loss: 0.172730\n",
            "Validation loss decreased (0.243030 --> 0.172730).  Saving model ...\n",
            "Epoch: 3 \tTraining Loss: 0.626716 \tValidation Loss: 0.151365\n",
            "Validation loss decreased (0.172730 --> 0.151365).  Saving model ...\n",
            "Epoch: 4 \tTraining Loss: 0.517759 \tValidation Loss: 0.141569\n",
            "Validation loss decreased (0.151365 --> 0.141569).  Saving model ...\n",
            "Epoch: 5 \tTraining Loss: 0.433849 \tValidation Loss: 0.169960\n",
            "Epoch: 6 \tTraining Loss: 0.371834 \tValidation Loss: 0.126180\n",
            "Validation loss decreased (0.141569 --> 0.126180).  Saving model ...\n",
            "Epoch: 7 \tTraining Loss: 0.308276 \tValidation Loss: 0.133444\n",
            "Epoch: 8 \tTraining Loss: 0.257848 \tValidation Loss: 0.126602\n",
            "Epoch: 9 \tTraining Loss: 0.214282 \tValidation Loss: 0.128865\n",
            "Epoch: 10 \tTraining Loss: 0.175980 \tValidation Loss: 0.125085\n",
            "Validation loss decreased (0.126180 --> 0.125085).  Saving model ...\n",
            "Epoch: 11 \tTraining Loss: 0.139087 \tValidation Loss: 0.137067\n",
            "Epoch: 12 \tTraining Loss: 0.117056 \tValidation Loss: 0.130165\n",
            "Epoch: 13 \tTraining Loss: 0.093488 \tValidation Loss: 0.139850\n",
            "Epoch: 14 \tTraining Loss: 0.079213 \tValidation Loss: 0.152233\n",
            "Epoch: 15 \tTraining Loss: 0.067741 \tValidation Loss: 0.147601\n",
            "Epoch: 16 \tTraining Loss: 0.063120 \tValidation Loss: 0.147851\n",
            "Epoch: 17 \tTraining Loss: 0.048523 \tValidation Loss: 0.160834\n",
            "Epoch: 18 \tTraining Loss: 0.047658 \tValidation Loss: 0.161327\n",
            "Epoch: 19 \tTraining Loss: 0.041588 \tValidation Loss: 0.173445\n",
            "Epoch: 20 \tTraining Loss: 0.038057 \tValidation Loss: 0.218266\n",
            "Epoch: 21 \tTraining Loss: 0.036127 \tValidation Loss: 0.159773\n",
            "Epoch: 22 \tTraining Loss: 0.031527 \tValidation Loss: 0.164814\n",
            "Epoch: 23 \tTraining Loss: 0.026747 \tValidation Loss: 0.173462\n",
            "Epoch: 24 \tTraining Loss: 0.024513 \tValidation Loss: 0.177093\n",
            "Epoch: 25 \tTraining Loss: 0.022517 \tValidation Loss: 0.180235\n",
            "Epoch: 26 \tTraining Loss: 0.021884 \tValidation Loss: 0.180854\n",
            "Epoch: 27 \tTraining Loss: 0.018589 \tValidation Loss: 0.179646\n",
            "Epoch: 28 \tTraining Loss: 0.015642 \tValidation Loss: 0.176781\n",
            "Epoch: 29 \tTraining Loss: 0.019983 \tValidation Loss: 0.179385\n",
            "Epoch: 30 \tTraining Loss: 0.017323 \tValidation Loss: 0.186779\n"
          ]
        }
      ]
    },
    {
      "cell_type": "code",
      "source": [
        "plt.plot(n_epochs, train_losslist)\n",
        "plt.xlabel(\"Epoch\")\n",
        "plt.ylabel(\"Loss\")\n",
        "plt.title(\"Performance of Model\")\n",
        "plt.show()"
      ],
      "metadata": {
        "colab": {
          "base_uri": "https://localhost:8080/",
          "height": 295
        },
        "id": "q__mIgC9bezS",
        "outputId": "9ae8bd3d-8c0b-44ed-9292-9b3939d2addf"
      },
      "execution_count": 21,
      "outputs": [
        {
          "output_type": "display_data",
          "data": {
            "text/plain": [
              "<Figure size 432x288 with 1 Axes>"
            ],
            "image/png": "[encoded data removed]"
          },
          "metadata": {
            "needs_background": "light"
          }
        }
      ]
    },
    {
      "cell_type": "code",
      "source": [
        "model1.load_state_dict(torch.load('model_cifar.pt'))"
      ],
      "metadata": {
        "colab": {
          "base_uri": "https://localhost:8080/"
        },
        "id": "21PAbOmchrfP",
        "outputId": "821000b1-8abe-4d05-c9c1-491c366b4ae8"
      },
      "execution_count": 22,
      "outputs": [
        {
          "output_type": "execute_result",
          "data": {
            "text/plain": [
              "<All keys matched successfully>"
            ]
          },
          "metadata": {},
          "execution_count": 22
        }
      ]
    },
    {
      "cell_type": "code",
      "source": [
        "# track test loss\n",
        "test_loss = 0.0\n",
        "class_correct = list(0. for i in range(10))\n",
        "class_total = list(0. for i in range(10))\n",
        "\n",
        "model1.eval()\n",
        "# iterate over test data\n",
        "for data, target in test_loader:\n",
        "    # move tensors to GPU if CUDA is available\n",
        "    if train_on_gpu:\n",
        "        data, target = data.cuda(), target.cuda()\n",
        "    # forward pass: compute predicted outputs by passing inputs to the model\n",
        "    output = model1(data)\n",
        "    # calculate the batch loss\n",
        "    loss = criterion(output, target)\n",
        "    # update test loss \n",
        "    test_loss += loss.item()*data.size(0)\n",
        "    # convert output probabilities to predicted class\n",
        "    _, pred = torch.max(output, 1)    \n",
        "    # compare predictions to true label\n",
        "    correct_tensor = pred.eq(target.data.view_as(pred))\n",
        "    correct = np.squeeze(correct_tensor.numpy()) if not train_on_gpu else np.squeeze(correct_tensor.cpu().numpy())\n",
        "    # calculate test accuracy for each object class\n",
        "    for i in range(batch_size):\n",
        "        label = target.data[i]\n",
        "        class_correct[label] += correct[i].item()\n",
        "        class_total[label] += 1\n",
        "\n",
        "# average test loss\n",
        "test_loss = test_loss/len(test_loader.dataset)\n",
        "print('Test Loss: {:.6f}\\n'.format(test_loss))\n",
        "\n",
        "for i in range(10):\n",
        "    if class_total[i] > 0:\n",
        "        print('Test Accuracy of %5s: %2d%% (%2d/%2d)' % (\n",
        "            classes[i], 100 * class_correct[i] / class_total[i],\n",
        "            np.sum(class_correct[i]), np.sum(class_total[i])))\n",
        "    else:\n",
        "        print('Test Accuracy of %5s: N/A (no training examples)' % (classes[i]))\n",
        "\n",
        "print('\\nTest Accuracy (Overall): %2d%% (%2d/%2d)' % (\n",
        "    100. * np.sum(class_correct) / np.sum(class_total),\n",
        "    np.sum(class_correct), np.sum(class_total)))"
      ],
      "metadata": {
        "colab": {
          "base_uri": "https://localhost:8080/"
        },
        "id": "pzZP80bMf746",
        "outputId": "18fb574a-a3c8-4f50-dd44-93a1ba67da56"
      },
      "execution_count": 23,
      "outputs": [
        {
          "output_type": "stream",
          "name": "stdout",
          "text": [
            "Test Loss: 0.623127\n",
            "\n",
            "Test Accuracy of airplane: 81% (813/1000)\n",
            "Test Accuracy of automobile: 91% (918/1000)\n",
            "Test Accuracy of  bird: 79% (799/1000)\n",
            "Test Accuracy of   cat: 68% (681/1000)\n",
            "Test Accuracy of  deer: 83% (837/1000)\n",
            "Test Accuracy of   dog: 69% (691/1000)\n",
            "Test Accuracy of  frog: 82% (825/1000)\n",
            "Test Accuracy of horse: 83% (834/1000)\n",
            "Test Accuracy of  ship: 89% (894/1000)\n",
            "Test Accuracy of truck: 83% (836/1000)\n",
            "\n",
            "Test Accuracy (Overall): 81% (8128/10000)\n"
          ]
        }
      ]
    },
    {
      "cell_type": "code",
      "source": [
        "# Add residual connection around two convolution/nonlinearity combinations (Model2)\n",
        "# class ResNet2(nn.Module):\n",
        "   \n",
        "\n",
        "#     def __init__(self):\n",
        "        \n",
        "#         super(ResNet2, self).__init__()\n",
        "\n",
        "#         self.conv_layer_1 = nn.Sequential(\n",
        "\n",
        "#             # Conv Layer block 1\n",
        "#             nn.Conv2d(in_channels=3, out_channels=32, kernel_size=3, padding=1),\n",
        "#             nn.BatchNorm2d(32),\n",
        "#             nn.ReLU(inplace=True),\n",
        "#             nn.Conv2d(in_channels=32, out_channels=64, kernel_size=3, padding=1),\n",
        "#             nn.ReLU(inplace=True),\n",
        "#             nn.MaxPool2d(kernel_size=2, stride=2)\n",
        "#         )\n",
        "\n",
        "#         self.conv_layer_2 = nn.Sequential(\n",
        "#             # Conv Layer block 2\n",
        "#             nn.BatchNorm2d(64),\n",
        "#             nn.ReLU(inplace=True),\n",
        "#             nn.Conv2d(in_channels=64, out_channels=128, kernel_size=3, padding=1),\n",
        "#             nn.BatchNorm2d(128),\n",
        "#             nn.ReLU(inplace=True),\n",
        "#             nn.Conv2d(in_channels=128, out_channels=128, kernel_size=3, padding=1),\n",
        "#             nn.ReLU(inplace=True),\n",
        "#             nn.MaxPool2d(kernel_size=2, stride=2),\n",
        "#             nn.Dropout2d(p=0.05)\n",
        "#         )\n",
        "\n",
        "#         # Residual Connection\n",
        "#         self.residual_connection = nn.Conv2d(in_channels=128, out_channels=128, kernel_size=1, stride=2)\n",
        "\n",
        "#         self.conv_layer_3 = nn.Sequential(\n",
        "#             # Conv Layer block 3\n",
        "#             nn.BatchNorm2d(128),\n",
        "#             nn.ReLU(inplace=True),\n",
        "#             nn.Conv2d(in_channels=128, out_channels=256, kernel_size=3, padding=1),\n",
        "#             nn.BatchNorm2d(256),\n",
        "#             nn.ReLU(inplace=True),\n",
        "#             nn.Conv2d(in_channels=256, out_channels=256, kernel_size=3, padding=1),\n",
        "#             nn.ReLU(inplace=True),\n",
        "#             nn.MaxPool2d(kernel_size=2, stride=2)\n",
        "#         )\n",
        "\n",
        "#         self.fc_layer = nn.Sequential(\n",
        "#             nn.Dropout(p=0.1),\n",
        "#             nn.Linear(4096, 1024),\n",
        "#             nn.ReLU(inplace=True),\n",
        "#             nn.Linear(1024, 512),\n",
        "#             nn.ReLU(inplace=True),\n",
        "#             nn.Dropout(p=0.1),\n",
        "#             nn.Linear(512, 10)\n",
        "#         )\n",
        "\n",
        "\n",
        "#     def forward(self, x):\n",
        "#         \"\"\"Perform forward.\"\"\"\n",
        "        \n",
        "#         # conv layers\n",
        "#         x = self.conv_layer_1(x)\n",
        "        \n",
        "#         x = self.conv_layer_2(x)\n",
        "\n",
        "#         # Residual Connection\n",
        "#         residual = self.residual_connection(x)\n",
        "#         # add residual to output of layer block 2\n",
        "#         x = x + F.interpolate(residual, size=x.size()[2:], mode='nearest')\n",
        "        \n",
        "#         x = self.conv_layer_3(x)\n",
        "        \n",
        "#         # flatten\n",
        "#         x = x.view(x.size(0), -1)\n",
        "        \n",
        "#         # fc layer\n",
        "#         x = self.fc_layer(x)\n",
        "\n",
        "#         return x\n",
        "\n",
        "# # create a complete CNN\n",
        "# model2 = ResNet2()\n",
        "# print(model2)\n",
        "\n",
        "# # move tensors to GPU if CUDA is available\n",
        "# if train_on_gpu:\n",
        "#     model2.cuda()"
      ],
      "metadata": {
        "colab": {
          "base_uri": "https://localhost:8080/"
        },
        "id": "9Pl9BqJKgWBM",
        "outputId": "28a265bb-f6be-4051-d5f7-562650f524bf"
      },
      "execution_count": 24,
      "outputs": [
        {
          "output_type": "stream",
          "name": "stdout",
          "text": [
            "ResNet2(\n",
            "  (conv_layer_1): Sequential(\n",
            "    (0): Conv2d(3, 32, kernel_size=(3, 3), stride=(1, 1), padding=(1, 1))\n",
            "    (1): BatchNorm2d(32, eps=1e-05, momentum=0.1, affine=True, track_running_stats=True)\n",
            "    (2): ReLU(inplace=True)\n",
            "    (3): Conv2d(32, 64, kernel_size=(3, 3), stride=(1, 1), padding=(1, 1))\n",
            "    (4): ReLU(inplace=True)\n",
            "    (5): MaxPool2d(kernel_size=2, stride=2, padding=0, dilation=1, ceil_mode=False)\n",
            "  )\n",
            "  (conv_layer_2): Sequential(\n",
            "    (0): BatchNorm2d(64, eps=1e-05, momentum=0.1, affine=True, track_running_stats=True)\n",
            "    (1): ReLU(inplace=True)\n",
            "    (2): Conv2d(64, 128, kernel_size=(3, 3), stride=(1, 1), padding=(1, 1))\n",
            "    (3): BatchNorm2d(128, eps=1e-05, momentum=0.1, affine=True, track_running_stats=True)\n",
            "    (4): ReLU(inplace=True)\n",
            "    (5): Conv2d(128, 128, kernel_size=(3, 3), stride=(1, 1), padding=(1, 1))\n",
            "    (6): ReLU(inplace=True)\n",
            "    (7): MaxPool2d(kernel_size=2, stride=2, padding=0, dilation=1, ceil_mode=False)\n",
            "    (8): Dropout2d(p=0.05, inplace=False)\n",
            "  )\n",
            "  (residual_connection): Conv2d(128, 128, kernel_size=(1, 1), stride=(2, 2))\n",
            "  (conv_layer_3): Sequential(\n",
            "    (0): BatchNorm2d(128, eps=1e-05, momentum=0.1, affine=True, track_running_stats=True)\n",
            "    (1): ReLU(inplace=True)\n",
            "    (2): Conv2d(128, 256, kernel_size=(3, 3), stride=(1, 1), padding=(1, 1))\n",
            "    (3): BatchNorm2d(256, eps=1e-05, momentum=0.1, affine=True, track_running_stats=True)\n",
            "    (4): ReLU(inplace=True)\n",
            "    (5): Conv2d(256, 256, kernel_size=(3, 3), stride=(1, 1), padding=(1, 1))\n",
            "    (6): ReLU(inplace=True)\n",
            "    (7): MaxPool2d(kernel_size=2, stride=2, padding=0, dilation=1, ceil_mode=False)\n",
            "  )\n",
            "  (fc_layer): Sequential(\n",
            "    (0): Dropout(p=0.1, inplace=False)\n",
            "    (1): Linear(in_features=4096, out_features=1024, bias=True)\n",
            "    (2): ReLU(inplace=True)\n",
            "    (3): Linear(in_features=1024, out_features=512, bias=True)\n",
            "    (4): ReLU(inplace=True)\n",
            "    (5): Dropout(p=0.1, inplace=False)\n",
            "    (6): Linear(in_features=512, out_features=10, bias=True)\n",
            "  )\n",
            ")\n"
          ]
        }
      ]
    }
  ],
  "metadata": {
    "accelerator": "GPU",
    "colab": {
      "provenance": [],
      "machine_shape": "hm"
    },
    "gpuClass": "standard",
    "kernelspec": {
      "display_name": "Python 3",
      "name": "python3"
    },
    "widgets": {
      "application/vnd.jupyter.widget-state+json": {
        "5a41c17c2ce34b81af4a73d1d0bccd93": {
          "model_module": "@jupyter-widgets/controls",
          "model_name": "HBoxModel",
          "model_module_version": "1.5.0",
          "state": {
            "_dom_classes": [],
            "_model_module": "@jupyter-widgets/controls",
            "_model_module_version": "1.5.0",
            "_model_name": "HBoxModel",
            "_view_count": null,
            "_view_module": "@jupyter-widgets/controls",
            "_view_module_version": "1.5.0",
            "_view_name": "HBoxView",
            "box_style": "",
            "children": [
              "IPY_MODEL_5a22ab2724194b2c9e948ce06034d0e8",
              "IPY_MODEL_38d18c582ed44aa3ada78608c19d4f4c",
              "IPY_MODEL_5946b3cad8d54396b4e8263711f10dcf"
            ],
            "layout": "IPY_MODEL_687f0bf8eec547828f1a437e68382e8e"
          }
        },
        "5a22ab2724194b2c9e948ce06034d0e8": {
          "model_module": "@jupyter-widgets/controls",
          "model_name": "HTMLModel",
          "model_module_version": "1.5.0",
          "state": {
            "_dom_classes": [],
            "_model_module": "@jupyter-widgets/controls",
            "_model_module_version": "1.5.0",
            "_model_name": "HTMLModel",
            "_view_count": null,
            "_view_module": "@jupyter-widgets/controls",
            "_view_module_version": "1.5.0",
            "_view_name": "HTMLView",
            "description": "",
            "description_tooltip": null,
            "layout": "IPY_MODEL_f9b12721fe7b488ab41b421dabfddcb6",
            "placeholder": "​",
            "style": "IPY_MODEL_05dd20daff7e4a0aa812888e111f2a9b",
            "value": "100%"
          }
        },
        "38d18c582ed44aa3ada78608c19d4f4c": {
          "model_module": "@jupyter-widgets/controls",
          "model_name": "FloatProgressModel",
          "model_module_version": "1.5.0",
          "state": {
            "_dom_classes": [],
            "_model_module": "@jupyter-widgets/controls",
            "_model_module_version": "1.5.0",
            "_model_name": "FloatProgressModel",
            "_view_count": null,
            "_view_module": "@jupyter-widgets/controls",
            "_view_module_version": "1.5.0",
            "_view_name": "ProgressView",
            "bar_style": "success",
            "description": "",
            "description_tooltip": null,
            "layout": "IPY_MODEL_8e7c4b4cce7348fcb91161db9b5cd7dd",
            "max": 170498071,
            "min": 0,
            "orientation": "horizontal",
            "style": "IPY_MODEL_bda78db0cab942158826046a2c78dc7e",
            "value": 170498071
          }
        },
        "5946b3cad8d54396b4e8263711f10dcf": {
          "model_module": "@jupyter-widgets/controls",
          "model_name": "HTMLModel",
          "model_module_version": "1.5.0",
          "state": {
            "_dom_classes": [],
            "_model_module": "@jupyter-widgets/controls",
            "_model_module_version": "1.5.0",
            "_model_name": "HTMLModel",
            "_view_count": null,
            "_view_module": "@jupyter-widgets/controls",
            "_view_module_version": "1.5.0",
            "_view_name": "HTMLView",
            "description": "",
            "description_tooltip": null,
            "layout": "IPY_MODEL_fd21a7cfb9d64e989dcda66fbd04d1a2",
            "placeholder": "​",
            "style": "IPY_MODEL_b1db3eb9a96e4a9989f001b6635a82ad",
            "value": " 170498071/170498071 [00:05&lt;00:00, 35481995.91it/s]"
          }
        },
        "687f0bf8eec547828f1a437e68382e8e": {
          "model_module": "@jupyter-widgets/base",
          "model_name": "LayoutModel",
          "model_module_version": "1.2.0",
          "state": {
            "_model_module": "@jupyter-widgets/base",
            "_model_module_version": "1.2.0",
            "_model_name": "LayoutModel",
            "_view_count": null,
            "_view_module": "@jupyter-widgets/base",
            "_view_module_version": "1.2.0",
            "_view_name": "LayoutView",
            "align_content": null,
            "align_items": null,
            "align_self": null,
            "border": null,
            "bottom": null,
            "display": null,
            "flex": null,
            "flex_flow": null,
            "grid_area": null,
            "grid_auto_columns": null,
            "grid_auto_flow": null,
            "grid_auto_rows": null,
            "grid_column": null,
            "grid_gap": null,
            "grid_row": null,
            "grid_template_areas": null,
            "grid_template_columns": null,
            "grid_template_rows": null,
            "height": null,
            "justify_content": null,
            "justify_items": null,
            "left": null,
            "margin": null,
            "max_height": null,
            "max_width": null,
            "min_height": null,
            "min_width": null,
            "object_fit": null,
            "object_position": null,
            "order": null,
            "overflow": null,
            "overflow_x": null,
            "overflow_y": null,
            "padding": null,
            "right": null,
            "top": null,
            "visibility": null,
            "width": null
          }
        },
        "f9b12721fe7b488ab41b421dabfddcb6": {
          "model_module": "@jupyter-widgets/base",
          "model_name": "LayoutModel",
          "model_module_version": "1.2.0",
          "state": {
            "_model_module": "@jupyter-widgets/base",
            "_model_module_version": "1.2.0",
            "_model_name": "LayoutModel",
            "_view_count": null,
            "_view_module": "@jupyter-widgets/base",
            "_view_module_version": "1.2.0",
            "_view_name": "LayoutView",
            "align_content": null,
            "align_items": null,
            "align_self": null,
            "border": null,
            "bottom": null,
            "display": null,
            "flex": null,
            "flex_flow": null,
            "grid_area": null,
            "grid_auto_columns": null,
            "grid_auto_flow": null,
            "grid_auto_rows": null,
            "grid_column": null,
            "grid_gap": null,
            "grid_row": null,
            "grid_template_areas": null,
            "grid_template_columns": null,
            "grid_template_rows": null,
            "height": null,
            "justify_content": null,
            "justify_items": null,
            "left": null,
            "margin": null,
            "max_height": null,
            "max_width": null,
            "min_height": null,
            "min_width": null,
            "object_fit": null,
            "object_position": null,
            "order": null,
            "overflow": null,
            "overflow_x": null,
            "overflow_y": null,
            "padding": null,
            "right": null,
            "top": null,
            "visibility": null,
            "width": null
          }
        },
        "05dd20daff7e4a0aa812888e111f2a9b": {
          "model_module": "@jupyter-widgets/controls",
          "model_name": "DescriptionStyleModel",
          "model_module_version": "1.5.0",
          "state": {
            "_model_module": "@jupyter-widgets/controls",
            "_model_module_version": "1.5.0",
            "_model_name": "DescriptionStyleModel",
            "_view_count": null,
            "_view_module": "@jupyter-widgets/base",
            "_view_module_version": "1.2.0",
            "_view_name": "StyleView",
            "description_width": ""
          }
        },
        "8e7c4b4cce7348fcb91161db9b5cd7dd": {
          "model_module": "@jupyter-widgets/base",
          "model_name": "LayoutModel",
          "model_module_version": "1.2.0",
          "state": {
            "_model_module": "@jupyter-widgets/base",
            "_model_module_version": "1.2.0",
            "_model_name": "LayoutModel",
            "_view_count": null,
            "_view_module": "@jupyter-widgets/base",
            "_view_module_version": "1.2.0",
            "_view_name": "LayoutView",
            "align_content": null,
            "align_items": null,
            "align_self": null,
            "border": null,
            "bottom": null,
            "display": null,
            "flex": null,
            "flex_flow": null,
            "grid_area": null,
            "grid_auto_columns": null,
            "grid_auto_flow": null,
            "grid_auto_rows": null,
            "grid_column": null,
            "grid_gap": null,
            "grid_row": null,
            "grid_template_areas": null,
            "grid_template_columns": null,
            "grid_template_rows": null,
            "height": null,
            "justify_content": null,
            "justify_items": null,
            "left": null,
            "margin": null,
            "max_height": null,
            "max_width": null,
            "min_height": null,
            "min_width": null,
            "object_fit": null,
            "object_position": null,
            "order": null,
            "overflow": null,
            "overflow_x": null,
            "overflow_y": null,
            "padding": null,
            "right": null,
            "top": null,
            "visibility": null,
            "width": null
          }
        },
        "bda78db0cab942158826046a2c78dc7e": {
          "model_module": "@jupyter-widgets/controls",
          "model_name": "ProgressStyleModel",
          "model_module_version": "1.5.0",
          "state": {
            "_model_module": "@jupyter-widgets/controls",
            "_model_module_version": "1.5.0",
            "_model_name": "ProgressStyleModel",
            "_view_count": null,
            "_view_module": "@jupyter-widgets/base",
            "_view_module_version": "1.2.0",
            "_view_name": "StyleView",
            "bar_color": null,
            "description_width": ""
          }
        },
        "fd21a7cfb9d64e989dcda66fbd04d1a2": {
          "model_module": "@jupyter-widgets/base",
          "model_name": "LayoutModel",
          "model_module_version": "1.2.0",
          "state": {
            "_model_module": "@jupyter-widgets/base",
            "_model_module_version": "1.2.0",
            "_model_name": "LayoutModel",
            "_view_count": null,
            "_view_module": "@jupyter-widgets/base",
            "_view_module_version": "1.2.0",
            "_view_name": "LayoutView",
            "align_content": null,
            "align_items": null,
            "align_self": null,
            "border": null,
            "bottom": null,
            "display": null,
            "flex": null,
            "flex_flow": null,
            "grid_area": null,
            "grid_auto_columns": null,
            "grid_auto_flow": null,
            "grid_auto_rows": null,
            "grid_column": null,
            "grid_gap": null,
            "grid_row": null,
            "grid_template_areas": null,
            "grid_template_columns": null,
            "grid_template_rows": null,
            "height": null,
            "justify_content": null,
            "justify_items": null,
            "left": null,
            "margin": null,
            "max_height": null,
            "max_width": null,
            "min_height": null,
            "min_width": null,
            "object_fit": null,
            "object_position": null,
            "order": null,
            "overflow": null,
            "overflow_x": null,
            "overflow_y": null,
            "padding": null,
            "right": null,
            "top": null,
            "visibility": null,
            "width": null
          }
        },
        "b1db3eb9a96e4a9989f001b6635a82ad": {
          "model_module": "@jupyter-widgets/controls",
          "model_name": "DescriptionStyleModel",
          "model_module_version": "1.5.0",
          "state": {
            "_model_module": "@jupyter-widgets/controls",
            "_model_module_version": "1.5.0",
            "_model_name": "DescriptionStyleModel",
            "_view_count": null,
            "_view_module": "@jupyter-widgets/base",
            "_view_module_version": "1.2.0",
            "_view_name": "StyleView",
            "description_width": ""
          }
        }
      }
    }
  },
  "nbformat": 4,
  "nbformat_minor": 0
}