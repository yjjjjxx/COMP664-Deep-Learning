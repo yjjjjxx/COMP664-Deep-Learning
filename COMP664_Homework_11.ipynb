{
  "nbformat": 4,
  "nbformat_minor": 0,
  "metadata": {
    "colab": {
      "provenance": []
    },
    "kernelspec": {
      "name": "python3",
      "display_name": "Python 3"
    },
    "language_info": {
      "name": "python"
    },
    "accelerator": "GPU",
    "gpuClass": "standard",
    "widgets": {
      "application/vnd.jupyter.widget-state+json": {
        "ea65c661f1cb468f87b1689bbc7b5bad": {
          "model_module": "@jupyter-widgets/controls",
          "model_name": "HBoxModel",
          "model_module_version": "1.5.0",
          "state": {
            "_dom_classes": [],
            "_model_module": "@jupyter-widgets/controls",
            "_model_module_version": "1.5.0",
            "_model_name": "HBoxModel",
            "_view_count": null,
            "_view_module": "@jupyter-widgets/controls",
            "_view_module_version": "1.5.0",
            "_view_name": "HBoxView",
            "box_style": "",
            "children": [
              "IPY_MODEL_7e7abad7908d4a40850f698fb5966e05",
              "IPY_MODEL_70af3b69707144e095ea074bf1c03df1",
              "IPY_MODEL_b396563ed1ad44f2ac50ad9a286ac9d9"
            ],
            "layout": "IPY_MODEL_ac92f38b7e944006b55ccb45df001045"
          }
        },
        "7e7abad7908d4a40850f698fb5966e05": {
          "model_module": "@jupyter-widgets/controls",
          "model_name": "HTMLModel",
          "model_module_version": "1.5.0",
          "state": {
            "_dom_classes": [],
            "_model_module": "@jupyter-widgets/controls",
            "_model_module_version": "1.5.0",
            "_model_name": "HTMLModel",
            "_view_count": null,
            "_view_module": "@jupyter-widgets/controls",
            "_view_module_version": "1.5.0",
            "_view_name": "HTMLView",
            "description": "",
            "description_tooltip": null,
            "layout": "IPY_MODEL_82d07396d375478297ef79df08e81a79",
            "placeholder": "​",
            "style": "IPY_MODEL_8813cb872626455da31d1e822626ffbe",
            "value": "Downloading (…)lve/main/config.json: 100%"
          }
        },
        "70af3b69707144e095ea074bf1c03df1": {
          "model_module": "@jupyter-widgets/controls",
          "model_name": "FloatProgressModel",
          "model_module_version": "1.5.0",
          "state": {
            "_dom_classes": [],
            "_model_module": "@jupyter-widgets/controls",
            "_model_module_version": "1.5.0",
            "_model_name": "FloatProgressModel",
            "_view_count": null,
            "_view_module": "@jupyter-widgets/controls",
            "_view_module_version": "1.5.0",
            "_view_name": "ProgressView",
            "bar_style": "success",
            "description": "",
            "description_tooltip": null,
            "layout": "IPY_MODEL_2be14b3d5bb84a508fcde137d6a2e6b8",
            "max": 1208,
            "min": 0,
            "orientation": "horizontal",
            "style": "IPY_MODEL_7d6c83f3fbef41348785c79da5f641d3",
            "value": 1208
          }
        },
        "b396563ed1ad44f2ac50ad9a286ac9d9": {
          "model_module": "@jupyter-widgets/controls",
          "model_name": "HTMLModel",
          "model_module_version": "1.5.0",
          "state": {
            "_dom_classes": [],
            "_model_module": "@jupyter-widgets/controls",
            "_model_module_version": "1.5.0",
            "_model_name": "HTMLModel",
            "_view_count": null,
            "_view_module": "@jupyter-widgets/controls",
            "_view_module_version": "1.5.0",
            "_view_name": "HTMLView",
            "description": "",
            "description_tooltip": null,
            "layout": "IPY_MODEL_ef44de52fb494e59a923822540197cfa",
            "placeholder": "​",
            "style": "IPY_MODEL_202e730ff6504c73baa33bcc9332aeed",
            "value": " 1.21k/1.21k [00:00&lt;00:00, 36.5kB/s]"
          }
        },
        "ac92f38b7e944006b55ccb45df001045": {
          "model_module": "@jupyter-widgets/base",
          "model_name": "LayoutModel",
          "model_module_version": "1.2.0",
          "state": {
            "_model_module": "@jupyter-widgets/base",
            "_model_module_version": "1.2.0",
            "_model_name": "LayoutModel",
            "_view_count": null,
            "_view_module": "@jupyter-widgets/base",
            "_view_module_version": "1.2.0",
            "_view_name": "LayoutView",
            "align_content": null,
            "align_items": null,
            "align_self": null,
            "border": null,
            "bottom": null,
            "display": null,
            "flex": null,
            "flex_flow": null,
            "grid_area": null,
            "grid_auto_columns": null,
            "grid_auto_flow": null,
            "grid_auto_rows": null,
            "grid_column": null,
            "grid_gap": null,
            "grid_row": null,
            "grid_template_areas": null,
            "grid_template_columns": null,
            "grid_template_rows": null,
            "height": null,
            "justify_content": null,
            "justify_items": null,
            "left": null,
            "margin": null,
            "max_height": null,
            "max_width": null,
            "min_height": null,
            "min_width": null,
            "object_fit": null,
            "object_position": null,
            "order": null,
            "overflow": null,
            "overflow_x": null,
            "overflow_y": null,
            "padding": null,
            "right": null,
            "top": null,
            "visibility": null,
            "width": null
          }
        },
        "82d07396d375478297ef79df08e81a79": {
          "model_module": "@jupyter-widgets/base",
          "model_name": "LayoutModel",
          "model_module_version": "1.2.0",
          "state": {
            "_model_module": "@jupyter-widgets/base",
            "_model_module_version": "1.2.0",
            "_model_name": "LayoutModel",
            "_view_count": null,
            "_view_module": "@jupyter-widgets/base",
            "_view_module_version": "1.2.0",
            "_view_name": "LayoutView",
            "align_content": null,
            "align_items": null,
            "align_self": null,
            "border": null,
            "bottom": null,
            "display": null,
            "flex": null,
            "flex_flow": null,
            "grid_area": null,
            "grid_auto_columns": null,
            "grid_auto_flow": null,
            "grid_auto_rows": null,
            "grid_column": null,
            "grid_gap": null,
            "grid_row": null,
            "grid_template_areas": null,
            "grid_template_columns": null,
            "grid_template_rows": null,
            "height": null,
            "justify_content": null,
            "justify_items": null,
            "left": null,
            "margin": null,
            "max_height": null,
            "max_width": null,
            "min_height": null,
            "min_width": null,
            "object_fit": null,
            "object_position": null,
            "order": null,
            "overflow": null,
            "overflow_x": null,
            "overflow_y": null,
            "padding": null,
            "right": null,
            "top": null,
            "visibility": null,
            "width": null
          }
        },
        "8813cb872626455da31d1e822626ffbe": {
          "model_module": "@jupyter-widgets/controls",
          "model_name": "DescriptionStyleModel",
          "model_module_version": "1.5.0",
          "state": {
            "_model_module": "@jupyter-widgets/controls",
            "_model_module_version": "1.5.0",
            "_model_name": "DescriptionStyleModel",
            "_view_count": null,
            "_view_module": "@jupyter-widgets/base",
            "_view_module_version": "1.2.0",
            "_view_name": "StyleView",
            "description_width": ""
          }
        },
        "2be14b3d5bb84a508fcde137d6a2e6b8": {
          "model_module": "@jupyter-widgets/base",
          "model_name": "LayoutModel",
          "model_module_version": "1.2.0",
          "state": {
            "_model_module": "@jupyter-widgets/base",
            "_model_module_version": "1.2.0",
            "_model_name": "LayoutModel",
            "_view_count": null,
            "_view_module": "@jupyter-widgets/base",
            "_view_module_version": "1.2.0",
            "_view_name": "LayoutView",
            "align_content": null,
            "align_items": null,
            "align_self": null,
            "border": null,
            "bottom": null,
            "display": null,
            "flex": null,
            "flex_flow": null,
            "grid_area": null,
            "grid_auto_columns": null,
            "grid_auto_flow": null,
            "grid_auto_rows": null,
            "grid_column": null,
            "grid_gap": null,
            "grid_row": null,
            "grid_template_areas": null,
            "grid_template_columns": null,
            "grid_template_rows": null,
            "height": null,
            "justify_content": null,
            "justify_items": null,
            "left": null,
            "margin": null,
            "max_height": null,
            "max_width": null,
            "min_height": null,
            "min_width": null,
            "object_fit": null,
            "object_position": null,
            "order": null,
            "overflow": null,
            "overflow_x": null,
            "overflow_y": null,
            "padding": null,
            "right": null,
            "top": null,
            "visibility": null,
            "width": null
          }
        },
        "7d6c83f3fbef41348785c79da5f641d3": {
          "model_module": "@jupyter-widgets/controls",
          "model_name": "ProgressStyleModel",
          "model_module_version": "1.5.0",
          "state": {
            "_model_module": "@jupyter-widgets/controls",
            "_model_module_version": "1.5.0",
            "_model_name": "ProgressStyleModel",
            "_view_count": null,
            "_view_module": "@jupyter-widgets/base",
            "_view_module_version": "1.2.0",
            "_view_name": "StyleView",
            "bar_color": null,
            "description_width": ""
          }
        },
        "ef44de52fb494e59a923822540197cfa": {
          "model_module": "@jupyter-widgets/base",
          "model_name": "LayoutModel",
          "model_module_version": "1.2.0",
          "state": {
            "_model_module": "@jupyter-widgets/base",
            "_model_module_version": "1.2.0",
            "_model_name": "LayoutModel",
            "_view_count": null,
            "_view_module": "@jupyter-widgets/base",
            "_view_module_version": "1.2.0",
            "_view_name": "LayoutView",
            "align_content": null,
            "align_items": null,
            "align_self": null,
            "border": null,
            "bottom": null,
            "display": null,
            "flex": null,
            "flex_flow": null,
            "grid_area": null,
            "grid_auto_columns": null,
            "grid_auto_flow": null,
            "grid_auto_rows": null,
            "grid_column": null,
            "grid_gap": null,
            "grid_row": null,
            "grid_template_areas": null,
            "grid_template_columns": null,
            "grid_template_rows": null,
            "height": null,
            "justify_content": null,
            "justify_items": null,
            "left": null,
            "margin": null,
            "max_height": null,
            "max_width": null,
            "min_height": null,
            "min_width": null,
            "object_fit": null,
            "object_position": null,
            "order": null,
            "overflow": null,
            "overflow_x": null,
            "overflow_y": null,
            "padding": null,
            "right": null,
            "top": null,
            "visibility": null,
            "width": null
          }
        },
        "202e730ff6504c73baa33bcc9332aeed": {
          "model_module": "@jupyter-widgets/controls",
          "model_name": "DescriptionStyleModel",
          "model_module_version": "1.5.0",
          "state": {
            "_model_module": "@jupyter-widgets/controls",
            "_model_module_version": "1.5.0",
            "_model_name": "DescriptionStyleModel",
            "_view_count": null,
            "_view_module": "@jupyter-widgets/base",
            "_view_module_version": "1.2.0",
            "_view_name": "StyleView",
            "description_width": ""
          }
        },
        "be332abb2f3f4e36a5161b5bd2b71f96": {
          "model_module": "@jupyter-widgets/controls",
          "model_name": "HBoxModel",
          "model_module_version": "1.5.0",
          "state": {
            "_dom_classes": [],
            "_model_module": "@jupyter-widgets/controls",
            "_model_module_version": "1.5.0",
            "_model_name": "HBoxModel",
            "_view_count": null,
            "_view_module": "@jupyter-widgets/controls",
            "_view_module_version": "1.5.0",
            "_view_name": "HBoxView",
            "box_style": "",
            "children": [
              "IPY_MODEL_4af005449f5a44e4968473668a3a2b81",
              "IPY_MODEL_4933b9537c714136a436ceebc29d716c",
              "IPY_MODEL_cd72ce70d575418c9e05f3b3804c91e7"
            ],
            "layout": "IPY_MODEL_1ad1001d7c994fe183665ef9c6ed1880"
          }
        },
        "4af005449f5a44e4968473668a3a2b81": {
          "model_module": "@jupyter-widgets/controls",
          "model_name": "HTMLModel",
          "model_module_version": "1.5.0",
          "state": {
            "_dom_classes": [],
            "_model_module": "@jupyter-widgets/controls",
            "_model_module_version": "1.5.0",
            "_model_name": "HTMLModel",
            "_view_count": null,
            "_view_module": "@jupyter-widgets/controls",
            "_view_module_version": "1.5.0",
            "_view_name": "HTMLView",
            "description": "",
            "description_tooltip": null,
            "layout": "IPY_MODEL_aa59ce29cc404c038033ac0ea81a9a19",
            "placeholder": "​",
            "style": "IPY_MODEL_d214c031287748ad92d45f413d196119",
            "value": "Downloading pytorch_model.bin: 100%"
          }
        },
        "4933b9537c714136a436ceebc29d716c": {
          "model_module": "@jupyter-widgets/controls",
          "model_name": "FloatProgressModel",
          "model_module_version": "1.5.0",
          "state": {
            "_dom_classes": [],
            "_model_module": "@jupyter-widgets/controls",
            "_model_module_version": "1.5.0",
            "_model_name": "FloatProgressModel",
            "_view_count": null,
            "_view_module": "@jupyter-widgets/controls",
            "_view_module_version": "1.5.0",
            "_view_name": "ProgressView",
            "bar_style": "success",
            "description": "",
            "description_tooltip": null,
            "layout": "IPY_MODEL_8f6ae08fc5164f8b82d95561df9dbe26",
            "max": 891691430,
            "min": 0,
            "orientation": "horizontal",
            "style": "IPY_MODEL_9f4a382f11e54101bc2b855fc498413d",
            "value": 891691430
          }
        },
        "cd72ce70d575418c9e05f3b3804c91e7": {
          "model_module": "@jupyter-widgets/controls",
          "model_name": "HTMLModel",
          "model_module_version": "1.5.0",
          "state": {
            "_dom_classes": [],
            "_model_module": "@jupyter-widgets/controls",
            "_model_module_version": "1.5.0",
            "_model_name": "HTMLModel",
            "_view_count": null,
            "_view_module": "@jupyter-widgets/controls",
            "_view_module_version": "1.5.0",
            "_view_name": "HTMLView",
            "description": "",
            "description_tooltip": null,
            "layout": "IPY_MODEL_ac49debb48e34ecbba133945e23f51a0",
            "placeholder": "​",
            "style": "IPY_MODEL_1da965e99cd24a6787568d0e816ab849",
            "value": " 892M/892M [00:03&lt;00:00, 195MB/s]"
          }
        },
        "1ad1001d7c994fe183665ef9c6ed1880": {
          "model_module": "@jupyter-widgets/base",
          "model_name": "LayoutModel",
          "model_module_version": "1.2.0",
          "state": {
            "_model_module": "@jupyter-widgets/base",
            "_model_module_version": "1.2.0",
            "_model_name": "LayoutModel",
            "_view_count": null,
            "_view_module": "@jupyter-widgets/base",
            "_view_module_version": "1.2.0",
            "_view_name": "LayoutView",
            "align_content": null,
            "align_items": null,
            "align_self": null,
            "border": null,
            "bottom": null,
            "display": null,
            "flex": null,
            "flex_flow": null,
            "grid_area": null,
            "grid_auto_columns": null,
            "grid_auto_flow": null,
            "grid_auto_rows": null,
            "grid_column": null,
            "grid_gap": null,
            "grid_row": null,
            "grid_template_areas": null,
            "grid_template_columns": null,
            "grid_template_rows": null,
            "height": null,
            "justify_content": null,
            "justify_items": null,
            "left": null,
            "margin": null,
            "max_height": null,
            "max_width": null,
            "min_height": null,
            "min_width": null,
            "object_fit": null,
            "object_position": null,
            "order": null,
            "overflow": null,
            "overflow_x": null,
            "overflow_y": null,
            "padding": null,
            "right": null,
            "top": null,
            "visibility": null,
            "width": null
          }
        },
        "aa59ce29cc404c038033ac0ea81a9a19": {
          "model_module": "@jupyter-widgets/base",
          "model_name": "LayoutModel",
          "model_module_version": "1.2.0",
          "state": {
            "_model_module": "@jupyter-widgets/base",
            "_model_module_version": "1.2.0",
            "_model_name": "LayoutModel",
            "_view_count": null,
            "_view_module": "@jupyter-widgets/base",
            "_view_module_version": "1.2.0",
            "_view_name": "LayoutView",
            "align_content": null,
            "align_items": null,
            "align_self": null,
            "border": null,
            "bottom": null,
            "display": null,
            "flex": null,
            "flex_flow": null,
            "grid_area": null,
            "grid_auto_columns": null,
            "grid_auto_flow": null,
            "grid_auto_rows": null,
            "grid_column": null,
            "grid_gap": null,
            "grid_row": null,
            "grid_template_areas": null,
            "grid_template_columns": null,
            "grid_template_rows": null,
            "height": null,
            "justify_content": null,
            "justify_items": null,
            "left": null,
            "margin": null,
            "max_height": null,
            "max_width": null,
            "min_height": null,
            "min_width": null,
            "object_fit": null,
            "object_position": null,
            "order": null,
            "overflow": null,
            "overflow_x": null,
            "overflow_y": null,
            "padding": null,
            "right": null,
            "top": null,
            "visibility": null,
            "width": null
          }
        },
        "d214c031287748ad92d45f413d196119": {
          "model_module": "@jupyter-widgets/controls",
          "model_name": "DescriptionStyleModel",
          "model_module_version": "1.5.0",
          "state": {
            "_model_module": "@jupyter-widgets/controls",
            "_model_module_version": "1.5.0",
            "_model_name": "DescriptionStyleModel",
            "_view_count": null,
            "_view_module": "@jupyter-widgets/base",
            "_view_module_version": "1.2.0",
            "_view_name": "StyleView",
            "description_width": ""
          }
        },
        "8f6ae08fc5164f8b82d95561df9dbe26": {
          "model_module": "@jupyter-widgets/base",
          "model_name": "LayoutModel",
          "model_module_version": "1.2.0",
          "state": {
            "_model_module": "@jupyter-widgets/base",
            "_model_module_version": "1.2.0",
            "_model_name": "LayoutModel",
            "_view_count": null,
            "_view_module": "@jupyter-widgets/base",
            "_view_module_version": "1.2.0",
            "_view_name": "LayoutView",
            "align_content": null,
            "align_items": null,
            "align_self": null,
            "border": null,
            "bottom": null,
            "display": null,
            "flex": null,
            "flex_flow": null,
            "grid_area": null,
            "grid_auto_columns": null,
            "grid_auto_flow": null,
            "grid_auto_rows": null,
            "grid_column": null,
            "grid_gap": null,
            "grid_row": null,
            "grid_template_areas": null,
            "grid_template_columns": null,
            "grid_template_rows": null,
            "height": null,
            "justify_content": null,
            "justify_items": null,
            "left": null,
            "margin": null,
            "max_height": null,
            "max_width": null,
            "min_height": null,
            "min_width": null,
            "object_fit": null,
            "object_position": null,
            "order": null,
            "overflow": null,
            "overflow_x": null,
            "overflow_y": null,
            "padding": null,
            "right": null,
            "top": null,
            "visibility": null,
            "width": null
          }
        },
        "9f4a382f11e54101bc2b855fc498413d": {
          "model_module": "@jupyter-widgets/controls",
          "model_name": "ProgressStyleModel",
          "model_module_version": "1.5.0",
          "state": {
            "_model_module": "@jupyter-widgets/controls",
            "_model_module_version": "1.5.0",
            "_model_name": "ProgressStyleModel",
            "_view_count": null,
            "_view_module": "@jupyter-widgets/base",
            "_view_module_version": "1.2.0",
            "_view_name": "StyleView",
            "bar_color": null,
            "description_width": ""
          }
        },
        "ac49debb48e34ecbba133945e23f51a0": {
          "model_module": "@jupyter-widgets/base",
          "model_name": "LayoutModel",
          "model_module_version": "1.2.0",
          "state": {
            "_model_module": "@jupyter-widgets/base",
            "_model_module_version": "1.2.0",
            "_model_name": "LayoutModel",
            "_view_count": null,
            "_view_module": "@jupyter-widgets/base",
            "_view_module_version": "1.2.0",
            "_view_name": "LayoutView",
            "align_content": null,
            "align_items": null,
            "align_self": null,
            "border": null,
            "bottom": null,
            "display": null,
            "flex": null,
            "flex_flow": null,
            "grid_area": null,
            "grid_auto_columns": null,
            "grid_auto_flow": null,
            "grid_auto_rows": null,
            "grid_column": null,
            "grid_gap": null,
            "grid_row": null,
            "grid_template_areas": null,
            "grid_template_columns": null,
            "grid_template_rows": null,
            "height": null,
            "justify_content": null,
            "justify_items": null,
            "left": null,
            "margin": null,
            "max_height": null,
            "max_width": null,
            "min_height": null,
            "min_width": null,
            "object_fit": null,
            "object_position": null,
            "order": null,
            "overflow": null,
            "overflow_x": null,
            "overflow_y": null,
            "padding": null,
            "right": null,
            "top": null,
            "visibility": null,
            "width": null
          }
        },
        "1da965e99cd24a6787568d0e816ab849": {
          "model_module": "@jupyter-widgets/controls",
          "model_name": "DescriptionStyleModel",
          "model_module_version": "1.5.0",
          "state": {
            "_model_module": "@jupyter-widgets/controls",
            "_model_module_version": "1.5.0",
            "_model_name": "DescriptionStyleModel",
            "_view_count": null,
            "_view_module": "@jupyter-widgets/base",
            "_view_module_version": "1.2.0",
            "_view_name": "StyleView",
            "description_width": ""
          }
        }
      }
    }
  },
  "cells": [
    {
      "cell_type": "markdown",
      "source": [
        "# Homework 11\n",
        "\n",
        "In class, we discussed various forms of position embeddings for self-attention in Transformers. One kind of position embedding we discussed in class is a relative position embedding, where we associate each offset $\\Delta = t - i$ between position query position $t$ and key position $i$ with a scalar $e_\\Delta$ that gets added to the output of the comparison function as $\\alpha(q_t, k_i) + e_\\Delta$. This is the type of position embedding used in [ALIBI](https://arxiv.org/abs/2108.12409) and [T5](https://arxiv.org/abs/2108.12409)."
      ],
      "metadata": {
        "id": "oDbMJbEU0arU"
      }
    },
    {
      "cell_type": "markdown",
      "source": [
        "# Problem 1\n",
        "\n",
        "In the T5 model, there is a single set of attention \"bias\" values ($e_\\Delta$) shared across all layers in the encoder (and another set shared across all layers in the decoder). Each attention head (of which there are 12)has its own set of bias values. The offsets in the bias values are logarithmically spaced, and there are 32 total bias values.\n",
        "\n",
        "Below you will find code for loading the [`t5-base`](https://huggingface.co/t5-base) model from the Hugging Face Model Hub and grabbing the tensor for the attention biases in the encoder. You'll also find a funcion that maps from an offset ($\\Delta$) and returns an index into the attention bias tensor. So, for example, if you wanted to get the bias for query index `t` and key index `i`, you could do `biases[relative_position_bucket(t - i)]`."
      ],
      "metadata": {
        "id": "Y6y2DH5f0FY7"
      }
    },
    {
      "cell_type": "code",
      "source": [
        "!pip install transformers"
      ],
      "metadata": {
        "id": "Kwidznm31T03",
        "colab": {
          "base_uri": "https://localhost:8080/"
        },
        "outputId": "1c8afa5a-3e48-4855-87df-56dcf235dcc7"
      },
      "execution_count": 2,
      "outputs": [
        {
          "output_type": "stream",
          "name": "stdout",
          "text": [
            "Looking in indexes: https://pypi.org/simple, https://us-python.pkg.dev/colab-wheels/public/simple/\n",
            "Collecting transformers\n",
            "  Downloading transformers-4.27.4-py3-none-any.whl (6.8 MB)\n",
            "\u001b[2K     \u001b[90m━━━━━━━━━━━━━━━━━━━━━━━━━━━━━━━━━━━━━━━━\u001b[0m \u001b[32m6.8/6.8 MB\u001b[0m \u001b[31m61.3 MB/s\u001b[0m eta \u001b[36m0:00:00\u001b[0m\n",
            "\u001b[?25hRequirement already satisfied: filelock in /usr/local/lib/python3.9/dist-packages (from transformers) (3.11.0)\n",
            "Requirement already satisfied: numpy>=1.17 in /usr/local/lib/python3.9/dist-packages (from transformers) (1.22.4)\n",
            "Requirement already satisfied: pyyaml>=5.1 in /usr/local/lib/python3.9/dist-packages (from transformers) (6.0)\n",
            "Requirement already satisfied: requests in /usr/local/lib/python3.9/dist-packages (from transformers) (2.27.1)\n",
            "Collecting huggingface-hub<1.0,>=0.11.0\n",
            "  Downloading huggingface_hub-0.13.4-py3-none-any.whl (200 kB)\n",
            "\u001b[2K     \u001b[90m━━━━━━━━━━━━━━━━━━━━━━━━━━━━━━━━━━━━━━\u001b[0m \u001b[32m200.1/200.1 kB\u001b[0m \u001b[31m23.3 MB/s\u001b[0m eta \u001b[36m0:00:00\u001b[0m\n",
            "\u001b[?25hRequirement already satisfied: regex!=2019.12.17 in /usr/local/lib/python3.9/dist-packages (from transformers) (2022.10.31)\n",
            "Requirement already satisfied: packaging>=20.0 in /usr/local/lib/python3.9/dist-packages (from transformers) (23.0)\n",
            "Collecting tokenizers!=0.11.3,<0.14,>=0.11.1\n",
            "  Downloading tokenizers-0.13.3-cp39-cp39-manylinux_2_17_x86_64.manylinux2014_x86_64.whl (7.8 MB)\n",
            "\u001b[2K     \u001b[90m━━━━━━━━━━━━━━━━━━━━━━━━━━━━━━━━━━━━━━━━\u001b[0m \u001b[32m7.8/7.8 MB\u001b[0m \u001b[31m61.6 MB/s\u001b[0m eta \u001b[36m0:00:00\u001b[0m\n",
            "\u001b[?25hRequirement already satisfied: tqdm>=4.27 in /usr/local/lib/python3.9/dist-packages (from transformers) (4.65.0)\n",
            "Requirement already satisfied: typing-extensions>=3.7.4.3 in /usr/local/lib/python3.9/dist-packages (from huggingface-hub<1.0,>=0.11.0->transformers) (4.5.0)\n",
            "Requirement already satisfied: certifi>=2017.4.17 in /usr/local/lib/python3.9/dist-packages (from requests->transformers) (2022.12.7)\n",
            "Requirement already satisfied: urllib3<1.27,>=1.21.1 in /usr/local/lib/python3.9/dist-packages (from requests->transformers) (1.26.15)\n",
            "Requirement already satisfied: idna<4,>=2.5 in /usr/local/lib/python3.9/dist-packages (from requests->transformers) (3.4)\n",
            "Requirement already satisfied: charset-normalizer~=2.0.0 in /usr/local/lib/python3.9/dist-packages (from requests->transformers) (2.0.12)\n",
            "Installing collected packages: tokenizers, huggingface-hub, transformers\n",
            "Successfully installed huggingface-hub-0.13.4 tokenizers-0.13.3 transformers-4.27.4\n"
          ]
        }
      ]
    },
    {
      "cell_type": "code",
      "source": [
        "from transformers import T5Model\n",
        "import torch\n",
        "import math\n",
        "\n",
        "def relative_position_bucket(relative_position, bidirectional=True, num_buckets=32, max_distance=128):\n",
        "    \"\"\"\n",
        "    Adapted from Mesh Tensorflow:\n",
        "    https://github.com/tensorflow/mesh/blob/0cb87fe07da627bf0b7e60475d59f95ed6b5be3d/mesh_tensorflow/transformer/transformer_layers.py#L593\n",
        "    Translate relative position to a bucket number for relative attention. The relative position is defined as\n",
        "    memory_position - query_position, i.e. the distance in tokens from the attending position to the attended-to\n",
        "    position. If bidirectional=False, then positive relative positions are invalid. We use smaller buckets for\n",
        "    small absolute relative_position and larger buckets for larger absolute relative_positions. All relative\n",
        "    positions >=max_distance map to the same bucket. All relative positions <=-max_distance map to the same bucket.\n",
        "    This should allow for more graceful generalization to longer sequences than the model has been trained on\n",
        "    Args:\n",
        "        relative_position: an int32 Tensor\n",
        "        bidirectional: a boolean - whether the attention is bidirectional\n",
        "        num_buckets: an integer\n",
        "        max_distance: an integer\n",
        "    Returns:\n",
        "        a Tensor with the same shape as relative_position, containing int32 values in the range [0, num_buckets)\n",
        "    \"\"\"\n",
        "    relative_buckets = 0\n",
        "    if bidirectional:\n",
        "        num_buckets //= 2\n",
        "        relative_buckets += (relative_position > 0).to(torch.long) * num_buckets\n",
        "        relative_position = torch.abs(relative_position)\n",
        "    else:\n",
        "        relative_position = -torch.min(relative_position, torch.zeros_like(relative_position))\n",
        "    # now relative_position is in the range [0, inf)\n",
        "\n",
        "    # half of the buckets are for exact increments in positions\n",
        "    max_exact = num_buckets // 2\n",
        "    is_small = relative_position < max_exact\n",
        "\n",
        "    # The other half of the buckets are for logarithmically bigger bins in positions up to max_distance\n",
        "    relative_position_if_large = max_exact + (\n",
        "        torch.log(relative_position.float() / max_exact)\n",
        "        / math.log(max_distance / max_exact)\n",
        "        * (num_buckets - max_exact)\n",
        "    ).to(torch.long)\n",
        "    relative_position_if_large = torch.min(\n",
        "        relative_position_if_large, torch.full_like(relative_position_if_large, num_buckets - 1)\n",
        "    )\n",
        "\n",
        "    relative_buckets += torch.where(is_small, relative_position, relative_position_if_large)\n",
        "    return relative_buckets\n",
        "\n",
        "\n",
        "model = T5Model.from_pretrained(\"t5-base\")\n",
        "biases = model.get_parameter(\"encoder.block.0.layer.0.SelfAttention.relative_attention_bias.weight\").detach().numpy()"
      ],
      "metadata": {
        "id": "eOYe6qcp1C6x",
        "colab": {
          "base_uri": "https://localhost:8080/",
          "height": 81,
          "referenced_widgets": [
            "ea65c661f1cb468f87b1689bbc7b5bad",
            "7e7abad7908d4a40850f698fb5966e05",
            "70af3b69707144e095ea074bf1c03df1",
            "b396563ed1ad44f2ac50ad9a286ac9d9",
            "ac92f38b7e944006b55ccb45df001045",
            "82d07396d375478297ef79df08e81a79",
            "8813cb872626455da31d1e822626ffbe",
            "2be14b3d5bb84a508fcde137d6a2e6b8",
            "7d6c83f3fbef41348785c79da5f641d3",
            "ef44de52fb494e59a923822540197cfa",
            "202e730ff6504c73baa33bcc9332aeed",
            "be332abb2f3f4e36a5161b5bd2b71f96",
            "4af005449f5a44e4968473668a3a2b81",
            "4933b9537c714136a436ceebc29d716c",
            "cd72ce70d575418c9e05f3b3804c91e7",
            "1ad1001d7c994fe183665ef9c6ed1880",
            "aa59ce29cc404c038033ac0ea81a9a19",
            "d214c031287748ad92d45f413d196119",
            "8f6ae08fc5164f8b82d95561df9dbe26",
            "9f4a382f11e54101bc2b855fc498413d",
            "ac49debb48e34ecbba133945e23f51a0",
            "1da965e99cd24a6787568d0e816ab849"
          ]
        },
        "outputId": "3c5d9ea2-d9b0-42b1-efe4-8d79225b6f73"
      },
      "execution_count": 3,
      "outputs": [
        {
          "output_type": "display_data",
          "data": {
            "text/plain": [
              "Downloading (…)lve/main/config.json:   0%|          | 0.00/1.21k [00:00<?, ?B/s]"
            ],
            "application/vnd.jupyter.widget-view+json": {
              "version_major": 2,
              "version_minor": 0,
              "model_id": "ea65c661f1cb468f87b1689bbc7b5bad"
            }
          },
          "metadata": {}
        },
        {
          "output_type": "display_data",
          "data": {
            "text/plain": [
              "Downloading pytorch_model.bin:   0%|          | 0.00/892M [00:00<?, ?B/s]"
            ],
            "application/vnd.jupyter.widget-view+json": {
              "version_major": 2,
              "version_minor": 0,
              "model_id": "be332abb2f3f4e36a5161b5bd2b71f96"
            }
          },
          "metadata": {}
        }
      ]
    },
    {
      "cell_type": "markdown",
      "source": [
        "1. Using this tensor and function, plot images (e.g. using plt.imshow) that show the relative attention bias for each offset. Your x-axis should be the query index from 0 to 128, your y-axis should be the key index from 0 to 128, and the color in the image should represent the bias."
      ],
      "metadata": {
        "id": "UwG_G7Kl2v6l"
      }
    },
    {
      "cell_type": "code",
      "source": [
        "import numpy as np\n",
        "import matplotlib.pyplot as plt\n",
        "\n",
        "def create_bias_matrix(biases, max_sequence_length=128):\n",
        "    bias_matrix = np.zeros((max_sequence_length, max_sequence_length))\n",
        "\n",
        "    for t in range(max_sequence_length):\n",
        "        for i in range(max_sequence_length):\n",
        "            # Convert the input to a tensor\n",
        "            relative_position = torch.tensor(t - i, dtype=torch.long)\n",
        "            index = relative_position_bucket(relative_position).item()\n",
        "            bias_matrix[i, t] = biases[index]  # Switch indices i and t\n",
        "\n",
        "    return bias_matrix\n",
        "\n",
        "head_index = 0\n",
        "head_biases = biases[:, head_index]\n",
        "\n",
        "bias_matrix = create_bias_matrix(head_biases)\n",
        "\n",
        "plt.figure(figsize=(10, 10))\n",
        "plt.imshow(bias_matrix, cmap='viridis', origin='lower')\n",
        "plt.colorbar()\n",
        "plt.xlabel('Query Index')  # x-axis\n",
        "plt.ylabel('Key Index')    # y-axis\n",
        "plt.title('Relative Attention Bias for Head {}'.format(head_index))\n",
        "plt.show()"
      ],
      "metadata": {
        "colab": {
          "base_uri": "https://localhost:8080/",
          "height": 807
        },
        "id": "8GzEjhwj2viL",
        "outputId": "916be9c3-1096-4757-d316-cd7ebf5a7b54"
      },
      "execution_count": 4,
      "outputs": [
        {
          "output_type": "display_data",
          "data": {
            "text/plain": [
              "<Figure size 1000x1000 with 2 Axes>"
            ],
            "image/png": "[encoded data removed]"
          },
          "metadata": {}
        }
      ]
    },
    {
      "cell_type": "markdown",
      "source": [
        "2. Pick one of the bias images for one of the heads that looks interpretable and explain what it is causing the model to do (i.e. which positions is it increasing or decreasing the attention values for)."
      ],
      "metadata": {
        "id": "rWJUiDRt4jcB"
      }
    },
    {
      "cell_type": "markdown",
      "source": [
        "As we can see from the plot, the colors represent the attention bias, with lighter colors (yellow) indicating higher values and darker colors (blue) indicating lower values. The x-axis represents the query index and the y-axis represents the key index. In the context of the T5 model, the key index represents the memory tokens the model is attending to, while the query index represents the current token the model is focusing on. In the above-biased image of the 0 head, we can find that the lighter colors are concentrated on the diagonal line from the lower left to the upper right corner and below the diagonal line. This pattern could indicate that the model is encouraged to pay attention to nearby positions with close query and key indices (along the diagonal) and positions that occur before the current token (below the diagonal), meaning that it prefers to pay more attention to the local context around the current token and past tokens. The darker colors (lower biases) above the diagonal suggest that the model has lower attention values for tokens that appear after the current token. "
      ],
      "metadata": {
        "id": "3UwARLWPAiO7"
      }
    },
    {
      "cell_type": "markdown",
      "source": [
        "# Problem 2\n",
        "\n",
        "Consider a one-dimensional convolution of a filter $[w_1, w_2, w_3]$ against a sequence $[x_1, x_2, x_3, x_4]$ with a padding of 1 and stride of 1. The output of this convolution is\n",
        "\\begin{align}\n",
        " [&w_2 x_1 + w_3 x_2, \\\\\n",
        " &w_1 x_1 + w_2 x_2 + w_3 x_3, \\\\\n",
        " &w_1 x_2 + w_2 x_3 + w_3 x_4, \\\\\n",
        " &w_1 x_3 + w_2 x_4] \\end{align}\n",
        "In addition, consider the general form of the \"relative attention bias\" approach, where $ e_\\Delta$ gets added to the output of the comparison function as $\\alpha(q_t, k_i) + e_\\Delta$. Design an attention mechanism using relative attention bias that produces the same output the convolution described above. You can set $e_\\Delta$ however you choose, i.e. don't assume they are learned. Hint: Remember, you also get to decide what the queries, keys, values, comparison function, and reduction function are. They can be whatever you want! E.g. the reduction function doesn't need to have a softmax and the comparison function's output can be constant."
      ],
      "metadata": {
        "id": "S9BbqhZY_IfD"
      }
    },
    {
      "cell_type": "markdown",
      "source": [
        "**Setting**"
      ],
      "metadata": {
        "id": "Rj14NlrorYKb"
      }
    },
    {
      "cell_type": "markdown",
      "source": [
        "We can set the queries(Q), keys(K), and values(V) which are same as input sequence: \n",
        "  * Q = [x1, x2, x3, x4]\n",
        "  * K = [x1, x2, x3, x4]\n",
        "  * V = [x1, x2, x3, x4]\n",
        "\n",
        "The comparison function is 𝛼(q,k) = q * k (dot production) and the reduction function is weighted sum. \n",
        "In order to match the positions in the convolution operation, we set the relative attention bias indices to be 0, 1, and -1.\n",
        "  * $e_{0}$ = w2\n",
        "  * $e_{1}$ = w3\n",
        "  * $e_{-1}$ = w1"
      ],
      "metadata": {
        "id": "eRs2VhwlHBRT"
      }
    },
    {
      "cell_type": "markdown",
      "source": [
        "**Calculation**"
      ],
      "metadata": {
        "id": "TP9laCuUrb3n"
      }
    },
    {
      "cell_type": "markdown",
      "source": [
        "For x1: \n",
        "  * 𝛼(x1,x1)=$x1^2$, 𝛼(x1,x2)=x1*x2\n",
        "  * output=w2̇\\*$x1^2$+w3\\*x1*x2\n",
        "\n",
        "For x2: \n",
        "  * 𝛼(x2,x1)=x2\\*x1, 𝛼(x2,x2)=$x2^2$, 𝛼(x2,x3)=x2*x3\n",
        "  * output=w1\\*x2\\*x1+w2\\*$x2^2$+w3\\*x2*x3\n",
        "\n",
        "For x3: \n",
        "  * 𝛼(x3,x2)=x3\\*x2, 𝛼(x3,x3)=$x3^2$, 𝛼(x3,x4)=x3*x4\n",
        "  * output=w1\\*x3\\*x2+w2\\*$x3^2$+w3\\*x3*x4\n",
        "\n",
        "For x4: \n",
        "  * 𝛼(x4,x3)=x4*x3, 𝛼(x4,x4)=$x4^2$\n",
        "  * output=w1\\*x4\\*x3+w2*$x4^2$\n",
        "\n",
        "The output of attention mechanism using relative attention bias is same as the given convolution: \n",
        "\\begin{align}\n",
        " [&w_2 x_1^2+ w_3 x_1 x_2, \\\\\n",
        " &w_1 x_2 x_1 + w_2 x_2^2 + w_3 x_2 x_3, \\\\\n",
        " &w_1 x_3 x_2 + w_2 x_3^2 + w_3 x_3 x_4, \\\\\n",
        " &w_1 x_4 x_3 + w_2 x_4^2] \\end{align}\n"
      ],
      "metadata": {
        "id": "x8tD2YI2plST"
      }
    },
    {
      "cell_type": "code",
      "source": [
        "def attention_mechanism(x, w, e):\n",
        "    Q = K = V = x.unsqueeze(2)\n",
        "    alpha = torch.bmm(Q, K.transpose(1, 2))\n",
        "\n",
        "    # Add relative attention bias\n",
        "    seq_len = x.shape[1]\n",
        "    for t in range(seq_len):\n",
        "        for i in range(seq_len):\n",
        "            delta = t - i\n",
        "            if delta in e:\n",
        "                alpha[:, t, i] += e[delta]\n",
        "\n",
        "    # Weighted sum without softmax\n",
        "    output = torch.bmm(alpha, V)\n",
        "    return output.squeeze(2)\n",
        "\n",
        "x = torch.tensor([[1.0, 2.0, 3.0, 4.0]])  # Input sequence\n",
        "w = torch.tensor([1.0, 2.0, 3.0])  # Filter\n",
        "e = {0: w[1], 1: w[2], -1: w[0]}  # Relative attention bias\n",
        "\n",
        "result = attention_mechanism(x, w, e)\n",
        "print(result)"
      ],
      "metadata": {
        "colab": {
          "base_uri": "https://localhost:8080/"
        },
        "id": "Wg2sPOQ0nKu3",
        "outputId": "37263421-0e4e-4e68-e6ed-4e81822c9db2"
      },
      "execution_count": 6,
      "outputs": [
        {
          "output_type": "stream",
          "name": "stdout",
          "text": [
            "tensor([[ 34.,  70., 106., 137.]])\n"
          ]
        }
      ]
    }
  ]
}