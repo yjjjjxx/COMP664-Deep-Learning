{
  "nbformat": 4,
  "nbformat_minor": 0,
  "metadata": {
    "colab": {
      "provenance": []
    },
    "kernelspec": {
      "name": "python3",
      "display_name": "Python 3"
    },
    "accelerator": "GPU",
    "gpuClass": "standard"
  },
  "cells": [
    {
      "cell_type": "code",
      "source": [
        "# Author: Jiaxin Yang\n",
        "# Date: 01/16/23\n",
        "# COMP664 - Homework1"
      ],
      "metadata": {
        "id": "3EXqVL0pCSdg"
      },
      "execution_count": 1,
      "outputs": []
    },
    {
      "cell_type": "code",
      "metadata": {
        "id": "pp-R4v8eehJ4"
      },
      "source": [
        "import numpy as np\n",
        "import matplotlib.pyplot as plt"
      ],
      "execution_count": 2,
      "outputs": []
    },
    {
      "cell_type": "code",
      "metadata": {
        "id": "up2bDpU9fCk3"
      },
      "source": [
        "def generate_data():\n",
        "    size = 1000\n",
        "    x = np.linspace(0, 1, size)\n",
        "    y = -10*x + 5\n",
        "    y += 15*np.logical_and(x > 0.75, x < 0.8).astype(float)\n",
        "    return x, y"
      ],
      "execution_count": 3,
      "outputs": []
    },
    {
      "cell_type": "markdown",
      "metadata": {
        "id": "hTUMzQT3f0wm"
      },
      "source": [
        "# 1. Inspect the data (0.5 points)\n",
        "\n",
        "Using `matplotlib`, create a scatter plot of the data returned by `generate_data()`.\n",
        "What is out of the ordinary about this line?"
      ]
    },
    {
      "cell_type": "code",
      "source": [
        "data = generate_data()\n",
        "print(type(data))"
      ],
      "metadata": {
        "colab": {
          "base_uri": "https://localhost:8080/"
        },
        "id": "9-8VyogzxuKd",
        "outputId": "735add13-8138-4f84-e550-6ee34475b9eb"
      },
      "execution_count": 4,
      "outputs": [
        {
          "output_type": "stream",
          "name": "stdout",
          "text": [
            "<class 'tuple'>\n"
          ]
        }
      ]
    },
    {
      "cell_type": "code",
      "source": [
        "plt.scatter(x=data[0], y=data[1])"
      ],
      "metadata": {
        "colab": {
          "base_uri": "https://localhost:8080/",
          "height": 282
        },
        "id": "Txf5BkoyzZ45",
        "outputId": "1f79bff5-4c97-4f9b-aebe-80b170398578"
      },
      "execution_count": 5,
      "outputs": [
        {
          "output_type": "execute_result",
          "data": {
            "text/plain": [
              "<matplotlib.collections.PathCollection at 0x7f0be3eb97f0>"
            ]
          },
          "metadata": {},
          "execution_count": 5
        },
        {
          "output_type": "display_data",
          "data": {
            "text/plain": [
              "<Figure size 432x288 with 1 Axes>"
            ],
            "image/png": "[encoded data removed]"
          },
          "metadata": {
            "needs_background": "light"
          }
        }
      ]
    },
    {
      "cell_type": "markdown",
      "source": [
        "* Data points whose x-value is greater than 0.75 and less than 0.8 are off the straight line. \n",
        "\n",
        "\n",
        "\n"
      ],
      "metadata": {
        "id": "sj08zJf83Twu"
      }
    },
    {
      "cell_type": "markdown",
      "metadata": {
        "id": "DhgvBYNRfzG4"
      },
      "source": [
        "# 2. Implement linear regression (2 points)\n",
        "\n",
        "Implement a basic linear regression model which is fit to the data from `generate_data` using gradient descent.\n",
        "Your model should take the form `y = m*x + b`, where `y` is the output, `x` is the input, `m` is a weight parameter, and `b` is a bias parameter.\n",
        "You must use only `numpy` and derive any derivatives yourself (i.e. no autograd from TensorFlow, MXNet, Pytorch, JAX etc!).\n",
        "You should use a squared-error loss function.\n",
        "You are welcome to use any technique you want to decide when to stop training.\n",
        "Make sure you tune your optimization hyperparameters so that the model converges.\n",
        "Print out or plot the loss over the course of training."
      ]
    },
    {
      "cell_type": "code",
      "metadata": {
        "id": "RjPjNFSugtci"
      },
      "source": [
        "# L2 Loss\n",
        "def gradientDescent(x, y, theta, learn_rate, N, n_iter):\n",
        "    loss_i = np.zeros(n_iter)\n",
        "    for i in range(n_iter):\n",
        "        m = theta[0]\n",
        "        b = theta[1]\n",
        "        yhat = m*x+b\n",
        "        loss = np.sum((yhat-y)** 2)/(2*N)\n",
        "        loss_i[i] = loss\n",
        "        #print(\"i:%d, loss: %f\" % (i, loss))\n",
        "\n",
        "        gradient_m = np.dot(x,(yhat-y))/N\n",
        "        gradient_b = np.sum((yhat-y))/N\n",
        "        m = m - learn_rate*gradient_m\n",
        "        b = b - learn_rate*gradient_b\n",
        "        theta = [m,b]\n",
        "    return theta,loss_i"
      ],
      "execution_count": 6,
      "outputs": []
    },
    {
      "cell_type": "code",
      "source": [
        "# Hyperparameters\n",
        "n_iters = [100, 500, 1000]\n",
        "learn_rates = [0.001, 0.01, 0.1]\n",
        "N = len(data[0])"
      ],
      "metadata": {
        "id": "ezk5xqQaY5O2"
      },
      "execution_count": 7,
      "outputs": []
    },
    {
      "cell_type": "code",
      "source": [
        "# Tune hyperparameters\n",
        "for n_iter in n_iters:\n",
        "  for learn_rate in learn_rates:\n",
        "    theta = np.zeros(2)\n",
        "    #print(\"######################\")\n",
        "    #print(\"n_iter:\" + str(n_iter) + \" learn_rate:\" + str(learn_rate))\n",
        "    gradientDescent(data[0], data[1], theta, learn_rate, N, n_iter)"
      ],
      "metadata": {
        "id": "dXo7Su3XZaLP"
      },
      "execution_count": 8,
      "outputs": []
    },
    {
      "cell_type": "markdown",
      "source": [
        "* From the above results, I choose the learning rate to be 0.1 and number of iterations to be 500."
      ],
      "metadata": {
        "id": "uDI14k-KX4wj"
      }
    },
    {
      "cell_type": "code",
      "source": [
        "theta = np.zeros(2)\n",
        "theta,loss = gradientDescent(data[0], data[1], theta, 0.1, N, 500)"
      ],
      "metadata": {
        "id": "y6jbculaXf92"
      },
      "execution_count": 9,
      "outputs": []
    },
    {
      "cell_type": "code",
      "source": [
        "# Plot the loss over interations\n",
        "epoch = range(len(loss))\n",
        "plt.plot(epoch,loss,'o')\n",
        "plt.xlabel('iteration')\n",
        "plt.ylabel('loss')\n",
        "plt.show()"
      ],
      "metadata": {
        "colab": {
          "base_uri": "https://localhost:8080/",
          "height": 279
        },
        "id": "vt0zhxueZ7te",
        "outputId": "80745b1a-0b8d-4e43-e7e0-f733031525f0"
      },
      "execution_count": 10,
      "outputs": [
        {
          "output_type": "display_data",
          "data": {
            "text/plain": [
              "<Figure size 432x288 with 1 Axes>"
            ],
            "image/png": "[encoded data removed]"
          },
          "metadata": {
            "needs_background": "light"
          }
        }
      ]
    },
    {
      "cell_type": "markdown",
      "metadata": {
        "id": "p10i06F4KCJl"
      },
      "source": [
        "# 3. Analyze the result (0.5 points)\n",
        "\n",
        "Print out the values of `w` and `b` found by your model after training and compare them to the ground truth values (which can be found inside the code of the `generate_data` function).\n",
        "Are they close?\n",
        "Recreate the scatter plot you generated in question 1 and plot the model as a line on the same plot.\n",
        "What went wrong?\n"
      ]
    },
    {
      "cell_type": "code",
      "metadata": {
        "id": "pS11vK3nkK_c",
        "colab": {
          "base_uri": "https://localhost:8080/"
        },
        "outputId": "7974234b-a23c-446d-c8ac-b4a9c34a1905"
      },
      "source": [
        "# w and b\n",
        "print(theta)"
      ],
      "execution_count": 11,
      "outputs": [
        {
          "output_type": "stream",
          "name": "stdout",
          "text": [
            "[-7.243665537597473, 4.361826285650684]\n"
          ]
        }
      ]
    },
    {
      "cell_type": "code",
      "source": [
        "# Plot the model \n",
        "plt.plot(data[0],data[1],'or')\n",
        "plt.plot(data[0],theta[0]*data[0]+theta[1],'b')\n",
        "plt.show()"
      ],
      "metadata": {
        "colab": {
          "base_uri": "https://localhost:8080/",
          "height": 265
        },
        "id": "aira_3okt_zs",
        "outputId": "bb20903d-c2ee-475e-c9bd-854549679a55"
      },
      "execution_count": 12,
      "outputs": [
        {
          "output_type": "display_data",
          "data": {
            "text/plain": [
              "<Figure size 432x288 with 1 Axes>"
            ],
            "image/png": "[encoded data removed]"
          },
          "metadata": {
            "needs_background": "light"
          }
        }
      ]
    },
    {
      "cell_type": "markdown",
      "source": [
        "* We can find that the values of w (-7.24) and b (4.36) found by my model after training are not very close to the truth values (w = -10, b = 5) because of the outliers (0.75 < x < 0.8). The plot can indicate the same problem as well. The two lines are not overlap very much."
      ],
      "metadata": {
        "id": "ouy2iq83ds4E"
      }
    },
    {
      "cell_type": "markdown",
      "metadata": {
        "id": "PtnLN-bol1Qv"
      },
      "source": [
        "# 4. \"Robust\" linear regression (0.5 points)\n",
        "\n",
        "Implement a linear regression model exactly like the one you created in question 2, except using a L1 loss (absolute difference) instead of a squared L2 loss (squared error).\n",
        "You should be able to copy and paste your code from question 2 and only change a few lines.\n",
        "Print out or plot the loss over the course of training.\n",
        "What is different about the loss trajectory compared to the squared-error linear regression?"
      ]
    },
    {
      "cell_type": "code",
      "metadata": {
        "id": "TSCjJq0VLDRT"
      },
      "source": [
        "# L1 Loss\n",
        "def gradientDescent(x, y, theta, learn_rate, N, n_iter):\n",
        "    loss_i = np.zeros(n_iter)\n",
        "    for i in range(n_iter):\n",
        "        m = theta[0]\n",
        "        b = theta[1]\n",
        "        yhat = m*x+b\n",
        "        loss = np.sum(abs(yhat-y)) / N\n",
        "        loss_i[i] = loss\n",
        "        # print(\"i:%d, loss: %f\" % (i, loss))\n",
        "\n",
        "        gradient_m = np.sum(((yhat - y) / abs((yhat - y)) * x)) / N\n",
        "        gradient_b = np.sum(((yhat - y) / abs((yhat - y)))) / N\n",
        "\n",
        "        m = m - learn_rate*gradient_m\n",
        "        b = b - learn_rate*gradient_b\n",
        "        theta = [m,b]\n",
        "\n",
        "    return theta,loss_i"
      ],
      "execution_count": 13,
      "outputs": []
    },
    {
      "cell_type": "code",
      "source": [
        "theta = np.zeros(2)\n",
        "theta,loss = gradientDescent(data[0], data[1], theta, 0.01, N, 10000)"
      ],
      "metadata": {
        "id": "ddbwr445IWtS"
      },
      "execution_count": 14,
      "outputs": []
    },
    {
      "cell_type": "code",
      "source": [
        "# Plot the loss\n",
        "epoch = range(len(loss))\n",
        "plt.plot(epoch,loss,'o')\n",
        "plt.xlabel('iteration')\n",
        "plt.ylabel('loss')\n",
        "plt.show()"
      ],
      "metadata": {
        "colab": {
          "base_uri": "https://localhost:8080/",
          "height": 279
        },
        "id": "BT2GwwtUInYt",
        "outputId": "4e8ded7f-14ba-4cba-877f-7b8e9bf0387e"
      },
      "execution_count": 15,
      "outputs": [
        {
          "output_type": "display_data",
          "data": {
            "text/plain": [
              "<Figure size 432x288 with 1 Axes>"
            ],
            "image/png": "[encoded data removed]"
          },
          "metadata": {
            "needs_background": "light"
          }
        }
      ]
    },
    {
      "cell_type": "markdown",
      "source": [
        "* Compared to the squared-error linear regression, we can find that L1 loss converges slow and reach stable at some point. The L2 loss converges much faster as L2 loss has a larger gradient when far away from the zero gradients."
      ],
      "metadata": {
        "id": "voBW_KGgmxbx"
      }
    },
    {
      "cell_type": "markdown",
      "metadata": {
        "id": "xT_JGyk7LXTH"
      },
      "source": [
        "# 5. Analyze the result (0.5 points)\n",
        "\n",
        "Print out the new values of `w` and `b` found by your model after training.\n",
        "Are they closer to the true values used in `generate_data`?\n",
        "Plot the model as a line again.\n",
        "Why do you think the behavior is different?"
      ]
    },
    {
      "cell_type": "code",
      "source": [
        "# w and b\n",
        "print(theta)"
      ],
      "metadata": {
        "colab": {
          "base_uri": "https://localhost:8080/"
        },
        "id": "Ucm1ok_xkgPN",
        "outputId": "82dddde2-e852-448a-dfd4-5cb3209593e2"
      },
      "execution_count": 16,
      "outputs": [
        {
          "output_type": "stream",
          "name": "stdout",
          "text": [
            "[-10.000002902903926, 5.001339999999163]\n"
          ]
        }
      ]
    },
    {
      "cell_type": "markdown",
      "source": [
        "* We can find that the new values of w and b found by \"Robust\" model (L1 Loss) are much closer to the true values now. "
      ],
      "metadata": {
        "id": "zDIe63eS-H8U"
      }
    },
    {
      "cell_type": "code",
      "metadata": {
        "id": "-ZAgCbU1Li0J",
        "colab": {
          "base_uri": "https://localhost:8080/",
          "height": 265
        },
        "outputId": "2913ea28-0dd1-489f-cf15-08446ff45156"
      },
      "source": [
        "# Plot the model\n",
        "plt.plot(data[0],data[1],'or')\n",
        "plt.plot(data[0],theta[0]*data[0]+theta[1],'b')\n",
        "plt.show()"
      ],
      "execution_count": 17,
      "outputs": [
        {
          "output_type": "display_data",
          "data": {
            "text/plain": [
              "<Figure size 432x288 with 1 Axes>"
            ],
            "image/png": "[encoded data removed]"
          },
          "metadata": {
            "needs_background": "light"
          }
        }
      ]
    },
    {
      "cell_type": "markdown",
      "source": [
        "* The above plot can also show that the two lines roughly overlap with each other even with the outliers. From the formulas, we can get to know that the L1 Loss function minimizes the absolute differences between the prediction values and the actual values. The L2 Loss function minimizes the squared differences between the prediction and actual values. Therefore, the L1 loss function is more robust and is generally unaffected by outliers. On the other hand, the L2 loss function is highly sensitive to outliers. The L2 loss function will try to adjust the model according to outliers at the expense of other data points."
      ],
      "metadata": {
        "id": "Y-KiYDks-p2p"
      }
    }
  ]
}