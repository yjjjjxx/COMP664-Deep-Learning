{
  "nbformat": 4,
  "nbformat_minor": 0,
  "metadata": {
    "colab": {
      "provenance": []
    },
    "kernelspec": {
      "name": "python3",
      "display_name": "Python 3"
    },
    "accelerator": "GPU",
    "gpuClass": "standard"
  },
  "cells": [
    {
      "cell_type": "markdown",
      "metadata": {
        "id": "ufVNz7Y6oZPg"
      },
      "source": [
        "# Homework 8\n",
        "\n",
        "In this homework, you will be training a sequence-to-sequence model. Unfortunately, these models can be somewhat expensive to train, and the free GPU/TPU from colab is not sufficient to train a sequence-to-sequence model on a terribly large/difficult task. So, you will be translating short phrases from English to French using a small dataset comes from [Tatoeba](tatoeba.org).\n",
        "\n",
        "This homework contains example pytorch code that mainly comes from the textbook. There is an analogous mxnet example in the textbook you can use instead."
      ]
    },
    {
      "cell_type": "code",
      "source": [
        "!pip install git+https://github.com/d2l-ai/d2l-en.git matplotlib-inline"
      ],
      "metadata": {
        "colab": {
          "base_uri": "https://localhost:8080/"
        },
        "id": "E07Yv6jzq-ao",
        "outputId": "0154a96c-6f62-4a0a-db29-3d361712c1d1"
      },
      "execution_count": 1,
      "outputs": [
        {
          "output_type": "stream",
          "name": "stdout",
          "text": [
            "Looking in indexes: https://pypi.org/simple, https://us-python.pkg.dev/colab-wheels/public/simple/\n",
            "Collecting git+https://github.com/d2l-ai/d2l-en.git\n",
            "  Cloning https://github.com/d2l-ai/d2l-en.git to /tmp/pip-req-build-8sqk48ma\n",
            "  Running command git clone --filter=blob:none --quiet https://github.com/d2l-ai/d2l-en.git /tmp/pip-req-build-8sqk48ma\n",
            "  Resolved https://github.com/d2l-ai/d2l-en.git to commit f37303e611200cb12e5e04ac5f784e0e37ae3c97\n",
            "  Preparing metadata (setup.py) ... \u001b[?25l\u001b[?25hdone\n",
            "Collecting matplotlib-inline\n",
            "  Downloading matplotlib_inline-0.1.6-py3-none-any.whl (9.4 kB)\n",
            "Collecting jupyter\n",
            "  Downloading jupyter-1.0.0-py2.py3-none-any.whl (2.7 kB)\n",
            "Requirement already satisfied: numpy<=1.23.5 in /usr/local/lib/python3.9/dist-packages (from d2l==1.0.0b0) (1.22.4)\n",
            "Requirement already satisfied: matplotlib in /usr/local/lib/python3.9/dist-packages (from d2l==1.0.0b0) (3.7.1)\n",
            "Requirement already satisfied: requests in /usr/local/lib/python3.9/dist-packages (from d2l==1.0.0b0) (2.27.1)\n",
            "Requirement already satisfied: pandas in /usr/local/lib/python3.9/dist-packages (from d2l==1.0.0b0) (1.4.4)\n",
            "Collecting gym==0.21.0\n",
            "  Downloading gym-0.21.0.tar.gz (1.5 MB)\n",
            "\u001b[2K     \u001b[90m━━━━━━━━━━━━━━━━━━━━━━━━━━━━━━━━━━━━━━━━\u001b[0m \u001b[32m1.5/1.5 MB\u001b[0m \u001b[31m42.7 MB/s\u001b[0m eta \u001b[36m0:00:00\u001b[0m\n",
            "\u001b[?25h  Preparing metadata (setup.py) ... \u001b[?25l\u001b[?25hdone\n",
            "Collecting gpytorch\n",
            "  Downloading gpytorch-1.9.1-py3-none-any.whl (250 kB)\n",
            "\u001b[2K     \u001b[90m━━━━━━━━━━━━━━━━━━━━━━━━━━━━━━━━━━━━━━\u001b[0m \u001b[32m250.9/250.9 KB\u001b[0m \u001b[31m24.4 MB/s\u001b[0m eta \u001b[36m0:00:00\u001b[0m\n",
            "\u001b[?25hRequirement already satisfied: scipy in /usr/local/lib/python3.9/dist-packages (from d2l==1.0.0b0) (1.10.1)\n",
            "Requirement already satisfied: cloudpickle>=1.2.0 in /usr/local/lib/python3.9/dist-packages (from gym==0.21.0->d2l==1.0.0b0) (2.2.1)\n",
            "Requirement already satisfied: traitlets in /usr/local/lib/python3.9/dist-packages (from matplotlib-inline) (5.7.1)\n",
            "Collecting linear-operator>=0.2.0\n",
            "  Downloading linear_operator-0.3.0-py3-none-any.whl (155 kB)\n",
            "\u001b[2K     \u001b[90m━━━━━━━━━━━━━━━━━━━━━━━━━━━━━━━━━━━━━━\u001b[0m \u001b[32m155.6/155.6 KB\u001b[0m \u001b[31m16.5 MB/s\u001b[0m eta \u001b[36m0:00:00\u001b[0m\n",
            "\u001b[?25hRequirement already satisfied: scikit-learn in /usr/local/lib/python3.9/dist-packages (from gpytorch->d2l==1.0.0b0) (1.2.2)\n",
            "Collecting qtconsole\n",
            "  Downloading qtconsole-5.4.1-py3-none-any.whl (120 kB)\n",
            "\u001b[2K     \u001b[90m━━━━━━━━━━━━━━━━━━━━━━━━━━━━━━━━━━━━━━\u001b[0m \u001b[32m120.9/120.9 KB\u001b[0m \u001b[31m14.2 MB/s\u001b[0m eta \u001b[36m0:00:00\u001b[0m\n",
            "\u001b[?25hRequirement already satisfied: notebook in /usr/local/lib/python3.9/dist-packages (from jupyter->d2l==1.0.0b0) (6.5.3)\n",
            "Requirement already satisfied: jupyter-console in /usr/local/lib/python3.9/dist-packages (from jupyter->d2l==1.0.0b0) (6.1.0)\n",
            "Requirement already satisfied: ipykernel in /usr/local/lib/python3.9/dist-packages (from jupyter->d2l==1.0.0b0) (5.3.4)\n",
            "Requirement already satisfied: nbconvert in /usr/local/lib/python3.9/dist-packages (from jupyter->d2l==1.0.0b0) (6.5.4)\n",
            "Requirement already satisfied: ipywidgets in /usr/local/lib/python3.9/dist-packages (from jupyter->d2l==1.0.0b0) (7.7.1)\n",
            "Requirement already satisfied: pyparsing>=2.3.1 in /usr/local/lib/python3.9/dist-packages (from matplotlib->d2l==1.0.0b0) (3.0.9)\n",
            "Requirement already satisfied: pillow>=6.2.0 in /usr/local/lib/python3.9/dist-packages (from matplotlib->d2l==1.0.0b0) (8.4.0)\n",
            "Requirement already satisfied: contourpy>=1.0.1 in /usr/local/lib/python3.9/dist-packages (from matplotlib->d2l==1.0.0b0) (1.0.7)\n",
            "Requirement already satisfied: fonttools>=4.22.0 in /usr/local/lib/python3.9/dist-packages (from matplotlib->d2l==1.0.0b0) (4.39.2)\n",
            "Requirement already satisfied: cycler>=0.10 in /usr/local/lib/python3.9/dist-packages (from matplotlib->d2l==1.0.0b0) (0.11.0)\n",
            "Requirement already satisfied: importlib-resources>=3.2.0 in /usr/local/lib/python3.9/dist-packages (from matplotlib->d2l==1.0.0b0) (5.12.0)\n",
            "Requirement already satisfied: packaging>=20.0 in /usr/local/lib/python3.9/dist-packages (from matplotlib->d2l==1.0.0b0) (23.0)\n",
            "Requirement already satisfied: python-dateutil>=2.7 in /usr/local/lib/python3.9/dist-packages (from matplotlib->d2l==1.0.0b0) (2.8.2)\n",
            "Requirement already satisfied: kiwisolver>=1.0.1 in /usr/local/lib/python3.9/dist-packages (from matplotlib->d2l==1.0.0b0) (1.4.4)\n",
            "Requirement already satisfied: pytz>=2020.1 in /usr/local/lib/python3.9/dist-packages (from pandas->d2l==1.0.0b0) (2022.7.1)\n",
            "Requirement already satisfied: charset-normalizer~=2.0.0 in /usr/local/lib/python3.9/dist-packages (from requests->d2l==1.0.0b0) (2.0.12)\n",
            "Requirement already satisfied: idna<4,>=2.5 in /usr/local/lib/python3.9/dist-packages (from requests->d2l==1.0.0b0) (3.4)\n",
            "Requirement already satisfied: certifi>=2017.4.17 in /usr/local/lib/python3.9/dist-packages (from requests->d2l==1.0.0b0) (2022.12.7)\n",
            "Requirement already satisfied: urllib3<1.27,>=1.21.1 in /usr/local/lib/python3.9/dist-packages (from requests->d2l==1.0.0b0) (1.26.15)\n",
            "Requirement already satisfied: zipp>=3.1.0 in /usr/local/lib/python3.9/dist-packages (from importlib-resources>=3.2.0->matplotlib->d2l==1.0.0b0) (3.15.0)\n",
            "Requirement already satisfied: torch>=1.11 in /usr/local/lib/python3.9/dist-packages (from linear-operator>=0.2.0->gpytorch->d2l==1.0.0b0) (1.13.1+cu116)\n",
            "Requirement already satisfied: six>=1.5 in /usr/local/lib/python3.9/dist-packages (from python-dateutil>=2.7->matplotlib->d2l==1.0.0b0) (1.16.0)\n",
            "Requirement already satisfied: jupyter-client in /usr/local/lib/python3.9/dist-packages (from ipykernel->jupyter->d2l==1.0.0b0) (6.1.12)\n",
            "Requirement already satisfied: tornado>=4.2 in /usr/local/lib/python3.9/dist-packages (from ipykernel->jupyter->d2l==1.0.0b0) (6.2)\n",
            "Requirement already satisfied: ipython>=5.0.0 in /usr/local/lib/python3.9/dist-packages (from ipykernel->jupyter->d2l==1.0.0b0) (7.9.0)\n",
            "Requirement already satisfied: ipython-genutils~=0.2.0 in /usr/local/lib/python3.9/dist-packages (from ipywidgets->jupyter->d2l==1.0.0b0) (0.2.0)\n",
            "Requirement already satisfied: jupyterlab-widgets>=1.0.0 in /usr/local/lib/python3.9/dist-packages (from ipywidgets->jupyter->d2l==1.0.0b0) (3.0.5)\n",
            "Requirement already satisfied: widgetsnbextension~=3.6.0 in /usr/local/lib/python3.9/dist-packages (from ipywidgets->jupyter->d2l==1.0.0b0) (3.6.2)\n",
            "Requirement already satisfied: prompt-toolkit!=3.0.0,!=3.0.1,<3.1.0,>=2.0.0 in /usr/local/lib/python3.9/dist-packages (from jupyter-console->jupyter->d2l==1.0.0b0) (2.0.10)\n",
            "Requirement already satisfied: pygments in /usr/local/lib/python3.9/dist-packages (from jupyter-console->jupyter->d2l==1.0.0b0) (2.6.1)\n",
            "Requirement already satisfied: jupyterlab-pygments in /usr/local/lib/python3.9/dist-packages (from nbconvert->jupyter->d2l==1.0.0b0) (0.2.2)\n",
            "Requirement already satisfied: pandocfilters>=1.4.1 in /usr/local/lib/python3.9/dist-packages (from nbconvert->jupyter->d2l==1.0.0b0) (1.5.0)\n",
            "Requirement already satisfied: lxml in /usr/local/lib/python3.9/dist-packages (from nbconvert->jupyter->d2l==1.0.0b0) (4.9.2)\n",
            "Requirement already satisfied: jinja2>=3.0 in /usr/local/lib/python3.9/dist-packages (from nbconvert->jupyter->d2l==1.0.0b0) (3.1.2)\n",
            "Requirement already satisfied: jupyter-core>=4.7 in /usr/local/lib/python3.9/dist-packages (from nbconvert->jupyter->d2l==1.0.0b0) (5.3.0)\n",
            "Requirement already satisfied: MarkupSafe>=2.0 in /usr/local/lib/python3.9/dist-packages (from nbconvert->jupyter->d2l==1.0.0b0) (2.1.2)\n",
            "Requirement already satisfied: beautifulsoup4 in /usr/local/lib/python3.9/dist-packages (from nbconvert->jupyter->d2l==1.0.0b0) (4.11.2)\n",
            "Requirement already satisfied: entrypoints>=0.2.2 in /usr/local/lib/python3.9/dist-packages (from nbconvert->jupyter->d2l==1.0.0b0) (0.4)\n",
            "Requirement already satisfied: defusedxml in /usr/local/lib/python3.9/dist-packages (from nbconvert->jupyter->d2l==1.0.0b0) (0.7.1)\n",
            "Requirement already satisfied: mistune<2,>=0.8.1 in /usr/local/lib/python3.9/dist-packages (from nbconvert->jupyter->d2l==1.0.0b0) (0.8.4)\n",
            "Requirement already satisfied: nbformat>=5.1 in /usr/local/lib/python3.9/dist-packages (from nbconvert->jupyter->d2l==1.0.0b0) (5.7.3)\n",
            "Requirement already satisfied: tinycss2 in /usr/local/lib/python3.9/dist-packages (from nbconvert->jupyter->d2l==1.0.0b0) (1.2.1)\n",
            "Requirement already satisfied: nbclient>=0.5.0 in /usr/local/lib/python3.9/dist-packages (from nbconvert->jupyter->d2l==1.0.0b0) (0.7.2)\n",
            "Requirement already satisfied: bleach in /usr/local/lib/python3.9/dist-packages (from nbconvert->jupyter->d2l==1.0.0b0) (6.0.0)\n",
            "Requirement already satisfied: pyzmq>=17 in /usr/local/lib/python3.9/dist-packages (from notebook->jupyter->d2l==1.0.0b0) (23.2.1)\n",
            "Requirement already satisfied: prometheus-client in /usr/local/lib/python3.9/dist-packages (from notebook->jupyter->d2l==1.0.0b0) (0.16.0)\n",
            "Requirement already satisfied: Send2Trash>=1.8.0 in /usr/local/lib/python3.9/dist-packages (from notebook->jupyter->d2l==1.0.0b0) (1.8.0)\n",
            "Requirement already satisfied: terminado>=0.8.3 in /usr/local/lib/python3.9/dist-packages (from notebook->jupyter->d2l==1.0.0b0) (0.17.1)\n",
            "Requirement already satisfied: argon2-cffi in /usr/local/lib/python3.9/dist-packages (from notebook->jupyter->d2l==1.0.0b0) (21.3.0)\n",
            "Requirement already satisfied: nest-asyncio>=1.5 in /usr/local/lib/python3.9/dist-packages (from notebook->jupyter->d2l==1.0.0b0) (1.5.6)\n",
            "Requirement already satisfied: nbclassic>=0.4.7 in /usr/local/lib/python3.9/dist-packages (from notebook->jupyter->d2l==1.0.0b0) (0.5.3)\n",
            "Collecting qtpy>=2.0.1\n",
            "  Downloading QtPy-2.3.0-py3-none-any.whl (83 kB)\n",
            "\u001b[2K     \u001b[90m━━━━━━━━━━━━━━━━━━━━━━━━━━━━━━━━━━━━━━━━\u001b[0m \u001b[32m83.6/83.6 KB\u001b[0m \u001b[31m10.1 MB/s\u001b[0m eta \u001b[36m0:00:00\u001b[0m\n",
            "\u001b[?25hRequirement already satisfied: threadpoolctl>=2.0.0 in /usr/local/lib/python3.9/dist-packages (from scikit-learn->gpytorch->d2l==1.0.0b0) (3.1.0)\n",
            "Requirement already satisfied: joblib>=1.1.1 in /usr/local/lib/python3.9/dist-packages (from scikit-learn->gpytorch->d2l==1.0.0b0) (1.1.1)\n",
            "Requirement already satisfied: pexpect in /usr/local/lib/python3.9/dist-packages (from ipython>=5.0.0->ipykernel->jupyter->d2l==1.0.0b0) (4.8.0)\n",
            "Requirement already satisfied: backcall in /usr/local/lib/python3.9/dist-packages (from ipython>=5.0.0->ipykernel->jupyter->d2l==1.0.0b0) (0.2.0)\n",
            "Requirement already satisfied: pickleshare in /usr/local/lib/python3.9/dist-packages (from ipython>=5.0.0->ipykernel->jupyter->d2l==1.0.0b0) (0.7.5)\n",
            "Requirement already satisfied: setuptools>=18.5 in /usr/local/lib/python3.9/dist-packages (from ipython>=5.0.0->ipykernel->jupyter->d2l==1.0.0b0) (63.4.3)\n",
            "Requirement already satisfied: decorator in /usr/local/lib/python3.9/dist-packages (from ipython>=5.0.0->ipykernel->jupyter->d2l==1.0.0b0) (4.4.2)\n",
            "Collecting jedi>=0.10\n",
            "  Downloading jedi-0.18.2-py2.py3-none-any.whl (1.6 MB)\n",
            "\u001b[2K     \u001b[90m━━━━━━━━━━━━━━━━━━━━━━━━━━━━━━━━━━━━━━━━\u001b[0m \u001b[32m1.6/1.6 MB\u001b[0m \u001b[31m64.7 MB/s\u001b[0m eta \u001b[36m0:00:00\u001b[0m\n",
            "\u001b[?25hRequirement already satisfied: platformdirs>=2.5 in /usr/local/lib/python3.9/dist-packages (from jupyter-core>=4.7->nbconvert->jupyter->d2l==1.0.0b0) (3.1.1)\n",
            "Requirement already satisfied: notebook-shim>=0.1.0 in /usr/local/lib/python3.9/dist-packages (from nbclassic>=0.4.7->notebook->jupyter->d2l==1.0.0b0) (0.2.2)\n",
            "Requirement already satisfied: jupyter-server>=1.8 in /usr/local/lib/python3.9/dist-packages (from nbclassic>=0.4.7->notebook->jupyter->d2l==1.0.0b0) (1.23.6)\n",
            "Requirement already satisfied: jsonschema>=2.6 in /usr/local/lib/python3.9/dist-packages (from nbformat>=5.1->nbconvert->jupyter->d2l==1.0.0b0) (4.3.3)\n",
            "Requirement already satisfied: fastjsonschema in /usr/local/lib/python3.9/dist-packages (from nbformat>=5.1->nbconvert->jupyter->d2l==1.0.0b0) (2.16.3)\n",
            "Requirement already satisfied: wcwidth in /usr/local/lib/python3.9/dist-packages (from prompt-toolkit!=3.0.0,!=3.0.1,<3.1.0,>=2.0.0->jupyter-console->jupyter->d2l==1.0.0b0) (0.2.6)\n",
            "Requirement already satisfied: ptyprocess in /usr/local/lib/python3.9/dist-packages (from terminado>=0.8.3->notebook->jupyter->d2l==1.0.0b0) (0.7.0)\n",
            "Requirement already satisfied: typing-extensions in /usr/local/lib/python3.9/dist-packages (from torch>=1.11->linear-operator>=0.2.0->gpytorch->d2l==1.0.0b0) (4.5.0)\n",
            "Requirement already satisfied: argon2-cffi-bindings in /usr/local/lib/python3.9/dist-packages (from argon2-cffi->notebook->jupyter->d2l==1.0.0b0) (21.2.0)\n",
            "Requirement already satisfied: soupsieve>1.2 in /usr/local/lib/python3.9/dist-packages (from beautifulsoup4->nbconvert->jupyter->d2l==1.0.0b0) (2.4)\n",
            "Requirement already satisfied: webencodings in /usr/local/lib/python3.9/dist-packages (from bleach->nbconvert->jupyter->d2l==1.0.0b0) (0.5.1)\n",
            "Requirement already satisfied: parso<0.9.0,>=0.8.0 in /usr/local/lib/python3.9/dist-packages (from jedi>=0.10->ipython>=5.0.0->ipykernel->jupyter->d2l==1.0.0b0) (0.8.3)\n",
            "Requirement already satisfied: attrs>=17.4.0 in /usr/local/lib/python3.9/dist-packages (from jsonschema>=2.6->nbformat>=5.1->nbconvert->jupyter->d2l==1.0.0b0) (22.2.0)\n",
            "Requirement already satisfied: pyrsistent!=0.17.0,!=0.17.1,!=0.17.2,>=0.14.0 in /usr/local/lib/python3.9/dist-packages (from jsonschema>=2.6->nbformat>=5.1->nbconvert->jupyter->d2l==1.0.0b0) (0.19.3)\n",
            "Requirement already satisfied: anyio<4,>=3.1.0 in /usr/local/lib/python3.9/dist-packages (from jupyter-server>=1.8->nbclassic>=0.4.7->notebook->jupyter->d2l==1.0.0b0) (3.6.2)\n",
            "Requirement already satisfied: websocket-client in /usr/local/lib/python3.9/dist-packages (from jupyter-server>=1.8->nbclassic>=0.4.7->notebook->jupyter->d2l==1.0.0b0) (1.5.1)\n",
            "Requirement already satisfied: cffi>=1.0.1 in /usr/local/lib/python3.9/dist-packages (from argon2-cffi-bindings->argon2-cffi->notebook->jupyter->d2l==1.0.0b0) (1.15.1)\n",
            "Requirement already satisfied: sniffio>=1.1 in /usr/local/lib/python3.9/dist-packages (from anyio<4,>=3.1.0->jupyter-server>=1.8->nbclassic>=0.4.7->notebook->jupyter->d2l==1.0.0b0) (1.3.0)\n",
            "Requirement already satisfied: pycparser in /usr/local/lib/python3.9/dist-packages (from cffi>=1.0.1->argon2-cffi-bindings->argon2-cffi->notebook->jupyter->d2l==1.0.0b0) (2.21)\n",
            "Building wheels for collected packages: d2l, gym\n",
            "  Building wheel for d2l (setup.py) ... \u001b[?25l\u001b[?25hdone\n",
            "  Created wheel for d2l: filename=d2l-1.0.0b0-py3-none-any.whl size=111742 sha256=8c6ab37155bbe80ee48469879edea0fd1fcd26034572da53a6655c91df93eb4c\n",
            "  Stored in directory: /tmp/pip-ephem-wheel-cache-88o95vhx/wheels/25/5c/29/30fd109d52e51dac4bae8e31551a6424d7a30086acce530241\n",
            "  \u001b[1;31merror\u001b[0m: \u001b[1msubprocess-exited-with-error\u001b[0m\n",
            "  \n",
            "  \u001b[31m×\u001b[0m \u001b[32mpython setup.py bdist_wheel\u001b[0m did not run successfully.\n",
            "  \u001b[31m│\u001b[0m exit code: \u001b[1;36m1\u001b[0m\n",
            "  \u001b[31m╰─>\u001b[0m See above for output.\n",
            "  \n",
            "  \u001b[1;35mnote\u001b[0m: This error originates from a subprocess, and is likely not a problem with pip.\n",
            "  Building wheel for gym (setup.py) ... \u001b[?25lerror\n",
            "\u001b[31m  ERROR: Failed building wheel for gym\u001b[0m\u001b[31m\n",
            "\u001b[0m\u001b[?25h  Running setup.py clean for gym\n",
            "Successfully built d2l\n",
            "Failed to build gym\n",
            "Installing collected packages: qtpy, matplotlib-inline, jedi, gym, linear-operator, gpytorch, qtconsole, jupyter, d2l\n",
            "  Attempting uninstall: gym\n",
            "    Found existing installation: gym 0.25.2\n",
            "    Uninstalling gym-0.25.2:\n",
            "      Successfully uninstalled gym-0.25.2\n",
            "  Running setup.py install for gym ... \u001b[?25l\u001b[?25hdone\n",
            "\u001b[33m  DEPRECATION: gym was installed using the legacy 'setup.py install' method, because a wheel could not be built for it. A possible replacement is to fix the wheel build issue reported above. Discussion can be found at https://github.com/pypa/pip/issues/8368\u001b[0m\u001b[33m\n",
            "\u001b[0mSuccessfully installed d2l-1.0.0b0 gpytorch-1.9.1 gym-0.21.0 jedi-0.18.2 jupyter-1.0.0 linear-operator-0.3.0 matplotlib-inline-0.1.6 qtconsole-5.4.1 qtpy-2.3.0\n"
          ]
        }
      ]
    },
    {
      "cell_type": "code",
      "metadata": {
        "id": "-Ldp-XktrhCl"
      },
      "source": [
        "import collections\n",
        "import math\n",
        "import torch\n",
        "from torch import nn\n",
        "from torch.nn import functional as F\n",
        "from d2l import torch as d2l\n",
        "import time\n",
        "import matplotlib.pyplot as plt"
      ],
      "execution_count": 2,
      "outputs": []
    },
    {
      "cell_type": "markdown",
      "metadata": {
        "id": "m2TnrCXJsaxx"
      },
      "source": [
        "# Example sequence-to-sequence model implementation"
      ]
    },
    {
      "cell_type": "code",
      "source": [
        "def init_seq2seq(module):\n",
        "    \"\"\"Initialize weights for Seq2Seq.\"\"\"\n",
        "    if type(module) == nn.Linear:\n",
        "         nn.init.xavier_uniform_(module.weight)\n",
        "    if type(module) == nn.GRU:\n",
        "        for param in module._flat_weights_names:\n",
        "            if \"weight\" in param:\n",
        "                nn.init.xavier_uniform_(module._parameters[param])\n",
        "\n",
        "class Seq2SeqEncoder(d2l.Encoder):\n",
        "    \"\"\"The RNN encoder for sequence to sequence learning.\"\"\"\n",
        "    def __init__(self, vocab_size, embed_size, num_hiddens, num_layers,\n",
        "                 dropout=0):\n",
        "        super().__init__()\n",
        "        self.embedding = nn.Embedding(vocab_size, embed_size)\n",
        "        self.rnn = d2l.GRU(embed_size, num_hiddens, num_layers, dropout)\n",
        "        self.apply(init_seq2seq)\n",
        "\n",
        "    def forward(self, X, *args):\n",
        "        # X shape: (batch_size, num_steps)\n",
        "        embs = self.embedding(X.t().type(torch.int64))\n",
        "        # embs shape: (num_steps, batch_size, embed_size)\n",
        "        outputs, state = self.rnn(embs)\n",
        "        # outputs shape: (num_steps, batch_size, num_hiddens)\n",
        "        # state shape: (num_layers, batch_size, num_hiddens)\n",
        "        return outputs, state\n",
        "\n",
        "class Seq2SeqDecoder(d2l.Decoder):\n",
        "    \"\"\"The RNN decoder for sequence to sequence learning.\"\"\"\n",
        "    def __init__(self, vocab_size, embed_size, num_hiddens, num_layers,\n",
        "                 dropout=0):\n",
        "        super().__init__()\n",
        "        self.embedding = nn.Embedding(vocab_size, embed_size)\n",
        "        self.rnn = d2l.GRU(embed_size+num_hiddens, num_hiddens,\n",
        "                           num_layers)\n",
        "        self.dense = nn.LazyLinear(vocab_size)\n",
        "        self.apply(init_seq2seq)\n",
        "\n",
        "    def init_state(self, enc_all_outputs, *args):\n",
        "        return enc_all_outputs\n",
        "\n",
        "    def forward(self, X, state):\n",
        "        # X shape: (batch_size, num_steps)\n",
        "        # embs shape: (num_steps, batch_size, embed_size)\n",
        "        embs = self.embedding(X.t().type(torch.int32))\n",
        "        enc_output, hidden_state = state\n",
        "        # context shape: (batch_size, num_hiddens)\n",
        "        context = enc_output[-1]\n",
        "        # Broadcast context to (num_steps, batch_size, num_hiddens)\n",
        "        context = context.repeat(embs.shape[0], 1, 1)\n",
        "        # Concat at the feature dimension\n",
        "        embs_and_context = torch.cat((embs, context), -1)\n",
        "        outputs, hidden_state = self.rnn(embs_and_context, hidden_state)\n",
        "        outputs = self.dense(outputs).swapaxes(0, 1)\n",
        "        # outputs shape: (batch_size, num_steps, vocab_size)\n",
        "        # hidden_state shape: (num_layers, batch_size, num_hiddens)\n",
        "        return outputs, [enc_output, hidden_state]\n",
        "\n",
        "class Seq2Seq(d2l.EncoderDecoder):\n",
        "    \"\"\"The RNN encoder-decoder for sequence to sequence learning.\"\"\"\n",
        "    def __init__(self, encoder, decoder, tgt_pad, lr):\n",
        "        super().__init__(encoder, decoder)\n",
        "        self.save_hyperparameters()\n",
        "\n",
        "    def validation_step(self, batch):\n",
        "        Y_hat = self(*batch[:-1])\n",
        "        self.plot('loss', self.loss(Y_hat, batch[-1]), train=False)\n",
        "\n",
        "    def configure_optimizers(self):\n",
        "        # Adam optimizer is used here\n",
        "        return torch.optim.Adam(self.parameters(), lr=self.lr)\n",
        "\n",
        "    def loss(self, Y_hat, Y):\n",
        "        l = super(Seq2Seq, self).loss(Y_hat, Y, averaged=False)\n",
        "        mask = (Y.reshape(-1) != self.tgt_pad).type(torch.float32)\n",
        "        return (l * mask).sum() / mask.sum()\n",
        "\n",
        "    def predict_step(self, batch, device, num_steps,\n",
        "                    save_attention_weights=False):\n",
        "        batch = [a.to(device) for a in batch]\n",
        "        src, tgt, src_valid_len, _ = batch\n",
        "        enc_all_outputs = self.encoder(src, src_valid_len)\n",
        "        dec_state = self.decoder.init_state(enc_all_outputs, src_valid_len)\n",
        "        outputs, attention_weights = [tgt[:, 0].unsqueeze(1), ], []\n",
        "        for _ in range(num_steps):\n",
        "            Y, dec_state = self.decoder(outputs[-1], dec_state)\n",
        "            outputs.append(Y.argmax(2))\n",
        "            # Save attention weights (to be covered later)\n",
        "            if save_attention_weights:\n",
        "                attention_weights.append(self.decoder.attention_weights)\n",
        "        return torch.cat(outputs[1:], 1), attention_weights\n",
        "\n",
        "def bleu(pred_seq, label_seq, k):\n",
        "    \"\"\"Compute the BLEU.\"\"\"\n",
        "    pred_tokens, label_tokens = pred_seq.split(' '), label_seq.split(' ')\n",
        "    len_pred, len_label = len(pred_tokens), len(label_tokens)\n",
        "    score = math.exp(min(0, 1 - len_label / len_pred))\n",
        "    for n in range(1, min(k, len_pred) + 1):\n",
        "        num_matches, label_subs = 0, collections.defaultdict(int)\n",
        "        for i in range(len_label - n + 1):\n",
        "            label_subs[' '.join(label_tokens[i: i + n])] += 1\n",
        "        for i in range(len_pred - n + 1):\n",
        "            if label_subs[' '.join(pred_tokens[i: i + n])] > 0:\n",
        "                num_matches += 1\n",
        "                label_subs[' '.join(pred_tokens[i: i + n])] -= 1\n",
        "        score *= math.pow(num_matches / (len_pred - n + 1), math.pow(0.5, n))\n",
        "    return score\n",
        "\n",
        "vocab_size, embed_size, num_hiddens, num_layers = 10, 8, 16, 2\n",
        "batch_size, num_steps = 4, 9\n",
        "encoder = Seq2SeqEncoder(vocab_size, embed_size, num_hiddens, num_layers)\n",
        "X = torch.zeros((batch_size, num_steps))\n",
        "enc_outputs, enc_state = encoder(X)\n",
        "decoder = Seq2SeqDecoder(vocab_size, embed_size, num_hiddens, num_layers)\n",
        "state = decoder.init_state(encoder(X))\n",
        "dec_outputs, state = decoder(X, state)\n",
        "\n",
        "data = d2l.MTFraEng(batch_size=128)\n",
        "embed_size, num_hiddens, num_layers, dropout = 256, 256, 2, 0.2\n",
        "encoder = Seq2SeqEncoder(\n",
        "    len(data.src_vocab), embed_size, num_hiddens, num_layers, dropout)\n",
        "decoder = Seq2SeqDecoder(\n",
        "    len(data.tgt_vocab), embed_size, num_hiddens, num_layers, dropout)\n",
        "model = Seq2Seq(encoder, decoder, tgt_pad=data.tgt_vocab['<pad>'],\n",
        "                lr=0.005)\n",
        "trainer = d2l.Trainer(max_epochs=30, gradient_clip_val=1, num_gpus=1)\n",
        "trainer.fit(model, data)\n",
        "\n",
        "engs = ['go .', 'i lost .', 'he\\'s calm .', 'i\\'m home .']\n",
        "fras = ['va !', 'j\\'ai perdu .', 'il est calme .', 'je suis chez moi .']\n",
        "preds, _ = model.predict_step(\n",
        "    data.build(engs, fras), d2l.try_gpu(), data.num_steps)\n",
        "for en, fr, p in zip(engs, fras, preds):\n",
        "    translation = []\n",
        "    for token in data.tgt_vocab.to_tokens(p):\n",
        "        if token == '<eos>':\n",
        "            break\n",
        "        translation.append(token)\n",
        "    print(f'{en} => {translation}, bleu,'\n",
        "          f'{bleu(\" \".join(translation), fr, k=2):.3f}')"
      ],
      "metadata": {
        "colab": {
          "base_uri": "https://localhost:8080/",
          "height": 332
        },
        "id": "x3zIcpciWPXF",
        "outputId": "57c40fe7-3a3c-4d9d-f665-05e730764c7b"
      },
      "execution_count": 3,
      "outputs": [
        {
          "output_type": "stream",
          "name": "stdout",
          "text": [
            "go . => ['va', '!'], bleu,1.000\n",
            "i lost . => [\"j'ai\", 'perdu', '.'], bleu,1.000\n",
            "he's calm . => ['sois', 'calme', '.'], bleu,0.492\n",
            "i'm home . => ['je', 'suis', 'chez', 'moi', '.'], bleu,1.000\n"
          ]
        },
        {
          "output_type": "display_data",
          "data": {
            "text/plain": [
              "<Figure size 252x180 with 1 Axes>"
            ],
            "image/svg+xml": "<?xml version=\"1.0\" encoding=\"utf-8\" standalone=\"no\"?>\n<!DOCTYPE svg PUBLIC \"-//W3C//DTD SVG 1.1//EN\"\n  \"http://www.w3.org/Graphics/SVG/1.1/DTD/svg11.dtd\">\n<svg xmlns:xlink=\"http://www.w3.org/1999/xlink\" width=\"229.425pt\" height=\"180.65625pt\" viewBox=\"0 0 229.425 180.65625\" xmlns=\"http://www.w3.org/2000/svg\" version=\"1.1\">\n <metadata>\n  <rdf:RDF xmlns:dc=\"http://purl.org/dc/elements/1.1/\" xmlns:cc=\"http://creativecommons.org/ns#\" xmlns:rdf=\"http://www.w3.org/1999/02/22-rdf-syntax-ns#\">\n   <cc:Work>\n    <dc:type rdf:resource=\"http://purl.org/dc/dcmitype/StillImage\"/>\n    <dc:date>2023-03-22T03:26:55.281742</dc:date>\n    <dc:format>image/svg+xml</dc:format>\n    <dc:creator>\n     <cc:Agent>\n      <dc:title>Matplotlib v3.7.1, https://matplotlib.org/</dc:title>\n     </cc:Agent>\n    </dc:creator>\n   </cc:Work>\n  </rdf:RDF>\n </metadata>\n <defs>\n  <style type=\"text/css\">*{stroke-linejoin: round; stroke-linecap: butt}</style>\n </defs>\n <g id=\"figure_1\">\n  <g id=\"patch_1\">\n   <path d=\"M 0 180.65625 \nL 229.425 180.65625 \nL 229.425 0 \nL 0 0 \nL 0 180.65625 \nz\n\" style=\"fill: none\"/>\n  </g>\n  <g id=\"axes_1\">\n   <g id=\"patch_2\">\n    <path d=\"M 20.5625 143.1 \nL 215.8625 143.1 \nL 215.8625 7.2 \nL 20.5625 7.2 \nz\n\" style=\"fill: #ffffff\"/>\n   </g>\n   <g id=\"matplotlib.axis_1\">\n    <g id=\"xtick_1\">\n     <g id=\"line2d_1\">\n      <defs>\n       <path id=\"m13dd98d3de\" d=\"M 0 0 \nL 0 3.5 \n\" style=\"stroke: #000000; stroke-width: 0.8\"/>\n      </defs>\n      <g>\n       <use xlink:href=\"#m13dd98d3de\" x=\"20.5625\" y=\"143.1\" style=\"stroke: #000000; stroke-width: 0.8\"/>\n      </g>\n     </g>\n     <g id=\"text_1\">\n      <!-- 0 -->\n      <g transform=\"translate(17.38125 157.698438) scale(0.1 -0.1)\">\n       <defs>\n        <path id=\"DejaVuSans-30\" d=\"M 2034 4250 \nQ 1547 4250 1301 3770 \nQ 1056 3291 1056 2328 \nQ 1056 1369 1301 889 \nQ 1547 409 2034 409 \nQ 2525 409 2770 889 \nQ 3016 1369 3016 2328 \nQ 3016 3291 2770 3770 \nQ 2525 4250 2034 4250 \nz\nM 2034 4750 \nQ 2819 4750 3233 4129 \nQ 3647 3509 3647 2328 \nQ 3647 1150 3233 529 \nQ 2819 -91 2034 -91 \nQ 1250 -91 836 529 \nQ 422 1150 422 2328 \nQ 422 3509 836 4129 \nQ 1250 4750 2034 4750 \nz\n\" transform=\"scale(0.015625)\"/>\n       </defs>\n       <use xlink:href=\"#DejaVuSans-30\"/>\n      </g>\n     </g>\n    </g>\n    <g id=\"xtick_2\">\n     <g id=\"line2d_2\">\n      <g>\n       <use xlink:href=\"#m13dd98d3de\" x=\"53.1125\" y=\"143.1\" style=\"stroke: #000000; stroke-width: 0.8\"/>\n      </g>\n     </g>\n     <g id=\"text_2\">\n      <!-- 5 -->\n      <g transform=\"translate(49.93125 157.698438) scale(0.1 -0.1)\">\n       <defs>\n        <path id=\"DejaVuSans-35\" d=\"M 691 4666 \nL 3169 4666 \nL 3169 4134 \nL 1269 4134 \nL 1269 2991 \nQ 1406 3038 1543 3061 \nQ 1681 3084 1819 3084 \nQ 2600 3084 3056 2656 \nQ 3513 2228 3513 1497 \nQ 3513 744 3044 326 \nQ 2575 -91 1722 -91 \nQ 1428 -91 1123 -41 \nQ 819 9 494 109 \nL 494 744 \nQ 775 591 1075 516 \nQ 1375 441 1709 441 \nQ 2250 441 2565 725 \nQ 2881 1009 2881 1497 \nQ 2881 1984 2565 2268 \nQ 2250 2553 1709 2553 \nQ 1456 2553 1204 2497 \nQ 953 2441 691 2322 \nL 691 4666 \nz\n\" transform=\"scale(0.015625)\"/>\n       </defs>\n       <use xlink:href=\"#DejaVuSans-35\"/>\n      </g>\n     </g>\n    </g>\n    <g id=\"xtick_3\">\n     <g id=\"line2d_3\">\n      <g>\n       <use xlink:href=\"#m13dd98d3de\" x=\"85.6625\" y=\"143.1\" style=\"stroke: #000000; stroke-width: 0.8\"/>\n      </g>\n     </g>\n     <g id=\"text_3\">\n      <!-- 10 -->\n      <g transform=\"translate(79.3 157.698438) scale(0.1 -0.1)\">\n       <defs>\n        <path id=\"DejaVuSans-31\" d=\"M 794 531 \nL 1825 531 \nL 1825 4091 \nL 703 3866 \nL 703 4441 \nL 1819 4666 \nL 2450 4666 \nL 2450 531 \nL 3481 531 \nL 3481 0 \nL 794 0 \nL 794 531 \nz\n\" transform=\"scale(0.015625)\"/>\n       </defs>\n       <use xlink:href=\"#DejaVuSans-31\"/>\n       <use xlink:href=\"#DejaVuSans-30\" x=\"63.623047\"/>\n      </g>\n     </g>\n    </g>\n    <g id=\"xtick_4\">\n     <g id=\"line2d_4\">\n      <g>\n       <use xlink:href=\"#m13dd98d3de\" x=\"118.2125\" y=\"143.1\" style=\"stroke: #000000; stroke-width: 0.8\"/>\n      </g>\n     </g>\n     <g id=\"text_4\">\n      <!-- 15 -->\n      <g transform=\"translate(111.85 157.698438) scale(0.1 -0.1)\">\n       <use xlink:href=\"#DejaVuSans-31\"/>\n       <use xlink:href=\"#DejaVuSans-35\" x=\"63.623047\"/>\n      </g>\n     </g>\n    </g>\n    <g id=\"xtick_5\">\n     <g id=\"line2d_5\">\n      <g>\n       <use xlink:href=\"#m13dd98d3de\" x=\"150.7625\" y=\"143.1\" style=\"stroke: #000000; stroke-width: 0.8\"/>\n      </g>\n     </g>\n     <g id=\"text_5\">\n      <!-- 20 -->\n      <g transform=\"translate(144.4 157.698438) scale(0.1 -0.1)\">\n       <defs>\n        <path id=\"DejaVuSans-32\" d=\"M 1228 531 \nL 3431 531 \nL 3431 0 \nL 469 0 \nL 469 531 \nQ 828 903 1448 1529 \nQ 2069 2156 2228 2338 \nQ 2531 2678 2651 2914 \nQ 2772 3150 2772 3378 \nQ 2772 3750 2511 3984 \nQ 2250 4219 1831 4219 \nQ 1534 4219 1204 4116 \nQ 875 4013 500 3803 \nL 500 4441 \nQ 881 4594 1212 4672 \nQ 1544 4750 1819 4750 \nQ 2544 4750 2975 4387 \nQ 3406 4025 3406 3419 \nQ 3406 3131 3298 2873 \nQ 3191 2616 2906 2266 \nQ 2828 2175 2409 1742 \nQ 1991 1309 1228 531 \nz\n\" transform=\"scale(0.015625)\"/>\n       </defs>\n       <use xlink:href=\"#DejaVuSans-32\"/>\n       <use xlink:href=\"#DejaVuSans-30\" x=\"63.623047\"/>\n      </g>\n     </g>\n    </g>\n    <g id=\"xtick_6\">\n     <g id=\"line2d_6\">\n      <g>\n       <use xlink:href=\"#m13dd98d3de\" x=\"183.3125\" y=\"143.1\" style=\"stroke: #000000; stroke-width: 0.8\"/>\n      </g>\n     </g>\n     <g id=\"text_6\">\n      <!-- 25 -->\n      <g transform=\"translate(176.95 157.698438) scale(0.1 -0.1)\">\n       <use xlink:href=\"#DejaVuSans-32\"/>\n       <use xlink:href=\"#DejaVuSans-35\" x=\"63.623047\"/>\n      </g>\n     </g>\n    </g>\n    <g id=\"xtick_7\">\n     <g id=\"line2d_7\">\n      <g>\n       <use xlink:href=\"#m13dd98d3de\" x=\"215.8625\" y=\"143.1\" style=\"stroke: #000000; stroke-width: 0.8\"/>\n      </g>\n     </g>\n     <g id=\"text_7\">\n      <!-- 30 -->\n      <g transform=\"translate(209.5 157.698438) scale(0.1 -0.1)\">\n       <defs>\n        <path id=\"DejaVuSans-33\" d=\"M 2597 2516 \nQ 3050 2419 3304 2112 \nQ 3559 1806 3559 1356 \nQ 3559 666 3084 287 \nQ 2609 -91 1734 -91 \nQ 1441 -91 1130 -33 \nQ 819 25 488 141 \nL 488 750 \nQ 750 597 1062 519 \nQ 1375 441 1716 441 \nQ 2309 441 2620 675 \nQ 2931 909 2931 1356 \nQ 2931 1769 2642 2001 \nQ 2353 2234 1838 2234 \nL 1294 2234 \nL 1294 2753 \nL 1863 2753 \nQ 2328 2753 2575 2939 \nQ 2822 3125 2822 3475 \nQ 2822 3834 2567 4026 \nQ 2313 4219 1838 4219 \nQ 1578 4219 1281 4162 \nQ 984 4106 628 3988 \nL 628 4550 \nQ 988 4650 1302 4700 \nQ 1616 4750 1894 4750 \nQ 2613 4750 3031 4423 \nQ 3450 4097 3450 3541 \nQ 3450 3153 3228 2886 \nQ 3006 2619 2597 2516 \nz\n\" transform=\"scale(0.015625)\"/>\n       </defs>\n       <use xlink:href=\"#DejaVuSans-33\"/>\n       <use xlink:href=\"#DejaVuSans-30\" x=\"63.623047\"/>\n      </g>\n     </g>\n    </g>\n    <g id=\"text_8\">\n     <!-- epoch -->\n     <g transform=\"translate(102.984375 171.376563) scale(0.1 -0.1)\">\n      <defs>\n       <path id=\"DejaVuSans-65\" d=\"M 3597 1894 \nL 3597 1613 \nL 953 1613 \nQ 991 1019 1311 708 \nQ 1631 397 2203 397 \nQ 2534 397 2845 478 \nQ 3156 559 3463 722 \nL 3463 178 \nQ 3153 47 2828 -22 \nQ 2503 -91 2169 -91 \nQ 1331 -91 842 396 \nQ 353 884 353 1716 \nQ 353 2575 817 3079 \nQ 1281 3584 2069 3584 \nQ 2775 3584 3186 3129 \nQ 3597 2675 3597 1894 \nz\nM 3022 2063 \nQ 3016 2534 2758 2815 \nQ 2500 3097 2075 3097 \nQ 1594 3097 1305 2825 \nQ 1016 2553 972 2059 \nL 3022 2063 \nz\n\" transform=\"scale(0.015625)\"/>\n       <path id=\"DejaVuSans-70\" d=\"M 1159 525 \nL 1159 -1331 \nL 581 -1331 \nL 581 3500 \nL 1159 3500 \nL 1159 2969 \nQ 1341 3281 1617 3432 \nQ 1894 3584 2278 3584 \nQ 2916 3584 3314 3078 \nQ 3713 2572 3713 1747 \nQ 3713 922 3314 415 \nQ 2916 -91 2278 -91 \nQ 1894 -91 1617 61 \nQ 1341 213 1159 525 \nz\nM 3116 1747 \nQ 3116 2381 2855 2742 \nQ 2594 3103 2138 3103 \nQ 1681 3103 1420 2742 \nQ 1159 2381 1159 1747 \nQ 1159 1113 1420 752 \nQ 1681 391 2138 391 \nQ 2594 391 2855 752 \nQ 3116 1113 3116 1747 \nz\n\" transform=\"scale(0.015625)\"/>\n       <path id=\"DejaVuSans-6f\" d=\"M 1959 3097 \nQ 1497 3097 1228 2736 \nQ 959 2375 959 1747 \nQ 959 1119 1226 758 \nQ 1494 397 1959 397 \nQ 2419 397 2687 759 \nQ 2956 1122 2956 1747 \nQ 2956 2369 2687 2733 \nQ 2419 3097 1959 3097 \nz\nM 1959 3584 \nQ 2709 3584 3137 3096 \nQ 3566 2609 3566 1747 \nQ 3566 888 3137 398 \nQ 2709 -91 1959 -91 \nQ 1206 -91 779 398 \nQ 353 888 353 1747 \nQ 353 2609 779 3096 \nQ 1206 3584 1959 3584 \nz\n\" transform=\"scale(0.015625)\"/>\n       <path id=\"DejaVuSans-63\" d=\"M 3122 3366 \nL 3122 2828 \nQ 2878 2963 2633 3030 \nQ 2388 3097 2138 3097 \nQ 1578 3097 1268 2742 \nQ 959 2388 959 1747 \nQ 959 1106 1268 751 \nQ 1578 397 2138 397 \nQ 2388 397 2633 464 \nQ 2878 531 3122 666 \nL 3122 134 \nQ 2881 22 2623 -34 \nQ 2366 -91 2075 -91 \nQ 1284 -91 818 406 \nQ 353 903 353 1747 \nQ 353 2603 823 3093 \nQ 1294 3584 2113 3584 \nQ 2378 3584 2631 3529 \nQ 2884 3475 3122 3366 \nz\n\" transform=\"scale(0.015625)\"/>\n       <path id=\"DejaVuSans-68\" d=\"M 3513 2113 \nL 3513 0 \nL 2938 0 \nL 2938 2094 \nQ 2938 2591 2744 2837 \nQ 2550 3084 2163 3084 \nQ 1697 3084 1428 2787 \nQ 1159 2491 1159 1978 \nL 1159 0 \nL 581 0 \nL 581 4863 \nL 1159 4863 \nL 1159 2956 \nQ 1366 3272 1645 3428 \nQ 1925 3584 2291 3584 \nQ 2894 3584 3203 3211 \nQ 3513 2838 3513 2113 \nz\n\" transform=\"scale(0.015625)\"/>\n      </defs>\n      <use xlink:href=\"#DejaVuSans-65\"/>\n      <use xlink:href=\"#DejaVuSans-70\" x=\"61.523438\"/>\n      <use xlink:href=\"#DejaVuSans-6f\" x=\"125\"/>\n      <use xlink:href=\"#DejaVuSans-63\" x=\"186.181641\"/>\n      <use xlink:href=\"#DejaVuSans-68\" x=\"241.162109\"/>\n     </g>\n    </g>\n   </g>\n   <g id=\"matplotlib.axis_2\">\n    <g id=\"ytick_1\">\n     <g id=\"line2d_8\">\n      <defs>\n       <path id=\"m8d16ccc298\" d=\"M 0 0 \nL -3.5 0 \n\" style=\"stroke: #000000; stroke-width: 0.8\"/>\n      </defs>\n      <g>\n       <use xlink:href=\"#m8d16ccc298\" x=\"20.5625\" y=\"142.290052\" style=\"stroke: #000000; stroke-width: 0.8\"/>\n      </g>\n     </g>\n     <g id=\"text_9\">\n      <!-- 0 -->\n      <g transform=\"translate(7.2 146.08927) scale(0.1 -0.1)\">\n       <use xlink:href=\"#DejaVuSans-30\"/>\n      </g>\n     </g>\n    </g>\n    <g id=\"ytick_2\">\n     <g id=\"line2d_9\">\n      <g>\n       <use xlink:href=\"#m8d16ccc298\" x=\"20.5625\" y=\"114.915964\" style=\"stroke: #000000; stroke-width: 0.8\"/>\n      </g>\n     </g>\n     <g id=\"text_10\">\n      <!-- 1 -->\n      <g transform=\"translate(7.2 118.715183) scale(0.1 -0.1)\">\n       <use xlink:href=\"#DejaVuSans-31\"/>\n      </g>\n     </g>\n    </g>\n    <g id=\"ytick_3\">\n     <g id=\"line2d_10\">\n      <g>\n       <use xlink:href=\"#m8d16ccc298\" x=\"20.5625\" y=\"87.541876\" style=\"stroke: #000000; stroke-width: 0.8\"/>\n      </g>\n     </g>\n     <g id=\"text_11\">\n      <!-- 2 -->\n      <g transform=\"translate(7.2 91.341095) scale(0.1 -0.1)\">\n       <use xlink:href=\"#DejaVuSans-32\"/>\n      </g>\n     </g>\n    </g>\n    <g id=\"ytick_4\">\n     <g id=\"line2d_11\">\n      <g>\n       <use xlink:href=\"#m8d16ccc298\" x=\"20.5625\" y=\"60.167789\" style=\"stroke: #000000; stroke-width: 0.8\"/>\n      </g>\n     </g>\n     <g id=\"text_12\">\n      <!-- 3 -->\n      <g transform=\"translate(7.2 63.967008) scale(0.1 -0.1)\">\n       <use xlink:href=\"#DejaVuSans-33\"/>\n      </g>\n     </g>\n    </g>\n    <g id=\"ytick_5\">\n     <g id=\"line2d_12\">\n      <g>\n       <use xlink:href=\"#m8d16ccc298\" x=\"20.5625\" y=\"32.793701\" style=\"stroke: #000000; stroke-width: 0.8\"/>\n      </g>\n     </g>\n     <g id=\"text_13\">\n      <!-- 4 -->\n      <g transform=\"translate(7.2 36.59292) scale(0.1 -0.1)\">\n       <defs>\n        <path id=\"DejaVuSans-34\" d=\"M 2419 4116 \nL 825 1625 \nL 2419 1625 \nL 2419 4116 \nz\nM 2253 4666 \nL 3047 4666 \nL 3047 1625 \nL 3713 1625 \nL 3713 1100 \nL 3047 1100 \nL 3047 0 \nL 2419 0 \nL 2419 1100 \nL 313 1100 \nL 313 1709 \nL 2253 4666 \nz\n\" transform=\"scale(0.015625)\"/>\n       </defs>\n       <use xlink:href=\"#DejaVuSans-34\"/>\n      </g>\n     </g>\n    </g>\n   </g>\n   <g id=\"line2d_13\">\n    <path d=\"M 21.37625 13.377273 \n\" clip-path=\"url(#p692c2b73d0)\" style=\"fill: none; stroke: #1f77b4; stroke-width: 1.5; stroke-linecap: square\"/>\n   </g>\n   <g id=\"line2d_14\">\n    <path d=\"M 21.37625 13.377273 \nL 24.63125 52.950961 \n\" clip-path=\"url(#p692c2b73d0)\" style=\"fill: none; stroke: #1f77b4; stroke-width: 1.5; stroke-linecap: square\"/>\n   </g>\n   <g id=\"line2d_15\">\n    <path d=\"M 21.37625 13.377273 \nL 24.63125 52.950961 \n\" clip-path=\"url(#p692c2b73d0)\" style=\"fill: none; stroke: #1f77b4; stroke-width: 1.5; stroke-linecap: square\"/>\n   </g>\n   <g id=\"line2d_16\">\n    <path d=\"M 27.0725 50.268038 \n\" clip-path=\"url(#p692c2b73d0)\" style=\"fill: none; stroke-dasharray: 5.55,2.4; stroke-dashoffset: 0; stroke: #ff7f0e; stroke-width: 1.5\"/>\n   </g>\n   <g id=\"line2d_17\">\n    <path d=\"M 21.37625 13.377273 \nL 24.63125 52.950961 \nL 27.88625 61.930545 \n\" clip-path=\"url(#p692c2b73d0)\" style=\"fill: none; stroke: #1f77b4; stroke-width: 1.5; stroke-linecap: square\"/>\n   </g>\n   <g id=\"line2d_18\">\n    <path d=\"M 27.0725 50.268038 \n\" clip-path=\"url(#p692c2b73d0)\" style=\"fill: none; stroke-dasharray: 5.55,2.4; stroke-dashoffset: 0; stroke: #ff7f0e; stroke-width: 1.5\"/>\n   </g>\n   <g id=\"line2d_19\">\n    <path d=\"M 21.37625 13.377273 \nL 24.63125 52.950961 \nL 27.88625 61.930545 \nL 31.14125 68.311623 \n\" clip-path=\"url(#p692c2b73d0)\" style=\"fill: none; stroke: #1f77b4; stroke-width: 1.5; stroke-linecap: square\"/>\n   </g>\n   <g id=\"line2d_20\">\n    <path d=\"M 27.0725 50.268038 \n\" clip-path=\"url(#p692c2b73d0)\" style=\"fill: none; stroke-dasharray: 5.55,2.4; stroke-dashoffset: 0; stroke: #ff7f0e; stroke-width: 1.5\"/>\n   </g>\n   <g id=\"line2d_21\">\n    <path d=\"M 21.37625 13.377273 \nL 24.63125 52.950961 \nL 27.88625 61.930545 \nL 31.14125 68.311623 \n\" clip-path=\"url(#p692c2b73d0)\" style=\"fill: none; stroke: #1f77b4; stroke-width: 1.5; stroke-linecap: square\"/>\n   </g>\n   <g id=\"line2d_22\">\n    <path d=\"M 27.0725 50.268038 \nL 33.5825 56.645213 \n\" clip-path=\"url(#p692c2b73d0)\" style=\"fill: none; stroke-dasharray: 5.55,2.4; stroke-dashoffset: 0; stroke: #ff7f0e; stroke-width: 1.5\"/>\n   </g>\n   <g id=\"line2d_23\">\n    <path d=\"M 21.37625 13.377273 \nL 24.63125 52.950961 \nL 27.88625 61.930545 \nL 31.14125 68.311623 \nL 34.39625 77.346665 \n\" clip-path=\"url(#p692c2b73d0)\" style=\"fill: none; stroke: #1f77b4; stroke-width: 1.5; stroke-linecap: square\"/>\n   </g>\n   <g id=\"line2d_24\">\n    <path d=\"M 27.0725 50.268038 \nL 33.5825 56.645213 \n\" clip-path=\"url(#p692c2b73d0)\" style=\"fill: none; stroke-dasharray: 5.55,2.4; stroke-dashoffset: 0; stroke: #ff7f0e; stroke-width: 1.5\"/>\n   </g>\n   <g id=\"line2d_25\">\n    <path d=\"M 21.37625 13.377273 \nL 24.63125 52.950961 \nL 27.88625 61.930545 \nL 31.14125 68.311623 \nL 34.39625 77.346665 \nL 37.65125 77.422702 \n\" clip-path=\"url(#p692c2b73d0)\" style=\"fill: none; stroke: #1f77b4; stroke-width: 1.5; stroke-linecap: square\"/>\n   </g>\n   <g id=\"line2d_26\">\n    <path d=\"M 27.0725 50.268038 \nL 33.5825 56.645213 \n\" clip-path=\"url(#p692c2b73d0)\" style=\"fill: none; stroke-dasharray: 5.55,2.4; stroke-dashoffset: 0; stroke: #ff7f0e; stroke-width: 1.5\"/>\n   </g>\n   <g id=\"line2d_27\">\n    <path d=\"M 21.37625 13.377273 \nL 24.63125 52.950961 \nL 27.88625 61.930545 \nL 31.14125 68.311623 \nL 34.39625 77.346665 \nL 37.65125 77.422702 \n\" clip-path=\"url(#p692c2b73d0)\" style=\"fill: none; stroke: #1f77b4; stroke-width: 1.5; stroke-linecap: square\"/>\n   </g>\n   <g id=\"line2d_28\">\n    <path d=\"M 27.0725 50.268038 \nL 33.5825 56.645213 \nL 40.0925 61.08434 \n\" clip-path=\"url(#p692c2b73d0)\" style=\"fill: none; stroke-dasharray: 5.55,2.4; stroke-dashoffset: 0; stroke: #ff7f0e; stroke-width: 1.5\"/>\n   </g>\n   <g id=\"line2d_29\">\n    <path d=\"M 21.37625 13.377273 \nL 24.63125 52.950961 \nL 27.88625 61.930545 \nL 31.14125 68.311623 \nL 34.39625 77.346665 \nL 37.65125 77.422702 \nL 40.90625 86.051396 \n\" clip-path=\"url(#p692c2b73d0)\" style=\"fill: none; stroke: #1f77b4; stroke-width: 1.5; stroke-linecap: square\"/>\n   </g>\n   <g id=\"line2d_30\">\n    <path d=\"M 27.0725 50.268038 \nL 33.5825 56.645213 \nL 40.0925 61.08434 \n\" clip-path=\"url(#p692c2b73d0)\" style=\"fill: none; stroke-dasharray: 5.55,2.4; stroke-dashoffset: 0; stroke: #ff7f0e; stroke-width: 1.5\"/>\n   </g>\n   <g id=\"line2d_31\">\n    <path d=\"M 21.37625 13.377273 \nL 24.63125 52.950961 \nL 27.88625 61.930545 \nL 31.14125 68.311623 \nL 34.39625 77.346665 \nL 37.65125 77.422702 \nL 40.90625 86.051396 \nL 44.16125 85.553098 \n\" clip-path=\"url(#p692c2b73d0)\" style=\"fill: none; stroke: #1f77b4; stroke-width: 1.5; stroke-linecap: square\"/>\n   </g>\n   <g id=\"line2d_32\">\n    <path d=\"M 27.0725 50.268038 \nL 33.5825 56.645213 \nL 40.0925 61.08434 \n\" clip-path=\"url(#p692c2b73d0)\" style=\"fill: none; stroke-dasharray: 5.55,2.4; stroke-dashoffset: 0; stroke: #ff7f0e; stroke-width: 1.5\"/>\n   </g>\n   <g id=\"line2d_33\">\n    <path d=\"M 21.37625 13.377273 \nL 24.63125 52.950961 \nL 27.88625 61.930545 \nL 31.14125 68.311623 \nL 34.39625 77.346665 \nL 37.65125 77.422702 \nL 40.90625 86.051396 \nL 44.16125 85.553098 \n\" clip-path=\"url(#p692c2b73d0)\" style=\"fill: none; stroke: #1f77b4; stroke-width: 1.5; stroke-linecap: square\"/>\n   </g>\n   <g id=\"line2d_34\">\n    <path d=\"M 27.0725 50.268038 \nL 33.5825 56.645213 \nL 40.0925 61.08434 \nL 46.6025 66.705747 \n\" clip-path=\"url(#p692c2b73d0)\" style=\"fill: none; stroke-dasharray: 5.55,2.4; stroke-dashoffset: 0; stroke: #ff7f0e; stroke-width: 1.5\"/>\n   </g>\n   <g id=\"line2d_35\">\n    <path d=\"M 21.37625 13.377273 \nL 24.63125 52.950961 \nL 27.88625 61.930545 \nL 31.14125 68.311623 \nL 34.39625 77.346665 \nL 37.65125 77.422702 \nL 40.90625 86.051396 \nL 44.16125 85.553098 \nL 47.41625 92.380424 \n\" clip-path=\"url(#p692c2b73d0)\" style=\"fill: none; stroke: #1f77b4; stroke-width: 1.5; stroke-linecap: square\"/>\n   </g>\n   <g id=\"line2d_36\">\n    <path d=\"M 27.0725 50.268038 \nL 33.5825 56.645213 \nL 40.0925 61.08434 \nL 46.6025 66.705747 \n\" clip-path=\"url(#p692c2b73d0)\" style=\"fill: none; stroke-dasharray: 5.55,2.4; stroke-dashoffset: 0; stroke: #ff7f0e; stroke-width: 1.5\"/>\n   </g>\n   <g id=\"line2d_37\">\n    <path d=\"M 21.37625 13.377273 \nL 24.63125 52.950961 \nL 27.88625 61.930545 \nL 31.14125 68.311623 \nL 34.39625 77.346665 \nL 37.65125 77.422702 \nL 40.90625 86.051396 \nL 44.16125 85.553098 \nL 47.41625 92.380424 \nL 50.67125 92.884413 \n\" clip-path=\"url(#p692c2b73d0)\" style=\"fill: none; stroke: #1f77b4; stroke-width: 1.5; stroke-linecap: square\"/>\n   </g>\n   <g id=\"line2d_38\">\n    <path d=\"M 27.0725 50.268038 \nL 33.5825 56.645213 \nL 40.0925 61.08434 \nL 46.6025 66.705747 \n\" clip-path=\"url(#p692c2b73d0)\" style=\"fill: none; stroke-dasharray: 5.55,2.4; stroke-dashoffset: 0; stroke: #ff7f0e; stroke-width: 1.5\"/>\n   </g>\n   <g id=\"line2d_39\">\n    <path d=\"M 21.37625 13.377273 \nL 24.63125 52.950961 \nL 27.88625 61.930545 \nL 31.14125 68.311623 \nL 34.39625 77.346665 \nL 37.65125 77.422702 \nL 40.90625 86.051396 \nL 44.16125 85.553098 \nL 47.41625 92.380424 \nL 50.67125 92.884413 \n\" clip-path=\"url(#p692c2b73d0)\" style=\"fill: none; stroke: #1f77b4; stroke-width: 1.5; stroke-linecap: square\"/>\n   </g>\n   <g id=\"line2d_40\">\n    <path d=\"M 27.0725 50.268038 \nL 33.5825 56.645213 \nL 40.0925 61.08434 \nL 46.6025 66.705747 \nL 53.1125 66.129438 \n\" clip-path=\"url(#p692c2b73d0)\" style=\"fill: none; stroke-dasharray: 5.55,2.4; stroke-dashoffset: 0; stroke: #ff7f0e; stroke-width: 1.5\"/>\n   </g>\n   <g id=\"line2d_41\">\n    <path d=\"M 21.37625 13.377273 \nL 24.63125 52.950961 \nL 27.88625 61.930545 \nL 31.14125 68.311623 \nL 34.39625 77.346665 \nL 37.65125 77.422702 \nL 40.90625 86.051396 \nL 44.16125 85.553098 \nL 47.41625 92.380424 \nL 50.67125 92.884413 \nL 53.92625 98.660521 \n\" clip-path=\"url(#p692c2b73d0)\" style=\"fill: none; stroke: #1f77b4; stroke-width: 1.5; stroke-linecap: square\"/>\n   </g>\n   <g id=\"line2d_42\">\n    <path d=\"M 27.0725 50.268038 \nL 33.5825 56.645213 \nL 40.0925 61.08434 \nL 46.6025 66.705747 \nL 53.1125 66.129438 \n\" clip-path=\"url(#p692c2b73d0)\" style=\"fill: none; stroke-dasharray: 5.55,2.4; stroke-dashoffset: 0; stroke: #ff7f0e; stroke-width: 1.5\"/>\n   </g>\n   <g id=\"line2d_43\">\n    <path d=\"M 21.37625 13.377273 \nL 24.63125 52.950961 \nL 27.88625 61.930545 \nL 31.14125 68.311623 \nL 34.39625 77.346665 \nL 37.65125 77.422702 \nL 40.90625 86.051396 \nL 44.16125 85.553098 \nL 47.41625 92.380424 \nL 50.67125 92.884413 \nL 53.92625 98.660521 \nL 57.18125 98.98121 \n\" clip-path=\"url(#p692c2b73d0)\" style=\"fill: none; stroke: #1f77b4; stroke-width: 1.5; stroke-linecap: square\"/>\n   </g>\n   <g id=\"line2d_44\">\n    <path d=\"M 27.0725 50.268038 \nL 33.5825 56.645213 \nL 40.0925 61.08434 \nL 46.6025 66.705747 \nL 53.1125 66.129438 \n\" clip-path=\"url(#p692c2b73d0)\" style=\"fill: none; stroke-dasharray: 5.55,2.4; stroke-dashoffset: 0; stroke: #ff7f0e; stroke-width: 1.5\"/>\n   </g>\n   <g id=\"line2d_45\">\n    <path d=\"M 21.37625 13.377273 \nL 24.63125 52.950961 \nL 27.88625 61.930545 \nL 31.14125 68.311623 \nL 34.39625 77.346665 \nL 37.65125 77.422702 \nL 40.90625 86.051396 \nL 44.16125 85.553098 \nL 47.41625 92.380424 \nL 50.67125 92.884413 \nL 53.92625 98.660521 \nL 57.18125 98.98121 \n\" clip-path=\"url(#p692c2b73d0)\" style=\"fill: none; stroke: #1f77b4; stroke-width: 1.5; stroke-linecap: square\"/>\n   </g>\n   <g id=\"line2d_46\">\n    <path d=\"M 27.0725 50.268038 \nL 33.5825 56.645213 \nL 40.0925 61.08434 \nL 46.6025 66.705747 \nL 53.1125 66.129438 \nL 59.6225 69.356142 \n\" clip-path=\"url(#p692c2b73d0)\" style=\"fill: none; stroke-dasharray: 5.55,2.4; stroke-dashoffset: 0; stroke: #ff7f0e; stroke-width: 1.5\"/>\n   </g>\n   <g id=\"line2d_47\">\n    <path d=\"M 21.37625 13.377273 \nL 24.63125 52.950961 \nL 27.88625 61.930545 \nL 31.14125 68.311623 \nL 34.39625 77.346665 \nL 37.65125 77.422702 \nL 40.90625 86.051396 \nL 44.16125 85.553098 \nL 47.41625 92.380424 \nL 50.67125 92.884413 \nL 53.92625 98.660521 \nL 57.18125 98.98121 \nL 60.43625 104.772622 \n\" clip-path=\"url(#p692c2b73d0)\" style=\"fill: none; stroke: #1f77b4; stroke-width: 1.5; stroke-linecap: square\"/>\n   </g>\n   <g id=\"line2d_48\">\n    <path d=\"M 27.0725 50.268038 \nL 33.5825 56.645213 \nL 40.0925 61.08434 \nL 46.6025 66.705747 \nL 53.1125 66.129438 \nL 59.6225 69.356142 \n\" clip-path=\"url(#p692c2b73d0)\" style=\"fill: none; stroke-dasharray: 5.55,2.4; stroke-dashoffset: 0; stroke: #ff7f0e; stroke-width: 1.5\"/>\n   </g>\n   <g id=\"line2d_49\">\n    <path d=\"M 21.37625 13.377273 \nL 24.63125 52.950961 \nL 27.88625 61.930545 \nL 31.14125 68.311623 \nL 34.39625 77.346665 \nL 37.65125 77.422702 \nL 40.90625 86.051396 \nL 44.16125 85.553098 \nL 47.41625 92.380424 \nL 50.67125 92.884413 \nL 53.92625 98.660521 \nL 57.18125 98.98121 \nL 60.43625 104.772622 \nL 63.69125 103.775518 \n\" clip-path=\"url(#p692c2b73d0)\" style=\"fill: none; stroke: #1f77b4; stroke-width: 1.5; stroke-linecap: square\"/>\n   </g>\n   <g id=\"line2d_50\">\n    <path d=\"M 27.0725 50.268038 \nL 33.5825 56.645213 \nL 40.0925 61.08434 \nL 46.6025 66.705747 \nL 53.1125 66.129438 \nL 59.6225 69.356142 \n\" clip-path=\"url(#p692c2b73d0)\" style=\"fill: none; stroke-dasharray: 5.55,2.4; stroke-dashoffset: 0; stroke: #ff7f0e; stroke-width: 1.5\"/>\n   </g>\n   <g id=\"line2d_51\">\n    <path d=\"M 21.37625 13.377273 \nL 24.63125 52.950961 \nL 27.88625 61.930545 \nL 31.14125 68.311623 \nL 34.39625 77.346665 \nL 37.65125 77.422702 \nL 40.90625 86.051396 \nL 44.16125 85.553098 \nL 47.41625 92.380424 \nL 50.67125 92.884413 \nL 53.92625 98.660521 \nL 57.18125 98.98121 \nL 60.43625 104.772622 \nL 63.69125 103.775518 \n\" clip-path=\"url(#p692c2b73d0)\" style=\"fill: none; stroke: #1f77b4; stroke-width: 1.5; stroke-linecap: square\"/>\n   </g>\n   <g id=\"line2d_52\">\n    <path d=\"M 27.0725 50.268038 \nL 33.5825 56.645213 \nL 40.0925 61.08434 \nL 46.6025 66.705747 \nL 53.1125 66.129438 \nL 59.6225 69.356142 \nL 66.1325 74.65129 \n\" clip-path=\"url(#p692c2b73d0)\" style=\"fill: none; stroke-dasharray: 5.55,2.4; stroke-dashoffset: 0; stroke: #ff7f0e; stroke-width: 1.5\"/>\n   </g>\n   <g id=\"line2d_53\">\n    <path d=\"M 21.37625 13.377273 \nL 24.63125 52.950961 \nL 27.88625 61.930545 \nL 31.14125 68.311623 \nL 34.39625 77.346665 \nL 37.65125 77.422702 \nL 40.90625 86.051396 \nL 44.16125 85.553098 \nL 47.41625 92.380424 \nL 50.67125 92.884413 \nL 53.92625 98.660521 \nL 57.18125 98.98121 \nL 60.43625 104.772622 \nL 63.69125 103.775518 \nL 66.94625 108.192722 \n\" clip-path=\"url(#p692c2b73d0)\" style=\"fill: none; stroke: #1f77b4; stroke-width: 1.5; stroke-linecap: square\"/>\n   </g>\n   <g id=\"line2d_54\">\n    <path d=\"M 27.0725 50.268038 \nL 33.5825 56.645213 \nL 40.0925 61.08434 \nL 46.6025 66.705747 \nL 53.1125 66.129438 \nL 59.6225 69.356142 \nL 66.1325 74.65129 \n\" clip-path=\"url(#p692c2b73d0)\" style=\"fill: none; stroke-dasharray: 5.55,2.4; stroke-dashoffset: 0; stroke: #ff7f0e; stroke-width: 1.5\"/>\n   </g>\n   <g id=\"line2d_55\">\n    <path d=\"M 21.37625 13.377273 \nL 24.63125 52.950961 \nL 27.88625 61.930545 \nL 31.14125 68.311623 \nL 34.39625 77.346665 \nL 37.65125 77.422702 \nL 40.90625 86.051396 \nL 44.16125 85.553098 \nL 47.41625 92.380424 \nL 50.67125 92.884413 \nL 53.92625 98.660521 \nL 57.18125 98.98121 \nL 60.43625 104.772622 \nL 63.69125 103.775518 \nL 66.94625 108.192722 \nL 70.20125 110.069377 \n\" clip-path=\"url(#p692c2b73d0)\" style=\"fill: none; stroke: #1f77b4; stroke-width: 1.5; stroke-linecap: square\"/>\n   </g>\n   <g id=\"line2d_56\">\n    <path d=\"M 27.0725 50.268038 \nL 33.5825 56.645213 \nL 40.0925 61.08434 \nL 46.6025 66.705747 \nL 53.1125 66.129438 \nL 59.6225 69.356142 \nL 66.1325 74.65129 \n\" clip-path=\"url(#p692c2b73d0)\" style=\"fill: none; stroke-dasharray: 5.55,2.4; stroke-dashoffset: 0; stroke: #ff7f0e; stroke-width: 1.5\"/>\n   </g>\n   <g id=\"line2d_57\">\n    <path d=\"M 21.37625 13.377273 \nL 24.63125 52.950961 \nL 27.88625 61.930545 \nL 31.14125 68.311623 \nL 34.39625 77.346665 \nL 37.65125 77.422702 \nL 40.90625 86.051396 \nL 44.16125 85.553098 \nL 47.41625 92.380424 \nL 50.67125 92.884413 \nL 53.92625 98.660521 \nL 57.18125 98.98121 \nL 60.43625 104.772622 \nL 63.69125 103.775518 \nL 66.94625 108.192722 \nL 70.20125 110.069377 \n\" clip-path=\"url(#p692c2b73d0)\" style=\"fill: none; stroke: #1f77b4; stroke-width: 1.5; stroke-linecap: square\"/>\n   </g>\n   <g id=\"line2d_58\">\n    <path d=\"M 27.0725 50.268038 \nL 33.5825 56.645213 \nL 40.0925 61.08434 \nL 46.6025 66.705747 \nL 53.1125 66.129438 \nL 59.6225 69.356142 \nL 66.1325 74.65129 \nL 72.6425 70.315716 \n\" clip-path=\"url(#p692c2b73d0)\" style=\"fill: none; stroke-dasharray: 5.55,2.4; stroke-dashoffset: 0; stroke: #ff7f0e; stroke-width: 1.5\"/>\n   </g>\n   <g id=\"line2d_59\">\n    <path d=\"M 21.37625 13.377273 \nL 24.63125 52.950961 \nL 27.88625 61.930545 \nL 31.14125 68.311623 \nL 34.39625 77.346665 \nL 37.65125 77.422702 \nL 40.90625 86.051396 \nL 44.16125 85.553098 \nL 47.41625 92.380424 \nL 50.67125 92.884413 \nL 53.92625 98.660521 \nL 57.18125 98.98121 \nL 60.43625 104.772622 \nL 63.69125 103.775518 \nL 66.94625 108.192722 \nL 70.20125 110.069377 \nL 73.45625 113.285811 \n\" clip-path=\"url(#p692c2b73d0)\" style=\"fill: none; stroke: #1f77b4; stroke-width: 1.5; stroke-linecap: square\"/>\n   </g>\n   <g id=\"line2d_60\">\n    <path d=\"M 27.0725 50.268038 \nL 33.5825 56.645213 \nL 40.0925 61.08434 \nL 46.6025 66.705747 \nL 53.1125 66.129438 \nL 59.6225 69.356142 \nL 66.1325 74.65129 \nL 72.6425 70.315716 \n\" clip-path=\"url(#p692c2b73d0)\" style=\"fill: none; stroke-dasharray: 5.55,2.4; stroke-dashoffset: 0; stroke: #ff7f0e; stroke-width: 1.5\"/>\n   </g>\n   <g id=\"line2d_61\">\n    <path d=\"M 21.37625 13.377273 \nL 24.63125 52.950961 \nL 27.88625 61.930545 \nL 31.14125 68.311623 \nL 34.39625 77.346665 \nL 37.65125 77.422702 \nL 40.90625 86.051396 \nL 44.16125 85.553098 \nL 47.41625 92.380424 \nL 50.67125 92.884413 \nL 53.92625 98.660521 \nL 57.18125 98.98121 \nL 60.43625 104.772622 \nL 63.69125 103.775518 \nL 66.94625 108.192722 \nL 70.20125 110.069377 \nL 73.45625 113.285811 \nL 76.71125 113.165985 \n\" clip-path=\"url(#p692c2b73d0)\" style=\"fill: none; stroke: #1f77b4; stroke-width: 1.5; stroke-linecap: square\"/>\n   </g>\n   <g id=\"line2d_62\">\n    <path d=\"M 27.0725 50.268038 \nL 33.5825 56.645213 \nL 40.0925 61.08434 \nL 46.6025 66.705747 \nL 53.1125 66.129438 \nL 59.6225 69.356142 \nL 66.1325 74.65129 \nL 72.6425 70.315716 \n\" clip-path=\"url(#p692c2b73d0)\" style=\"fill: none; stroke-dasharray: 5.55,2.4; stroke-dashoffset: 0; stroke: #ff7f0e; stroke-width: 1.5\"/>\n   </g>\n   <g id=\"line2d_63\">\n    <path d=\"M 21.37625 13.377273 \nL 24.63125 52.950961 \nL 27.88625 61.930545 \nL 31.14125 68.311623 \nL 34.39625 77.346665 \nL 37.65125 77.422702 \nL 40.90625 86.051396 \nL 44.16125 85.553098 \nL 47.41625 92.380424 \nL 50.67125 92.884413 \nL 53.92625 98.660521 \nL 57.18125 98.98121 \nL 60.43625 104.772622 \nL 63.69125 103.775518 \nL 66.94625 108.192722 \nL 70.20125 110.069377 \nL 73.45625 113.285811 \nL 76.71125 113.165985 \n\" clip-path=\"url(#p692c2b73d0)\" style=\"fill: none; stroke: #1f77b4; stroke-width: 1.5; stroke-linecap: square\"/>\n   </g>\n   <g id=\"line2d_64\">\n    <path d=\"M 27.0725 50.268038 \nL 33.5825 56.645213 \nL 40.0925 61.08434 \nL 46.6025 66.705747 \nL 53.1125 66.129438 \nL 59.6225 69.356142 \nL 66.1325 74.65129 \nL 72.6425 70.315716 \nL 79.1525 70.96904 \n\" clip-path=\"url(#p692c2b73d0)\" style=\"fill: none; stroke-dasharray: 5.55,2.4; stroke-dashoffset: 0; stroke: #ff7f0e; stroke-width: 1.5\"/>\n   </g>\n   <g id=\"line2d_65\">\n    <path d=\"M 21.37625 13.377273 \nL 24.63125 52.950961 \nL 27.88625 61.930545 \nL 31.14125 68.311623 \nL 34.39625 77.346665 \nL 37.65125 77.422702 \nL 40.90625 86.051396 \nL 44.16125 85.553098 \nL 47.41625 92.380424 \nL 50.67125 92.884413 \nL 53.92625 98.660521 \nL 57.18125 98.98121 \nL 60.43625 104.772622 \nL 63.69125 103.775518 \nL 66.94625 108.192722 \nL 70.20125 110.069377 \nL 73.45625 113.285811 \nL 76.71125 113.165985 \nL 79.96625 116.449487 \n\" clip-path=\"url(#p692c2b73d0)\" style=\"fill: none; stroke: #1f77b4; stroke-width: 1.5; stroke-linecap: square\"/>\n   </g>\n   <g id=\"line2d_66\">\n    <path d=\"M 27.0725 50.268038 \nL 33.5825 56.645213 \nL 40.0925 61.08434 \nL 46.6025 66.705747 \nL 53.1125 66.129438 \nL 59.6225 69.356142 \nL 66.1325 74.65129 \nL 72.6425 70.315716 \nL 79.1525 70.96904 \n\" clip-path=\"url(#p692c2b73d0)\" style=\"fill: none; stroke-dasharray: 5.55,2.4; stroke-dashoffset: 0; stroke: #ff7f0e; stroke-width: 1.5\"/>\n   </g>\n   <g id=\"line2d_67\">\n    <path d=\"M 21.37625 13.377273 \nL 24.63125 52.950961 \nL 27.88625 61.930545 \nL 31.14125 68.311623 \nL 34.39625 77.346665 \nL 37.65125 77.422702 \nL 40.90625 86.051396 \nL 44.16125 85.553098 \nL 47.41625 92.380424 \nL 50.67125 92.884413 \nL 53.92625 98.660521 \nL 57.18125 98.98121 \nL 60.43625 104.772622 \nL 63.69125 103.775518 \nL 66.94625 108.192722 \nL 70.20125 110.069377 \nL 73.45625 113.285811 \nL 76.71125 113.165985 \nL 79.96625 116.449487 \nL 83.22125 117.736162 \n\" clip-path=\"url(#p692c2b73d0)\" style=\"fill: none; stroke: #1f77b4; stroke-width: 1.5; stroke-linecap: square\"/>\n   </g>\n   <g id=\"line2d_68\">\n    <path d=\"M 27.0725 50.268038 \nL 33.5825 56.645213 \nL 40.0925 61.08434 \nL 46.6025 66.705747 \nL 53.1125 66.129438 \nL 59.6225 69.356142 \nL 66.1325 74.65129 \nL 72.6425 70.315716 \nL 79.1525 70.96904 \n\" clip-path=\"url(#p692c2b73d0)\" style=\"fill: none; stroke-dasharray: 5.55,2.4; stroke-dashoffset: 0; stroke: #ff7f0e; stroke-width: 1.5\"/>\n   </g>\n   <g id=\"line2d_69\">\n    <path d=\"M 21.37625 13.377273 \nL 24.63125 52.950961 \nL 27.88625 61.930545 \nL 31.14125 68.311623 \nL 34.39625 77.346665 \nL 37.65125 77.422702 \nL 40.90625 86.051396 \nL 44.16125 85.553098 \nL 47.41625 92.380424 \nL 50.67125 92.884413 \nL 53.92625 98.660521 \nL 57.18125 98.98121 \nL 60.43625 104.772622 \nL 63.69125 103.775518 \nL 66.94625 108.192722 \nL 70.20125 110.069377 \nL 73.45625 113.285811 \nL 76.71125 113.165985 \nL 79.96625 116.449487 \nL 83.22125 117.736162 \n\" clip-path=\"url(#p692c2b73d0)\" style=\"fill: none; stroke: #1f77b4; stroke-width: 1.5; stroke-linecap: square\"/>\n   </g>\n   <g id=\"line2d_70\">\n    <path d=\"M 27.0725 50.268038 \nL 33.5825 56.645213 \nL 40.0925 61.08434 \nL 46.6025 66.705747 \nL 53.1125 66.129438 \nL 59.6225 69.356142 \nL 66.1325 74.65129 \nL 72.6425 70.315716 \nL 79.1525 70.96904 \nL 85.6625 71.918994 \n\" clip-path=\"url(#p692c2b73d0)\" style=\"fill: none; stroke-dasharray: 5.55,2.4; stroke-dashoffset: 0; stroke: #ff7f0e; stroke-width: 1.5\"/>\n   </g>\n   <g id=\"line2d_71\">\n    <path d=\"M 21.37625 13.377273 \nL 24.63125 52.950961 \nL 27.88625 61.930545 \nL 31.14125 68.311623 \nL 34.39625 77.346665 \nL 37.65125 77.422702 \nL 40.90625 86.051396 \nL 44.16125 85.553098 \nL 47.41625 92.380424 \nL 50.67125 92.884413 \nL 53.92625 98.660521 \nL 57.18125 98.98121 \nL 60.43625 104.772622 \nL 63.69125 103.775518 \nL 66.94625 108.192722 \nL 70.20125 110.069377 \nL 73.45625 113.285811 \nL 76.71125 113.165985 \nL 79.96625 116.449487 \nL 83.22125 117.736162 \nL 86.47625 119.868686 \n\" clip-path=\"url(#p692c2b73d0)\" style=\"fill: none; stroke: #1f77b4; stroke-width: 1.5; stroke-linecap: square\"/>\n   </g>\n   <g id=\"line2d_72\">\n    <path d=\"M 27.0725 50.268038 \nL 33.5825 56.645213 \nL 40.0925 61.08434 \nL 46.6025 66.705747 \nL 53.1125 66.129438 \nL 59.6225 69.356142 \nL 66.1325 74.65129 \nL 72.6425 70.315716 \nL 79.1525 70.96904 \nL 85.6625 71.918994 \n\" clip-path=\"url(#p692c2b73d0)\" style=\"fill: none; stroke-dasharray: 5.55,2.4; stroke-dashoffset: 0; stroke: #ff7f0e; stroke-width: 1.5\"/>\n   </g>\n   <g id=\"line2d_73\">\n    <path d=\"M 21.37625 13.377273 \nL 24.63125 52.950961 \nL 27.88625 61.930545 \nL 31.14125 68.311623 \nL 34.39625 77.346665 \nL 37.65125 77.422702 \nL 40.90625 86.051396 \nL 44.16125 85.553098 \nL 47.41625 92.380424 \nL 50.67125 92.884413 \nL 53.92625 98.660521 \nL 57.18125 98.98121 \nL 60.43625 104.772622 \nL 63.69125 103.775518 \nL 66.94625 108.192722 \nL 70.20125 110.069377 \nL 73.45625 113.285811 \nL 76.71125 113.165985 \nL 79.96625 116.449487 \nL 83.22125 117.736162 \nL 86.47625 119.868686 \nL 89.73125 120.79814 \n\" clip-path=\"url(#p692c2b73d0)\" style=\"fill: none; stroke: #1f77b4; stroke-width: 1.5; stroke-linecap: square\"/>\n   </g>\n   <g id=\"line2d_74\">\n    <path d=\"M 27.0725 50.268038 \nL 33.5825 56.645213 \nL 40.0925 61.08434 \nL 46.6025 66.705747 \nL 53.1125 66.129438 \nL 59.6225 69.356142 \nL 66.1325 74.65129 \nL 72.6425 70.315716 \nL 79.1525 70.96904 \nL 85.6625 71.918994 \n\" clip-path=\"url(#p692c2b73d0)\" style=\"fill: none; stroke-dasharray: 5.55,2.4; stroke-dashoffset: 0; stroke: #ff7f0e; stroke-width: 1.5\"/>\n   </g>\n   <g id=\"line2d_75\">\n    <path d=\"M 21.37625 13.377273 \nL 24.63125 52.950961 \nL 27.88625 61.930545 \nL 31.14125 68.311623 \nL 34.39625 77.346665 \nL 37.65125 77.422702 \nL 40.90625 86.051396 \nL 44.16125 85.553098 \nL 47.41625 92.380424 \nL 50.67125 92.884413 \nL 53.92625 98.660521 \nL 57.18125 98.98121 \nL 60.43625 104.772622 \nL 63.69125 103.775518 \nL 66.94625 108.192722 \nL 70.20125 110.069377 \nL 73.45625 113.285811 \nL 76.71125 113.165985 \nL 79.96625 116.449487 \nL 83.22125 117.736162 \nL 86.47625 119.868686 \nL 89.73125 120.79814 \n\" clip-path=\"url(#p692c2b73d0)\" style=\"fill: none; stroke: #1f77b4; stroke-width: 1.5; stroke-linecap: square\"/>\n   </g>\n   <g id=\"line2d_76\">\n    <path d=\"M 27.0725 50.268038 \nL 33.5825 56.645213 \nL 40.0925 61.08434 \nL 46.6025 66.705747 \nL 53.1125 66.129438 \nL 59.6225 69.356142 \nL 66.1325 74.65129 \nL 72.6425 70.315716 \nL 79.1525 70.96904 \nL 85.6625 71.918994 \nL 92.1725 67.107159 \n\" clip-path=\"url(#p692c2b73d0)\" style=\"fill: none; stroke-dasharray: 5.55,2.4; stroke-dashoffset: 0; stroke: #ff7f0e; stroke-width: 1.5\"/>\n   </g>\n   <g id=\"line2d_77\">\n    <path d=\"M 21.37625 13.377273 \nL 24.63125 52.950961 \nL 27.88625 61.930545 \nL 31.14125 68.311623 \nL 34.39625 77.346665 \nL 37.65125 77.422702 \nL 40.90625 86.051396 \nL 44.16125 85.553098 \nL 47.41625 92.380424 \nL 50.67125 92.884413 \nL 53.92625 98.660521 \nL 57.18125 98.98121 \nL 60.43625 104.772622 \nL 63.69125 103.775518 \nL 66.94625 108.192722 \nL 70.20125 110.069377 \nL 73.45625 113.285811 \nL 76.71125 113.165985 \nL 79.96625 116.449487 \nL 83.22125 117.736162 \nL 86.47625 119.868686 \nL 89.73125 120.79814 \nL 92.98625 122.504215 \n\" clip-path=\"url(#p692c2b73d0)\" style=\"fill: none; stroke: #1f77b4; stroke-width: 1.5; stroke-linecap: square\"/>\n   </g>\n   <g id=\"line2d_78\">\n    <path d=\"M 27.0725 50.268038 \nL 33.5825 56.645213 \nL 40.0925 61.08434 \nL 46.6025 66.705747 \nL 53.1125 66.129438 \nL 59.6225 69.356142 \nL 66.1325 74.65129 \nL 72.6425 70.315716 \nL 79.1525 70.96904 \nL 85.6625 71.918994 \nL 92.1725 67.107159 \n\" clip-path=\"url(#p692c2b73d0)\" style=\"fill: none; stroke-dasharray: 5.55,2.4; stroke-dashoffset: 0; stroke: #ff7f0e; stroke-width: 1.5\"/>\n   </g>\n   <g id=\"line2d_79\">\n    <path d=\"M 21.37625 13.377273 \nL 24.63125 52.950961 \nL 27.88625 61.930545 \nL 31.14125 68.311623 \nL 34.39625 77.346665 \nL 37.65125 77.422702 \nL 40.90625 86.051396 \nL 44.16125 85.553098 \nL 47.41625 92.380424 \nL 50.67125 92.884413 \nL 53.92625 98.660521 \nL 57.18125 98.98121 \nL 60.43625 104.772622 \nL 63.69125 103.775518 \nL 66.94625 108.192722 \nL 70.20125 110.069377 \nL 73.45625 113.285811 \nL 76.71125 113.165985 \nL 79.96625 116.449487 \nL 83.22125 117.736162 \nL 86.47625 119.868686 \nL 89.73125 120.79814 \nL 92.98625 122.504215 \nL 96.24125 123.711576 \n\" clip-path=\"url(#p692c2b73d0)\" style=\"fill: none; stroke: #1f77b4; stroke-width: 1.5; stroke-linecap: square\"/>\n   </g>\n   <g id=\"line2d_80\">\n    <path d=\"M 27.0725 50.268038 \nL 33.5825 56.645213 \nL 40.0925 61.08434 \nL 46.6025 66.705747 \nL 53.1125 66.129438 \nL 59.6225 69.356142 \nL 66.1325 74.65129 \nL 72.6425 70.315716 \nL 79.1525 70.96904 \nL 85.6625 71.918994 \nL 92.1725 67.107159 \n\" clip-path=\"url(#p692c2b73d0)\" style=\"fill: none; stroke-dasharray: 5.55,2.4; stroke-dashoffset: 0; stroke: #ff7f0e; stroke-width: 1.5\"/>\n   </g>\n   <g id=\"line2d_81\">\n    <path d=\"M 21.37625 13.377273 \nL 24.63125 52.950961 \nL 27.88625 61.930545 \nL 31.14125 68.311623 \nL 34.39625 77.346665 \nL 37.65125 77.422702 \nL 40.90625 86.051396 \nL 44.16125 85.553098 \nL 47.41625 92.380424 \nL 50.67125 92.884413 \nL 53.92625 98.660521 \nL 57.18125 98.98121 \nL 60.43625 104.772622 \nL 63.69125 103.775518 \nL 66.94625 108.192722 \nL 70.20125 110.069377 \nL 73.45625 113.285811 \nL 76.71125 113.165985 \nL 79.96625 116.449487 \nL 83.22125 117.736162 \nL 86.47625 119.868686 \nL 89.73125 120.79814 \nL 92.98625 122.504215 \nL 96.24125 123.711576 \n\" clip-path=\"url(#p692c2b73d0)\" style=\"fill: none; stroke: #1f77b4; stroke-width: 1.5; stroke-linecap: square\"/>\n   </g>\n   <g id=\"line2d_82\">\n    <path d=\"M 27.0725 50.268038 \nL 33.5825 56.645213 \nL 40.0925 61.08434 \nL 46.6025 66.705747 \nL 53.1125 66.129438 \nL 59.6225 69.356142 \nL 66.1325 74.65129 \nL 72.6425 70.315716 \nL 79.1525 70.96904 \nL 85.6625 71.918994 \nL 92.1725 67.107159 \nL 98.6825 65.12784 \n\" clip-path=\"url(#p692c2b73d0)\" style=\"fill: none; stroke-dasharray: 5.55,2.4; stroke-dashoffset: 0; stroke: #ff7f0e; stroke-width: 1.5\"/>\n   </g>\n   <g id=\"line2d_83\">\n    <path d=\"M 21.37625 13.377273 \nL 24.63125 52.950961 \nL 27.88625 61.930545 \nL 31.14125 68.311623 \nL 34.39625 77.346665 \nL 37.65125 77.422702 \nL 40.90625 86.051396 \nL 44.16125 85.553098 \nL 47.41625 92.380424 \nL 50.67125 92.884413 \nL 53.92625 98.660521 \nL 57.18125 98.98121 \nL 60.43625 104.772622 \nL 63.69125 103.775518 \nL 66.94625 108.192722 \nL 70.20125 110.069377 \nL 73.45625 113.285811 \nL 76.71125 113.165985 \nL 79.96625 116.449487 \nL 83.22125 117.736162 \nL 86.47625 119.868686 \nL 89.73125 120.79814 \nL 92.98625 122.504215 \nL 96.24125 123.711576 \nL 99.49625 124.66695 \n\" clip-path=\"url(#p692c2b73d0)\" style=\"fill: none; stroke: #1f77b4; stroke-width: 1.5; stroke-linecap: square\"/>\n   </g>\n   <g id=\"line2d_84\">\n    <path d=\"M 27.0725 50.268038 \nL 33.5825 56.645213 \nL 40.0925 61.08434 \nL 46.6025 66.705747 \nL 53.1125 66.129438 \nL 59.6225 69.356142 \nL 66.1325 74.65129 \nL 72.6425 70.315716 \nL 79.1525 70.96904 \nL 85.6625 71.918994 \nL 92.1725 67.107159 \nL 98.6825 65.12784 \n\" clip-path=\"url(#p692c2b73d0)\" style=\"fill: none; stroke-dasharray: 5.55,2.4; stroke-dashoffset: 0; stroke: #ff7f0e; stroke-width: 1.5\"/>\n   </g>\n   <g id=\"line2d_85\">\n    <path d=\"M 21.37625 13.377273 \nL 24.63125 52.950961 \nL 27.88625 61.930545 \nL 31.14125 68.311623 \nL 34.39625 77.346665 \nL 37.65125 77.422702 \nL 40.90625 86.051396 \nL 44.16125 85.553098 \nL 47.41625 92.380424 \nL 50.67125 92.884413 \nL 53.92625 98.660521 \nL 57.18125 98.98121 \nL 60.43625 104.772622 \nL 63.69125 103.775518 \nL 66.94625 108.192722 \nL 70.20125 110.069377 \nL 73.45625 113.285811 \nL 76.71125 113.165985 \nL 79.96625 116.449487 \nL 83.22125 117.736162 \nL 86.47625 119.868686 \nL 89.73125 120.79814 \nL 92.98625 122.504215 \nL 96.24125 123.711576 \nL 99.49625 124.66695 \nL 102.75125 126.229254 \n\" clip-path=\"url(#p692c2b73d0)\" style=\"fill: none; stroke: #1f77b4; stroke-width: 1.5; stroke-linecap: square\"/>\n   </g>\n   <g id=\"line2d_86\">\n    <path d=\"M 27.0725 50.268038 \nL 33.5825 56.645213 \nL 40.0925 61.08434 \nL 46.6025 66.705747 \nL 53.1125 66.129438 \nL 59.6225 69.356142 \nL 66.1325 74.65129 \nL 72.6425 70.315716 \nL 79.1525 70.96904 \nL 85.6625 71.918994 \nL 92.1725 67.107159 \nL 98.6825 65.12784 \n\" clip-path=\"url(#p692c2b73d0)\" style=\"fill: none; stroke-dasharray: 5.55,2.4; stroke-dashoffset: 0; stroke: #ff7f0e; stroke-width: 1.5\"/>\n   </g>\n   <g id=\"line2d_87\">\n    <path d=\"M 21.37625 13.377273 \nL 24.63125 52.950961 \nL 27.88625 61.930545 \nL 31.14125 68.311623 \nL 34.39625 77.346665 \nL 37.65125 77.422702 \nL 40.90625 86.051396 \nL 44.16125 85.553098 \nL 47.41625 92.380424 \nL 50.67125 92.884413 \nL 53.92625 98.660521 \nL 57.18125 98.98121 \nL 60.43625 104.772622 \nL 63.69125 103.775518 \nL 66.94625 108.192722 \nL 70.20125 110.069377 \nL 73.45625 113.285811 \nL 76.71125 113.165985 \nL 79.96625 116.449487 \nL 83.22125 117.736162 \nL 86.47625 119.868686 \nL 89.73125 120.79814 \nL 92.98625 122.504215 \nL 96.24125 123.711576 \nL 99.49625 124.66695 \nL 102.75125 126.229254 \n\" clip-path=\"url(#p692c2b73d0)\" style=\"fill: none; stroke: #1f77b4; stroke-width: 1.5; stroke-linecap: square\"/>\n   </g>\n   <g id=\"line2d_88\">\n    <path d=\"M 27.0725 50.268038 \nL 33.5825 56.645213 \nL 40.0925 61.08434 \nL 46.6025 66.705747 \nL 53.1125 66.129438 \nL 59.6225 69.356142 \nL 66.1325 74.65129 \nL 72.6425 70.315716 \nL 79.1525 70.96904 \nL 85.6625 71.918994 \nL 92.1725 67.107159 \nL 98.6825 65.12784 \nL 105.1925 68.701068 \n\" clip-path=\"url(#p692c2b73d0)\" style=\"fill: none; stroke-dasharray: 5.55,2.4; stroke-dashoffset: 0; stroke: #ff7f0e; stroke-width: 1.5\"/>\n   </g>\n   <g id=\"line2d_89\">\n    <path d=\"M 21.37625 13.377273 \nL 24.63125 52.950961 \nL 27.88625 61.930545 \nL 31.14125 68.311623 \nL 34.39625 77.346665 \nL 37.65125 77.422702 \nL 40.90625 86.051396 \nL 44.16125 85.553098 \nL 47.41625 92.380424 \nL 50.67125 92.884413 \nL 53.92625 98.660521 \nL 57.18125 98.98121 \nL 60.43625 104.772622 \nL 63.69125 103.775518 \nL 66.94625 108.192722 \nL 70.20125 110.069377 \nL 73.45625 113.285811 \nL 76.71125 113.165985 \nL 79.96625 116.449487 \nL 83.22125 117.736162 \nL 86.47625 119.868686 \nL 89.73125 120.79814 \nL 92.98625 122.504215 \nL 96.24125 123.711576 \nL 99.49625 124.66695 \nL 102.75125 126.229254 \nL 106.00625 127.750857 \n\" clip-path=\"url(#p692c2b73d0)\" style=\"fill: none; stroke: #1f77b4; stroke-width: 1.5; stroke-linecap: square\"/>\n   </g>\n   <g id=\"line2d_90\">\n    <path d=\"M 27.0725 50.268038 \nL 33.5825 56.645213 \nL 40.0925 61.08434 \nL 46.6025 66.705747 \nL 53.1125 66.129438 \nL 59.6225 69.356142 \nL 66.1325 74.65129 \nL 72.6425 70.315716 \nL 79.1525 70.96904 \nL 85.6625 71.918994 \nL 92.1725 67.107159 \nL 98.6825 65.12784 \nL 105.1925 68.701068 \n\" clip-path=\"url(#p692c2b73d0)\" style=\"fill: none; stroke-dasharray: 5.55,2.4; stroke-dashoffset: 0; stroke: #ff7f0e; stroke-width: 1.5\"/>\n   </g>\n   <g id=\"line2d_91\">\n    <path d=\"M 21.37625 13.377273 \nL 24.63125 52.950961 \nL 27.88625 61.930545 \nL 31.14125 68.311623 \nL 34.39625 77.346665 \nL 37.65125 77.422702 \nL 40.90625 86.051396 \nL 44.16125 85.553098 \nL 47.41625 92.380424 \nL 50.67125 92.884413 \nL 53.92625 98.660521 \nL 57.18125 98.98121 \nL 60.43625 104.772622 \nL 63.69125 103.775518 \nL 66.94625 108.192722 \nL 70.20125 110.069377 \nL 73.45625 113.285811 \nL 76.71125 113.165985 \nL 79.96625 116.449487 \nL 83.22125 117.736162 \nL 86.47625 119.868686 \nL 89.73125 120.79814 \nL 92.98625 122.504215 \nL 96.24125 123.711576 \nL 99.49625 124.66695 \nL 102.75125 126.229254 \nL 106.00625 127.750857 \nL 109.26125 127.125576 \n\" clip-path=\"url(#p692c2b73d0)\" style=\"fill: none; stroke: #1f77b4; stroke-width: 1.5; stroke-linecap: square\"/>\n   </g>\n   <g id=\"line2d_92\">\n    <path d=\"M 27.0725 50.268038 \nL 33.5825 56.645213 \nL 40.0925 61.08434 \nL 46.6025 66.705747 \nL 53.1125 66.129438 \nL 59.6225 69.356142 \nL 66.1325 74.65129 \nL 72.6425 70.315716 \nL 79.1525 70.96904 \nL 85.6625 71.918994 \nL 92.1725 67.107159 \nL 98.6825 65.12784 \nL 105.1925 68.701068 \n\" clip-path=\"url(#p692c2b73d0)\" style=\"fill: none; stroke-dasharray: 5.55,2.4; stroke-dashoffset: 0; stroke: #ff7f0e; stroke-width: 1.5\"/>\n   </g>\n   <g id=\"line2d_93\">\n    <path d=\"M 21.37625 13.377273 \nL 24.63125 52.950961 \nL 27.88625 61.930545 \nL 31.14125 68.311623 \nL 34.39625 77.346665 \nL 37.65125 77.422702 \nL 40.90625 86.051396 \nL 44.16125 85.553098 \nL 47.41625 92.380424 \nL 50.67125 92.884413 \nL 53.92625 98.660521 \nL 57.18125 98.98121 \nL 60.43625 104.772622 \nL 63.69125 103.775518 \nL 66.94625 108.192722 \nL 70.20125 110.069377 \nL 73.45625 113.285811 \nL 76.71125 113.165985 \nL 79.96625 116.449487 \nL 83.22125 117.736162 \nL 86.47625 119.868686 \nL 89.73125 120.79814 \nL 92.98625 122.504215 \nL 96.24125 123.711576 \nL 99.49625 124.66695 \nL 102.75125 126.229254 \nL 106.00625 127.750857 \nL 109.26125 127.125576 \n\" clip-path=\"url(#p692c2b73d0)\" style=\"fill: none; stroke: #1f77b4; stroke-width: 1.5; stroke-linecap: square\"/>\n   </g>\n   <g id=\"line2d_94\">\n    <path d=\"M 27.0725 50.268038 \nL 33.5825 56.645213 \nL 40.0925 61.08434 \nL 46.6025 66.705747 \nL 53.1125 66.129438 \nL 59.6225 69.356142 \nL 66.1325 74.65129 \nL 72.6425 70.315716 \nL 79.1525 70.96904 \nL 85.6625 71.918994 \nL 92.1725 67.107159 \nL 98.6825 65.12784 \nL 105.1925 68.701068 \nL 111.7025 59.944005 \n\" clip-path=\"url(#p692c2b73d0)\" style=\"fill: none; stroke-dasharray: 5.55,2.4; stroke-dashoffset: 0; stroke: #ff7f0e; stroke-width: 1.5\"/>\n   </g>\n   <g id=\"line2d_95\">\n    <path d=\"M 21.37625 13.377273 \nL 24.63125 52.950961 \nL 27.88625 61.930545 \nL 31.14125 68.311623 \nL 34.39625 77.346665 \nL 37.65125 77.422702 \nL 40.90625 86.051396 \nL 44.16125 85.553098 \nL 47.41625 92.380424 \nL 50.67125 92.884413 \nL 53.92625 98.660521 \nL 57.18125 98.98121 \nL 60.43625 104.772622 \nL 63.69125 103.775518 \nL 66.94625 108.192722 \nL 70.20125 110.069377 \nL 73.45625 113.285811 \nL 76.71125 113.165985 \nL 79.96625 116.449487 \nL 83.22125 117.736162 \nL 86.47625 119.868686 \nL 89.73125 120.79814 \nL 92.98625 122.504215 \nL 96.24125 123.711576 \nL 99.49625 124.66695 \nL 102.75125 126.229254 \nL 106.00625 127.750857 \nL 109.26125 127.125576 \nL 112.51625 129.395541 \n\" clip-path=\"url(#p692c2b73d0)\" style=\"fill: none; stroke: #1f77b4; stroke-width: 1.5; stroke-linecap: square\"/>\n   </g>\n   <g id=\"line2d_96\">\n    <path d=\"M 27.0725 50.268038 \nL 33.5825 56.645213 \nL 40.0925 61.08434 \nL 46.6025 66.705747 \nL 53.1125 66.129438 \nL 59.6225 69.356142 \nL 66.1325 74.65129 \nL 72.6425 70.315716 \nL 79.1525 70.96904 \nL 85.6625 71.918994 \nL 92.1725 67.107159 \nL 98.6825 65.12784 \nL 105.1925 68.701068 \nL 111.7025 59.944005 \n\" clip-path=\"url(#p692c2b73d0)\" style=\"fill: none; stroke-dasharray: 5.55,2.4; stroke-dashoffset: 0; stroke: #ff7f0e; stroke-width: 1.5\"/>\n   </g>\n   <g id=\"line2d_97\">\n    <path d=\"M 21.37625 13.377273 \nL 24.63125 52.950961 \nL 27.88625 61.930545 \nL 31.14125 68.311623 \nL 34.39625 77.346665 \nL 37.65125 77.422702 \nL 40.90625 86.051396 \nL 44.16125 85.553098 \nL 47.41625 92.380424 \nL 50.67125 92.884413 \nL 53.92625 98.660521 \nL 57.18125 98.98121 \nL 60.43625 104.772622 \nL 63.69125 103.775518 \nL 66.94625 108.192722 \nL 70.20125 110.069377 \nL 73.45625 113.285811 \nL 76.71125 113.165985 \nL 79.96625 116.449487 \nL 83.22125 117.736162 \nL 86.47625 119.868686 \nL 89.73125 120.79814 \nL 92.98625 122.504215 \nL 96.24125 123.711576 \nL 99.49625 124.66695 \nL 102.75125 126.229254 \nL 106.00625 127.750857 \nL 109.26125 127.125576 \nL 112.51625 129.395541 \nL 115.77125 129.139362 \n\" clip-path=\"url(#p692c2b73d0)\" style=\"fill: none; stroke: #1f77b4; stroke-width: 1.5; stroke-linecap: square\"/>\n   </g>\n   <g id=\"line2d_98\">\n    <path d=\"M 27.0725 50.268038 \nL 33.5825 56.645213 \nL 40.0925 61.08434 \nL 46.6025 66.705747 \nL 53.1125 66.129438 \nL 59.6225 69.356142 \nL 66.1325 74.65129 \nL 72.6425 70.315716 \nL 79.1525 70.96904 \nL 85.6625 71.918994 \nL 92.1725 67.107159 \nL 98.6825 65.12784 \nL 105.1925 68.701068 \nL 111.7025 59.944005 \n\" clip-path=\"url(#p692c2b73d0)\" style=\"fill: none; stroke-dasharray: 5.55,2.4; stroke-dashoffset: 0; stroke: #ff7f0e; stroke-width: 1.5\"/>\n   </g>\n   <g id=\"line2d_99\">\n    <path d=\"M 21.37625 13.377273 \nL 24.63125 52.950961 \nL 27.88625 61.930545 \nL 31.14125 68.311623 \nL 34.39625 77.346665 \nL 37.65125 77.422702 \nL 40.90625 86.051396 \nL 44.16125 85.553098 \nL 47.41625 92.380424 \nL 50.67125 92.884413 \nL 53.92625 98.660521 \nL 57.18125 98.98121 \nL 60.43625 104.772622 \nL 63.69125 103.775518 \nL 66.94625 108.192722 \nL 70.20125 110.069377 \nL 73.45625 113.285811 \nL 76.71125 113.165985 \nL 79.96625 116.449487 \nL 83.22125 117.736162 \nL 86.47625 119.868686 \nL 89.73125 120.79814 \nL 92.98625 122.504215 \nL 96.24125 123.711576 \nL 99.49625 124.66695 \nL 102.75125 126.229254 \nL 106.00625 127.750857 \nL 109.26125 127.125576 \nL 112.51625 129.395541 \nL 115.77125 129.139362 \n\" clip-path=\"url(#p692c2b73d0)\" style=\"fill: none; stroke: #1f77b4; stroke-width: 1.5; stroke-linecap: square\"/>\n   </g>\n   <g id=\"line2d_100\">\n    <path d=\"M 27.0725 50.268038 \nL 33.5825 56.645213 \nL 40.0925 61.08434 \nL 46.6025 66.705747 \nL 53.1125 66.129438 \nL 59.6225 69.356142 \nL 66.1325 74.65129 \nL 72.6425 70.315716 \nL 79.1525 70.96904 \nL 85.6625 71.918994 \nL 92.1725 67.107159 \nL 98.6825 65.12784 \nL 105.1925 68.701068 \nL 111.7025 59.944005 \nL 118.2125 63.634902 \n\" clip-path=\"url(#p692c2b73d0)\" style=\"fill: none; stroke-dasharray: 5.55,2.4; stroke-dashoffset: 0; stroke: #ff7f0e; stroke-width: 1.5\"/>\n   </g>\n   <g id=\"line2d_101\">\n    <path d=\"M 21.37625 13.377273 \nL 24.63125 52.950961 \nL 27.88625 61.930545 \nL 31.14125 68.311623 \nL 34.39625 77.346665 \nL 37.65125 77.422702 \nL 40.90625 86.051396 \nL 44.16125 85.553098 \nL 47.41625 92.380424 \nL 50.67125 92.884413 \nL 53.92625 98.660521 \nL 57.18125 98.98121 \nL 60.43625 104.772622 \nL 63.69125 103.775518 \nL 66.94625 108.192722 \nL 70.20125 110.069377 \nL 73.45625 113.285811 \nL 76.71125 113.165985 \nL 79.96625 116.449487 \nL 83.22125 117.736162 \nL 86.47625 119.868686 \nL 89.73125 120.79814 \nL 92.98625 122.504215 \nL 96.24125 123.711576 \nL 99.49625 124.66695 \nL 102.75125 126.229254 \nL 106.00625 127.750857 \nL 109.26125 127.125576 \nL 112.51625 129.395541 \nL 115.77125 129.139362 \nL 119.02625 131.267254 \n\" clip-path=\"url(#p692c2b73d0)\" style=\"fill: none; stroke: #1f77b4; stroke-width: 1.5; stroke-linecap: square\"/>\n   </g>\n   <g id=\"line2d_102\">\n    <path d=\"M 27.0725 50.268038 \nL 33.5825 56.645213 \nL 40.0925 61.08434 \nL 46.6025 66.705747 \nL 53.1125 66.129438 \nL 59.6225 69.356142 \nL 66.1325 74.65129 \nL 72.6425 70.315716 \nL 79.1525 70.96904 \nL 85.6625 71.918994 \nL 92.1725 67.107159 \nL 98.6825 65.12784 \nL 105.1925 68.701068 \nL 111.7025 59.944005 \nL 118.2125 63.634902 \n\" clip-path=\"url(#p692c2b73d0)\" style=\"fill: none; stroke-dasharray: 5.55,2.4; stroke-dashoffset: 0; stroke: #ff7f0e; stroke-width: 1.5\"/>\n   </g>\n   <g id=\"line2d_103\">\n    <path d=\"M 21.37625 13.377273 \nL 24.63125 52.950961 \nL 27.88625 61.930545 \nL 31.14125 68.311623 \nL 34.39625 77.346665 \nL 37.65125 77.422702 \nL 40.90625 86.051396 \nL 44.16125 85.553098 \nL 47.41625 92.380424 \nL 50.67125 92.884413 \nL 53.92625 98.660521 \nL 57.18125 98.98121 \nL 60.43625 104.772622 \nL 63.69125 103.775518 \nL 66.94625 108.192722 \nL 70.20125 110.069377 \nL 73.45625 113.285811 \nL 76.71125 113.165985 \nL 79.96625 116.449487 \nL 83.22125 117.736162 \nL 86.47625 119.868686 \nL 89.73125 120.79814 \nL 92.98625 122.504215 \nL 96.24125 123.711576 \nL 99.49625 124.66695 \nL 102.75125 126.229254 \nL 106.00625 127.750857 \nL 109.26125 127.125576 \nL 112.51625 129.395541 \nL 115.77125 129.139362 \nL 119.02625 131.267254 \nL 122.28125 130.577301 \n\" clip-path=\"url(#p692c2b73d0)\" style=\"fill: none; stroke: #1f77b4; stroke-width: 1.5; stroke-linecap: square\"/>\n   </g>\n   <g id=\"line2d_104\">\n    <path d=\"M 27.0725 50.268038 \nL 33.5825 56.645213 \nL 40.0925 61.08434 \nL 46.6025 66.705747 \nL 53.1125 66.129438 \nL 59.6225 69.356142 \nL 66.1325 74.65129 \nL 72.6425 70.315716 \nL 79.1525 70.96904 \nL 85.6625 71.918994 \nL 92.1725 67.107159 \nL 98.6825 65.12784 \nL 105.1925 68.701068 \nL 111.7025 59.944005 \nL 118.2125 63.634902 \n\" clip-path=\"url(#p692c2b73d0)\" style=\"fill: none; stroke-dasharray: 5.55,2.4; stroke-dashoffset: 0; stroke: #ff7f0e; stroke-width: 1.5\"/>\n   </g>\n   <g id=\"line2d_105\">\n    <path d=\"M 21.37625 13.377273 \nL 24.63125 52.950961 \nL 27.88625 61.930545 \nL 31.14125 68.311623 \nL 34.39625 77.346665 \nL 37.65125 77.422702 \nL 40.90625 86.051396 \nL 44.16125 85.553098 \nL 47.41625 92.380424 \nL 50.67125 92.884413 \nL 53.92625 98.660521 \nL 57.18125 98.98121 \nL 60.43625 104.772622 \nL 63.69125 103.775518 \nL 66.94625 108.192722 \nL 70.20125 110.069377 \nL 73.45625 113.285811 \nL 76.71125 113.165985 \nL 79.96625 116.449487 \nL 83.22125 117.736162 \nL 86.47625 119.868686 \nL 89.73125 120.79814 \nL 92.98625 122.504215 \nL 96.24125 123.711576 \nL 99.49625 124.66695 \nL 102.75125 126.229254 \nL 106.00625 127.750857 \nL 109.26125 127.125576 \nL 112.51625 129.395541 \nL 115.77125 129.139362 \nL 119.02625 131.267254 \nL 122.28125 130.577301 \n\" clip-path=\"url(#p692c2b73d0)\" style=\"fill: none; stroke: #1f77b4; stroke-width: 1.5; stroke-linecap: square\"/>\n   </g>\n   <g id=\"line2d_106\">\n    <path d=\"M 27.0725 50.268038 \nL 33.5825 56.645213 \nL 40.0925 61.08434 \nL 46.6025 66.705747 \nL 53.1125 66.129438 \nL 59.6225 69.356142 \nL 66.1325 74.65129 \nL 72.6425 70.315716 \nL 79.1525 70.96904 \nL 85.6625 71.918994 \nL 92.1725 67.107159 \nL 98.6825 65.12784 \nL 105.1925 68.701068 \nL 111.7025 59.944005 \nL 118.2125 63.634902 \nL 124.7225 60.27593 \n\" clip-path=\"url(#p692c2b73d0)\" style=\"fill: none; stroke-dasharray: 5.55,2.4; stroke-dashoffset: 0; stroke: #ff7f0e; stroke-width: 1.5\"/>\n   </g>\n   <g id=\"line2d_107\">\n    <path d=\"M 21.37625 13.377273 \nL 24.63125 52.950961 \nL 27.88625 61.930545 \nL 31.14125 68.311623 \nL 34.39625 77.346665 \nL 37.65125 77.422702 \nL 40.90625 86.051396 \nL 44.16125 85.553098 \nL 47.41625 92.380424 \nL 50.67125 92.884413 \nL 53.92625 98.660521 \nL 57.18125 98.98121 \nL 60.43625 104.772622 \nL 63.69125 103.775518 \nL 66.94625 108.192722 \nL 70.20125 110.069377 \nL 73.45625 113.285811 \nL 76.71125 113.165985 \nL 79.96625 116.449487 \nL 83.22125 117.736162 \nL 86.47625 119.868686 \nL 89.73125 120.79814 \nL 92.98625 122.504215 \nL 96.24125 123.711576 \nL 99.49625 124.66695 \nL 102.75125 126.229254 \nL 106.00625 127.750857 \nL 109.26125 127.125576 \nL 112.51625 129.395541 \nL 115.77125 129.139362 \nL 119.02625 131.267254 \nL 122.28125 130.577301 \nL 125.53625 131.879456 \n\" clip-path=\"url(#p692c2b73d0)\" style=\"fill: none; stroke: #1f77b4; stroke-width: 1.5; stroke-linecap: square\"/>\n   </g>\n   <g id=\"line2d_108\">\n    <path d=\"M 27.0725 50.268038 \nL 33.5825 56.645213 \nL 40.0925 61.08434 \nL 46.6025 66.705747 \nL 53.1125 66.129438 \nL 59.6225 69.356142 \nL 66.1325 74.65129 \nL 72.6425 70.315716 \nL 79.1525 70.96904 \nL 85.6625 71.918994 \nL 92.1725 67.107159 \nL 98.6825 65.12784 \nL 105.1925 68.701068 \nL 111.7025 59.944005 \nL 118.2125 63.634902 \nL 124.7225 60.27593 \n\" clip-path=\"url(#p692c2b73d0)\" style=\"fill: none; stroke-dasharray: 5.55,2.4; stroke-dashoffset: 0; stroke: #ff7f0e; stroke-width: 1.5\"/>\n   </g>\n   <g id=\"line2d_109\">\n    <path d=\"M 21.37625 13.377273 \nL 24.63125 52.950961 \nL 27.88625 61.930545 \nL 31.14125 68.311623 \nL 34.39625 77.346665 \nL 37.65125 77.422702 \nL 40.90625 86.051396 \nL 44.16125 85.553098 \nL 47.41625 92.380424 \nL 50.67125 92.884413 \nL 53.92625 98.660521 \nL 57.18125 98.98121 \nL 60.43625 104.772622 \nL 63.69125 103.775518 \nL 66.94625 108.192722 \nL 70.20125 110.069377 \nL 73.45625 113.285811 \nL 76.71125 113.165985 \nL 79.96625 116.449487 \nL 83.22125 117.736162 \nL 86.47625 119.868686 \nL 89.73125 120.79814 \nL 92.98625 122.504215 \nL 96.24125 123.711576 \nL 99.49625 124.66695 \nL 102.75125 126.229254 \nL 106.00625 127.750857 \nL 109.26125 127.125576 \nL 112.51625 129.395541 \nL 115.77125 129.139362 \nL 119.02625 131.267254 \nL 122.28125 130.577301 \nL 125.53625 131.879456 \nL 128.79125 132.247941 \n\" clip-path=\"url(#p692c2b73d0)\" style=\"fill: none; stroke: #1f77b4; stroke-width: 1.5; stroke-linecap: square\"/>\n   </g>\n   <g id=\"line2d_110\">\n    <path d=\"M 27.0725 50.268038 \nL 33.5825 56.645213 \nL 40.0925 61.08434 \nL 46.6025 66.705747 \nL 53.1125 66.129438 \nL 59.6225 69.356142 \nL 66.1325 74.65129 \nL 72.6425 70.315716 \nL 79.1525 70.96904 \nL 85.6625 71.918994 \nL 92.1725 67.107159 \nL 98.6825 65.12784 \nL 105.1925 68.701068 \nL 111.7025 59.944005 \nL 118.2125 63.634902 \nL 124.7225 60.27593 \n\" clip-path=\"url(#p692c2b73d0)\" style=\"fill: none; stroke-dasharray: 5.55,2.4; stroke-dashoffset: 0; stroke: #ff7f0e; stroke-width: 1.5\"/>\n   </g>\n   <g id=\"line2d_111\">\n    <path d=\"M 21.37625 13.377273 \nL 24.63125 52.950961 \nL 27.88625 61.930545 \nL 31.14125 68.311623 \nL 34.39625 77.346665 \nL 37.65125 77.422702 \nL 40.90625 86.051396 \nL 44.16125 85.553098 \nL 47.41625 92.380424 \nL 50.67125 92.884413 \nL 53.92625 98.660521 \nL 57.18125 98.98121 \nL 60.43625 104.772622 \nL 63.69125 103.775518 \nL 66.94625 108.192722 \nL 70.20125 110.069377 \nL 73.45625 113.285811 \nL 76.71125 113.165985 \nL 79.96625 116.449487 \nL 83.22125 117.736162 \nL 86.47625 119.868686 \nL 89.73125 120.79814 \nL 92.98625 122.504215 \nL 96.24125 123.711576 \nL 99.49625 124.66695 \nL 102.75125 126.229254 \nL 106.00625 127.750857 \nL 109.26125 127.125576 \nL 112.51625 129.395541 \nL 115.77125 129.139362 \nL 119.02625 131.267254 \nL 122.28125 130.577301 \nL 125.53625 131.879456 \nL 128.79125 132.247941 \n\" clip-path=\"url(#p692c2b73d0)\" style=\"fill: none; stroke: #1f77b4; stroke-width: 1.5; stroke-linecap: square\"/>\n   </g>\n   <g id=\"line2d_112\">\n    <path d=\"M 27.0725 50.268038 \nL 33.5825 56.645213 \nL 40.0925 61.08434 \nL 46.6025 66.705747 \nL 53.1125 66.129438 \nL 59.6225 69.356142 \nL 66.1325 74.65129 \nL 72.6425 70.315716 \nL 79.1525 70.96904 \nL 85.6625 71.918994 \nL 92.1725 67.107159 \nL 98.6825 65.12784 \nL 105.1925 68.701068 \nL 111.7025 59.944005 \nL 118.2125 63.634902 \nL 124.7225 60.27593 \nL 131.2325 63.736588 \n\" clip-path=\"url(#p692c2b73d0)\" style=\"fill: none; stroke-dasharray: 5.55,2.4; stroke-dashoffset: 0; stroke: #ff7f0e; stroke-width: 1.5\"/>\n   </g>\n   <g id=\"line2d_113\">\n    <path d=\"M 21.37625 13.377273 \nL 24.63125 52.950961 \nL 27.88625 61.930545 \nL 31.14125 68.311623 \nL 34.39625 77.346665 \nL 37.65125 77.422702 \nL 40.90625 86.051396 \nL 44.16125 85.553098 \nL 47.41625 92.380424 \nL 50.67125 92.884413 \nL 53.92625 98.660521 \nL 57.18125 98.98121 \nL 60.43625 104.772622 \nL 63.69125 103.775518 \nL 66.94625 108.192722 \nL 70.20125 110.069377 \nL 73.45625 113.285811 \nL 76.71125 113.165985 \nL 79.96625 116.449487 \nL 83.22125 117.736162 \nL 86.47625 119.868686 \nL 89.73125 120.79814 \nL 92.98625 122.504215 \nL 96.24125 123.711576 \nL 99.49625 124.66695 \nL 102.75125 126.229254 \nL 106.00625 127.750857 \nL 109.26125 127.125576 \nL 112.51625 129.395541 \nL 115.77125 129.139362 \nL 119.02625 131.267254 \nL 122.28125 130.577301 \nL 125.53625 131.879456 \nL 128.79125 132.247941 \nL 132.04625 133.219798 \n\" clip-path=\"url(#p692c2b73d0)\" style=\"fill: none; stroke: #1f77b4; stroke-width: 1.5; stroke-linecap: square\"/>\n   </g>\n   <g id=\"line2d_114\">\n    <path d=\"M 27.0725 50.268038 \nL 33.5825 56.645213 \nL 40.0925 61.08434 \nL 46.6025 66.705747 \nL 53.1125 66.129438 \nL 59.6225 69.356142 \nL 66.1325 74.65129 \nL 72.6425 70.315716 \nL 79.1525 70.96904 \nL 85.6625 71.918994 \nL 92.1725 67.107159 \nL 98.6825 65.12784 \nL 105.1925 68.701068 \nL 111.7025 59.944005 \nL 118.2125 63.634902 \nL 124.7225 60.27593 \nL 131.2325 63.736588 \n\" clip-path=\"url(#p692c2b73d0)\" style=\"fill: none; stroke-dasharray: 5.55,2.4; stroke-dashoffset: 0; stroke: #ff7f0e; stroke-width: 1.5\"/>\n   </g>\n   <g id=\"line2d_115\">\n    <path d=\"M 21.37625 13.377273 \nL 24.63125 52.950961 \nL 27.88625 61.930545 \nL 31.14125 68.311623 \nL 34.39625 77.346665 \nL 37.65125 77.422702 \nL 40.90625 86.051396 \nL 44.16125 85.553098 \nL 47.41625 92.380424 \nL 50.67125 92.884413 \nL 53.92625 98.660521 \nL 57.18125 98.98121 \nL 60.43625 104.772622 \nL 63.69125 103.775518 \nL 66.94625 108.192722 \nL 70.20125 110.069377 \nL 73.45625 113.285811 \nL 76.71125 113.165985 \nL 79.96625 116.449487 \nL 83.22125 117.736162 \nL 86.47625 119.868686 \nL 89.73125 120.79814 \nL 92.98625 122.504215 \nL 96.24125 123.711576 \nL 99.49625 124.66695 \nL 102.75125 126.229254 \nL 106.00625 127.750857 \nL 109.26125 127.125576 \nL 112.51625 129.395541 \nL 115.77125 129.139362 \nL 119.02625 131.267254 \nL 122.28125 130.577301 \nL 125.53625 131.879456 \nL 128.79125 132.247941 \nL 132.04625 133.219798 \nL 135.30125 132.768176 \n\" clip-path=\"url(#p692c2b73d0)\" style=\"fill: none; stroke: #1f77b4; stroke-width: 1.5; stroke-linecap: square\"/>\n   </g>\n   <g id=\"line2d_116\">\n    <path d=\"M 27.0725 50.268038 \nL 33.5825 56.645213 \nL 40.0925 61.08434 \nL 46.6025 66.705747 \nL 53.1125 66.129438 \nL 59.6225 69.356142 \nL 66.1325 74.65129 \nL 72.6425 70.315716 \nL 79.1525 70.96904 \nL 85.6625 71.918994 \nL 92.1725 67.107159 \nL 98.6825 65.12784 \nL 105.1925 68.701068 \nL 111.7025 59.944005 \nL 118.2125 63.634902 \nL 124.7225 60.27593 \nL 131.2325 63.736588 \n\" clip-path=\"url(#p692c2b73d0)\" style=\"fill: none; stroke-dasharray: 5.55,2.4; stroke-dashoffset: 0; stroke: #ff7f0e; stroke-width: 1.5\"/>\n   </g>\n   <g id=\"line2d_117\">\n    <path d=\"M 21.37625 13.377273 \nL 24.63125 52.950961 \nL 27.88625 61.930545 \nL 31.14125 68.311623 \nL 34.39625 77.346665 \nL 37.65125 77.422702 \nL 40.90625 86.051396 \nL 44.16125 85.553098 \nL 47.41625 92.380424 \nL 50.67125 92.884413 \nL 53.92625 98.660521 \nL 57.18125 98.98121 \nL 60.43625 104.772622 \nL 63.69125 103.775518 \nL 66.94625 108.192722 \nL 70.20125 110.069377 \nL 73.45625 113.285811 \nL 76.71125 113.165985 \nL 79.96625 116.449487 \nL 83.22125 117.736162 \nL 86.47625 119.868686 \nL 89.73125 120.79814 \nL 92.98625 122.504215 \nL 96.24125 123.711576 \nL 99.49625 124.66695 \nL 102.75125 126.229254 \nL 106.00625 127.750857 \nL 109.26125 127.125576 \nL 112.51625 129.395541 \nL 115.77125 129.139362 \nL 119.02625 131.267254 \nL 122.28125 130.577301 \nL 125.53625 131.879456 \nL 128.79125 132.247941 \nL 132.04625 133.219798 \nL 135.30125 132.768176 \n\" clip-path=\"url(#p692c2b73d0)\" style=\"fill: none; stroke: #1f77b4; stroke-width: 1.5; stroke-linecap: square\"/>\n   </g>\n   <g id=\"line2d_118\">\n    <path d=\"M 27.0725 50.268038 \nL 33.5825 56.645213 \nL 40.0925 61.08434 \nL 46.6025 66.705747 \nL 53.1125 66.129438 \nL 59.6225 69.356142 \nL 66.1325 74.65129 \nL 72.6425 70.315716 \nL 79.1525 70.96904 \nL 85.6625 71.918994 \nL 92.1725 67.107159 \nL 98.6825 65.12784 \nL 105.1925 68.701068 \nL 111.7025 59.944005 \nL 118.2125 63.634902 \nL 124.7225 60.27593 \nL 131.2325 63.736588 \nL 137.7425 59.209083 \n\" clip-path=\"url(#p692c2b73d0)\" style=\"fill: none; stroke-dasharray: 5.55,2.4; stroke-dashoffset: 0; stroke: #ff7f0e; stroke-width: 1.5\"/>\n   </g>\n   <g id=\"line2d_119\">\n    <path d=\"M 21.37625 13.377273 \nL 24.63125 52.950961 \nL 27.88625 61.930545 \nL 31.14125 68.311623 \nL 34.39625 77.346665 \nL 37.65125 77.422702 \nL 40.90625 86.051396 \nL 44.16125 85.553098 \nL 47.41625 92.380424 \nL 50.67125 92.884413 \nL 53.92625 98.660521 \nL 57.18125 98.98121 \nL 60.43625 104.772622 \nL 63.69125 103.775518 \nL 66.94625 108.192722 \nL 70.20125 110.069377 \nL 73.45625 113.285811 \nL 76.71125 113.165985 \nL 79.96625 116.449487 \nL 83.22125 117.736162 \nL 86.47625 119.868686 \nL 89.73125 120.79814 \nL 92.98625 122.504215 \nL 96.24125 123.711576 \nL 99.49625 124.66695 \nL 102.75125 126.229254 \nL 106.00625 127.750857 \nL 109.26125 127.125576 \nL 112.51625 129.395541 \nL 115.77125 129.139362 \nL 119.02625 131.267254 \nL 122.28125 130.577301 \nL 125.53625 131.879456 \nL 128.79125 132.247941 \nL 132.04625 133.219798 \nL 135.30125 132.768176 \nL 138.55625 134.006439 \n\" clip-path=\"url(#p692c2b73d0)\" style=\"fill: none; stroke: #1f77b4; stroke-width: 1.5; stroke-linecap: square\"/>\n   </g>\n   <g id=\"line2d_120\">\n    <path d=\"M 27.0725 50.268038 \nL 33.5825 56.645213 \nL 40.0925 61.08434 \nL 46.6025 66.705747 \nL 53.1125 66.129438 \nL 59.6225 69.356142 \nL 66.1325 74.65129 \nL 72.6425 70.315716 \nL 79.1525 70.96904 \nL 85.6625 71.918994 \nL 92.1725 67.107159 \nL 98.6825 65.12784 \nL 105.1925 68.701068 \nL 111.7025 59.944005 \nL 118.2125 63.634902 \nL 124.7225 60.27593 \nL 131.2325 63.736588 \nL 137.7425 59.209083 \n\" clip-path=\"url(#p692c2b73d0)\" style=\"fill: none; stroke-dasharray: 5.55,2.4; stroke-dashoffset: 0; stroke: #ff7f0e; stroke-width: 1.5\"/>\n   </g>\n   <g id=\"line2d_121\">\n    <path d=\"M 21.37625 13.377273 \nL 24.63125 52.950961 \nL 27.88625 61.930545 \nL 31.14125 68.311623 \nL 34.39625 77.346665 \nL 37.65125 77.422702 \nL 40.90625 86.051396 \nL 44.16125 85.553098 \nL 47.41625 92.380424 \nL 50.67125 92.884413 \nL 53.92625 98.660521 \nL 57.18125 98.98121 \nL 60.43625 104.772622 \nL 63.69125 103.775518 \nL 66.94625 108.192722 \nL 70.20125 110.069377 \nL 73.45625 113.285811 \nL 76.71125 113.165985 \nL 79.96625 116.449487 \nL 83.22125 117.736162 \nL 86.47625 119.868686 \nL 89.73125 120.79814 \nL 92.98625 122.504215 \nL 96.24125 123.711576 \nL 99.49625 124.66695 \nL 102.75125 126.229254 \nL 106.00625 127.750857 \nL 109.26125 127.125576 \nL 112.51625 129.395541 \nL 115.77125 129.139362 \nL 119.02625 131.267254 \nL 122.28125 130.577301 \nL 125.53625 131.879456 \nL 128.79125 132.247941 \nL 132.04625 133.219798 \nL 135.30125 132.768176 \nL 138.55625 134.006439 \nL 141.81125 133.385626 \n\" clip-path=\"url(#p692c2b73d0)\" style=\"fill: none; stroke: #1f77b4; stroke-width: 1.5; stroke-linecap: square\"/>\n   </g>\n   <g id=\"line2d_122\">\n    <path d=\"M 27.0725 50.268038 \nL 33.5825 56.645213 \nL 40.0925 61.08434 \nL 46.6025 66.705747 \nL 53.1125 66.129438 \nL 59.6225 69.356142 \nL 66.1325 74.65129 \nL 72.6425 70.315716 \nL 79.1525 70.96904 \nL 85.6625 71.918994 \nL 92.1725 67.107159 \nL 98.6825 65.12784 \nL 105.1925 68.701068 \nL 111.7025 59.944005 \nL 118.2125 63.634902 \nL 124.7225 60.27593 \nL 131.2325 63.736588 \nL 137.7425 59.209083 \n\" clip-path=\"url(#p692c2b73d0)\" style=\"fill: none; stroke-dasharray: 5.55,2.4; stroke-dashoffset: 0; stroke: #ff7f0e; stroke-width: 1.5\"/>\n   </g>\n   <g id=\"line2d_123\">\n    <path d=\"M 21.37625 13.377273 \nL 24.63125 52.950961 \nL 27.88625 61.930545 \nL 31.14125 68.311623 \nL 34.39625 77.346665 \nL 37.65125 77.422702 \nL 40.90625 86.051396 \nL 44.16125 85.553098 \nL 47.41625 92.380424 \nL 50.67125 92.884413 \nL 53.92625 98.660521 \nL 57.18125 98.98121 \nL 60.43625 104.772622 \nL 63.69125 103.775518 \nL 66.94625 108.192722 \nL 70.20125 110.069377 \nL 73.45625 113.285811 \nL 76.71125 113.165985 \nL 79.96625 116.449487 \nL 83.22125 117.736162 \nL 86.47625 119.868686 \nL 89.73125 120.79814 \nL 92.98625 122.504215 \nL 96.24125 123.711576 \nL 99.49625 124.66695 \nL 102.75125 126.229254 \nL 106.00625 127.750857 \nL 109.26125 127.125576 \nL 112.51625 129.395541 \nL 115.77125 129.139362 \nL 119.02625 131.267254 \nL 122.28125 130.577301 \nL 125.53625 131.879456 \nL 128.79125 132.247941 \nL 132.04625 133.219798 \nL 135.30125 132.768176 \nL 138.55625 134.006439 \nL 141.81125 133.385626 \n\" clip-path=\"url(#p692c2b73d0)\" style=\"fill: none; stroke: #1f77b4; stroke-width: 1.5; stroke-linecap: square\"/>\n   </g>\n   <g id=\"line2d_124\">\n    <path d=\"M 27.0725 50.268038 \nL 33.5825 56.645213 \nL 40.0925 61.08434 \nL 46.6025 66.705747 \nL 53.1125 66.129438 \nL 59.6225 69.356142 \nL 66.1325 74.65129 \nL 72.6425 70.315716 \nL 79.1525 70.96904 \nL 85.6625 71.918994 \nL 92.1725 67.107159 \nL 98.6825 65.12784 \nL 105.1925 68.701068 \nL 111.7025 59.944005 \nL 118.2125 63.634902 \nL 124.7225 60.27593 \nL 131.2325 63.736588 \nL 137.7425 59.209083 \nL 144.2525 56.240094 \n\" clip-path=\"url(#p692c2b73d0)\" style=\"fill: none; stroke-dasharray: 5.55,2.4; stroke-dashoffset: 0; stroke: #ff7f0e; stroke-width: 1.5\"/>\n   </g>\n   <g id=\"line2d_125\">\n    <path d=\"M 21.37625 13.377273 \nL 24.63125 52.950961 \nL 27.88625 61.930545 \nL 31.14125 68.311623 \nL 34.39625 77.346665 \nL 37.65125 77.422702 \nL 40.90625 86.051396 \nL 44.16125 85.553098 \nL 47.41625 92.380424 \nL 50.67125 92.884413 \nL 53.92625 98.660521 \nL 57.18125 98.98121 \nL 60.43625 104.772622 \nL 63.69125 103.775518 \nL 66.94625 108.192722 \nL 70.20125 110.069377 \nL 73.45625 113.285811 \nL 76.71125 113.165985 \nL 79.96625 116.449487 \nL 83.22125 117.736162 \nL 86.47625 119.868686 \nL 89.73125 120.79814 \nL 92.98625 122.504215 \nL 96.24125 123.711576 \nL 99.49625 124.66695 \nL 102.75125 126.229254 \nL 106.00625 127.750857 \nL 109.26125 127.125576 \nL 112.51625 129.395541 \nL 115.77125 129.139362 \nL 119.02625 131.267254 \nL 122.28125 130.577301 \nL 125.53625 131.879456 \nL 128.79125 132.247941 \nL 132.04625 133.219798 \nL 135.30125 132.768176 \nL 138.55625 134.006439 \nL 141.81125 133.385626 \nL 145.06625 134.874743 \n\" clip-path=\"url(#p692c2b73d0)\" style=\"fill: none; stroke: #1f77b4; stroke-width: 1.5; stroke-linecap: square\"/>\n   </g>\n   <g id=\"line2d_126\">\n    <path d=\"M 27.0725 50.268038 \nL 33.5825 56.645213 \nL 40.0925 61.08434 \nL 46.6025 66.705747 \nL 53.1125 66.129438 \nL 59.6225 69.356142 \nL 66.1325 74.65129 \nL 72.6425 70.315716 \nL 79.1525 70.96904 \nL 85.6625 71.918994 \nL 92.1725 67.107159 \nL 98.6825 65.12784 \nL 105.1925 68.701068 \nL 111.7025 59.944005 \nL 118.2125 63.634902 \nL 124.7225 60.27593 \nL 131.2325 63.736588 \nL 137.7425 59.209083 \nL 144.2525 56.240094 \n\" clip-path=\"url(#p692c2b73d0)\" style=\"fill: none; stroke-dasharray: 5.55,2.4; stroke-dashoffset: 0; stroke: #ff7f0e; stroke-width: 1.5\"/>\n   </g>\n   <g id=\"line2d_127\">\n    <path d=\"M 21.37625 13.377273 \nL 24.63125 52.950961 \nL 27.88625 61.930545 \nL 31.14125 68.311623 \nL 34.39625 77.346665 \nL 37.65125 77.422702 \nL 40.90625 86.051396 \nL 44.16125 85.553098 \nL 47.41625 92.380424 \nL 50.67125 92.884413 \nL 53.92625 98.660521 \nL 57.18125 98.98121 \nL 60.43625 104.772622 \nL 63.69125 103.775518 \nL 66.94625 108.192722 \nL 70.20125 110.069377 \nL 73.45625 113.285811 \nL 76.71125 113.165985 \nL 79.96625 116.449487 \nL 83.22125 117.736162 \nL 86.47625 119.868686 \nL 89.73125 120.79814 \nL 92.98625 122.504215 \nL 96.24125 123.711576 \nL 99.49625 124.66695 \nL 102.75125 126.229254 \nL 106.00625 127.750857 \nL 109.26125 127.125576 \nL 112.51625 129.395541 \nL 115.77125 129.139362 \nL 119.02625 131.267254 \nL 122.28125 130.577301 \nL 125.53625 131.879456 \nL 128.79125 132.247941 \nL 132.04625 133.219798 \nL 135.30125 132.768176 \nL 138.55625 134.006439 \nL 141.81125 133.385626 \nL 145.06625 134.874743 \nL 148.32125 134.188649 \n\" clip-path=\"url(#p692c2b73d0)\" style=\"fill: none; stroke: #1f77b4; stroke-width: 1.5; stroke-linecap: square\"/>\n   </g>\n   <g id=\"line2d_128\">\n    <path d=\"M 27.0725 50.268038 \nL 33.5825 56.645213 \nL 40.0925 61.08434 \nL 46.6025 66.705747 \nL 53.1125 66.129438 \nL 59.6225 69.356142 \nL 66.1325 74.65129 \nL 72.6425 70.315716 \nL 79.1525 70.96904 \nL 85.6625 71.918994 \nL 92.1725 67.107159 \nL 98.6825 65.12784 \nL 105.1925 68.701068 \nL 111.7025 59.944005 \nL 118.2125 63.634902 \nL 124.7225 60.27593 \nL 131.2325 63.736588 \nL 137.7425 59.209083 \nL 144.2525 56.240094 \n\" clip-path=\"url(#p692c2b73d0)\" style=\"fill: none; stroke-dasharray: 5.55,2.4; stroke-dashoffset: 0; stroke: #ff7f0e; stroke-width: 1.5\"/>\n   </g>\n   <g id=\"line2d_129\">\n    <path d=\"M 21.37625 13.377273 \nL 24.63125 52.950961 \nL 27.88625 61.930545 \nL 31.14125 68.311623 \nL 34.39625 77.346665 \nL 37.65125 77.422702 \nL 40.90625 86.051396 \nL 44.16125 85.553098 \nL 47.41625 92.380424 \nL 50.67125 92.884413 \nL 53.92625 98.660521 \nL 57.18125 98.98121 \nL 60.43625 104.772622 \nL 63.69125 103.775518 \nL 66.94625 108.192722 \nL 70.20125 110.069377 \nL 73.45625 113.285811 \nL 76.71125 113.165985 \nL 79.96625 116.449487 \nL 83.22125 117.736162 \nL 86.47625 119.868686 \nL 89.73125 120.79814 \nL 92.98625 122.504215 \nL 96.24125 123.711576 \nL 99.49625 124.66695 \nL 102.75125 126.229254 \nL 106.00625 127.750857 \nL 109.26125 127.125576 \nL 112.51625 129.395541 \nL 115.77125 129.139362 \nL 119.02625 131.267254 \nL 122.28125 130.577301 \nL 125.53625 131.879456 \nL 128.79125 132.247941 \nL 132.04625 133.219798 \nL 135.30125 132.768176 \nL 138.55625 134.006439 \nL 141.81125 133.385626 \nL 145.06625 134.874743 \nL 148.32125 134.188649 \n\" clip-path=\"url(#p692c2b73d0)\" style=\"fill: none; stroke: #1f77b4; stroke-width: 1.5; stroke-linecap: square\"/>\n   </g>\n   <g id=\"line2d_130\">\n    <path d=\"M 27.0725 50.268038 \nL 33.5825 56.645213 \nL 40.0925 61.08434 \nL 46.6025 66.705747 \nL 53.1125 66.129438 \nL 59.6225 69.356142 \nL 66.1325 74.65129 \nL 72.6425 70.315716 \nL 79.1525 70.96904 \nL 85.6625 71.918994 \nL 92.1725 67.107159 \nL 98.6825 65.12784 \nL 105.1925 68.701068 \nL 111.7025 59.944005 \nL 118.2125 63.634902 \nL 124.7225 60.27593 \nL 131.2325 63.736588 \nL 137.7425 59.209083 \nL 144.2525 56.240094 \nL 150.7625 56.067126 \n\" clip-path=\"url(#p692c2b73d0)\" style=\"fill: none; stroke-dasharray: 5.55,2.4; stroke-dashoffset: 0; stroke: #ff7f0e; stroke-width: 1.5\"/>\n   </g>\n   <g id=\"line2d_131\">\n    <path d=\"M 21.37625 13.377273 \nL 24.63125 52.950961 \nL 27.88625 61.930545 \nL 31.14125 68.311623 \nL 34.39625 77.346665 \nL 37.65125 77.422702 \nL 40.90625 86.051396 \nL 44.16125 85.553098 \nL 47.41625 92.380424 \nL 50.67125 92.884413 \nL 53.92625 98.660521 \nL 57.18125 98.98121 \nL 60.43625 104.772622 \nL 63.69125 103.775518 \nL 66.94625 108.192722 \nL 70.20125 110.069377 \nL 73.45625 113.285811 \nL 76.71125 113.165985 \nL 79.96625 116.449487 \nL 83.22125 117.736162 \nL 86.47625 119.868686 \nL 89.73125 120.79814 \nL 92.98625 122.504215 \nL 96.24125 123.711576 \nL 99.49625 124.66695 \nL 102.75125 126.229254 \nL 106.00625 127.750857 \nL 109.26125 127.125576 \nL 112.51625 129.395541 \nL 115.77125 129.139362 \nL 119.02625 131.267254 \nL 122.28125 130.577301 \nL 125.53625 131.879456 \nL 128.79125 132.247941 \nL 132.04625 133.219798 \nL 135.30125 132.768176 \nL 138.55625 134.006439 \nL 141.81125 133.385626 \nL 145.06625 134.874743 \nL 148.32125 134.188649 \nL 151.57625 135.48797 \n\" clip-path=\"url(#p692c2b73d0)\" style=\"fill: none; stroke: #1f77b4; stroke-width: 1.5; stroke-linecap: square\"/>\n   </g>\n   <g id=\"line2d_132\">\n    <path d=\"M 27.0725 50.268038 \nL 33.5825 56.645213 \nL 40.0925 61.08434 \nL 46.6025 66.705747 \nL 53.1125 66.129438 \nL 59.6225 69.356142 \nL 66.1325 74.65129 \nL 72.6425 70.315716 \nL 79.1525 70.96904 \nL 85.6625 71.918994 \nL 92.1725 67.107159 \nL 98.6825 65.12784 \nL 105.1925 68.701068 \nL 111.7025 59.944005 \nL 118.2125 63.634902 \nL 124.7225 60.27593 \nL 131.2325 63.736588 \nL 137.7425 59.209083 \nL 144.2525 56.240094 \nL 150.7625 56.067126 \n\" clip-path=\"url(#p692c2b73d0)\" style=\"fill: none; stroke-dasharray: 5.55,2.4; stroke-dashoffset: 0; stroke: #ff7f0e; stroke-width: 1.5\"/>\n   </g>\n   <g id=\"line2d_133\">\n    <path d=\"M 21.37625 13.377273 \nL 24.63125 52.950961 \nL 27.88625 61.930545 \nL 31.14125 68.311623 \nL 34.39625 77.346665 \nL 37.65125 77.422702 \nL 40.90625 86.051396 \nL 44.16125 85.553098 \nL 47.41625 92.380424 \nL 50.67125 92.884413 \nL 53.92625 98.660521 \nL 57.18125 98.98121 \nL 60.43625 104.772622 \nL 63.69125 103.775518 \nL 66.94625 108.192722 \nL 70.20125 110.069377 \nL 73.45625 113.285811 \nL 76.71125 113.165985 \nL 79.96625 116.449487 \nL 83.22125 117.736162 \nL 86.47625 119.868686 \nL 89.73125 120.79814 \nL 92.98625 122.504215 \nL 96.24125 123.711576 \nL 99.49625 124.66695 \nL 102.75125 126.229254 \nL 106.00625 127.750857 \nL 109.26125 127.125576 \nL 112.51625 129.395541 \nL 115.77125 129.139362 \nL 119.02625 131.267254 \nL 122.28125 130.577301 \nL 125.53625 131.879456 \nL 128.79125 132.247941 \nL 132.04625 133.219798 \nL 135.30125 132.768176 \nL 138.55625 134.006439 \nL 141.81125 133.385626 \nL 145.06625 134.874743 \nL 148.32125 134.188649 \nL 151.57625 135.48797 \nL 154.83125 134.230255 \n\" clip-path=\"url(#p692c2b73d0)\" style=\"fill: none; stroke: #1f77b4; stroke-width: 1.5; stroke-linecap: square\"/>\n   </g>\n   <g id=\"line2d_134\">\n    <path d=\"M 27.0725 50.268038 \nL 33.5825 56.645213 \nL 40.0925 61.08434 \nL 46.6025 66.705747 \nL 53.1125 66.129438 \nL 59.6225 69.356142 \nL 66.1325 74.65129 \nL 72.6425 70.315716 \nL 79.1525 70.96904 \nL 85.6625 71.918994 \nL 92.1725 67.107159 \nL 98.6825 65.12784 \nL 105.1925 68.701068 \nL 111.7025 59.944005 \nL 118.2125 63.634902 \nL 124.7225 60.27593 \nL 131.2325 63.736588 \nL 137.7425 59.209083 \nL 144.2525 56.240094 \nL 150.7625 56.067126 \n\" clip-path=\"url(#p692c2b73d0)\" style=\"fill: none; stroke-dasharray: 5.55,2.4; stroke-dashoffset: 0; stroke: #ff7f0e; stroke-width: 1.5\"/>\n   </g>\n   <g id=\"line2d_135\">\n    <path d=\"M 21.37625 13.377273 \nL 24.63125 52.950961 \nL 27.88625 61.930545 \nL 31.14125 68.311623 \nL 34.39625 77.346665 \nL 37.65125 77.422702 \nL 40.90625 86.051396 \nL 44.16125 85.553098 \nL 47.41625 92.380424 \nL 50.67125 92.884413 \nL 53.92625 98.660521 \nL 57.18125 98.98121 \nL 60.43625 104.772622 \nL 63.69125 103.775518 \nL 66.94625 108.192722 \nL 70.20125 110.069377 \nL 73.45625 113.285811 \nL 76.71125 113.165985 \nL 79.96625 116.449487 \nL 83.22125 117.736162 \nL 86.47625 119.868686 \nL 89.73125 120.79814 \nL 92.98625 122.504215 \nL 96.24125 123.711576 \nL 99.49625 124.66695 \nL 102.75125 126.229254 \nL 106.00625 127.750857 \nL 109.26125 127.125576 \nL 112.51625 129.395541 \nL 115.77125 129.139362 \nL 119.02625 131.267254 \nL 122.28125 130.577301 \nL 125.53625 131.879456 \nL 128.79125 132.247941 \nL 132.04625 133.219798 \nL 135.30125 132.768176 \nL 138.55625 134.006439 \nL 141.81125 133.385626 \nL 145.06625 134.874743 \nL 148.32125 134.188649 \nL 151.57625 135.48797 \nL 154.83125 134.230255 \n\" clip-path=\"url(#p692c2b73d0)\" style=\"fill: none; stroke: #1f77b4; stroke-width: 1.5; stroke-linecap: square\"/>\n   </g>\n   <g id=\"line2d_136\">\n    <path d=\"M 27.0725 50.268038 \nL 33.5825 56.645213 \nL 40.0925 61.08434 \nL 46.6025 66.705747 \nL 53.1125 66.129438 \nL 59.6225 69.356142 \nL 66.1325 74.65129 \nL 72.6425 70.315716 \nL 79.1525 70.96904 \nL 85.6625 71.918994 \nL 92.1725 67.107159 \nL 98.6825 65.12784 \nL 105.1925 68.701068 \nL 111.7025 59.944005 \nL 118.2125 63.634902 \nL 124.7225 60.27593 \nL 131.2325 63.736588 \nL 137.7425 59.209083 \nL 144.2525 56.240094 \nL 150.7625 56.067126 \nL 157.2725 59.171474 \n\" clip-path=\"url(#p692c2b73d0)\" style=\"fill: none; stroke-dasharray: 5.55,2.4; stroke-dashoffset: 0; stroke: #ff7f0e; stroke-width: 1.5\"/>\n   </g>\n   <g id=\"line2d_137\">\n    <path d=\"M 21.37625 13.377273 \nL 24.63125 52.950961 \nL 27.88625 61.930545 \nL 31.14125 68.311623 \nL 34.39625 77.346665 \nL 37.65125 77.422702 \nL 40.90625 86.051396 \nL 44.16125 85.553098 \nL 47.41625 92.380424 \nL 50.67125 92.884413 \nL 53.92625 98.660521 \nL 57.18125 98.98121 \nL 60.43625 104.772622 \nL 63.69125 103.775518 \nL 66.94625 108.192722 \nL 70.20125 110.069377 \nL 73.45625 113.285811 \nL 76.71125 113.165985 \nL 79.96625 116.449487 \nL 83.22125 117.736162 \nL 86.47625 119.868686 \nL 89.73125 120.79814 \nL 92.98625 122.504215 \nL 96.24125 123.711576 \nL 99.49625 124.66695 \nL 102.75125 126.229254 \nL 106.00625 127.750857 \nL 109.26125 127.125576 \nL 112.51625 129.395541 \nL 115.77125 129.139362 \nL 119.02625 131.267254 \nL 122.28125 130.577301 \nL 125.53625 131.879456 \nL 128.79125 132.247941 \nL 132.04625 133.219798 \nL 135.30125 132.768176 \nL 138.55625 134.006439 \nL 141.81125 133.385626 \nL 145.06625 134.874743 \nL 148.32125 134.188649 \nL 151.57625 135.48797 \nL 154.83125 134.230255 \nL 158.08625 135.025498 \n\" clip-path=\"url(#p692c2b73d0)\" style=\"fill: none; stroke: #1f77b4; stroke-width: 1.5; stroke-linecap: square\"/>\n   </g>\n   <g id=\"line2d_138\">\n    <path d=\"M 27.0725 50.268038 \nL 33.5825 56.645213 \nL 40.0925 61.08434 \nL 46.6025 66.705747 \nL 53.1125 66.129438 \nL 59.6225 69.356142 \nL 66.1325 74.65129 \nL 72.6425 70.315716 \nL 79.1525 70.96904 \nL 85.6625 71.918994 \nL 92.1725 67.107159 \nL 98.6825 65.12784 \nL 105.1925 68.701068 \nL 111.7025 59.944005 \nL 118.2125 63.634902 \nL 124.7225 60.27593 \nL 131.2325 63.736588 \nL 137.7425 59.209083 \nL 144.2525 56.240094 \nL 150.7625 56.067126 \nL 157.2725 59.171474 \n\" clip-path=\"url(#p692c2b73d0)\" style=\"fill: none; stroke-dasharray: 5.55,2.4; stroke-dashoffset: 0; stroke: #ff7f0e; stroke-width: 1.5\"/>\n   </g>\n   <g id=\"line2d_139\">\n    <path d=\"M 21.37625 13.377273 \nL 24.63125 52.950961 \nL 27.88625 61.930545 \nL 31.14125 68.311623 \nL 34.39625 77.346665 \nL 37.65125 77.422702 \nL 40.90625 86.051396 \nL 44.16125 85.553098 \nL 47.41625 92.380424 \nL 50.67125 92.884413 \nL 53.92625 98.660521 \nL 57.18125 98.98121 \nL 60.43625 104.772622 \nL 63.69125 103.775518 \nL 66.94625 108.192722 \nL 70.20125 110.069377 \nL 73.45625 113.285811 \nL 76.71125 113.165985 \nL 79.96625 116.449487 \nL 83.22125 117.736162 \nL 86.47625 119.868686 \nL 89.73125 120.79814 \nL 92.98625 122.504215 \nL 96.24125 123.711576 \nL 99.49625 124.66695 \nL 102.75125 126.229254 \nL 106.00625 127.750857 \nL 109.26125 127.125576 \nL 112.51625 129.395541 \nL 115.77125 129.139362 \nL 119.02625 131.267254 \nL 122.28125 130.577301 \nL 125.53625 131.879456 \nL 128.79125 132.247941 \nL 132.04625 133.219798 \nL 135.30125 132.768176 \nL 138.55625 134.006439 \nL 141.81125 133.385626 \nL 145.06625 134.874743 \nL 148.32125 134.188649 \nL 151.57625 135.48797 \nL 154.83125 134.230255 \nL 158.08625 135.025498 \nL 161.34125 135.512694 \n\" clip-path=\"url(#p692c2b73d0)\" style=\"fill: none; stroke: #1f77b4; stroke-width: 1.5; stroke-linecap: square\"/>\n   </g>\n   <g id=\"line2d_140\">\n    <path d=\"M 27.0725 50.268038 \nL 33.5825 56.645213 \nL 40.0925 61.08434 \nL 46.6025 66.705747 \nL 53.1125 66.129438 \nL 59.6225 69.356142 \nL 66.1325 74.65129 \nL 72.6425 70.315716 \nL 79.1525 70.96904 \nL 85.6625 71.918994 \nL 92.1725 67.107159 \nL 98.6825 65.12784 \nL 105.1925 68.701068 \nL 111.7025 59.944005 \nL 118.2125 63.634902 \nL 124.7225 60.27593 \nL 131.2325 63.736588 \nL 137.7425 59.209083 \nL 144.2525 56.240094 \nL 150.7625 56.067126 \nL 157.2725 59.171474 \n\" clip-path=\"url(#p692c2b73d0)\" style=\"fill: none; stroke-dasharray: 5.55,2.4; stroke-dashoffset: 0; stroke: #ff7f0e; stroke-width: 1.5\"/>\n   </g>\n   <g id=\"line2d_141\">\n    <path d=\"M 21.37625 13.377273 \nL 24.63125 52.950961 \nL 27.88625 61.930545 \nL 31.14125 68.311623 \nL 34.39625 77.346665 \nL 37.65125 77.422702 \nL 40.90625 86.051396 \nL 44.16125 85.553098 \nL 47.41625 92.380424 \nL 50.67125 92.884413 \nL 53.92625 98.660521 \nL 57.18125 98.98121 \nL 60.43625 104.772622 \nL 63.69125 103.775518 \nL 66.94625 108.192722 \nL 70.20125 110.069377 \nL 73.45625 113.285811 \nL 76.71125 113.165985 \nL 79.96625 116.449487 \nL 83.22125 117.736162 \nL 86.47625 119.868686 \nL 89.73125 120.79814 \nL 92.98625 122.504215 \nL 96.24125 123.711576 \nL 99.49625 124.66695 \nL 102.75125 126.229254 \nL 106.00625 127.750857 \nL 109.26125 127.125576 \nL 112.51625 129.395541 \nL 115.77125 129.139362 \nL 119.02625 131.267254 \nL 122.28125 130.577301 \nL 125.53625 131.879456 \nL 128.79125 132.247941 \nL 132.04625 133.219798 \nL 135.30125 132.768176 \nL 138.55625 134.006439 \nL 141.81125 133.385626 \nL 145.06625 134.874743 \nL 148.32125 134.188649 \nL 151.57625 135.48797 \nL 154.83125 134.230255 \nL 158.08625 135.025498 \nL 161.34125 135.512694 \n\" clip-path=\"url(#p692c2b73d0)\" style=\"fill: none; stroke: #1f77b4; stroke-width: 1.5; stroke-linecap: square\"/>\n   </g>\n   <g id=\"line2d_142\">\n    <path d=\"M 27.0725 50.268038 \nL 33.5825 56.645213 \nL 40.0925 61.08434 \nL 46.6025 66.705747 \nL 53.1125 66.129438 \nL 59.6225 69.356142 \nL 66.1325 74.65129 \nL 72.6425 70.315716 \nL 79.1525 70.96904 \nL 85.6625 71.918994 \nL 92.1725 67.107159 \nL 98.6825 65.12784 \nL 105.1925 68.701068 \nL 111.7025 59.944005 \nL 118.2125 63.634902 \nL 124.7225 60.27593 \nL 131.2325 63.736588 \nL 137.7425 59.209083 \nL 144.2525 56.240094 \nL 150.7625 56.067126 \nL 157.2725 59.171474 \nL 163.7825 53.252815 \n\" clip-path=\"url(#p692c2b73d0)\" style=\"fill: none; stroke-dasharray: 5.55,2.4; stroke-dashoffset: 0; stroke: #ff7f0e; stroke-width: 1.5\"/>\n   </g>\n   <g id=\"line2d_143\">\n    <path d=\"M 21.37625 13.377273 \nL 24.63125 52.950961 \nL 27.88625 61.930545 \nL 31.14125 68.311623 \nL 34.39625 77.346665 \nL 37.65125 77.422702 \nL 40.90625 86.051396 \nL 44.16125 85.553098 \nL 47.41625 92.380424 \nL 50.67125 92.884413 \nL 53.92625 98.660521 \nL 57.18125 98.98121 \nL 60.43625 104.772622 \nL 63.69125 103.775518 \nL 66.94625 108.192722 \nL 70.20125 110.069377 \nL 73.45625 113.285811 \nL 76.71125 113.165985 \nL 79.96625 116.449487 \nL 83.22125 117.736162 \nL 86.47625 119.868686 \nL 89.73125 120.79814 \nL 92.98625 122.504215 \nL 96.24125 123.711576 \nL 99.49625 124.66695 \nL 102.75125 126.229254 \nL 106.00625 127.750857 \nL 109.26125 127.125576 \nL 112.51625 129.395541 \nL 115.77125 129.139362 \nL 119.02625 131.267254 \nL 122.28125 130.577301 \nL 125.53625 131.879456 \nL 128.79125 132.247941 \nL 132.04625 133.219798 \nL 135.30125 132.768176 \nL 138.55625 134.006439 \nL 141.81125 133.385626 \nL 145.06625 134.874743 \nL 148.32125 134.188649 \nL 151.57625 135.48797 \nL 154.83125 134.230255 \nL 158.08625 135.025498 \nL 161.34125 135.512694 \nL 164.59625 135.848226 \n\" clip-path=\"url(#p692c2b73d0)\" style=\"fill: none; stroke: #1f77b4; stroke-width: 1.5; stroke-linecap: square\"/>\n   </g>\n   <g id=\"line2d_144\">\n    <path d=\"M 27.0725 50.268038 \nL 33.5825 56.645213 \nL 40.0925 61.08434 \nL 46.6025 66.705747 \nL 53.1125 66.129438 \nL 59.6225 69.356142 \nL 66.1325 74.65129 \nL 72.6425 70.315716 \nL 79.1525 70.96904 \nL 85.6625 71.918994 \nL 92.1725 67.107159 \nL 98.6825 65.12784 \nL 105.1925 68.701068 \nL 111.7025 59.944005 \nL 118.2125 63.634902 \nL 124.7225 60.27593 \nL 131.2325 63.736588 \nL 137.7425 59.209083 \nL 144.2525 56.240094 \nL 150.7625 56.067126 \nL 157.2725 59.171474 \nL 163.7825 53.252815 \n\" clip-path=\"url(#p692c2b73d0)\" style=\"fill: none; stroke-dasharray: 5.55,2.4; stroke-dashoffset: 0; stroke: #ff7f0e; stroke-width: 1.5\"/>\n   </g>\n   <g id=\"line2d_145\">\n    <path d=\"M 21.37625 13.377273 \nL 24.63125 52.950961 \nL 27.88625 61.930545 \nL 31.14125 68.311623 \nL 34.39625 77.346665 \nL 37.65125 77.422702 \nL 40.90625 86.051396 \nL 44.16125 85.553098 \nL 47.41625 92.380424 \nL 50.67125 92.884413 \nL 53.92625 98.660521 \nL 57.18125 98.98121 \nL 60.43625 104.772622 \nL 63.69125 103.775518 \nL 66.94625 108.192722 \nL 70.20125 110.069377 \nL 73.45625 113.285811 \nL 76.71125 113.165985 \nL 79.96625 116.449487 \nL 83.22125 117.736162 \nL 86.47625 119.868686 \nL 89.73125 120.79814 \nL 92.98625 122.504215 \nL 96.24125 123.711576 \nL 99.49625 124.66695 \nL 102.75125 126.229254 \nL 106.00625 127.750857 \nL 109.26125 127.125576 \nL 112.51625 129.395541 \nL 115.77125 129.139362 \nL 119.02625 131.267254 \nL 122.28125 130.577301 \nL 125.53625 131.879456 \nL 128.79125 132.247941 \nL 132.04625 133.219798 \nL 135.30125 132.768176 \nL 138.55625 134.006439 \nL 141.81125 133.385626 \nL 145.06625 134.874743 \nL 148.32125 134.188649 \nL 151.57625 135.48797 \nL 154.83125 134.230255 \nL 158.08625 135.025498 \nL 161.34125 135.512694 \nL 164.59625 135.848226 \nL 167.85125 135.285894 \n\" clip-path=\"url(#p692c2b73d0)\" style=\"fill: none; stroke: #1f77b4; stroke-width: 1.5; stroke-linecap: square\"/>\n   </g>\n   <g id=\"line2d_146\">\n    <path d=\"M 27.0725 50.268038 \nL 33.5825 56.645213 \nL 40.0925 61.08434 \nL 46.6025 66.705747 \nL 53.1125 66.129438 \nL 59.6225 69.356142 \nL 66.1325 74.65129 \nL 72.6425 70.315716 \nL 79.1525 70.96904 \nL 85.6625 71.918994 \nL 92.1725 67.107159 \nL 98.6825 65.12784 \nL 105.1925 68.701068 \nL 111.7025 59.944005 \nL 118.2125 63.634902 \nL 124.7225 60.27593 \nL 131.2325 63.736588 \nL 137.7425 59.209083 \nL 144.2525 56.240094 \nL 150.7625 56.067126 \nL 157.2725 59.171474 \nL 163.7825 53.252815 \n\" clip-path=\"url(#p692c2b73d0)\" style=\"fill: none; stroke-dasharray: 5.55,2.4; stroke-dashoffset: 0; stroke: #ff7f0e; stroke-width: 1.5\"/>\n   </g>\n   <g id=\"line2d_147\">\n    <path d=\"M 21.37625 13.377273 \nL 24.63125 52.950961 \nL 27.88625 61.930545 \nL 31.14125 68.311623 \nL 34.39625 77.346665 \nL 37.65125 77.422702 \nL 40.90625 86.051396 \nL 44.16125 85.553098 \nL 47.41625 92.380424 \nL 50.67125 92.884413 \nL 53.92625 98.660521 \nL 57.18125 98.98121 \nL 60.43625 104.772622 \nL 63.69125 103.775518 \nL 66.94625 108.192722 \nL 70.20125 110.069377 \nL 73.45625 113.285811 \nL 76.71125 113.165985 \nL 79.96625 116.449487 \nL 83.22125 117.736162 \nL 86.47625 119.868686 \nL 89.73125 120.79814 \nL 92.98625 122.504215 \nL 96.24125 123.711576 \nL 99.49625 124.66695 \nL 102.75125 126.229254 \nL 106.00625 127.750857 \nL 109.26125 127.125576 \nL 112.51625 129.395541 \nL 115.77125 129.139362 \nL 119.02625 131.267254 \nL 122.28125 130.577301 \nL 125.53625 131.879456 \nL 128.79125 132.247941 \nL 132.04625 133.219798 \nL 135.30125 132.768176 \nL 138.55625 134.006439 \nL 141.81125 133.385626 \nL 145.06625 134.874743 \nL 148.32125 134.188649 \nL 151.57625 135.48797 \nL 154.83125 134.230255 \nL 158.08625 135.025498 \nL 161.34125 135.512694 \nL 164.59625 135.848226 \nL 167.85125 135.285894 \n\" clip-path=\"url(#p692c2b73d0)\" style=\"fill: none; stroke: #1f77b4; stroke-width: 1.5; stroke-linecap: square\"/>\n   </g>\n   <g id=\"line2d_148\">\n    <path d=\"M 27.0725 50.268038 \nL 33.5825 56.645213 \nL 40.0925 61.08434 \nL 46.6025 66.705747 \nL 53.1125 66.129438 \nL 59.6225 69.356142 \nL 66.1325 74.65129 \nL 72.6425 70.315716 \nL 79.1525 70.96904 \nL 85.6625 71.918994 \nL 92.1725 67.107159 \nL 98.6825 65.12784 \nL 105.1925 68.701068 \nL 111.7025 59.944005 \nL 118.2125 63.634902 \nL 124.7225 60.27593 \nL 131.2325 63.736588 \nL 137.7425 59.209083 \nL 144.2525 56.240094 \nL 150.7625 56.067126 \nL 157.2725 59.171474 \nL 163.7825 53.252815 \nL 170.2925 54.590442 \n\" clip-path=\"url(#p692c2b73d0)\" style=\"fill: none; stroke-dasharray: 5.55,2.4; stroke-dashoffset: 0; stroke: #ff7f0e; stroke-width: 1.5\"/>\n   </g>\n   <g id=\"line2d_149\">\n    <path d=\"M 21.37625 13.377273 \nL 24.63125 52.950961 \nL 27.88625 61.930545 \nL 31.14125 68.311623 \nL 34.39625 77.346665 \nL 37.65125 77.422702 \nL 40.90625 86.051396 \nL 44.16125 85.553098 \nL 47.41625 92.380424 \nL 50.67125 92.884413 \nL 53.92625 98.660521 \nL 57.18125 98.98121 \nL 60.43625 104.772622 \nL 63.69125 103.775518 \nL 66.94625 108.192722 \nL 70.20125 110.069377 \nL 73.45625 113.285811 \nL 76.71125 113.165985 \nL 79.96625 116.449487 \nL 83.22125 117.736162 \nL 86.47625 119.868686 \nL 89.73125 120.79814 \nL 92.98625 122.504215 \nL 96.24125 123.711576 \nL 99.49625 124.66695 \nL 102.75125 126.229254 \nL 106.00625 127.750857 \nL 109.26125 127.125576 \nL 112.51625 129.395541 \nL 115.77125 129.139362 \nL 119.02625 131.267254 \nL 122.28125 130.577301 \nL 125.53625 131.879456 \nL 128.79125 132.247941 \nL 132.04625 133.219798 \nL 135.30125 132.768176 \nL 138.55625 134.006439 \nL 141.81125 133.385626 \nL 145.06625 134.874743 \nL 148.32125 134.188649 \nL 151.57625 135.48797 \nL 154.83125 134.230255 \nL 158.08625 135.025498 \nL 161.34125 135.512694 \nL 164.59625 135.848226 \nL 167.85125 135.285894 \nL 171.10625 135.931996 \n\" clip-path=\"url(#p692c2b73d0)\" style=\"fill: none; stroke: #1f77b4; stroke-width: 1.5; stroke-linecap: square\"/>\n   </g>\n   <g id=\"line2d_150\">\n    <path d=\"M 27.0725 50.268038 \nL 33.5825 56.645213 \nL 40.0925 61.08434 \nL 46.6025 66.705747 \nL 53.1125 66.129438 \nL 59.6225 69.356142 \nL 66.1325 74.65129 \nL 72.6425 70.315716 \nL 79.1525 70.96904 \nL 85.6625 71.918994 \nL 92.1725 67.107159 \nL 98.6825 65.12784 \nL 105.1925 68.701068 \nL 111.7025 59.944005 \nL 118.2125 63.634902 \nL 124.7225 60.27593 \nL 131.2325 63.736588 \nL 137.7425 59.209083 \nL 144.2525 56.240094 \nL 150.7625 56.067126 \nL 157.2725 59.171474 \nL 163.7825 53.252815 \nL 170.2925 54.590442 \n\" clip-path=\"url(#p692c2b73d0)\" style=\"fill: none; stroke-dasharray: 5.55,2.4; stroke-dashoffset: 0; stroke: #ff7f0e; stroke-width: 1.5\"/>\n   </g>\n   <g id=\"line2d_151\">\n    <path d=\"M 21.37625 13.377273 \nL 24.63125 52.950961 \nL 27.88625 61.930545 \nL 31.14125 68.311623 \nL 34.39625 77.346665 \nL 37.65125 77.422702 \nL 40.90625 86.051396 \nL 44.16125 85.553098 \nL 47.41625 92.380424 \nL 50.67125 92.884413 \nL 53.92625 98.660521 \nL 57.18125 98.98121 \nL 60.43625 104.772622 \nL 63.69125 103.775518 \nL 66.94625 108.192722 \nL 70.20125 110.069377 \nL 73.45625 113.285811 \nL 76.71125 113.165985 \nL 79.96625 116.449487 \nL 83.22125 117.736162 \nL 86.47625 119.868686 \nL 89.73125 120.79814 \nL 92.98625 122.504215 \nL 96.24125 123.711576 \nL 99.49625 124.66695 \nL 102.75125 126.229254 \nL 106.00625 127.750857 \nL 109.26125 127.125576 \nL 112.51625 129.395541 \nL 115.77125 129.139362 \nL 119.02625 131.267254 \nL 122.28125 130.577301 \nL 125.53625 131.879456 \nL 128.79125 132.247941 \nL 132.04625 133.219798 \nL 135.30125 132.768176 \nL 138.55625 134.006439 \nL 141.81125 133.385626 \nL 145.06625 134.874743 \nL 148.32125 134.188649 \nL 151.57625 135.48797 \nL 154.83125 134.230255 \nL 158.08625 135.025498 \nL 161.34125 135.512694 \nL 164.59625 135.848226 \nL 167.85125 135.285894 \nL 171.10625 135.931996 \nL 174.36125 135.841028 \n\" clip-path=\"url(#p692c2b73d0)\" style=\"fill: none; stroke: #1f77b4; stroke-width: 1.5; stroke-linecap: square\"/>\n   </g>\n   <g id=\"line2d_152\">\n    <path d=\"M 27.0725 50.268038 \nL 33.5825 56.645213 \nL 40.0925 61.08434 \nL 46.6025 66.705747 \nL 53.1125 66.129438 \nL 59.6225 69.356142 \nL 66.1325 74.65129 \nL 72.6425 70.315716 \nL 79.1525 70.96904 \nL 85.6625 71.918994 \nL 92.1725 67.107159 \nL 98.6825 65.12784 \nL 105.1925 68.701068 \nL 111.7025 59.944005 \nL 118.2125 63.634902 \nL 124.7225 60.27593 \nL 131.2325 63.736588 \nL 137.7425 59.209083 \nL 144.2525 56.240094 \nL 150.7625 56.067126 \nL 157.2725 59.171474 \nL 163.7825 53.252815 \nL 170.2925 54.590442 \n\" clip-path=\"url(#p692c2b73d0)\" style=\"fill: none; stroke-dasharray: 5.55,2.4; stroke-dashoffset: 0; stroke: #ff7f0e; stroke-width: 1.5\"/>\n   </g>\n   <g id=\"line2d_153\">\n    <path d=\"M 21.37625 13.377273 \nL 24.63125 52.950961 \nL 27.88625 61.930545 \nL 31.14125 68.311623 \nL 34.39625 77.346665 \nL 37.65125 77.422702 \nL 40.90625 86.051396 \nL 44.16125 85.553098 \nL 47.41625 92.380424 \nL 50.67125 92.884413 \nL 53.92625 98.660521 \nL 57.18125 98.98121 \nL 60.43625 104.772622 \nL 63.69125 103.775518 \nL 66.94625 108.192722 \nL 70.20125 110.069377 \nL 73.45625 113.285811 \nL 76.71125 113.165985 \nL 79.96625 116.449487 \nL 83.22125 117.736162 \nL 86.47625 119.868686 \nL 89.73125 120.79814 \nL 92.98625 122.504215 \nL 96.24125 123.711576 \nL 99.49625 124.66695 \nL 102.75125 126.229254 \nL 106.00625 127.750857 \nL 109.26125 127.125576 \nL 112.51625 129.395541 \nL 115.77125 129.139362 \nL 119.02625 131.267254 \nL 122.28125 130.577301 \nL 125.53625 131.879456 \nL 128.79125 132.247941 \nL 132.04625 133.219798 \nL 135.30125 132.768176 \nL 138.55625 134.006439 \nL 141.81125 133.385626 \nL 145.06625 134.874743 \nL 148.32125 134.188649 \nL 151.57625 135.48797 \nL 154.83125 134.230255 \nL 158.08625 135.025498 \nL 161.34125 135.512694 \nL 164.59625 135.848226 \nL 167.85125 135.285894 \nL 171.10625 135.931996 \nL 174.36125 135.841028 \n\" clip-path=\"url(#p692c2b73d0)\" style=\"fill: none; stroke: #1f77b4; stroke-width: 1.5; stroke-linecap: square\"/>\n   </g>\n   <g id=\"line2d_154\">\n    <path d=\"M 27.0725 50.268038 \nL 33.5825 56.645213 \nL 40.0925 61.08434 \nL 46.6025 66.705747 \nL 53.1125 66.129438 \nL 59.6225 69.356142 \nL 66.1325 74.65129 \nL 72.6425 70.315716 \nL 79.1525 70.96904 \nL 85.6625 71.918994 \nL 92.1725 67.107159 \nL 98.6825 65.12784 \nL 105.1925 68.701068 \nL 111.7025 59.944005 \nL 118.2125 63.634902 \nL 124.7225 60.27593 \nL 131.2325 63.736588 \nL 137.7425 59.209083 \nL 144.2525 56.240094 \nL 150.7625 56.067126 \nL 157.2725 59.171474 \nL 163.7825 53.252815 \nL 170.2925 54.590442 \nL 176.8025 53.806689 \n\" clip-path=\"url(#p692c2b73d0)\" style=\"fill: none; stroke-dasharray: 5.55,2.4; stroke-dashoffset: 0; stroke: #ff7f0e; stroke-width: 1.5\"/>\n   </g>\n   <g id=\"line2d_155\">\n    <path d=\"M 21.37625 13.377273 \nL 24.63125 52.950961 \nL 27.88625 61.930545 \nL 31.14125 68.311623 \nL 34.39625 77.346665 \nL 37.65125 77.422702 \nL 40.90625 86.051396 \nL 44.16125 85.553098 \nL 47.41625 92.380424 \nL 50.67125 92.884413 \nL 53.92625 98.660521 \nL 57.18125 98.98121 \nL 60.43625 104.772622 \nL 63.69125 103.775518 \nL 66.94625 108.192722 \nL 70.20125 110.069377 \nL 73.45625 113.285811 \nL 76.71125 113.165985 \nL 79.96625 116.449487 \nL 83.22125 117.736162 \nL 86.47625 119.868686 \nL 89.73125 120.79814 \nL 92.98625 122.504215 \nL 96.24125 123.711576 \nL 99.49625 124.66695 \nL 102.75125 126.229254 \nL 106.00625 127.750857 \nL 109.26125 127.125576 \nL 112.51625 129.395541 \nL 115.77125 129.139362 \nL 119.02625 131.267254 \nL 122.28125 130.577301 \nL 125.53625 131.879456 \nL 128.79125 132.247941 \nL 132.04625 133.219798 \nL 135.30125 132.768176 \nL 138.55625 134.006439 \nL 141.81125 133.385626 \nL 145.06625 134.874743 \nL 148.32125 134.188649 \nL 151.57625 135.48797 \nL 154.83125 134.230255 \nL 158.08625 135.025498 \nL 161.34125 135.512694 \nL 164.59625 135.848226 \nL 167.85125 135.285894 \nL 171.10625 135.931996 \nL 174.36125 135.841028 \nL 177.61625 136.526317 \n\" clip-path=\"url(#p692c2b73d0)\" style=\"fill: none; stroke: #1f77b4; stroke-width: 1.5; stroke-linecap: square\"/>\n   </g>\n   <g id=\"line2d_156\">\n    <path d=\"M 27.0725 50.268038 \nL 33.5825 56.645213 \nL 40.0925 61.08434 \nL 46.6025 66.705747 \nL 53.1125 66.129438 \nL 59.6225 69.356142 \nL 66.1325 74.65129 \nL 72.6425 70.315716 \nL 79.1525 70.96904 \nL 85.6625 71.918994 \nL 92.1725 67.107159 \nL 98.6825 65.12784 \nL 105.1925 68.701068 \nL 111.7025 59.944005 \nL 118.2125 63.634902 \nL 124.7225 60.27593 \nL 131.2325 63.736588 \nL 137.7425 59.209083 \nL 144.2525 56.240094 \nL 150.7625 56.067126 \nL 157.2725 59.171474 \nL 163.7825 53.252815 \nL 170.2925 54.590442 \nL 176.8025 53.806689 \n\" clip-path=\"url(#p692c2b73d0)\" style=\"fill: none; stroke-dasharray: 5.55,2.4; stroke-dashoffset: 0; stroke: #ff7f0e; stroke-width: 1.5\"/>\n   </g>\n   <g id=\"line2d_157\">\n    <path d=\"M 21.37625 13.377273 \nL 24.63125 52.950961 \nL 27.88625 61.930545 \nL 31.14125 68.311623 \nL 34.39625 77.346665 \nL 37.65125 77.422702 \nL 40.90625 86.051396 \nL 44.16125 85.553098 \nL 47.41625 92.380424 \nL 50.67125 92.884413 \nL 53.92625 98.660521 \nL 57.18125 98.98121 \nL 60.43625 104.772622 \nL 63.69125 103.775518 \nL 66.94625 108.192722 \nL 70.20125 110.069377 \nL 73.45625 113.285811 \nL 76.71125 113.165985 \nL 79.96625 116.449487 \nL 83.22125 117.736162 \nL 86.47625 119.868686 \nL 89.73125 120.79814 \nL 92.98625 122.504215 \nL 96.24125 123.711576 \nL 99.49625 124.66695 \nL 102.75125 126.229254 \nL 106.00625 127.750857 \nL 109.26125 127.125576 \nL 112.51625 129.395541 \nL 115.77125 129.139362 \nL 119.02625 131.267254 \nL 122.28125 130.577301 \nL 125.53625 131.879456 \nL 128.79125 132.247941 \nL 132.04625 133.219798 \nL 135.30125 132.768176 \nL 138.55625 134.006439 \nL 141.81125 133.385626 \nL 145.06625 134.874743 \nL 148.32125 134.188649 \nL 151.57625 135.48797 \nL 154.83125 134.230255 \nL 158.08625 135.025498 \nL 161.34125 135.512694 \nL 164.59625 135.848226 \nL 167.85125 135.285894 \nL 171.10625 135.931996 \nL 174.36125 135.841028 \nL 177.61625 136.526317 \nL 180.87125 135.742428 \n\" clip-path=\"url(#p692c2b73d0)\" style=\"fill: none; stroke: #1f77b4; stroke-width: 1.5; stroke-linecap: square\"/>\n   </g>\n   <g id=\"line2d_158\">\n    <path d=\"M 27.0725 50.268038 \nL 33.5825 56.645213 \nL 40.0925 61.08434 \nL 46.6025 66.705747 \nL 53.1125 66.129438 \nL 59.6225 69.356142 \nL 66.1325 74.65129 \nL 72.6425 70.315716 \nL 79.1525 70.96904 \nL 85.6625 71.918994 \nL 92.1725 67.107159 \nL 98.6825 65.12784 \nL 105.1925 68.701068 \nL 111.7025 59.944005 \nL 118.2125 63.634902 \nL 124.7225 60.27593 \nL 131.2325 63.736588 \nL 137.7425 59.209083 \nL 144.2525 56.240094 \nL 150.7625 56.067126 \nL 157.2725 59.171474 \nL 163.7825 53.252815 \nL 170.2925 54.590442 \nL 176.8025 53.806689 \n\" clip-path=\"url(#p692c2b73d0)\" style=\"fill: none; stroke-dasharray: 5.55,2.4; stroke-dashoffset: 0; stroke: #ff7f0e; stroke-width: 1.5\"/>\n   </g>\n   <g id=\"line2d_159\">\n    <path d=\"M 21.37625 13.377273 \nL 24.63125 52.950961 \nL 27.88625 61.930545 \nL 31.14125 68.311623 \nL 34.39625 77.346665 \nL 37.65125 77.422702 \nL 40.90625 86.051396 \nL 44.16125 85.553098 \nL 47.41625 92.380424 \nL 50.67125 92.884413 \nL 53.92625 98.660521 \nL 57.18125 98.98121 \nL 60.43625 104.772622 \nL 63.69125 103.775518 \nL 66.94625 108.192722 \nL 70.20125 110.069377 \nL 73.45625 113.285811 \nL 76.71125 113.165985 \nL 79.96625 116.449487 \nL 83.22125 117.736162 \nL 86.47625 119.868686 \nL 89.73125 120.79814 \nL 92.98625 122.504215 \nL 96.24125 123.711576 \nL 99.49625 124.66695 \nL 102.75125 126.229254 \nL 106.00625 127.750857 \nL 109.26125 127.125576 \nL 112.51625 129.395541 \nL 115.77125 129.139362 \nL 119.02625 131.267254 \nL 122.28125 130.577301 \nL 125.53625 131.879456 \nL 128.79125 132.247941 \nL 132.04625 133.219798 \nL 135.30125 132.768176 \nL 138.55625 134.006439 \nL 141.81125 133.385626 \nL 145.06625 134.874743 \nL 148.32125 134.188649 \nL 151.57625 135.48797 \nL 154.83125 134.230255 \nL 158.08625 135.025498 \nL 161.34125 135.512694 \nL 164.59625 135.848226 \nL 167.85125 135.285894 \nL 171.10625 135.931996 \nL 174.36125 135.841028 \nL 177.61625 136.526317 \nL 180.87125 135.742428 \n\" clip-path=\"url(#p692c2b73d0)\" style=\"fill: none; stroke: #1f77b4; stroke-width: 1.5; stroke-linecap: square\"/>\n   </g>\n   <g id=\"line2d_160\">\n    <path d=\"M 27.0725 50.268038 \nL 33.5825 56.645213 \nL 40.0925 61.08434 \nL 46.6025 66.705747 \nL 53.1125 66.129438 \nL 59.6225 69.356142 \nL 66.1325 74.65129 \nL 72.6425 70.315716 \nL 79.1525 70.96904 \nL 85.6625 71.918994 \nL 92.1725 67.107159 \nL 98.6825 65.12784 \nL 105.1925 68.701068 \nL 111.7025 59.944005 \nL 118.2125 63.634902 \nL 124.7225 60.27593 \nL 131.2325 63.736588 \nL 137.7425 59.209083 \nL 144.2525 56.240094 \nL 150.7625 56.067126 \nL 157.2725 59.171474 \nL 163.7825 53.252815 \nL 170.2925 54.590442 \nL 176.8025 53.806689 \nL 183.3125 52.029685 \n\" clip-path=\"url(#p692c2b73d0)\" style=\"fill: none; stroke-dasharray: 5.55,2.4; stroke-dashoffset: 0; stroke: #ff7f0e; stroke-width: 1.5\"/>\n   </g>\n   <g id=\"line2d_161\">\n    <path d=\"M 21.37625 13.377273 \nL 24.63125 52.950961 \nL 27.88625 61.930545 \nL 31.14125 68.311623 \nL 34.39625 77.346665 \nL 37.65125 77.422702 \nL 40.90625 86.051396 \nL 44.16125 85.553098 \nL 47.41625 92.380424 \nL 50.67125 92.884413 \nL 53.92625 98.660521 \nL 57.18125 98.98121 \nL 60.43625 104.772622 \nL 63.69125 103.775518 \nL 66.94625 108.192722 \nL 70.20125 110.069377 \nL 73.45625 113.285811 \nL 76.71125 113.165985 \nL 79.96625 116.449487 \nL 83.22125 117.736162 \nL 86.47625 119.868686 \nL 89.73125 120.79814 \nL 92.98625 122.504215 \nL 96.24125 123.711576 \nL 99.49625 124.66695 \nL 102.75125 126.229254 \nL 106.00625 127.750857 \nL 109.26125 127.125576 \nL 112.51625 129.395541 \nL 115.77125 129.139362 \nL 119.02625 131.267254 \nL 122.28125 130.577301 \nL 125.53625 131.879456 \nL 128.79125 132.247941 \nL 132.04625 133.219798 \nL 135.30125 132.768176 \nL 138.55625 134.006439 \nL 141.81125 133.385626 \nL 145.06625 134.874743 \nL 148.32125 134.188649 \nL 151.57625 135.48797 \nL 154.83125 134.230255 \nL 158.08625 135.025498 \nL 161.34125 135.512694 \nL 164.59625 135.848226 \nL 167.85125 135.285894 \nL 171.10625 135.931996 \nL 174.36125 135.841028 \nL 177.61625 136.526317 \nL 180.87125 135.742428 \nL 184.12625 136.330987 \n\" clip-path=\"url(#p692c2b73d0)\" style=\"fill: none; stroke: #1f77b4; stroke-width: 1.5; stroke-linecap: square\"/>\n   </g>\n   <g id=\"line2d_162\">\n    <path d=\"M 27.0725 50.268038 \nL 33.5825 56.645213 \nL 40.0925 61.08434 \nL 46.6025 66.705747 \nL 53.1125 66.129438 \nL 59.6225 69.356142 \nL 66.1325 74.65129 \nL 72.6425 70.315716 \nL 79.1525 70.96904 \nL 85.6625 71.918994 \nL 92.1725 67.107159 \nL 98.6825 65.12784 \nL 105.1925 68.701068 \nL 111.7025 59.944005 \nL 118.2125 63.634902 \nL 124.7225 60.27593 \nL 131.2325 63.736588 \nL 137.7425 59.209083 \nL 144.2525 56.240094 \nL 150.7625 56.067126 \nL 157.2725 59.171474 \nL 163.7825 53.252815 \nL 170.2925 54.590442 \nL 176.8025 53.806689 \nL 183.3125 52.029685 \n\" clip-path=\"url(#p692c2b73d0)\" style=\"fill: none; stroke-dasharray: 5.55,2.4; stroke-dashoffset: 0; stroke: #ff7f0e; stroke-width: 1.5\"/>\n   </g>\n   <g id=\"line2d_163\">\n    <path d=\"M 21.37625 13.377273 \nL 24.63125 52.950961 \nL 27.88625 61.930545 \nL 31.14125 68.311623 \nL 34.39625 77.346665 \nL 37.65125 77.422702 \nL 40.90625 86.051396 \nL 44.16125 85.553098 \nL 47.41625 92.380424 \nL 50.67125 92.884413 \nL 53.92625 98.660521 \nL 57.18125 98.98121 \nL 60.43625 104.772622 \nL 63.69125 103.775518 \nL 66.94625 108.192722 \nL 70.20125 110.069377 \nL 73.45625 113.285811 \nL 76.71125 113.165985 \nL 79.96625 116.449487 \nL 83.22125 117.736162 \nL 86.47625 119.868686 \nL 89.73125 120.79814 \nL 92.98625 122.504215 \nL 96.24125 123.711576 \nL 99.49625 124.66695 \nL 102.75125 126.229254 \nL 106.00625 127.750857 \nL 109.26125 127.125576 \nL 112.51625 129.395541 \nL 115.77125 129.139362 \nL 119.02625 131.267254 \nL 122.28125 130.577301 \nL 125.53625 131.879456 \nL 128.79125 132.247941 \nL 132.04625 133.219798 \nL 135.30125 132.768176 \nL 138.55625 134.006439 \nL 141.81125 133.385626 \nL 145.06625 134.874743 \nL 148.32125 134.188649 \nL 151.57625 135.48797 \nL 154.83125 134.230255 \nL 158.08625 135.025498 \nL 161.34125 135.512694 \nL 164.59625 135.848226 \nL 167.85125 135.285894 \nL 171.10625 135.931996 \nL 174.36125 135.841028 \nL 177.61625 136.526317 \nL 180.87125 135.742428 \nL 184.12625 136.330987 \nL 187.38125 136.178987 \n\" clip-path=\"url(#p692c2b73d0)\" style=\"fill: none; stroke: #1f77b4; stroke-width: 1.5; stroke-linecap: square\"/>\n   </g>\n   <g id=\"line2d_164\">\n    <path d=\"M 27.0725 50.268038 \nL 33.5825 56.645213 \nL 40.0925 61.08434 \nL 46.6025 66.705747 \nL 53.1125 66.129438 \nL 59.6225 69.356142 \nL 66.1325 74.65129 \nL 72.6425 70.315716 \nL 79.1525 70.96904 \nL 85.6625 71.918994 \nL 92.1725 67.107159 \nL 98.6825 65.12784 \nL 105.1925 68.701068 \nL 111.7025 59.944005 \nL 118.2125 63.634902 \nL 124.7225 60.27593 \nL 131.2325 63.736588 \nL 137.7425 59.209083 \nL 144.2525 56.240094 \nL 150.7625 56.067126 \nL 157.2725 59.171474 \nL 163.7825 53.252815 \nL 170.2925 54.590442 \nL 176.8025 53.806689 \nL 183.3125 52.029685 \n\" clip-path=\"url(#p692c2b73d0)\" style=\"fill: none; stroke-dasharray: 5.55,2.4; stroke-dashoffset: 0; stroke: #ff7f0e; stroke-width: 1.5\"/>\n   </g>\n   <g id=\"line2d_165\">\n    <path d=\"M 21.37625 13.377273 \nL 24.63125 52.950961 \nL 27.88625 61.930545 \nL 31.14125 68.311623 \nL 34.39625 77.346665 \nL 37.65125 77.422702 \nL 40.90625 86.051396 \nL 44.16125 85.553098 \nL 47.41625 92.380424 \nL 50.67125 92.884413 \nL 53.92625 98.660521 \nL 57.18125 98.98121 \nL 60.43625 104.772622 \nL 63.69125 103.775518 \nL 66.94625 108.192722 \nL 70.20125 110.069377 \nL 73.45625 113.285811 \nL 76.71125 113.165985 \nL 79.96625 116.449487 \nL 83.22125 117.736162 \nL 86.47625 119.868686 \nL 89.73125 120.79814 \nL 92.98625 122.504215 \nL 96.24125 123.711576 \nL 99.49625 124.66695 \nL 102.75125 126.229254 \nL 106.00625 127.750857 \nL 109.26125 127.125576 \nL 112.51625 129.395541 \nL 115.77125 129.139362 \nL 119.02625 131.267254 \nL 122.28125 130.577301 \nL 125.53625 131.879456 \nL 128.79125 132.247941 \nL 132.04625 133.219798 \nL 135.30125 132.768176 \nL 138.55625 134.006439 \nL 141.81125 133.385626 \nL 145.06625 134.874743 \nL 148.32125 134.188649 \nL 151.57625 135.48797 \nL 154.83125 134.230255 \nL 158.08625 135.025498 \nL 161.34125 135.512694 \nL 164.59625 135.848226 \nL 167.85125 135.285894 \nL 171.10625 135.931996 \nL 174.36125 135.841028 \nL 177.61625 136.526317 \nL 180.87125 135.742428 \nL 184.12625 136.330987 \nL 187.38125 136.178987 \n\" clip-path=\"url(#p692c2b73d0)\" style=\"fill: none; stroke: #1f77b4; stroke-width: 1.5; stroke-linecap: square\"/>\n   </g>\n   <g id=\"line2d_166\">\n    <path d=\"M 27.0725 50.268038 \nL 33.5825 56.645213 \nL 40.0925 61.08434 \nL 46.6025 66.705747 \nL 53.1125 66.129438 \nL 59.6225 69.356142 \nL 66.1325 74.65129 \nL 72.6425 70.315716 \nL 79.1525 70.96904 \nL 85.6625 71.918994 \nL 92.1725 67.107159 \nL 98.6825 65.12784 \nL 105.1925 68.701068 \nL 111.7025 59.944005 \nL 118.2125 63.634902 \nL 124.7225 60.27593 \nL 131.2325 63.736588 \nL 137.7425 59.209083 \nL 144.2525 56.240094 \nL 150.7625 56.067126 \nL 157.2725 59.171474 \nL 163.7825 53.252815 \nL 170.2925 54.590442 \nL 176.8025 53.806689 \nL 183.3125 52.029685 \nL 189.8225 52.440306 \n\" clip-path=\"url(#p692c2b73d0)\" style=\"fill: none; stroke-dasharray: 5.55,2.4; stroke-dashoffset: 0; stroke: #ff7f0e; stroke-width: 1.5\"/>\n   </g>\n   <g id=\"line2d_167\">\n    <path d=\"M 21.37625 13.377273 \nL 24.63125 52.950961 \nL 27.88625 61.930545 \nL 31.14125 68.311623 \nL 34.39625 77.346665 \nL 37.65125 77.422702 \nL 40.90625 86.051396 \nL 44.16125 85.553098 \nL 47.41625 92.380424 \nL 50.67125 92.884413 \nL 53.92625 98.660521 \nL 57.18125 98.98121 \nL 60.43625 104.772622 \nL 63.69125 103.775518 \nL 66.94625 108.192722 \nL 70.20125 110.069377 \nL 73.45625 113.285811 \nL 76.71125 113.165985 \nL 79.96625 116.449487 \nL 83.22125 117.736162 \nL 86.47625 119.868686 \nL 89.73125 120.79814 \nL 92.98625 122.504215 \nL 96.24125 123.711576 \nL 99.49625 124.66695 \nL 102.75125 126.229254 \nL 106.00625 127.750857 \nL 109.26125 127.125576 \nL 112.51625 129.395541 \nL 115.77125 129.139362 \nL 119.02625 131.267254 \nL 122.28125 130.577301 \nL 125.53625 131.879456 \nL 128.79125 132.247941 \nL 132.04625 133.219798 \nL 135.30125 132.768176 \nL 138.55625 134.006439 \nL 141.81125 133.385626 \nL 145.06625 134.874743 \nL 148.32125 134.188649 \nL 151.57625 135.48797 \nL 154.83125 134.230255 \nL 158.08625 135.025498 \nL 161.34125 135.512694 \nL 164.59625 135.848226 \nL 167.85125 135.285894 \nL 171.10625 135.931996 \nL 174.36125 135.841028 \nL 177.61625 136.526317 \nL 180.87125 135.742428 \nL 184.12625 136.330987 \nL 187.38125 136.178987 \nL 190.63625 136.776093 \n\" clip-path=\"url(#p692c2b73d0)\" style=\"fill: none; stroke: #1f77b4; stroke-width: 1.5; stroke-linecap: square\"/>\n   </g>\n   <g id=\"line2d_168\">\n    <path d=\"M 27.0725 50.268038 \nL 33.5825 56.645213 \nL 40.0925 61.08434 \nL 46.6025 66.705747 \nL 53.1125 66.129438 \nL 59.6225 69.356142 \nL 66.1325 74.65129 \nL 72.6425 70.315716 \nL 79.1525 70.96904 \nL 85.6625 71.918994 \nL 92.1725 67.107159 \nL 98.6825 65.12784 \nL 105.1925 68.701068 \nL 111.7025 59.944005 \nL 118.2125 63.634902 \nL 124.7225 60.27593 \nL 131.2325 63.736588 \nL 137.7425 59.209083 \nL 144.2525 56.240094 \nL 150.7625 56.067126 \nL 157.2725 59.171474 \nL 163.7825 53.252815 \nL 170.2925 54.590442 \nL 176.8025 53.806689 \nL 183.3125 52.029685 \nL 189.8225 52.440306 \n\" clip-path=\"url(#p692c2b73d0)\" style=\"fill: none; stroke-dasharray: 5.55,2.4; stroke-dashoffset: 0; stroke: #ff7f0e; stroke-width: 1.5\"/>\n   </g>\n   <g id=\"line2d_169\">\n    <path d=\"M 21.37625 13.377273 \nL 24.63125 52.950961 \nL 27.88625 61.930545 \nL 31.14125 68.311623 \nL 34.39625 77.346665 \nL 37.65125 77.422702 \nL 40.90625 86.051396 \nL 44.16125 85.553098 \nL 47.41625 92.380424 \nL 50.67125 92.884413 \nL 53.92625 98.660521 \nL 57.18125 98.98121 \nL 60.43625 104.772622 \nL 63.69125 103.775518 \nL 66.94625 108.192722 \nL 70.20125 110.069377 \nL 73.45625 113.285811 \nL 76.71125 113.165985 \nL 79.96625 116.449487 \nL 83.22125 117.736162 \nL 86.47625 119.868686 \nL 89.73125 120.79814 \nL 92.98625 122.504215 \nL 96.24125 123.711576 \nL 99.49625 124.66695 \nL 102.75125 126.229254 \nL 106.00625 127.750857 \nL 109.26125 127.125576 \nL 112.51625 129.395541 \nL 115.77125 129.139362 \nL 119.02625 131.267254 \nL 122.28125 130.577301 \nL 125.53625 131.879456 \nL 128.79125 132.247941 \nL 132.04625 133.219798 \nL 135.30125 132.768176 \nL 138.55625 134.006439 \nL 141.81125 133.385626 \nL 145.06625 134.874743 \nL 148.32125 134.188649 \nL 151.57625 135.48797 \nL 154.83125 134.230255 \nL 158.08625 135.025498 \nL 161.34125 135.512694 \nL 164.59625 135.848226 \nL 167.85125 135.285894 \nL 171.10625 135.931996 \nL 174.36125 135.841028 \nL 177.61625 136.526317 \nL 180.87125 135.742428 \nL 184.12625 136.330987 \nL 187.38125 136.178987 \nL 190.63625 136.776093 \nL 193.89125 136.031723 \n\" clip-path=\"url(#p692c2b73d0)\" style=\"fill: none; stroke: #1f77b4; stroke-width: 1.5; stroke-linecap: square\"/>\n   </g>\n   <g id=\"line2d_170\">\n    <path d=\"M 27.0725 50.268038 \nL 33.5825 56.645213 \nL 40.0925 61.08434 \nL 46.6025 66.705747 \nL 53.1125 66.129438 \nL 59.6225 69.356142 \nL 66.1325 74.65129 \nL 72.6425 70.315716 \nL 79.1525 70.96904 \nL 85.6625 71.918994 \nL 92.1725 67.107159 \nL 98.6825 65.12784 \nL 105.1925 68.701068 \nL 111.7025 59.944005 \nL 118.2125 63.634902 \nL 124.7225 60.27593 \nL 131.2325 63.736588 \nL 137.7425 59.209083 \nL 144.2525 56.240094 \nL 150.7625 56.067126 \nL 157.2725 59.171474 \nL 163.7825 53.252815 \nL 170.2925 54.590442 \nL 176.8025 53.806689 \nL 183.3125 52.029685 \nL 189.8225 52.440306 \n\" clip-path=\"url(#p692c2b73d0)\" style=\"fill: none; stroke-dasharray: 5.55,2.4; stroke-dashoffset: 0; stroke: #ff7f0e; stroke-width: 1.5\"/>\n   </g>\n   <g id=\"line2d_171\">\n    <path d=\"M 21.37625 13.377273 \nL 24.63125 52.950961 \nL 27.88625 61.930545 \nL 31.14125 68.311623 \nL 34.39625 77.346665 \nL 37.65125 77.422702 \nL 40.90625 86.051396 \nL 44.16125 85.553098 \nL 47.41625 92.380424 \nL 50.67125 92.884413 \nL 53.92625 98.660521 \nL 57.18125 98.98121 \nL 60.43625 104.772622 \nL 63.69125 103.775518 \nL 66.94625 108.192722 \nL 70.20125 110.069377 \nL 73.45625 113.285811 \nL 76.71125 113.165985 \nL 79.96625 116.449487 \nL 83.22125 117.736162 \nL 86.47625 119.868686 \nL 89.73125 120.79814 \nL 92.98625 122.504215 \nL 96.24125 123.711576 \nL 99.49625 124.66695 \nL 102.75125 126.229254 \nL 106.00625 127.750857 \nL 109.26125 127.125576 \nL 112.51625 129.395541 \nL 115.77125 129.139362 \nL 119.02625 131.267254 \nL 122.28125 130.577301 \nL 125.53625 131.879456 \nL 128.79125 132.247941 \nL 132.04625 133.219798 \nL 135.30125 132.768176 \nL 138.55625 134.006439 \nL 141.81125 133.385626 \nL 145.06625 134.874743 \nL 148.32125 134.188649 \nL 151.57625 135.48797 \nL 154.83125 134.230255 \nL 158.08625 135.025498 \nL 161.34125 135.512694 \nL 164.59625 135.848226 \nL 167.85125 135.285894 \nL 171.10625 135.931996 \nL 174.36125 135.841028 \nL 177.61625 136.526317 \nL 180.87125 135.742428 \nL 184.12625 136.330987 \nL 187.38125 136.178987 \nL 190.63625 136.776093 \nL 193.89125 136.031723 \n\" clip-path=\"url(#p692c2b73d0)\" style=\"fill: none; stroke: #1f77b4; stroke-width: 1.5; stroke-linecap: square\"/>\n   </g>\n   <g id=\"line2d_172\">\n    <path d=\"M 27.0725 50.268038 \nL 33.5825 56.645213 \nL 40.0925 61.08434 \nL 46.6025 66.705747 \nL 53.1125 66.129438 \nL 59.6225 69.356142 \nL 66.1325 74.65129 \nL 72.6425 70.315716 \nL 79.1525 70.96904 \nL 85.6625 71.918994 \nL 92.1725 67.107159 \nL 98.6825 65.12784 \nL 105.1925 68.701068 \nL 111.7025 59.944005 \nL 118.2125 63.634902 \nL 124.7225 60.27593 \nL 131.2325 63.736588 \nL 137.7425 59.209083 \nL 144.2525 56.240094 \nL 150.7625 56.067126 \nL 157.2725 59.171474 \nL 163.7825 53.252815 \nL 170.2925 54.590442 \nL 176.8025 53.806689 \nL 183.3125 52.029685 \nL 189.8225 52.440306 \nL 196.3325 50.516097 \n\" clip-path=\"url(#p692c2b73d0)\" style=\"fill: none; stroke-dasharray: 5.55,2.4; stroke-dashoffset: 0; stroke: #ff7f0e; stroke-width: 1.5\"/>\n   </g>\n   <g id=\"line2d_173\">\n    <path d=\"M 21.37625 13.377273 \nL 24.63125 52.950961 \nL 27.88625 61.930545 \nL 31.14125 68.311623 \nL 34.39625 77.346665 \nL 37.65125 77.422702 \nL 40.90625 86.051396 \nL 44.16125 85.553098 \nL 47.41625 92.380424 \nL 50.67125 92.884413 \nL 53.92625 98.660521 \nL 57.18125 98.98121 \nL 60.43625 104.772622 \nL 63.69125 103.775518 \nL 66.94625 108.192722 \nL 70.20125 110.069377 \nL 73.45625 113.285811 \nL 76.71125 113.165985 \nL 79.96625 116.449487 \nL 83.22125 117.736162 \nL 86.47625 119.868686 \nL 89.73125 120.79814 \nL 92.98625 122.504215 \nL 96.24125 123.711576 \nL 99.49625 124.66695 \nL 102.75125 126.229254 \nL 106.00625 127.750857 \nL 109.26125 127.125576 \nL 112.51625 129.395541 \nL 115.77125 129.139362 \nL 119.02625 131.267254 \nL 122.28125 130.577301 \nL 125.53625 131.879456 \nL 128.79125 132.247941 \nL 132.04625 133.219798 \nL 135.30125 132.768176 \nL 138.55625 134.006439 \nL 141.81125 133.385626 \nL 145.06625 134.874743 \nL 148.32125 134.188649 \nL 151.57625 135.48797 \nL 154.83125 134.230255 \nL 158.08625 135.025498 \nL 161.34125 135.512694 \nL 164.59625 135.848226 \nL 167.85125 135.285894 \nL 171.10625 135.931996 \nL 174.36125 135.841028 \nL 177.61625 136.526317 \nL 180.87125 135.742428 \nL 184.12625 136.330987 \nL 187.38125 136.178987 \nL 190.63625 136.776093 \nL 193.89125 136.031723 \nL 197.14625 136.922727 \n\" clip-path=\"url(#p692c2b73d0)\" style=\"fill: none; stroke: #1f77b4; stroke-width: 1.5; stroke-linecap: square\"/>\n   </g>\n   <g id=\"line2d_174\">\n    <path d=\"M 27.0725 50.268038 \nL 33.5825 56.645213 \nL 40.0925 61.08434 \nL 46.6025 66.705747 \nL 53.1125 66.129438 \nL 59.6225 69.356142 \nL 66.1325 74.65129 \nL 72.6425 70.315716 \nL 79.1525 70.96904 \nL 85.6625 71.918994 \nL 92.1725 67.107159 \nL 98.6825 65.12784 \nL 105.1925 68.701068 \nL 111.7025 59.944005 \nL 118.2125 63.634902 \nL 124.7225 60.27593 \nL 131.2325 63.736588 \nL 137.7425 59.209083 \nL 144.2525 56.240094 \nL 150.7625 56.067126 \nL 157.2725 59.171474 \nL 163.7825 53.252815 \nL 170.2925 54.590442 \nL 176.8025 53.806689 \nL 183.3125 52.029685 \nL 189.8225 52.440306 \nL 196.3325 50.516097 \n\" clip-path=\"url(#p692c2b73d0)\" style=\"fill: none; stroke-dasharray: 5.55,2.4; stroke-dashoffset: 0; stroke: #ff7f0e; stroke-width: 1.5\"/>\n   </g>\n   <g id=\"line2d_175\">\n    <path d=\"M 21.37625 13.377273 \nL 24.63125 52.950961 \nL 27.88625 61.930545 \nL 31.14125 68.311623 \nL 34.39625 77.346665 \nL 37.65125 77.422702 \nL 40.90625 86.051396 \nL 44.16125 85.553098 \nL 47.41625 92.380424 \nL 50.67125 92.884413 \nL 53.92625 98.660521 \nL 57.18125 98.98121 \nL 60.43625 104.772622 \nL 63.69125 103.775518 \nL 66.94625 108.192722 \nL 70.20125 110.069377 \nL 73.45625 113.285811 \nL 76.71125 113.165985 \nL 79.96625 116.449487 \nL 83.22125 117.736162 \nL 86.47625 119.868686 \nL 89.73125 120.79814 \nL 92.98625 122.504215 \nL 96.24125 123.711576 \nL 99.49625 124.66695 \nL 102.75125 126.229254 \nL 106.00625 127.750857 \nL 109.26125 127.125576 \nL 112.51625 129.395541 \nL 115.77125 129.139362 \nL 119.02625 131.267254 \nL 122.28125 130.577301 \nL 125.53625 131.879456 \nL 128.79125 132.247941 \nL 132.04625 133.219798 \nL 135.30125 132.768176 \nL 138.55625 134.006439 \nL 141.81125 133.385626 \nL 145.06625 134.874743 \nL 148.32125 134.188649 \nL 151.57625 135.48797 \nL 154.83125 134.230255 \nL 158.08625 135.025498 \nL 161.34125 135.512694 \nL 164.59625 135.848226 \nL 167.85125 135.285894 \nL 171.10625 135.931996 \nL 174.36125 135.841028 \nL 177.61625 136.526317 \nL 180.87125 135.742428 \nL 184.12625 136.330987 \nL 187.38125 136.178987 \nL 190.63625 136.776093 \nL 193.89125 136.031723 \nL 197.14625 136.922727 \nL 200.40125 135.965349 \n\" clip-path=\"url(#p692c2b73d0)\" style=\"fill: none; stroke: #1f77b4; stroke-width: 1.5; stroke-linecap: square\"/>\n   </g>\n   <g id=\"line2d_176\">\n    <path d=\"M 27.0725 50.268038 \nL 33.5825 56.645213 \nL 40.0925 61.08434 \nL 46.6025 66.705747 \nL 53.1125 66.129438 \nL 59.6225 69.356142 \nL 66.1325 74.65129 \nL 72.6425 70.315716 \nL 79.1525 70.96904 \nL 85.6625 71.918994 \nL 92.1725 67.107159 \nL 98.6825 65.12784 \nL 105.1925 68.701068 \nL 111.7025 59.944005 \nL 118.2125 63.634902 \nL 124.7225 60.27593 \nL 131.2325 63.736588 \nL 137.7425 59.209083 \nL 144.2525 56.240094 \nL 150.7625 56.067126 \nL 157.2725 59.171474 \nL 163.7825 53.252815 \nL 170.2925 54.590442 \nL 176.8025 53.806689 \nL 183.3125 52.029685 \nL 189.8225 52.440306 \nL 196.3325 50.516097 \n\" clip-path=\"url(#p692c2b73d0)\" style=\"fill: none; stroke-dasharray: 5.55,2.4; stroke-dashoffset: 0; stroke: #ff7f0e; stroke-width: 1.5\"/>\n   </g>\n   <g id=\"line2d_177\">\n    <path d=\"M 21.37625 13.377273 \nL 24.63125 52.950961 \nL 27.88625 61.930545 \nL 31.14125 68.311623 \nL 34.39625 77.346665 \nL 37.65125 77.422702 \nL 40.90625 86.051396 \nL 44.16125 85.553098 \nL 47.41625 92.380424 \nL 50.67125 92.884413 \nL 53.92625 98.660521 \nL 57.18125 98.98121 \nL 60.43625 104.772622 \nL 63.69125 103.775518 \nL 66.94625 108.192722 \nL 70.20125 110.069377 \nL 73.45625 113.285811 \nL 76.71125 113.165985 \nL 79.96625 116.449487 \nL 83.22125 117.736162 \nL 86.47625 119.868686 \nL 89.73125 120.79814 \nL 92.98625 122.504215 \nL 96.24125 123.711576 \nL 99.49625 124.66695 \nL 102.75125 126.229254 \nL 106.00625 127.750857 \nL 109.26125 127.125576 \nL 112.51625 129.395541 \nL 115.77125 129.139362 \nL 119.02625 131.267254 \nL 122.28125 130.577301 \nL 125.53625 131.879456 \nL 128.79125 132.247941 \nL 132.04625 133.219798 \nL 135.30125 132.768176 \nL 138.55625 134.006439 \nL 141.81125 133.385626 \nL 145.06625 134.874743 \nL 148.32125 134.188649 \nL 151.57625 135.48797 \nL 154.83125 134.230255 \nL 158.08625 135.025498 \nL 161.34125 135.512694 \nL 164.59625 135.848226 \nL 167.85125 135.285894 \nL 171.10625 135.931996 \nL 174.36125 135.841028 \nL 177.61625 136.526317 \nL 180.87125 135.742428 \nL 184.12625 136.330987 \nL 187.38125 136.178987 \nL 190.63625 136.776093 \nL 193.89125 136.031723 \nL 197.14625 136.922727 \nL 200.40125 135.965349 \n\" clip-path=\"url(#p692c2b73d0)\" style=\"fill: none; stroke: #1f77b4; stroke-width: 1.5; stroke-linecap: square\"/>\n   </g>\n   <g id=\"line2d_178\">\n    <path d=\"M 27.0725 50.268038 \nL 33.5825 56.645213 \nL 40.0925 61.08434 \nL 46.6025 66.705747 \nL 53.1125 66.129438 \nL 59.6225 69.356142 \nL 66.1325 74.65129 \nL 72.6425 70.315716 \nL 79.1525 70.96904 \nL 85.6625 71.918994 \nL 92.1725 67.107159 \nL 98.6825 65.12784 \nL 105.1925 68.701068 \nL 111.7025 59.944005 \nL 118.2125 63.634902 \nL 124.7225 60.27593 \nL 131.2325 63.736588 \nL 137.7425 59.209083 \nL 144.2525 56.240094 \nL 150.7625 56.067126 \nL 157.2725 59.171474 \nL 163.7825 53.252815 \nL 170.2925 54.590442 \nL 176.8025 53.806689 \nL 183.3125 52.029685 \nL 189.8225 52.440306 \nL 196.3325 50.516097 \nL 202.8425 53.239932 \n\" clip-path=\"url(#p692c2b73d0)\" style=\"fill: none; stroke-dasharray: 5.55,2.4; stroke-dashoffset: 0; stroke: #ff7f0e; stroke-width: 1.5\"/>\n   </g>\n   <g id=\"line2d_179\">\n    <path d=\"M 21.37625 13.377273 \nL 24.63125 52.950961 \nL 27.88625 61.930545 \nL 31.14125 68.311623 \nL 34.39625 77.346665 \nL 37.65125 77.422702 \nL 40.90625 86.051396 \nL 44.16125 85.553098 \nL 47.41625 92.380424 \nL 50.67125 92.884413 \nL 53.92625 98.660521 \nL 57.18125 98.98121 \nL 60.43625 104.772622 \nL 63.69125 103.775518 \nL 66.94625 108.192722 \nL 70.20125 110.069377 \nL 73.45625 113.285811 \nL 76.71125 113.165985 \nL 79.96625 116.449487 \nL 83.22125 117.736162 \nL 86.47625 119.868686 \nL 89.73125 120.79814 \nL 92.98625 122.504215 \nL 96.24125 123.711576 \nL 99.49625 124.66695 \nL 102.75125 126.229254 \nL 106.00625 127.750857 \nL 109.26125 127.125576 \nL 112.51625 129.395541 \nL 115.77125 129.139362 \nL 119.02625 131.267254 \nL 122.28125 130.577301 \nL 125.53625 131.879456 \nL 128.79125 132.247941 \nL 132.04625 133.219798 \nL 135.30125 132.768176 \nL 138.55625 134.006439 \nL 141.81125 133.385626 \nL 145.06625 134.874743 \nL 148.32125 134.188649 \nL 151.57625 135.48797 \nL 154.83125 134.230255 \nL 158.08625 135.025498 \nL 161.34125 135.512694 \nL 164.59625 135.848226 \nL 167.85125 135.285894 \nL 171.10625 135.931996 \nL 174.36125 135.841028 \nL 177.61625 136.526317 \nL 180.87125 135.742428 \nL 184.12625 136.330987 \nL 187.38125 136.178987 \nL 190.63625 136.776093 \nL 193.89125 136.031723 \nL 197.14625 136.922727 \nL 200.40125 135.965349 \nL 203.65625 136.891946 \n\" clip-path=\"url(#p692c2b73d0)\" style=\"fill: none; stroke: #1f77b4; stroke-width: 1.5; stroke-linecap: square\"/>\n   </g>\n   <g id=\"line2d_180\">\n    <path d=\"M 27.0725 50.268038 \nL 33.5825 56.645213 \nL 40.0925 61.08434 \nL 46.6025 66.705747 \nL 53.1125 66.129438 \nL 59.6225 69.356142 \nL 66.1325 74.65129 \nL 72.6425 70.315716 \nL 79.1525 70.96904 \nL 85.6625 71.918994 \nL 92.1725 67.107159 \nL 98.6825 65.12784 \nL 105.1925 68.701068 \nL 111.7025 59.944005 \nL 118.2125 63.634902 \nL 124.7225 60.27593 \nL 131.2325 63.736588 \nL 137.7425 59.209083 \nL 144.2525 56.240094 \nL 150.7625 56.067126 \nL 157.2725 59.171474 \nL 163.7825 53.252815 \nL 170.2925 54.590442 \nL 176.8025 53.806689 \nL 183.3125 52.029685 \nL 189.8225 52.440306 \nL 196.3325 50.516097 \nL 202.8425 53.239932 \n\" clip-path=\"url(#p692c2b73d0)\" style=\"fill: none; stroke-dasharray: 5.55,2.4; stroke-dashoffset: 0; stroke: #ff7f0e; stroke-width: 1.5\"/>\n   </g>\n   <g id=\"line2d_181\">\n    <path d=\"M 21.37625 13.377273 \nL 24.63125 52.950961 \nL 27.88625 61.930545 \nL 31.14125 68.311623 \nL 34.39625 77.346665 \nL 37.65125 77.422702 \nL 40.90625 86.051396 \nL 44.16125 85.553098 \nL 47.41625 92.380424 \nL 50.67125 92.884413 \nL 53.92625 98.660521 \nL 57.18125 98.98121 \nL 60.43625 104.772622 \nL 63.69125 103.775518 \nL 66.94625 108.192722 \nL 70.20125 110.069377 \nL 73.45625 113.285811 \nL 76.71125 113.165985 \nL 79.96625 116.449487 \nL 83.22125 117.736162 \nL 86.47625 119.868686 \nL 89.73125 120.79814 \nL 92.98625 122.504215 \nL 96.24125 123.711576 \nL 99.49625 124.66695 \nL 102.75125 126.229254 \nL 106.00625 127.750857 \nL 109.26125 127.125576 \nL 112.51625 129.395541 \nL 115.77125 129.139362 \nL 119.02625 131.267254 \nL 122.28125 130.577301 \nL 125.53625 131.879456 \nL 128.79125 132.247941 \nL 132.04625 133.219798 \nL 135.30125 132.768176 \nL 138.55625 134.006439 \nL 141.81125 133.385626 \nL 145.06625 134.874743 \nL 148.32125 134.188649 \nL 151.57625 135.48797 \nL 154.83125 134.230255 \nL 158.08625 135.025498 \nL 161.34125 135.512694 \nL 164.59625 135.848226 \nL 167.85125 135.285894 \nL 171.10625 135.931996 \nL 174.36125 135.841028 \nL 177.61625 136.526317 \nL 180.87125 135.742428 \nL 184.12625 136.330987 \nL 187.38125 136.178987 \nL 190.63625 136.776093 \nL 193.89125 136.031723 \nL 197.14625 136.922727 \nL 200.40125 135.965349 \nL 203.65625 136.891946 \nL 206.91125 135.856762 \n\" clip-path=\"url(#p692c2b73d0)\" style=\"fill: none; stroke: #1f77b4; stroke-width: 1.5; stroke-linecap: square\"/>\n   </g>\n   <g id=\"line2d_182\">\n    <path d=\"M 27.0725 50.268038 \nL 33.5825 56.645213 \nL 40.0925 61.08434 \nL 46.6025 66.705747 \nL 53.1125 66.129438 \nL 59.6225 69.356142 \nL 66.1325 74.65129 \nL 72.6425 70.315716 \nL 79.1525 70.96904 \nL 85.6625 71.918994 \nL 92.1725 67.107159 \nL 98.6825 65.12784 \nL 105.1925 68.701068 \nL 111.7025 59.944005 \nL 118.2125 63.634902 \nL 124.7225 60.27593 \nL 131.2325 63.736588 \nL 137.7425 59.209083 \nL 144.2525 56.240094 \nL 150.7625 56.067126 \nL 157.2725 59.171474 \nL 163.7825 53.252815 \nL 170.2925 54.590442 \nL 176.8025 53.806689 \nL 183.3125 52.029685 \nL 189.8225 52.440306 \nL 196.3325 50.516097 \nL 202.8425 53.239932 \n\" clip-path=\"url(#p692c2b73d0)\" style=\"fill: none; stroke-dasharray: 5.55,2.4; stroke-dashoffset: 0; stroke: #ff7f0e; stroke-width: 1.5\"/>\n   </g>\n   <g id=\"line2d_183\">\n    <path d=\"M 21.37625 13.377273 \nL 24.63125 52.950961 \nL 27.88625 61.930545 \nL 31.14125 68.311623 \nL 34.39625 77.346665 \nL 37.65125 77.422702 \nL 40.90625 86.051396 \nL 44.16125 85.553098 \nL 47.41625 92.380424 \nL 50.67125 92.884413 \nL 53.92625 98.660521 \nL 57.18125 98.98121 \nL 60.43625 104.772622 \nL 63.69125 103.775518 \nL 66.94625 108.192722 \nL 70.20125 110.069377 \nL 73.45625 113.285811 \nL 76.71125 113.165985 \nL 79.96625 116.449487 \nL 83.22125 117.736162 \nL 86.47625 119.868686 \nL 89.73125 120.79814 \nL 92.98625 122.504215 \nL 96.24125 123.711576 \nL 99.49625 124.66695 \nL 102.75125 126.229254 \nL 106.00625 127.750857 \nL 109.26125 127.125576 \nL 112.51625 129.395541 \nL 115.77125 129.139362 \nL 119.02625 131.267254 \nL 122.28125 130.577301 \nL 125.53625 131.879456 \nL 128.79125 132.247941 \nL 132.04625 133.219798 \nL 135.30125 132.768176 \nL 138.55625 134.006439 \nL 141.81125 133.385626 \nL 145.06625 134.874743 \nL 148.32125 134.188649 \nL 151.57625 135.48797 \nL 154.83125 134.230255 \nL 158.08625 135.025498 \nL 161.34125 135.512694 \nL 164.59625 135.848226 \nL 167.85125 135.285894 \nL 171.10625 135.931996 \nL 174.36125 135.841028 \nL 177.61625 136.526317 \nL 180.87125 135.742428 \nL 184.12625 136.330987 \nL 187.38125 136.178987 \nL 190.63625 136.776093 \nL 193.89125 136.031723 \nL 197.14625 136.922727 \nL 200.40125 135.965349 \nL 203.65625 136.891946 \nL 206.91125 135.856762 \n\" clip-path=\"url(#p692c2b73d0)\" style=\"fill: none; stroke: #1f77b4; stroke-width: 1.5; stroke-linecap: square\"/>\n   </g>\n   <g id=\"line2d_184\">\n    <path d=\"M 27.0725 50.268038 \nL 33.5825 56.645213 \nL 40.0925 61.08434 \nL 46.6025 66.705747 \nL 53.1125 66.129438 \nL 59.6225 69.356142 \nL 66.1325 74.65129 \nL 72.6425 70.315716 \nL 79.1525 70.96904 \nL 85.6625 71.918994 \nL 92.1725 67.107159 \nL 98.6825 65.12784 \nL 105.1925 68.701068 \nL 111.7025 59.944005 \nL 118.2125 63.634902 \nL 124.7225 60.27593 \nL 131.2325 63.736588 \nL 137.7425 59.209083 \nL 144.2525 56.240094 \nL 150.7625 56.067126 \nL 157.2725 59.171474 \nL 163.7825 53.252815 \nL 170.2925 54.590442 \nL 176.8025 53.806689 \nL 183.3125 52.029685 \nL 189.8225 52.440306 \nL 196.3325 50.516097 \nL 202.8425 53.239932 \nL 209.3525 50.660718 \n\" clip-path=\"url(#p692c2b73d0)\" style=\"fill: none; stroke-dasharray: 5.55,2.4; stroke-dashoffset: 0; stroke: #ff7f0e; stroke-width: 1.5\"/>\n   </g>\n   <g id=\"line2d_185\">\n    <path d=\"M 21.37625 13.377273 \nL 24.63125 52.950961 \nL 27.88625 61.930545 \nL 31.14125 68.311623 \nL 34.39625 77.346665 \nL 37.65125 77.422702 \nL 40.90625 86.051396 \nL 44.16125 85.553098 \nL 47.41625 92.380424 \nL 50.67125 92.884413 \nL 53.92625 98.660521 \nL 57.18125 98.98121 \nL 60.43625 104.772622 \nL 63.69125 103.775518 \nL 66.94625 108.192722 \nL 70.20125 110.069377 \nL 73.45625 113.285811 \nL 76.71125 113.165985 \nL 79.96625 116.449487 \nL 83.22125 117.736162 \nL 86.47625 119.868686 \nL 89.73125 120.79814 \nL 92.98625 122.504215 \nL 96.24125 123.711576 \nL 99.49625 124.66695 \nL 102.75125 126.229254 \nL 106.00625 127.750857 \nL 109.26125 127.125576 \nL 112.51625 129.395541 \nL 115.77125 129.139362 \nL 119.02625 131.267254 \nL 122.28125 130.577301 \nL 125.53625 131.879456 \nL 128.79125 132.247941 \nL 132.04625 133.219798 \nL 135.30125 132.768176 \nL 138.55625 134.006439 \nL 141.81125 133.385626 \nL 145.06625 134.874743 \nL 148.32125 134.188649 \nL 151.57625 135.48797 \nL 154.83125 134.230255 \nL 158.08625 135.025498 \nL 161.34125 135.512694 \nL 164.59625 135.848226 \nL 167.85125 135.285894 \nL 171.10625 135.931996 \nL 174.36125 135.841028 \nL 177.61625 136.526317 \nL 180.87125 135.742428 \nL 184.12625 136.330987 \nL 187.38125 136.178987 \nL 190.63625 136.776093 \nL 193.89125 136.031723 \nL 197.14625 136.922727 \nL 200.40125 135.965349 \nL 203.65625 136.891946 \nL 206.91125 135.856762 \nL 210.16625 136.859845 \n\" clip-path=\"url(#p692c2b73d0)\" style=\"fill: none; stroke: #1f77b4; stroke-width: 1.5; stroke-linecap: square\"/>\n   </g>\n   <g id=\"line2d_186\">\n    <path d=\"M 27.0725 50.268038 \nL 33.5825 56.645213 \nL 40.0925 61.08434 \nL 46.6025 66.705747 \nL 53.1125 66.129438 \nL 59.6225 69.356142 \nL 66.1325 74.65129 \nL 72.6425 70.315716 \nL 79.1525 70.96904 \nL 85.6625 71.918994 \nL 92.1725 67.107159 \nL 98.6825 65.12784 \nL 105.1925 68.701068 \nL 111.7025 59.944005 \nL 118.2125 63.634902 \nL 124.7225 60.27593 \nL 131.2325 63.736588 \nL 137.7425 59.209083 \nL 144.2525 56.240094 \nL 150.7625 56.067126 \nL 157.2725 59.171474 \nL 163.7825 53.252815 \nL 170.2925 54.590442 \nL 176.8025 53.806689 \nL 183.3125 52.029685 \nL 189.8225 52.440306 \nL 196.3325 50.516097 \nL 202.8425 53.239932 \nL 209.3525 50.660718 \n\" clip-path=\"url(#p692c2b73d0)\" style=\"fill: none; stroke-dasharray: 5.55,2.4; stroke-dashoffset: 0; stroke: #ff7f0e; stroke-width: 1.5\"/>\n   </g>\n   <g id=\"line2d_187\">\n    <path d=\"M 21.37625 13.377273 \nL 24.63125 52.950961 \nL 27.88625 61.930545 \nL 31.14125 68.311623 \nL 34.39625 77.346665 \nL 37.65125 77.422702 \nL 40.90625 86.051396 \nL 44.16125 85.553098 \nL 47.41625 92.380424 \nL 50.67125 92.884413 \nL 53.92625 98.660521 \nL 57.18125 98.98121 \nL 60.43625 104.772622 \nL 63.69125 103.775518 \nL 66.94625 108.192722 \nL 70.20125 110.069377 \nL 73.45625 113.285811 \nL 76.71125 113.165985 \nL 79.96625 116.449487 \nL 83.22125 117.736162 \nL 86.47625 119.868686 \nL 89.73125 120.79814 \nL 92.98625 122.504215 \nL 96.24125 123.711576 \nL 99.49625 124.66695 \nL 102.75125 126.229254 \nL 106.00625 127.750857 \nL 109.26125 127.125576 \nL 112.51625 129.395541 \nL 115.77125 129.139362 \nL 119.02625 131.267254 \nL 122.28125 130.577301 \nL 125.53625 131.879456 \nL 128.79125 132.247941 \nL 132.04625 133.219798 \nL 135.30125 132.768176 \nL 138.55625 134.006439 \nL 141.81125 133.385626 \nL 145.06625 134.874743 \nL 148.32125 134.188649 \nL 151.57625 135.48797 \nL 154.83125 134.230255 \nL 158.08625 135.025498 \nL 161.34125 135.512694 \nL 164.59625 135.848226 \nL 167.85125 135.285894 \nL 171.10625 135.931996 \nL 174.36125 135.841028 \nL 177.61625 136.526317 \nL 180.87125 135.742428 \nL 184.12625 136.330987 \nL 187.38125 136.178987 \nL 190.63625 136.776093 \nL 193.89125 136.031723 \nL 197.14625 136.922727 \nL 200.40125 135.965349 \nL 203.65625 136.891946 \nL 206.91125 135.856762 \nL 210.16625 136.859845 \nL 213.42125 136.165746 \n\" clip-path=\"url(#p692c2b73d0)\" style=\"fill: none; stroke: #1f77b4; stroke-width: 1.5; stroke-linecap: square\"/>\n   </g>\n   <g id=\"line2d_188\">\n    <path d=\"M 27.0725 50.268038 \nL 33.5825 56.645213 \nL 40.0925 61.08434 \nL 46.6025 66.705747 \nL 53.1125 66.129438 \nL 59.6225 69.356142 \nL 66.1325 74.65129 \nL 72.6425 70.315716 \nL 79.1525 70.96904 \nL 85.6625 71.918994 \nL 92.1725 67.107159 \nL 98.6825 65.12784 \nL 105.1925 68.701068 \nL 111.7025 59.944005 \nL 118.2125 63.634902 \nL 124.7225 60.27593 \nL 131.2325 63.736588 \nL 137.7425 59.209083 \nL 144.2525 56.240094 \nL 150.7625 56.067126 \nL 157.2725 59.171474 \nL 163.7825 53.252815 \nL 170.2925 54.590442 \nL 176.8025 53.806689 \nL 183.3125 52.029685 \nL 189.8225 52.440306 \nL 196.3325 50.516097 \nL 202.8425 53.239932 \nL 209.3525 50.660718 \n\" clip-path=\"url(#p692c2b73d0)\" style=\"fill: none; stroke-dasharray: 5.55,2.4; stroke-dashoffset: 0; stroke: #ff7f0e; stroke-width: 1.5\"/>\n   </g>\n   <g id=\"line2d_189\">\n    <path d=\"M 21.37625 13.377273 \nL 24.63125 52.950961 \nL 27.88625 61.930545 \nL 31.14125 68.311623 \nL 34.39625 77.346665 \nL 37.65125 77.422702 \nL 40.90625 86.051396 \nL 44.16125 85.553098 \nL 47.41625 92.380424 \nL 50.67125 92.884413 \nL 53.92625 98.660521 \nL 57.18125 98.98121 \nL 60.43625 104.772622 \nL 63.69125 103.775518 \nL 66.94625 108.192722 \nL 70.20125 110.069377 \nL 73.45625 113.285811 \nL 76.71125 113.165985 \nL 79.96625 116.449487 \nL 83.22125 117.736162 \nL 86.47625 119.868686 \nL 89.73125 120.79814 \nL 92.98625 122.504215 \nL 96.24125 123.711576 \nL 99.49625 124.66695 \nL 102.75125 126.229254 \nL 106.00625 127.750857 \nL 109.26125 127.125576 \nL 112.51625 129.395541 \nL 115.77125 129.139362 \nL 119.02625 131.267254 \nL 122.28125 130.577301 \nL 125.53625 131.879456 \nL 128.79125 132.247941 \nL 132.04625 133.219798 \nL 135.30125 132.768176 \nL 138.55625 134.006439 \nL 141.81125 133.385626 \nL 145.06625 134.874743 \nL 148.32125 134.188649 \nL 151.57625 135.48797 \nL 154.83125 134.230255 \nL 158.08625 135.025498 \nL 161.34125 135.512694 \nL 164.59625 135.848226 \nL 167.85125 135.285894 \nL 171.10625 135.931996 \nL 174.36125 135.841028 \nL 177.61625 136.526317 \nL 180.87125 135.742428 \nL 184.12625 136.330987 \nL 187.38125 136.178987 \nL 190.63625 136.776093 \nL 193.89125 136.031723 \nL 197.14625 136.922727 \nL 200.40125 135.965349 \nL 203.65625 136.891946 \nL 206.91125 135.856762 \nL 210.16625 136.859845 \nL 213.42125 136.165746 \n\" clip-path=\"url(#p692c2b73d0)\" style=\"fill: none; stroke: #1f77b4; stroke-width: 1.5; stroke-linecap: square\"/>\n   </g>\n   <g id=\"line2d_190\">\n    <path d=\"M 27.0725 50.268038 \nL 33.5825 56.645213 \nL 40.0925 61.08434 \nL 46.6025 66.705747 \nL 53.1125 66.129438 \nL 59.6225 69.356142 \nL 66.1325 74.65129 \nL 72.6425 70.315716 \nL 79.1525 70.96904 \nL 85.6625 71.918994 \nL 92.1725 67.107159 \nL 98.6825 65.12784 \nL 105.1925 68.701068 \nL 111.7025 59.944005 \nL 118.2125 63.634902 \nL 124.7225 60.27593 \nL 131.2325 63.736588 \nL 137.7425 59.209083 \nL 144.2525 56.240094 \nL 150.7625 56.067126 \nL 157.2725 59.171474 \nL 163.7825 53.252815 \nL 170.2925 54.590442 \nL 176.8025 53.806689 \nL 183.3125 52.029685 \nL 189.8225 52.440306 \nL 196.3325 50.516097 \nL 202.8425 53.239932 \nL 209.3525 50.660718 \nL 215.8625 50.738161 \n\" clip-path=\"url(#p692c2b73d0)\" style=\"fill: none; stroke-dasharray: 5.55,2.4; stroke-dashoffset: 0; stroke: #ff7f0e; stroke-width: 1.5\"/>\n   </g>\n   <g id=\"patch_3\">\n    <path d=\"M 20.5625 143.1 \nL 20.5625 7.2 \n\" style=\"fill: none; stroke: #000000; stroke-width: 0.8; stroke-linejoin: miter; stroke-linecap: square\"/>\n   </g>\n   <g id=\"patch_4\">\n    <path d=\"M 215.8625 143.1 \nL 215.8625 7.2 \n\" style=\"fill: none; stroke: #000000; stroke-width: 0.8; stroke-linejoin: miter; stroke-linecap: square\"/>\n   </g>\n   <g id=\"patch_5\">\n    <path d=\"M 20.5625 143.1 \nL 215.8625 143.1 \n\" style=\"fill: none; stroke: #000000; stroke-width: 0.8; stroke-linejoin: miter; stroke-linecap: square\"/>\n   </g>\n   <g id=\"patch_6\">\n    <path d=\"M 20.5625 7.2 \nL 215.8625 7.2 \n\" style=\"fill: none; stroke: #000000; stroke-width: 0.8; stroke-linejoin: miter; stroke-linecap: square\"/>\n   </g>\n   <g id=\"legend_1\">\n    <g id=\"patch_7\">\n     <path d=\"M 129.271875 45.1125 \nL 208.8625 45.1125 \nQ 210.8625 45.1125 210.8625 43.1125 \nL 210.8625 14.2 \nQ 210.8625 12.2 208.8625 12.2 \nL 129.271875 12.2 \nQ 127.271875 12.2 127.271875 14.2 \nL 127.271875 43.1125 \nQ 127.271875 45.1125 129.271875 45.1125 \nz\n\" style=\"fill: #ffffff; opacity: 0.8; stroke: #cccccc; stroke-linejoin: miter\"/>\n    </g>\n    <g id=\"line2d_191\">\n     <path d=\"M 131.271875 20.298437 \nL 141.271875 20.298437 \nL 151.271875 20.298437 \n\" style=\"fill: none; stroke: #1f77b4; stroke-width: 1.5; stroke-linecap: square\"/>\n    </g>\n    <g id=\"text_14\">\n     <!-- train_loss -->\n     <g transform=\"translate(159.271875 23.798437) scale(0.1 -0.1)\">\n      <defs>\n       <path id=\"DejaVuSans-74\" d=\"M 1172 4494 \nL 1172 3500 \nL 2356 3500 \nL 2356 3053 \nL 1172 3053 \nL 1172 1153 \nQ 1172 725 1289 603 \nQ 1406 481 1766 481 \nL 2356 481 \nL 2356 0 \nL 1766 0 \nQ 1100 0 847 248 \nQ 594 497 594 1153 \nL 594 3053 \nL 172 3053 \nL 172 3500 \nL 594 3500 \nL 594 4494 \nL 1172 4494 \nz\n\" transform=\"scale(0.015625)\"/>\n       <path id=\"DejaVuSans-72\" d=\"M 2631 2963 \nQ 2534 3019 2420 3045 \nQ 2306 3072 2169 3072 \nQ 1681 3072 1420 2755 \nQ 1159 2438 1159 1844 \nL 1159 0 \nL 581 0 \nL 581 3500 \nL 1159 3500 \nL 1159 2956 \nQ 1341 3275 1631 3429 \nQ 1922 3584 2338 3584 \nQ 2397 3584 2469 3576 \nQ 2541 3569 2628 3553 \nL 2631 2963 \nz\n\" transform=\"scale(0.015625)\"/>\n       <path id=\"DejaVuSans-61\" d=\"M 2194 1759 \nQ 1497 1759 1228 1600 \nQ 959 1441 959 1056 \nQ 959 750 1161 570 \nQ 1363 391 1709 391 \nQ 2188 391 2477 730 \nQ 2766 1069 2766 1631 \nL 2766 1759 \nL 2194 1759 \nz\nM 3341 1997 \nL 3341 0 \nL 2766 0 \nL 2766 531 \nQ 2569 213 2275 61 \nQ 1981 -91 1556 -91 \nQ 1019 -91 701 211 \nQ 384 513 384 1019 \nQ 384 1609 779 1909 \nQ 1175 2209 1959 2209 \nL 2766 2209 \nL 2766 2266 \nQ 2766 2663 2505 2880 \nQ 2244 3097 1772 3097 \nQ 1472 3097 1187 3025 \nQ 903 2953 641 2809 \nL 641 3341 \nQ 956 3463 1253 3523 \nQ 1550 3584 1831 3584 \nQ 2591 3584 2966 3190 \nQ 3341 2797 3341 1997 \nz\n\" transform=\"scale(0.015625)\"/>\n       <path id=\"DejaVuSans-69\" d=\"M 603 3500 \nL 1178 3500 \nL 1178 0 \nL 603 0 \nL 603 3500 \nz\nM 603 4863 \nL 1178 4863 \nL 1178 4134 \nL 603 4134 \nL 603 4863 \nz\n\" transform=\"scale(0.015625)\"/>\n       <path id=\"DejaVuSans-6e\" d=\"M 3513 2113 \nL 3513 0 \nL 2938 0 \nL 2938 2094 \nQ 2938 2591 2744 2837 \nQ 2550 3084 2163 3084 \nQ 1697 3084 1428 2787 \nQ 1159 2491 1159 1978 \nL 1159 0 \nL 581 0 \nL 581 3500 \nL 1159 3500 \nL 1159 2956 \nQ 1366 3272 1645 3428 \nQ 1925 3584 2291 3584 \nQ 2894 3584 3203 3211 \nQ 3513 2838 3513 2113 \nz\n\" transform=\"scale(0.015625)\"/>\n       <path id=\"DejaVuSans-5f\" d=\"M 3263 -1063 \nL 3263 -1509 \nL -63 -1509 \nL -63 -1063 \nL 3263 -1063 \nz\n\" transform=\"scale(0.015625)\"/>\n       <path id=\"DejaVuSans-6c\" d=\"M 603 4863 \nL 1178 4863 \nL 1178 0 \nL 603 0 \nL 603 4863 \nz\n\" transform=\"scale(0.015625)\"/>\n       <path id=\"DejaVuSans-73\" d=\"M 2834 3397 \nL 2834 2853 \nQ 2591 2978 2328 3040 \nQ 2066 3103 1784 3103 \nQ 1356 3103 1142 2972 \nQ 928 2841 928 2578 \nQ 928 2378 1081 2264 \nQ 1234 2150 1697 2047 \nL 1894 2003 \nQ 2506 1872 2764 1633 \nQ 3022 1394 3022 966 \nQ 3022 478 2636 193 \nQ 2250 -91 1575 -91 \nQ 1294 -91 989 -36 \nQ 684 19 347 128 \nL 347 722 \nQ 666 556 975 473 \nQ 1284 391 1588 391 \nQ 1994 391 2212 530 \nQ 2431 669 2431 922 \nQ 2431 1156 2273 1281 \nQ 2116 1406 1581 1522 \nL 1381 1569 \nQ 847 1681 609 1914 \nQ 372 2147 372 2553 \nQ 372 3047 722 3315 \nQ 1072 3584 1716 3584 \nQ 2034 3584 2315 3537 \nQ 2597 3491 2834 3397 \nz\n\" transform=\"scale(0.015625)\"/>\n      </defs>\n      <use xlink:href=\"#DejaVuSans-74\"/>\n      <use xlink:href=\"#DejaVuSans-72\" x=\"39.208984\"/>\n      <use xlink:href=\"#DejaVuSans-61\" x=\"80.322266\"/>\n      <use xlink:href=\"#DejaVuSans-69\" x=\"141.601562\"/>\n      <use xlink:href=\"#DejaVuSans-6e\" x=\"169.384766\"/>\n      <use xlink:href=\"#DejaVuSans-5f\" x=\"232.763672\"/>\n      <use xlink:href=\"#DejaVuSans-6c\" x=\"282.763672\"/>\n      <use xlink:href=\"#DejaVuSans-6f\" x=\"310.546875\"/>\n      <use xlink:href=\"#DejaVuSans-73\" x=\"371.728516\"/>\n      <use xlink:href=\"#DejaVuSans-73\" x=\"423.828125\"/>\n     </g>\n    </g>\n    <g id=\"line2d_192\">\n     <path d=\"M 131.271875 35.254687 \nL 141.271875 35.254687 \nL 151.271875 35.254687 \n\" style=\"fill: none; stroke-dasharray: 5.55,2.4; stroke-dashoffset: 0; stroke: #ff7f0e; stroke-width: 1.5\"/>\n    </g>\n    <g id=\"text_15\">\n     <!-- val_loss -->\n     <g transform=\"translate(159.271875 38.754687) scale(0.1 -0.1)\">\n      <defs>\n       <path id=\"DejaVuSans-76\" d=\"M 191 3500 \nL 800 3500 \nL 1894 563 \nL 2988 3500 \nL 3597 3500 \nL 2284 0 \nL 1503 0 \nL 191 3500 \nz\n\" transform=\"scale(0.015625)\"/>\n      </defs>\n      <use xlink:href=\"#DejaVuSans-76\"/>\n      <use xlink:href=\"#DejaVuSans-61\" x=\"59.179688\"/>\n      <use xlink:href=\"#DejaVuSans-6c\" x=\"120.458984\"/>\n      <use xlink:href=\"#DejaVuSans-5f\" x=\"148.242188\"/>\n      <use xlink:href=\"#DejaVuSans-6c\" x=\"198.242188\"/>\n      <use xlink:href=\"#DejaVuSans-6f\" x=\"226.025391\"/>\n      <use xlink:href=\"#DejaVuSans-73\" x=\"287.207031\"/>\n      <use xlink:href=\"#DejaVuSans-73\" x=\"339.306641\"/>\n     </g>\n    </g>\n   </g>\n  </g>\n </g>\n <defs>\n  <clipPath id=\"p692c2b73d0\">\n   <rect x=\"20.5625\" y=\"7.2\" width=\"195.3\" height=\"135.9\"/>\n  </clipPath>\n </defs>\n</svg>\n"
          },
          "metadata": {
            "needs_background": "light"
          }
        }
      ]
    },
    {
      "cell_type": "markdown",
      "metadata": {
        "id": "8fo0IMZE4Rkt"
      },
      "source": [
        "# Problems\n"
      ]
    },
    {
      "cell_type": "markdown",
      "source": [
        "| | Model 1      | Model 2 | Model 3     | \n",
        "| :--- | :---        |    :----   |          :--- |\n",
        "| Final Loss:| 3.1248     | 4.0104       | 3.5872   | \n",
        "| Training Time:| 30.60s   | 33.08s        | 18.72s     | "
      ],
      "metadata": {
        "id": "nG7M-AZERrV3"
      }
    },
    {
      "cell_type": "markdown",
      "source": [
        "1. In the example, sequence-to-sequence learning is enabled by initializing the decoder state with the final encoder state and by concatenating the final encoder state with the embeddings used as input to the decoder. Modify the code so that the final encoder state is *only* used to initialize the decoder, *not* concatenated with the decoder embeddings. Does this change the loss and/or the predictions of the model? Why do you think this is?"
      ],
      "metadata": {
        "id": "q5s6usTpD4gY"
      }
    },
    {
      "cell_type": "markdown",
      "source": [
        "**Remove the context from decoder embeddings**"
      ],
      "metadata": {
        "id": "nAoReESHNTmU"
      }
    },
    {
      "cell_type": "code",
      "source": [
        "def init_seq2seq(module):\n",
        "    \"\"\"Initialize weights for Seq2Seq.\"\"\"\n",
        "    if type(module) == nn.Linear:\n",
        "         nn.init.xavier_uniform_(module.weight)\n",
        "    if type(module) == nn.GRU:\n",
        "        for param in module._flat_weights_names:\n",
        "            if \"weight\" in param:\n",
        "                nn.init.xavier_uniform_(module._parameters[param])\n",
        "\n",
        "class Seq2SeqEncoder(d2l.Encoder):\n",
        "    \"\"\"The RNN encoder for sequence to sequence learning.\"\"\"\n",
        "    def __init__(self, vocab_size, embed_size, num_hiddens, num_layers,\n",
        "                 dropout=0):\n",
        "        super().__init__()\n",
        "        self.embedding = nn.Embedding(vocab_size, embed_size)\n",
        "        self.rnn = d2l.GRU(embed_size, num_hiddens, num_layers, dropout)\n",
        "        self.apply(init_seq2seq)\n",
        "\n",
        "    def forward(self, X, *args):\n",
        "        # X shape: (batch_size, num_steps)\n",
        "        embs = self.embedding(X.t().type(torch.int64))\n",
        "        # embs shape: (num_steps, batch_size, embed_size)\n",
        "        outputs, state = self.rnn(embs)\n",
        "        # outputs shape: (num_steps, batch_size, num_hiddens)\n",
        "        # state shape: (num_layers, batch_size, num_hiddens)\n",
        "        return outputs, state\n",
        "\n",
        "class Seq2SeqDecoder(d2l.Decoder):\n",
        "    \"\"\"The RNN decoder for sequence to sequence learning.\"\"\"\n",
        "    def __init__(self, vocab_size, embed_size, num_hiddens, num_layers,\n",
        "                 dropout=0):\n",
        "        super().__init__()\n",
        "        self.embedding = nn.Embedding(vocab_size, embed_size)\n",
        "        # Change input size to embed_size instead of embed_size + num_hiddens\n",
        "        self.rnn = d2l.GRU(embed_size, num_hiddens, num_layers)\n",
        "        self.dense = nn.LazyLinear(vocab_size)\n",
        "        self.apply(init_seq2seq)\n",
        "\n",
        "    def init_state(self, enc_all_outputs, *args):\n",
        "        return enc_all_outputs\n",
        "\n",
        "    def forward(self, X, state):\n",
        "        # X shape: (batch_size, num_steps)\n",
        "        # embs shape: (num_steps, batch_size, embed_size)\n",
        "        embs = self.embedding(X.t().type(torch.int32))\n",
        "        enc_output, hidden_state = state\n",
        "        # Remove the concatenation of context and embeddings\n",
        "        outputs, hidden_state = self.rnn(embs, hidden_state)\n",
        "        outputs = self.dense(outputs).swapaxes(0, 1)\n",
        "        # outputs shape: (batch_size, num_steps, vocab_size)\n",
        "        # hidden_state shape: (num_layers, batch_size, num_hiddens)\n",
        "        return outputs, [enc_output, hidden_state]\n",
        "\n",
        "class Seq2Seq(d2l.EncoderDecoder):\n",
        "    \"\"\"The RNN encoder-decoder for sequence to sequence learning.\"\"\"\n",
        "    def __init__(self, encoder, decoder, tgt_pad, lr):\n",
        "        super().__init__(encoder, decoder)\n",
        "        self.save_hyperparameters()\n",
        "        self.train_losses = []\n",
        "        self.val_losses = []\n",
        "        self.epoch_train_losses = []\n",
        "        self.epoch_val_losses = []\n",
        "\n",
        "    def training_step(self, batch):\n",
        "        Y_hat = self(*batch[:-1])\n",
        "        loss = self.loss(Y_hat, batch[-1])\n",
        "        self.train_losses.append(loss.item())\n",
        "        return loss\n",
        "\n",
        "    def validation_step(self, batch):\n",
        "        Y_hat = self(*batch[:-1])\n",
        "        loss = self.loss(Y_hat, batch[-1])\n",
        "        self.val_losses.append(loss.item())\n",
        "        return loss\n",
        "\n",
        "    def on_epoch_end(self):\n",
        "        avg_train_loss = sum(self.train_losses) / len(self.train_losses)\n",
        "        avg_val_loss = sum(self.val_losses) / len(self.val_losses)\n",
        "        self.epoch_train_losses.append(avg_train_loss)\n",
        "        self.epoch_val_losses.append(avg_val_loss)\n",
        "        print(f'Epoch {len(self.epoch_train_losses)}: Train Loss={avg_train_loss:.4f}, Val Loss={avg_val_loss:.4f}')\n",
        "        self.train_losses = []\n",
        "        self.val_losses = []\n",
        "\n",
        "    def configure_optimizers(self):\n",
        "        # Adam optimizer is used here\n",
        "        return torch.optim.Adam(self.parameters(), lr=self.lr)\n",
        "\n",
        "    def loss(self, Y_hat, Y):\n",
        "        l = super(Seq2Seq, self).loss(Y_hat, Y, averaged=False)\n",
        "        mask = (Y.reshape(-1) != self.tgt_pad).type(torch.float32)\n",
        "        return (l * mask).sum() / mask.sum()\n",
        "\n",
        "    def predict_step(self, batch, device, num_steps,\n",
        "                    save_attention_weights=False, sampling_temperature=1.0):\n",
        "        batch = [a.to(device) for a in batch]\n",
        "        src, tgt, src_valid_len, _ = batch\n",
        "        enc_all_outputs = self.encoder(src, src_valid_len)\n",
        "        dec_state = self.decoder.init_state(enc_all_outputs, src_valid_len)\n",
        "        outputs, attention_weights = [tgt[:, 0].unsqueeze(1), ], []\n",
        "        for _ in range(num_steps):\n",
        "            Y, dec_state = self.decoder(outputs[-1], dec_state)\n",
        "            # Apply temperature for sampling\n",
        "            Y = Y / sampling_temperature\n",
        "            # Sample the next token from the predicted distribution\n",
        "            next_token = torch.multinomial(F.softmax(Y.squeeze(), dim=-1), 1)\n",
        "            outputs.append(next_token)\n",
        "            # Save attention weights (to be covered later)\n",
        "            if save_attention_weights:\n",
        "                attention_weights.append(self.decoder.attention_weights)\n",
        "        return torch.cat(outputs[1:], 1), attention_weights\n",
        "\n",
        "def bleu(pred_seq, label_seq, k):\n",
        "    \"\"\"Compute the BLEU.\"\"\"\n",
        "    pred_tokens, label_tokens = pred_seq.split(' '), label_seq.split(' ')\n",
        "    len_pred, len_label = len(pred_tokens), len(label_tokens)\n",
        "    score = math.exp(min(0, 1 - len_label / len_pred))\n",
        "    for n in range(1, min(k, len_pred) + 1):\n",
        "        num_matches, label_subs = 0, collections.defaultdict(int)\n",
        "        for i in range(len_label - n + 1):\n",
        "            label_subs[' '.join(label_tokens[i: i + n])] += 1\n",
        "        for i in range(len_pred - n + 1):\n",
        "            if label_subs[' '.join(pred_tokens[i: i + n])] > 0:\n",
        "                num_matches += 1\n",
        "                label_subs[' '.join(pred_tokens[i: i + n])] -= 1\n",
        "        score *= math.pow(num_matches / (len_pred - n + 1), math.pow(0.5, n))\n",
        "    return score"
      ],
      "metadata": {
        "id": "dRWVj_mmConI"
      },
      "execution_count": 3,
      "outputs": []
    },
    {
      "cell_type": "markdown",
      "source": [
        "**Training the model**"
      ],
      "metadata": {
        "id": "3AavGX_VNaET"
      }
    },
    {
      "cell_type": "code",
      "source": [
        "vocab_size, embed_size, num_hiddens, num_layers = 10, 8, 16, 2\n",
        "batch_size, num_steps = 4, 9\n",
        "encoder = Seq2SeqEncoder(vocab_size, embed_size, num_hiddens, num_layers)\n",
        "X = torch.zeros((batch_size, num_steps))\n",
        "enc_outputs, enc_state = encoder(X)\n",
        "decoder = Seq2SeqDecoder(vocab_size, embed_size, num_hiddens, num_layers)\n",
        "state = decoder.init_state(encoder(X))\n",
        "dec_outputs, state = decoder(X, state)\n",
        "\n",
        "class CustomTrainer:\n",
        "    def __init__(self, model, data, max_epochs, gradient_clip_val, num_gpus):\n",
        "        self.model = model\n",
        "        self.data = data\n",
        "        self.max_epochs = max_epochs\n",
        "        self.gradient_clip_val = gradient_clip_val\n",
        "        self.num_gpus = num_gpus\n",
        "        self.model.trainer = self\n",
        "        self.epoch = 0\n",
        "        self.num_val_batches = len(data.val_dataloader())\n",
        "        self.num_train_batches = len(data.train_dataloader())\n",
        "        self.optimizer = torch.optim.Adam(self.model.parameters(), lr=model.lr)\n",
        "\n",
        "    def fit_epoch(self):\n",
        "      train_losses = []\n",
        "      val_losses = []\n",
        "    \n",
        "      self.model.train()\n",
        "      for train_batch_idx, batch in enumerate(self.data.train_dataloader()):\n",
        "          self.train_batch_idx = train_batch_idx\n",
        "          loss = self.model.training_step(batch)\n",
        "          train_losses.append(loss.item())\n",
        "          self.optimizer.zero_grad()\n",
        "          loss.backward()\n",
        "          torch.nn.utils.clip_grad_norm_(self.model.parameters(), self.gradient_clip_val)\n",
        "          self.optimizer.step()\n",
        "\n",
        "      self.model.eval()\n",
        "      for val_batch_idx, batch in enumerate(self.data.val_dataloader()):\n",
        "          self.val_batch_idx = val_batch_idx\n",
        "          with torch.no_grad():\n",
        "              loss = self.model.validation_step(batch)\n",
        "              val_losses.append(loss.item())\n",
        "\n",
        "      self.model.on_epoch_end()\n",
        "    \n",
        "      return train_losses, val_losses\n",
        "\n",
        "data = d2l.MTFraEng(batch_size=128)\n",
        "embed_size, num_hiddens, num_layers, dropout = 256, 256, 2, 0.2\n",
        "encoder = Seq2SeqEncoder(len(data.src_vocab), embed_size, num_hiddens, num_layers, dropout)\n",
        "decoder = Seq2SeqDecoder(len(data.tgt_vocab), embed_size, num_hiddens, num_layers, dropout)\n",
        "model = Seq2Seq(encoder, decoder, tgt_pad=data.tgt_vocab['<pad>'], lr=0.005)\n",
        "\n",
        "custom_trainer = CustomTrainer(model, data, max_epochs=30, gradient_clip_val=1, num_gpus=1)\n",
        "\n",
        "start_time = time.time()\n",
        "for epoch in range(30):\n",
        "    custom_trainer.epoch = epoch\n",
        "    custom_trainer.fit_epoch()\n",
        "end_time = time.time()\n",
        "\n",
        "print(f'Training time: {end_time - start_time:.2f} seconds')\n",
        "\n",
        "# Plot the losses after the training loop is finished\n",
        "plt.plot(range(1, len(model.epoch_train_losses) + 1), model.epoch_train_losses, label='train', marker='o')\n",
        "plt.plot(range(1, len(model.epoch_val_losses) + 1), model.epoch_val_losses, label='validation', marker='o')\n",
        "plt.xlabel('Epoch')\n",
        "plt.ylabel('Loss')\n",
        "plt.title('Model 1')\n",
        "plt.legend()\n",
        "plt.show()"
      ],
      "metadata": {
        "colab": {
          "base_uri": "https://localhost:8080/",
          "height": 888
        },
        "id": "E0bfjT39CxUS",
        "outputId": "3390c4a4-9c23-4991-f12f-f11c948d69eb"
      },
      "execution_count": 4,
      "outputs": [
        {
          "output_type": "stream",
          "name": "stderr",
          "text": [
            "/usr/local/lib/python3.9/dist-packages/torch/nn/modules/lazy.py:180: UserWarning: Lazy modules are a new feature under heavy development so changes to the API or functionality can happen at any moment.\n",
            "  warnings.warn('Lazy modules are a new feature under heavy development '\n"
          ]
        },
        {
          "output_type": "stream",
          "name": "stdout",
          "text": [
            "Epoch 1: Train Loss=4.0017, Val Loss=3.3201\n",
            "Epoch 2: Train Loss=2.6507, Val Loss=2.9452\n",
            "Epoch 3: Train Loss=2.2159, Val Loss=2.7703\n",
            "Epoch 4: Train Loss=1.9227, Val Loss=2.6048\n",
            "Epoch 5: Train Loss=1.6748, Val Loss=2.6249\n",
            "Epoch 6: Train Loss=1.4497, Val Loss=2.4836\n",
            "Epoch 7: Train Loss=1.2452, Val Loss=2.4692\n",
            "Epoch 8: Train Loss=1.0745, Val Loss=2.5033\n",
            "Epoch 9: Train Loss=0.9241, Val Loss=2.3977\n",
            "Epoch 10: Train Loss=0.8024, Val Loss=2.5597\n",
            "Epoch 11: Train Loss=0.6952, Val Loss=2.5132\n",
            "Epoch 12: Train Loss=0.6079, Val Loss=2.5351\n",
            "Epoch 13: Train Loss=0.5327, Val Loss=2.7145\n",
            "Epoch 14: Train Loss=0.4670, Val Loss=2.6643\n",
            "Epoch 15: Train Loss=0.4160, Val Loss=2.6898\n",
            "Epoch 16: Train Loss=0.3721, Val Loss=2.8046\n",
            "Epoch 17: Train Loss=0.3419, Val Loss=2.8402\n",
            "Epoch 18: Train Loss=0.3140, Val Loss=2.8840\n",
            "Epoch 19: Train Loss=0.2966, Val Loss=2.8027\n",
            "Epoch 20: Train Loss=0.2705, Val Loss=2.9379\n",
            "Epoch 21: Train Loss=0.2585, Val Loss=2.9163\n",
            "Epoch 22: Train Loss=0.2470, Val Loss=2.8892\n",
            "Epoch 23: Train Loss=0.2382, Val Loss=3.0008\n",
            "Epoch 24: Train Loss=0.2293, Val Loss=3.0292\n",
            "Epoch 25: Train Loss=0.2262, Val Loss=2.9987\n",
            "Epoch 26: Train Loss=0.2184, Val Loss=3.0607\n",
            "Epoch 27: Train Loss=0.2167, Val Loss=3.1173\n",
            "Epoch 28: Train Loss=0.2184, Val Loss=3.1769\n",
            "Epoch 29: Train Loss=0.2152, Val Loss=3.1311\n",
            "Epoch 30: Train Loss=0.2084, Val Loss=3.1248\n",
            "Training time: 30.60 seconds\n"
          ]
        },
        {
          "output_type": "display_data",
          "data": {
            "text/plain": [
              "<Figure size 432x288 with 1 Axes>"
            ],
            "image/png": "[encoded data removed]"
          },
          "metadata": {
            "needs_background": "light"
          }
        }
      ]
    },
    {
      "cell_type": "markdown",
      "source": [
        "**Predictions**"
      ],
      "metadata": {
        "id": "gOtoaCewNc9k"
      }
    },
    {
      "cell_type": "code",
      "source": [
        "model = model.to(d2l.try_gpu())  # Move the model to GPU\n",
        "engs = ['go .', 'i lost .', 'he\\'s calm .', 'i\\'m home .']\n",
        "fras = ['va !', 'j\\'ai perdu .', 'il est calme .', 'je suis chez moi .']\n",
        "preds, _ = model.predict_step(\n",
        "    data.build(engs, fras), d2l.try_gpu(), data.num_steps)\n",
        "for en, fr, p in zip(engs, fras, preds):\n",
        "    translation = []\n",
        "    for token in data.tgt_vocab.to_tokens(p):\n",
        "        if token == '<eos>':\n",
        "            break\n",
        "        translation.append(token)\n",
        "    print(f'{en} => {translation}, bleu,'\n",
        "          f'{bleu(\" \".join(translation), fr, k=2):.3f}')"
      ],
      "metadata": {
        "colab": {
          "base_uri": "https://localhost:8080/"
        },
        "id": "P7usmRIbIqgP",
        "outputId": "bd84801b-655f-4edc-8420-1f0bb54b2a1c"
      },
      "execution_count": 5,
      "outputs": [
        {
          "output_type": "stream",
          "name": "stdout",
          "text": [
            "go . => ['va', '!'], bleu,1.000\n",
            "i lost . => [\"j'ai\", 'perdu', '.'], bleu,1.000\n",
            "he's calm . => ['fais', 'un', '<unk>', '.'], bleu,0.000\n",
            "i'm home . => ['je', 'suis', 'chez', 'moi', '.'], bleu,1.000\n"
          ]
        }
      ]
    },
    {
      "cell_type": "markdown",
      "source": [
        "We can observe that the final validation loss of the current model increases after removing the concatenation of the final encoder state with the decoder embeddings. Simultaneously, the BLEU score for the poorly predicted sentence (he's calm.) drops to 0, indicating worse performance compared to the original model. The initial implementation concatenated the final encoder state with the decoder embeddings, allowing the decoder to continuously access the encoded information. After removing this concatenation, the decoder only receives the encoded information from the input sequence during the initialization of its hidden state. As a result, when faced with a challenging sentence, the model's performance is not as good as the original method."
      ],
      "metadata": {
        "id": "NurRPbf4sRcd"
      }
    },
    {
      "cell_type": "markdown",
      "source": [
        "2. The prediction function above uses greedy sampling (choosing the most probable token at each time step). Change it so that it instead samples randomly at each time step according to the predicted distribution. Generate the predictions a few times for the example English sentences provided. Do they ever change? Why do you think they do or don't change? Hint: You will need to implement a categorical sampler. One way to do this is with [torch.multinomial](https://pytorch.org/docs/stable/generated/torch.multinomial.html)."
      ],
      "metadata": {
        "id": "lKe71hye7YI0"
      }
    },
    {
      "cell_type": "markdown",
      "source": [
        "**Change the prediction step**"
      ],
      "metadata": {
        "id": "PjrkaKlAF-X8"
      }
    },
    {
      "cell_type": "code",
      "source": [
        "def init_seq2seq(module):\n",
        "    \"\"\"Initialize weights for Seq2Seq.\"\"\"\n",
        "    if type(module) == nn.Linear:\n",
        "         nn.init.xavier_uniform_(module.weight)\n",
        "    if type(module) == nn.GRU:\n",
        "        for param in module._flat_weights_names:\n",
        "            if \"weight\" in param:\n",
        "                nn.init.xavier_uniform_(module._parameters[param])\n",
        "\n",
        "class Seq2SeqEncoder(d2l.Encoder):\n",
        "    \"\"\"The RNN encoder for sequence to sequence learning.\"\"\"\n",
        "    def __init__(self, vocab_size, embed_size, num_hiddens, num_layers,\n",
        "                 dropout=0):\n",
        "        super().__init__()\n",
        "        self.embedding = nn.Embedding(vocab_size, embed_size)\n",
        "        self.rnn = d2l.GRU(embed_size, num_hiddens, num_layers, dropout)\n",
        "        self.apply(init_seq2seq)\n",
        "\n",
        "    def forward(self, X, *args):\n",
        "        # X shape: (batch_size, num_steps)\n",
        "        embs = self.embedding(X.t().type(torch.int64))\n",
        "        # embs shape: (num_steps, batch_size, embed_size)\n",
        "        outputs, state = self.rnn(embs)\n",
        "        # outputs shape: (num_steps, batch_size, num_hiddens)\n",
        "        # state shape: (num_layers, batch_size, num_hiddens)\n",
        "        return outputs, state\n",
        "\n",
        "class Seq2SeqDecoder(d2l.Decoder):\n",
        "    \"\"\"The RNN decoder for sequence to sequence learning.\"\"\"\n",
        "    def __init__(self, vocab_size, embed_size, num_hiddens, num_layers,\n",
        "                 dropout=0):\n",
        "        super().__init__()\n",
        "        self.embedding = nn.Embedding(vocab_size, embed_size)\n",
        "        self.rnn = d2l.GRU(embed_size+num_hiddens, num_hiddens,\n",
        "                           num_layers)\n",
        "        self.dense = nn.LazyLinear(vocab_size)\n",
        "        self.apply(init_seq2seq)\n",
        "\n",
        "    def init_state(self, enc_all_outputs, *args):\n",
        "        return enc_all_outputs\n",
        "\n",
        "    def forward(self, X, state):\n",
        "        # X shape: (batch_size, num_steps)\n",
        "        # embs shape: (num_steps, batch_size, embed_size)\n",
        "        embs = self.embedding(X.t().type(torch.int32))\n",
        "        enc_output, hidden_state = state\n",
        "        # context shape: (batch_size, num_hiddens)\n",
        "        context = enc_output[-1]\n",
        "        # Broadcast context to (num_steps, batch_size, num_hiddens)\n",
        "        context = context.repeat(embs.shape[0], 1, 1)\n",
        "        # Concat at the feature dimension\n",
        "        embs_and_context = torch.cat((embs, context), -1)\n",
        "        outputs, hidden_state = self.rnn(embs_and_context, hidden_state)\n",
        "        outputs = self.dense(outputs).swapaxes(0, 1)\n",
        "        # outputs shape: (batch_size, num_steps, vocab_size)\n",
        "        # hidden_state shape: (num_layers, batch_size, num_hiddens)\n",
        "        return outputs, [enc_output, hidden_state]\n",
        "\n",
        "class Seq2Seq(d2l.EncoderDecoder):\n",
        "    \"\"\"The RNN encoder-decoder for sequence to sequence learning.\"\"\"\n",
        "    def __init__(self, encoder, decoder, tgt_pad, lr):\n",
        "        super().__init__(encoder, decoder)\n",
        "        self.save_hyperparameters()\n",
        "        self.train_losses = []\n",
        "        self.val_losses = []\n",
        "        self.epoch_train_losses = []\n",
        "        self.epoch_val_losses = []\n",
        "\n",
        "    def training_step(self, batch):\n",
        "        Y_hat = self(*batch[:-1])\n",
        "        loss = self.loss(Y_hat, batch[-1])\n",
        "        self.train_losses.append(loss.item())\n",
        "        return loss\n",
        "\n",
        "    def validation_step(self, batch):\n",
        "        Y_hat = self(*batch[:-1])\n",
        "        loss = self.loss(Y_hat, batch[-1])\n",
        "        self.val_losses.append(loss.item())\n",
        "        return loss\n",
        "\n",
        "    def on_epoch_end(self):\n",
        "        avg_train_loss = sum(self.train_losses) / len(self.train_losses)\n",
        "        avg_val_loss = sum(self.val_losses) / len(self.val_losses)\n",
        "        self.epoch_train_losses.append(avg_train_loss)\n",
        "        self.epoch_val_losses.append(avg_val_loss)\n",
        "        print(f'Epoch {len(self.epoch_train_losses)}: Train Loss={avg_train_loss:.4f}, Val Loss={avg_val_loss:.4f}')\n",
        "        self.train_losses = []\n",
        "        self.val_losses = []\n",
        "\n",
        "    def configure_optimizers(self):\n",
        "        # Adam optimizer is used here\n",
        "        return torch.optim.Adam(self.parameters(), lr=self.lr)\n",
        "\n",
        "    def loss(self, Y_hat, Y):\n",
        "        l = super(Seq2Seq, self).loss(Y_hat, Y, averaged=False)\n",
        "        mask = (Y.reshape(-1) != self.tgt_pad).type(torch.float32)\n",
        "        return (l * mask).sum() / mask.sum()\n",
        "\n",
        "    def predict_step(self, batch, device, num_steps,\n",
        "                    save_attention_weights=False, sampling_temperature=1.0):\n",
        "        batch = [a.to(device) for a in batch]\n",
        "        src, tgt, src_valid_len, _ = batch\n",
        "        enc_all_outputs = self.encoder(src, src_valid_len)\n",
        "        dec_state = self.decoder.init_state(enc_all_outputs, src_valid_len)\n",
        "        outputs, attention_weights = [tgt[:, 0].unsqueeze(1), ], []\n",
        "        for _ in range(num_steps):\n",
        "            Y, dec_state = self.decoder(outputs[-1], dec_state)\n",
        "            # Apply temperature for sampling\n",
        "            Y = Y / sampling_temperature\n",
        "            # Sample the next token from the predicted distribution\n",
        "            next_token = torch.multinomial(F.softmax(Y.squeeze(), dim=-1), 1)\n",
        "            outputs.append(next_token)\n",
        "            # Save attention weights (to be covered later)\n",
        "            if save_attention_weights:\n",
        "                attention_weights.append(self.decoder.attention_weights)\n",
        "        return torch.cat(outputs[1:], 1), attention_weights\n",
        "\n",
        "def bleu(pred_seq, label_seq, k):\n",
        "    \"\"\"Compute the BLEU.\"\"\"\n",
        "    pred_tokens, label_tokens = pred_seq.split(' '), label_seq.split(' ')\n",
        "    len_pred, len_label = len(pred_tokens), len(label_tokens)\n",
        "    score = math.exp(min(0, 1 - len_label / len_pred))\n",
        "    for n in range(1, min(k, len_pred) + 1):\n",
        "        num_matches, label_subs = 0, collections.defaultdict(int)\n",
        "        for i in range(len_label - n + 1):\n",
        "            label_subs[' '.join(label_tokens[i: i + n])] += 1\n",
        "        for i in range(len_pred - n + 1):\n",
        "            if label_subs[' '.join(pred_tokens[i: i + n])] > 0:\n",
        "                num_matches += 1\n",
        "                label_subs[' '.join(pred_tokens[i: i + n])] -= 1\n",
        "        score *= math.pow(num_matches / (len_pred - n + 1), math.pow(0.5, n))\n",
        "    return score"
      ],
      "metadata": {
        "id": "3q0DfZdw7ad4"
      },
      "execution_count": 3,
      "outputs": []
    },
    {
      "cell_type": "markdown",
      "source": [
        "**Training the model**"
      ],
      "metadata": {
        "id": "OwsVZD1sAjG6"
      }
    },
    {
      "cell_type": "code",
      "source": [
        "vocab_size, embed_size, num_hiddens, num_layers = 10, 8, 16, 2\n",
        "batch_size, num_steps = 4, 9\n",
        "encoder = Seq2SeqEncoder(vocab_size, embed_size, num_hiddens, num_layers)\n",
        "X = torch.zeros((batch_size, num_steps))\n",
        "enc_outputs, enc_state = encoder(X)\n",
        "decoder = Seq2SeqDecoder(vocab_size, embed_size, num_hiddens, num_layers)\n",
        "state = decoder.init_state(encoder(X))\n",
        "dec_outputs, state = decoder(X, state)\n",
        "\n",
        "class CustomTrainer:\n",
        "    def __init__(self, model, data, max_epochs, gradient_clip_val, num_gpus):\n",
        "        self.model = model\n",
        "        self.data = data\n",
        "        self.max_epochs = max_epochs\n",
        "        self.gradient_clip_val = gradient_clip_val\n",
        "        self.num_gpus = num_gpus\n",
        "        self.model.trainer = self\n",
        "        self.epoch = 0\n",
        "        self.num_val_batches = len(data.val_dataloader())\n",
        "        self.num_train_batches = len(data.train_dataloader())\n",
        "        self.optimizer = torch.optim.Adam(self.model.parameters(), lr=model.lr)\n",
        "\n",
        "    def fit_epoch(self):\n",
        "      train_losses = []\n",
        "      val_losses = []\n",
        "    \n",
        "      self.model.train()\n",
        "      for train_batch_idx, batch in enumerate(self.data.train_dataloader()):\n",
        "          self.train_batch_idx = train_batch_idx\n",
        "          loss = self.model.training_step(batch)\n",
        "          train_losses.append(loss.item())\n",
        "          self.optimizer.zero_grad()\n",
        "          loss.backward()\n",
        "          torch.nn.utils.clip_grad_norm_(self.model.parameters(), self.gradient_clip_val)\n",
        "          self.optimizer.step()\n",
        "\n",
        "      self.model.eval()\n",
        "      for val_batch_idx, batch in enumerate(self.data.val_dataloader()):\n",
        "          self.val_batch_idx = val_batch_idx\n",
        "          with torch.no_grad():\n",
        "              loss = self.model.validation_step(batch)\n",
        "              val_losses.append(loss.item())\n",
        "\n",
        "      self.model.on_epoch_end()\n",
        "    \n",
        "      return train_losses, val_losses\n",
        "\n",
        "data = d2l.MTFraEng(batch_size=128)\n",
        "embed_size, num_hiddens, num_layers, dropout = 256, 256, 2, 0.2\n",
        "encoder = Seq2SeqEncoder(len(data.src_vocab), embed_size, num_hiddens, num_layers, dropout)\n",
        "decoder = Seq2SeqDecoder(len(data.tgt_vocab), embed_size, num_hiddens, num_layers, dropout)\n",
        "model = Seq2Seq(encoder, decoder, tgt_pad=data.tgt_vocab['<pad>'], lr=0.005)\n",
        "\n",
        "custom_trainer = CustomTrainer(model, data, max_epochs=30, gradient_clip_val=1, num_gpus=1)\n",
        "\n",
        "start_time = time.time()\n",
        "for epoch in range(30):\n",
        "    custom_trainer.epoch = epoch\n",
        "    custom_trainer.fit_epoch()\n",
        "end_time = time.time()\n",
        "\n",
        "print(f'Training time: {end_time - start_time:.2f} seconds')\n",
        "\n",
        "# Plot the losses after the training loop is finished\n",
        "plt.plot(range(1, len(model.epoch_train_losses) + 1), model.epoch_train_losses, label='train', marker='o')\n",
        "plt.plot(range(1, len(model.epoch_val_losses) + 1), model.epoch_val_losses, label='validation', marker='o')\n",
        "plt.xlabel('Epoch')\n",
        "plt.ylabel('Loss')\n",
        "plt.title('Model 2')\n",
        "plt.legend()\n",
        "plt.show()"
      ],
      "metadata": {
        "colab": {
          "base_uri": "https://localhost:8080/",
          "height": 888
        },
        "id": "srU4KPuZxJeM",
        "outputId": "7a5b6688-404a-46ef-ecf1-87922debd923"
      },
      "execution_count": 4,
      "outputs": [
        {
          "output_type": "stream",
          "name": "stderr",
          "text": [
            "/usr/local/lib/python3.9/dist-packages/torch/nn/modules/lazy.py:180: UserWarning: Lazy modules are a new feature under heavy development so changes to the API or functionality can happen at any moment.\n",
            "  warnings.warn('Lazy modules are a new feature under heavy development '\n"
          ]
        },
        {
          "output_type": "stream",
          "name": "stdout",
          "text": [
            "Epoch 1: Train Loss=4.0762, Val Loss=3.5018\n",
            "Epoch 2: Train Loss=2.7682, Val Loss=2.9703\n",
            "Epoch 3: Train Loss=2.3492, Val Loss=2.9320\n",
            "Epoch 4: Train Loss=2.0551, Val Loss=2.6875\n",
            "Epoch 5: Train Loss=1.7898, Val Loss=2.6947\n",
            "Epoch 6: Train Loss=1.5520, Val Loss=2.5865\n",
            "Epoch 7: Train Loss=1.3410, Val Loss=2.6777\n",
            "Epoch 8: Train Loss=1.1684, Val Loss=2.5425\n",
            "Epoch 9: Train Loss=1.0006, Val Loss=2.7242\n",
            "Epoch 10: Train Loss=0.8749, Val Loss=2.8119\n",
            "Epoch 11: Train Loss=0.7509, Val Loss=2.7976\n",
            "Epoch 12: Train Loss=0.6421, Val Loss=2.8659\n",
            "Epoch 13: Train Loss=0.5565, Val Loss=2.9874\n",
            "Epoch 14: Train Loss=0.4911, Val Loss=3.1113\n",
            "Epoch 15: Train Loss=0.4347, Val Loss=3.1813\n",
            "Epoch 16: Train Loss=0.3932, Val Loss=3.4923\n",
            "Epoch 17: Train Loss=0.3533, Val Loss=3.2885\n",
            "Epoch 18: Train Loss=0.3273, Val Loss=3.3374\n",
            "Epoch 19: Train Loss=0.2958, Val Loss=3.3885\n",
            "Epoch 20: Train Loss=0.2782, Val Loss=3.4940\n",
            "Epoch 21: Train Loss=0.2580, Val Loss=3.5294\n",
            "Epoch 22: Train Loss=0.2461, Val Loss=3.5791\n",
            "Epoch 23: Train Loss=0.2386, Val Loss=3.7061\n",
            "Epoch 24: Train Loss=0.2309, Val Loss=3.6361\n",
            "Epoch 25: Train Loss=0.2240, Val Loss=3.6124\n",
            "Epoch 26: Train Loss=0.2198, Val Loss=3.8329\n",
            "Epoch 27: Train Loss=0.2102, Val Loss=3.9736\n",
            "Epoch 28: Train Loss=0.2126, Val Loss=3.9505\n",
            "Epoch 29: Train Loss=0.2066, Val Loss=3.8473\n",
            "Epoch 30: Train Loss=0.2073, Val Loss=4.0104\n",
            "Training time: 33.08 seconds\n"
          ]
        },
        {
          "output_type": "display_data",
          "data": {
            "text/plain": [
              "<Figure size 432x288 with 1 Axes>"
            ],
            "image/png": "[encoded data removed]"
          },
          "metadata": {
            "needs_background": "light"
          }
        }
      ]
    },
    {
      "cell_type": "markdown",
      "source": [
        "**Predictions**"
      ],
      "metadata": {
        "id": "IMFshMUgAsyM"
      }
    },
    {
      "cell_type": "code",
      "source": [
        "model = model.to(d2l.try_gpu())  # Move the model to GPU\n",
        "engs = ['go .', 'i lost .', 'he\\'s calm .', 'i\\'m home .']\n",
        "fras = ['va !', 'j\\'ai perdu .', 'il est calme .', 'je suis chez moi .']\n",
        "preds, _ = model.predict_step(\n",
        "    data.build(engs, fras), d2l.try_gpu(), data.num_steps)\n",
        "for en, fr, p in zip(engs, fras, preds):\n",
        "    translation = []\n",
        "    for token in data.tgt_vocab.to_tokens(p):\n",
        "        if token == '<eos>':\n",
        "            break\n",
        "        translation.append(token)\n",
        "    print(f'{en} => {translation}, bleu,'\n",
        "          f'{bleu(\" \".join(translation), fr, k=2):.3f}')"
      ],
      "metadata": {
        "colab": {
          "base_uri": "https://localhost:8080/"
        },
        "id": "x-H5JIfCxcHu",
        "outputId": "5f0b7c73-ced6-4971-ab2e-3ff54506104e"
      },
      "execution_count": 5,
      "outputs": [
        {
          "output_type": "stream",
          "name": "stdout",
          "text": [
            "go . => ['pars', '!'], bleu,0.000\n",
            "i lost . => [\"j'ai\", 'perdu', '.'], bleu,1.000\n",
            "he's calm . => [\"c'est\", '.'], bleu,0.000\n",
            "i'm home . => ['je', 'suis', 'chez', 'moi', '.'], bleu,1.000\n"
          ]
        }
      ]
    },
    {
      "cell_type": "markdown",
      "source": [
        "Compared to the original sequence-to-sequence model implementation, we observe that the validation loss for the random sampling prediction method increases as well. Additionally, the prediction score (BLEU) for the provided sentence \"go.\" and \"he's calm.\" also drop to 0. When we change the decoding strategy from the original greedy approach to random sampling at each time step based on the predicted distribution, it introduces a level of uncertainty or randomness in the generated output. Although this may lead to a higher validation loss and lower BLEU scores, random sampling can provide more diverse outputs, which can be beneficial in certain applications."
      ],
      "metadata": {
        "id": "mxYmJlktBPFM"
      }
    },
    {
      "cell_type": "markdown",
      "source": [
        "3. In class, we discussed deep RNNs, which consist of stacks of RNN layers. The example code has two GRU layers in the encoder and two GRU layers in the decoder. Change it to only have a single layer in the encoder and a single layer in the decoder. Is training faster or slower? Is the final loss higher or lower?"
      ],
      "metadata": {
        "id": "IkJPk2jIGFxu"
      }
    },
    {
      "cell_type": "markdown",
      "source": [
        "**Model**"
      ],
      "metadata": {
        "id": "prqxwSZaQ68O"
      }
    },
    {
      "cell_type": "code",
      "source": [
        "def init_seq2seq(module):\n",
        "    \"\"\"Initialize weights for Seq2Seq.\"\"\"\n",
        "    if type(module) == nn.Linear:\n",
        "         nn.init.xavier_uniform_(module.weight)\n",
        "    if type(module) == nn.GRU:\n",
        "        for param in module._flat_weights_names:\n",
        "            if \"weight\" in param:\n",
        "                nn.init.xavier_uniform_(module._parameters[param])\n",
        "\n",
        "class Seq2SeqEncoder(d2l.Encoder):\n",
        "    \"\"\"The RNN encoder for sequence to sequence learning.\"\"\"\n",
        "    def __init__(self, vocab_size, embed_size, num_hiddens, num_layers,\n",
        "                 dropout=0):\n",
        "        super().__init__()\n",
        "        self.embedding = nn.Embedding(vocab_size, embed_size)\n",
        "        self.rnn = d2l.GRU(embed_size, num_hiddens, num_layers, dropout)\n",
        "        self.apply(init_seq2seq)\n",
        "\n",
        "    def forward(self, X, *args):\n",
        "        # X shape: (batch_size, num_steps)\n",
        "        embs = self.embedding(X.t().type(torch.int64))\n",
        "        # embs shape: (num_steps, batch_size, embed_size)\n",
        "        outputs, state = self.rnn(embs)\n",
        "        # outputs shape: (num_steps, batch_size, num_hiddens)\n",
        "        # state shape: (num_layers, batch_size, num_hiddens)\n",
        "        return outputs, state\n",
        "\n",
        "class Seq2SeqDecoder(d2l.Decoder):\n",
        "    \"\"\"The RNN decoder for sequence to sequence learning.\"\"\"\n",
        "    def __init__(self, vocab_size, embed_size, num_hiddens, num_layers,\n",
        "                 dropout=0):\n",
        "        super().__init__()\n",
        "        self.embedding = nn.Embedding(vocab_size, embed_size)\n",
        "        self.rnn = d2l.GRU(embed_size+num_hiddens, num_hiddens,\n",
        "                           num_layers)\n",
        "        self.dense = nn.LazyLinear(vocab_size)\n",
        "        self.apply(init_seq2seq)\n",
        "\n",
        "    def init_state(self, enc_all_outputs, *args):\n",
        "        return enc_all_outputs\n",
        "\n",
        "    def forward(self, X, state):\n",
        "        # X shape: (batch_size, num_steps)\n",
        "        # embs shape: (num_steps, batch_size, embed_size)\n",
        "        embs = self.embedding(X.t().type(torch.int32))\n",
        "        enc_output, hidden_state = state\n",
        "        # context shape: (batch_size, num_hiddens)\n",
        "        context = enc_output[-1]\n",
        "        # Broadcast context to (num_steps, batch_size, num_hiddens)\n",
        "        context = context.repeat(embs.shape[0], 1, 1)\n",
        "        # Concat at the feature dimension\n",
        "        embs_and_context = torch.cat((embs, context), -1)\n",
        "        outputs, hidden_state = self.rnn(embs_and_context, hidden_state)\n",
        "        outputs = self.dense(outputs).swapaxes(0, 1)\n",
        "        # outputs shape: (batch_size, num_steps, vocab_size)\n",
        "        # hidden_state shape: (num_layers, batch_size, num_hiddens)\n",
        "        return outputs, [enc_output, hidden_state]\n",
        "\n",
        "class Seq2Seq(d2l.EncoderDecoder):\n",
        "    \"\"\"The RNN encoder-decoder for sequence to sequence learning.\"\"\"\n",
        "    def __init__(self, encoder, decoder, tgt_pad, lr):\n",
        "        super().__init__(encoder, decoder)\n",
        "        self.save_hyperparameters()\n",
        "        self.train_losses = []\n",
        "        self.val_losses = []\n",
        "        self.epoch_train_losses = []\n",
        "        self.epoch_val_losses = []\n",
        "\n",
        "    def training_step(self, batch):\n",
        "        Y_hat = self(*batch[:-1])\n",
        "        loss = self.loss(Y_hat, batch[-1])\n",
        "        self.train_losses.append(loss.item())\n",
        "        return loss\n",
        "\n",
        "    def validation_step(self, batch):\n",
        "        Y_hat = self(*batch[:-1])\n",
        "        loss = self.loss(Y_hat, batch[-1])\n",
        "        self.val_losses.append(loss.item())\n",
        "        return loss\n",
        "\n",
        "    def on_epoch_end(self):\n",
        "        avg_train_loss = sum(self.train_losses) / len(self.train_losses)\n",
        "        avg_val_loss = sum(self.val_losses) / len(self.val_losses)\n",
        "        self.epoch_train_losses.append(avg_train_loss)\n",
        "        self.epoch_val_losses.append(avg_val_loss)\n",
        "        print(f'Epoch {len(self.epoch_train_losses)}: Train Loss={avg_train_loss:.4f}, Val Loss={avg_val_loss:.4f}')\n",
        "        self.train_losses = []\n",
        "        self.val_losses = []\n",
        "\n",
        "    def configure_optimizers(self):\n",
        "        # Adam optimizer is used here\n",
        "        return torch.optim.Adam(self.parameters(), lr=self.lr)\n",
        "\n",
        "    def loss(self, Y_hat, Y):\n",
        "        l = super(Seq2Seq, self).loss(Y_hat, Y, averaged=False)\n",
        "        mask = (Y.reshape(-1) != self.tgt_pad).type(torch.float32)\n",
        "        return (l * mask).sum() / mask.sum()\n",
        "\n",
        "    def predict_step(self, batch, device, num_steps,\n",
        "                    save_attention_weights=False, sampling_temperature=1.0):\n",
        "        batch = [a.to(device) for a in batch]\n",
        "        src, tgt, src_valid_len, _ = batch\n",
        "        enc_all_outputs = self.encoder(src, src_valid_len)\n",
        "        dec_state = self.decoder.init_state(enc_all_outputs, src_valid_len)\n",
        "        outputs, attention_weights = [tgt[:, 0].unsqueeze(1), ], []\n",
        "        for _ in range(num_steps):\n",
        "            Y, dec_state = self.decoder(outputs[-1], dec_state)\n",
        "            # Apply temperature for sampling\n",
        "            Y = Y / sampling_temperature\n",
        "            # Sample the next token from the predicted distribution\n",
        "            next_token = torch.multinomial(F.softmax(Y.squeeze(), dim=-1), 1)\n",
        "            outputs.append(next_token)\n",
        "            # Save attention weights (to be covered later)\n",
        "            if save_attention_weights:\n",
        "                attention_weights.append(self.decoder.attention_weights)\n",
        "        return torch.cat(outputs[1:], 1), attention_weights\n",
        "\n",
        "def bleu(pred_seq, label_seq, k):\n",
        "    \"\"\"Compute the BLEU.\"\"\"\n",
        "    pred_tokens, label_tokens = pred_seq.split(' '), label_seq.split(' ')\n",
        "    len_pred, len_label = len(pred_tokens), len(label_tokens)\n",
        "    score = math.exp(min(0, 1 - len_label / len_pred))\n",
        "    for n in range(1, min(k, len_pred) + 1):\n",
        "        num_matches, label_subs = 0, collections.defaultdict(int)\n",
        "        for i in range(len_label - n + 1):\n",
        "            label_subs[' '.join(label_tokens[i: i + n])] += 1\n",
        "        for i in range(len_pred - n + 1):\n",
        "            if label_subs[' '.join(pred_tokens[i: i + n])] > 0:\n",
        "                num_matches += 1\n",
        "                label_subs[' '.join(pred_tokens[i: i + n])] -= 1\n",
        "        score *= math.pow(num_matches / (len_pred - n + 1), math.pow(0.5, n))\n",
        "    return score"
      ],
      "metadata": {
        "id": "HTUY5k8WdSSr"
      },
      "execution_count": 3,
      "outputs": []
    },
    {
      "cell_type": "markdown",
      "source": [
        "**One layer**"
      ],
      "metadata": {
        "id": "xi-0fXf4Q-dC"
      }
    },
    {
      "cell_type": "code",
      "source": [
        "vocab_size, embed_size, num_hiddens, num_layers = 10, 8, 16, 1\n",
        "batch_size, num_steps = 4, 9\n",
        "encoder = Seq2SeqEncoder(vocab_size, embed_size, num_hiddens, num_layers)\n",
        "X = torch.zeros((batch_size, num_steps))\n",
        "enc_outputs, enc_state = encoder(X)\n",
        "decoder = Seq2SeqDecoder(vocab_size, embed_size, num_hiddens, num_layers)\n",
        "state = decoder.init_state(encoder(X))\n",
        "dec_outputs, state = decoder(X, state)\n",
        "\n",
        "class CustomTrainer:\n",
        "    def __init__(self, model, data, max_epochs, gradient_clip_val, num_gpus):\n",
        "        self.model = model\n",
        "        self.data = data\n",
        "        self.max_epochs = max_epochs\n",
        "        self.gradient_clip_val = gradient_clip_val\n",
        "        self.num_gpus = num_gpus\n",
        "        self.model.trainer = self\n",
        "        self.epoch = 0\n",
        "        self.num_val_batches = len(data.val_dataloader())\n",
        "        self.num_train_batches = len(data.train_dataloader())\n",
        "        self.optimizer = torch.optim.Adam(self.model.parameters(), lr=model.lr)\n",
        "\n",
        "    def fit_epoch(self):\n",
        "      train_losses = []\n",
        "      val_losses = []\n",
        "    \n",
        "      self.model.train()\n",
        "      for train_batch_idx, batch in enumerate(self.data.train_dataloader()):\n",
        "          self.train_batch_idx = train_batch_idx\n",
        "          loss = self.model.training_step(batch)\n",
        "          train_losses.append(loss.item())\n",
        "          self.optimizer.zero_grad()\n",
        "          loss.backward()\n",
        "          torch.nn.utils.clip_grad_norm_(self.model.parameters(), self.gradient_clip_val)\n",
        "          self.optimizer.step()\n",
        "\n",
        "      self.model.eval()\n",
        "      for val_batch_idx, batch in enumerate(self.data.val_dataloader()):\n",
        "          self.val_batch_idx = val_batch_idx\n",
        "          with torch.no_grad():\n",
        "              loss = self.model.validation_step(batch)\n",
        "              val_losses.append(loss.item())\n",
        "\n",
        "      self.model.on_epoch_end()\n",
        "    \n",
        "      return train_losses, val_losses\n",
        "\n",
        "data = d2l.MTFraEng(batch_size=128)\n",
        "embed_size, num_hiddens, num_layers, dropout = 256, 256, 1, 0.2\n",
        "encoder = Seq2SeqEncoder(len(data.src_vocab), embed_size, num_hiddens, num_layers, dropout)\n",
        "decoder = Seq2SeqDecoder(len(data.tgt_vocab), embed_size, num_hiddens, num_layers, dropout)\n",
        "model = Seq2Seq(encoder, decoder, tgt_pad=data.tgt_vocab['<pad>'], lr=0.005)\n",
        "\n",
        "custom_trainer = CustomTrainer(model, data, max_epochs=30, gradient_clip_val=1, num_gpus=1)\n",
        "\n",
        "start_time = time.time()\n",
        "for epoch in range(30):\n",
        "    custom_trainer.epoch = epoch\n",
        "    custom_trainer.fit_epoch()\n",
        "end_time = time.time()\n",
        "\n",
        "print(f'Training time: {end_time - start_time:.2f} seconds')\n",
        "\n",
        "# Plot the losses after the training loop is finished\n",
        "plt.plot(range(1, len(model.epoch_train_losses) + 1), model.epoch_train_losses, label='train', marker='o')\n",
        "plt.plot(range(1, len(model.epoch_val_losses) + 1), model.epoch_val_losses, label='validation', marker='o')\n",
        "plt.xlabel('Epoch')\n",
        "plt.ylabel('Loss')\n",
        "plt.title('Model 3')\n",
        "plt.legend()\n",
        "plt.show()"
      ],
      "metadata": {
        "colab": {
          "base_uri": "https://localhost:8080/",
          "height": 923
        },
        "id": "b8JzSAsHPcEe",
        "outputId": "8aa25c83-9c72-489b-e26c-6e5a25b007d2"
      },
      "execution_count": 4,
      "outputs": [
        {
          "output_type": "stream",
          "name": "stderr",
          "text": [
            "/usr/local/lib/python3.9/dist-packages/torch/nn/modules/lazy.py:180: UserWarning: Lazy modules are a new feature under heavy development so changes to the API or functionality can happen at any moment.\n",
            "  warnings.warn('Lazy modules are a new feature under heavy development '\n",
            "/usr/local/lib/python3.9/dist-packages/torch/nn/modules/rnn.py:67: UserWarning: dropout option adds dropout after all but last recurrent layer, so non-zero dropout expects num_layers greater than 1, but got dropout=0.2 and num_layers=1\n",
            "  warnings.warn(\"dropout option adds dropout after all but last \"\n"
          ]
        },
        {
          "output_type": "stream",
          "name": "stdout",
          "text": [
            "Epoch 1: Train Loss=3.7081, Val Loss=3.0123\n",
            "Epoch 2: Train Loss=2.4305, Val Loss=2.8016\n",
            "Epoch 3: Train Loss=2.0683, Val Loss=2.7000\n",
            "Epoch 4: Train Loss=1.7755, Val Loss=2.5558\n",
            "Epoch 5: Train Loss=1.5288, Val Loss=2.5261\n",
            "Epoch 6: Train Loss=1.3124, Val Loss=2.5925\n",
            "Epoch 7: Train Loss=1.1321, Val Loss=2.5520\n",
            "Epoch 8: Train Loss=0.9859, Val Loss=2.6079\n",
            "Epoch 9: Train Loss=0.8685, Val Loss=2.6776\n",
            "Epoch 10: Train Loss=0.7532, Val Loss=2.6611\n",
            "Epoch 11: Train Loss=0.6606, Val Loss=2.8330\n",
            "Epoch 12: Train Loss=0.5916, Val Loss=2.8338\n",
            "Epoch 13: Train Loss=0.5189, Val Loss=2.9886\n",
            "Epoch 14: Train Loss=0.4617, Val Loss=2.9054\n",
            "Epoch 15: Train Loss=0.4149, Val Loss=3.0878\n",
            "Epoch 16: Train Loss=0.3701, Val Loss=3.0880\n",
            "Epoch 17: Train Loss=0.3363, Val Loss=3.1632\n",
            "Epoch 18: Train Loss=0.3089, Val Loss=3.1168\n",
            "Epoch 19: Train Loss=0.2908, Val Loss=3.2504\n",
            "Epoch 20: Train Loss=0.2688, Val Loss=3.2020\n",
            "Epoch 21: Train Loss=0.2608, Val Loss=3.4045\n",
            "Epoch 22: Train Loss=0.2454, Val Loss=3.3426\n",
            "Epoch 23: Train Loss=0.2370, Val Loss=3.3506\n",
            "Epoch 24: Train Loss=0.2309, Val Loss=3.4104\n",
            "Epoch 25: Train Loss=0.2255, Val Loss=3.4626\n",
            "Epoch 26: Train Loss=0.2167, Val Loss=3.3723\n",
            "Epoch 27: Train Loss=0.2137, Val Loss=3.5119\n",
            "Epoch 28: Train Loss=0.2103, Val Loss=3.5080\n",
            "Epoch 29: Train Loss=0.2053, Val Loss=3.4846\n",
            "Epoch 30: Train Loss=0.2040, Val Loss=3.5872\n",
            "Training time: 18.72 seconds\n"
          ]
        },
        {
          "output_type": "display_data",
          "data": {
            "text/plain": [
              "<Figure size 432x288 with 1 Axes>"
            ],
            "image/png": "[encoded data removed]"
          },
          "metadata": {
            "needs_background": "light"
          }
        }
      ]
    },
    {
      "cell_type": "markdown",
      "source": [
        "**Predictions**"
      ],
      "metadata": {
        "id": "gGF1QVAIRnze"
      }
    },
    {
      "cell_type": "code",
      "source": [
        "model = model.to(d2l.try_gpu())  # Move the model to GPU\n",
        "engs = ['go .', 'i lost .', 'he\\'s calm .', 'i\\'m home .']\n",
        "fras = ['va !', 'j\\'ai perdu .', 'il est calme .', 'je suis chez moi .']\n",
        "preds, _ = model.predict_step(\n",
        "    data.build(engs, fras), d2l.try_gpu(), data.num_steps)\n",
        "for en, fr, p in zip(engs, fras, preds):\n",
        "    translation = []\n",
        "    for token in data.tgt_vocab.to_tokens(p):\n",
        "        if token == '<eos>':\n",
        "            break\n",
        "        translation.append(token)\n",
        "    print(f'{en} => {translation}, bleu,'\n",
        "          f'{bleu(\" \".join(translation), fr, k=2):.3f}')"
      ],
      "metadata": {
        "colab": {
          "base_uri": "https://localhost:8080/"
        },
        "id": "fHXRgj11Pv6d",
        "outputId": "249a438f-dfa0-45ad-d594-ca7991e7e8e8"
      },
      "execution_count": 5,
      "outputs": [
        {
          "output_type": "stream",
          "name": "stdout",
          "text": [
            "go . => ['va', '!'], bleu,1.000\n",
            "i lost . => [\"j'ai\", 'perdu', '.'], bleu,1.000\n",
            "he's calm . => ['va', 'doucement', '!'], bleu,0.000\n",
            "i'm home . => ['je', 'suis', 'chez', 'moi', '.'], bleu,1.000\n"
          ]
        }
      ]
    },
    {
      "cell_type": "markdown",
      "source": [
        "We can find that model 3's final validation loss is slightly higher than model 1's, since the model is less complex. On the other hand, the training gets much faster than the previous models after reducing the number of layers in the encoder and decoder."
      ],
      "metadata": {
        "id": "cps2lgx-W_0N"
      }
    }
  ]
}