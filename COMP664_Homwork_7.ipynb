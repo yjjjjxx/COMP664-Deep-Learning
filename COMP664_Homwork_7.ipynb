{
  "nbformat": 4,
  "nbformat_minor": 0,
  "metadata": {
    "colab": {
      "provenance": []
    },
    "kernelspec": {
      "name": "python3",
      "display_name": "Python 3"
    },
    "language_info": {
      "name": "python"
    },
    "accelerator": "GPU",
    "gpuClass": "premium"
  },
  "cells": [
    {
      "cell_type": "markdown",
      "source": [
        "# Homework 7\n",
        "\n",
        "In this homework you will be training and using a \"char-RNN\". This is the name given to a character-level recurrent neural network language model by [this famous blog post by Andrej Karpathy](http://karpathy.github.io/2015/05/21/rnn-effectiveness/). Before you start on the rest of the homework, please give the blog post a read, it's quite good!\n",
        "\n",
        "I don't expect you to implement the char-RNN from scratch. Andrej's original char-rnn is in Torch (the predecessor to PyTorch that is not commonly used anymore). Fortunately, there are many other implementations of this model available; for example, there is one (in both mxnet and pytorch) in chapters 8 and 9 of [the textbook](http://d2l.ai), and another pytorch one [here](https://github.com/spro/char-rnn.pytorch). **Please use one of these example implementations (or another one that you find) when completing this homework**.\n",
        "\n",
        "For this homework, please complete the following steps:"
      ],
      "metadata": {
        "id": "DKcYx1vaXcbA"
      }
    },
    {
      "cell_type": "code",
      "source": [
        "import tensorflow as tf\n",
        "import numpy as np\n",
        "import os\n",
        "import warnings\n",
        "warnings.filterwarnings(\"ignore\")\n",
        "\n",
        "import matplotlib.pyplot as plt\n",
        "%matplotlib inline"
      ],
      "metadata": {
        "id": "GNe3AD5VLcnu"
      },
      "execution_count": 4,
      "outputs": []
    },
    {
      "cell_type": "markdown",
      "source": [
        "1. Download and tokenize the [Shakespeare dataset](http://www.gutenberg.org/files/100/100-0.txt) at a character level."
      ],
      "metadata": {
        "id": "vGfzYr0aXiww"
      }
    },
    {
      "cell_type": "code",
      "source": [
        "!wget https://raw.githubusercontent.com/yjjjjxx/COMP664-Deep-Learning/main/datasets/100-0.txt"
      ],
      "metadata": {
        "colab": {
          "base_uri": "https://localhost:8080/"
        },
        "id": "f2zzWh2wLYul",
        "outputId": "55400b45-16c1-47c0-8299-d8955f49b1b7"
      },
      "execution_count": 2,
      "outputs": [
        {
          "output_type": "stream",
          "name": "stdout",
          "text": [
            "--2023-03-07 16:37:50--  https://raw.githubusercontent.com/yjjjjxx/COMP664-Deep-Learning/main/datasets/100-0.txt\n",
            "Resolving raw.githubusercontent.com (raw.githubusercontent.com)... 185.199.109.133, 185.199.108.133, 185.199.111.133, ...\n",
            "Connecting to raw.githubusercontent.com (raw.githubusercontent.com)|185.199.109.133|:443... connected.\n",
            "HTTP request sent, awaiting response... 200 OK\n",
            "Length: 5714775 (5.4M) [text/plain]\n",
            "Saving to: ‘100-0.txt.1’\n",
            "\n",
            "100-0.txt.1         100%[===================>]   5.45M  --.-KB/s    in 0.02s   \n",
            "\n",
            "2023-03-07 16:37:51 (273 MB/s) - ‘100-0.txt.1’ saved [5714775/5714775]\n",
            "\n"
          ]
        }
      ]
    },
    {
      "cell_type": "code",
      "source": [
        "# Read, then decode for py2 compat.\n",
        "text = open('100-0.txt', 'rb').read()\n",
        "text = text.decode(encoding='utf-8')\n",
        "print ('Total number of characters in the corpus is:', len(text))\n",
        "print('The first 100 characters of the corpus are as follows:\\n', text[:100])"
      ],
      "metadata": {
        "colab": {
          "base_uri": "https://localhost:8080/"
        },
        "id": "ILQTQHRrLgsH",
        "outputId": "a5c85360-f386-4e1c-ce08-96f7e862c9dd"
      },
      "execution_count": 3,
      "outputs": [
        {
          "output_type": "stream",
          "name": "stdout",
          "text": [
            "Total number of characters in the corpus is: 5668197\n",
            "The first 100 characters of the corpus are as follows:\n",
            " ﻿The Project Gutenberg eBook of The Complete Works of William Shakespeare, by William Shakespeare\r\n",
            "\r\n"
          ]
        }
      ]
    },
    {
      "cell_type": "code",
      "source": [
        "# The unique characters in the corpus\n",
        "vocab = sorted(set(text))\n",
        "print ('The number of unique characters in the corpus is', len(vocab))\n",
        "print('A slice of the unique characters set:\\n', vocab[:10])"
      ],
      "metadata": {
        "colab": {
          "base_uri": "https://localhost:8080/"
        },
        "id": "kXzMIx78LoAK",
        "outputId": "efb7ac32-3c24-4381-d7dc-5991b9e42108"
      },
      "execution_count": 4,
      "outputs": [
        {
          "output_type": "stream",
          "name": "stdout",
          "text": [
            "The number of unique characters in the corpus is 111\n",
            "A slice of the unique characters set:\n",
            " ['\\t', '\\n', '\\r', ' ', '!', '\"', '#', '$', '%', '&']\n"
          ]
        }
      ]
    },
    {
      "cell_type": "code",
      "source": [
        "# Create a mapping from unique characters to indices\n",
        "char2idx = {u:i for i, u in enumerate(vocab)}\n",
        "# Make a copy of the unique set elements in NumPy array format for later use in the decoding the predictions\n",
        "idx2char = np.array(vocab)\n",
        "# Vectorize the text with a for loop\n",
        "text_as_int = np.array([char2idx[c] for c in text])"
      ],
      "metadata": {
        "id": "Xj9pAaDuLsR3"
      },
      "execution_count": 5,
      "outputs": []
    },
    {
      "cell_type": "code",
      "source": [
        "# Create training examples / targets\n",
        "char_dataset = tf.data.Dataset.from_tensor_slices(text_as_int) \n",
        "# for i in char_dataset.take(5): \n",
        "#   print(i.numpy())\n",
        "seq_length = 100 # The max. length for single input\n",
        "# examples_per_epoch = len(text)//(seq_length+1) # double-slash for “floor” division\n",
        "sequences = char_dataset.batch(seq_length+1, drop_remainder=True) \n",
        "# for item in sequences.take(5): \n",
        "#   print(repr(''.join(idx2char[item.numpy()])))"
      ],
      "metadata": {
        "id": "G2TIaJoFLyjH"
      },
      "execution_count": 6,
      "outputs": []
    },
    {
      "cell_type": "code",
      "source": [
        "def split_input_target(chunk):\n",
        "  input_text = chunk[:-1]\n",
        "  target_text = chunk[1:]\n",
        "  return input_text, target_text\n",
        "\n",
        "dataset = sequences.map(split_input_target)"
      ],
      "metadata": {
        "id": "gXI-XBytL13S"
      },
      "execution_count": 7,
      "outputs": []
    },
    {
      "cell_type": "code",
      "source": [
        "BUFFER_SIZE = 10000 # TF shuffles the data only within buffers\n",
        "\n",
        "BATCH_SIZE = 64 # Batch size\n",
        "\n",
        "dataset = dataset.shuffle(BUFFER_SIZE).batch(BATCH_SIZE, drop_remainder=True)\n",
        "\n",
        "print(dataset)"
      ],
      "metadata": {
        "colab": {
          "base_uri": "https://localhost:8080/"
        },
        "id": "bXrlNl5WL4b8",
        "outputId": "1f7e8531-fb90-41d6-8383-a4b71baf71e7"
      },
      "execution_count": 8,
      "outputs": [
        {
          "output_type": "stream",
          "name": "stdout",
          "text": [
            "<BatchDataset element_spec=(TensorSpec(shape=(64, 100), dtype=tf.int64, name=None), TensorSpec(shape=(64, 100), dtype=tf.int64, name=None))>\n"
          ]
        }
      ]
    },
    {
      "cell_type": "code",
      "source": [
        "# Length of the vocabulary in chars\n",
        "vocab_size = len(vocab)\n",
        "# The embedding dimension\n",
        "embedding_dim = 256\n",
        "# Number of RNN units\n",
        "rnn_units = 1024"
      ],
      "metadata": {
        "id": "LepSzq5-L7LF"
      },
      "execution_count": 9,
      "outputs": []
    },
    {
      "cell_type": "markdown",
      "source": [
        "2. Train a \"vanilla\" RNN (as described in chapter 8 of [the textbook](http://d2l.ai)) on the Shakespeare dataset. Report the training loss and generate some samples from the model at the end of training."
      ],
      "metadata": {
        "id": "MWqwLB7WYe1X"
      }
    },
    {
      "cell_type": "code",
      "source": [
        "def build_model_simple(vocab_size, embedding_dim, rnn_units, batch_size):\n",
        "  model = tf.keras.Sequential([\n",
        "    tf.keras.layers.Embedding(vocab_size, embedding_dim,\n",
        "                              batch_input_shape=[batch_size, None]),\n",
        "    tf.keras.layers.SimpleRNN(rnn_units,\n",
        "                              return_sequences=True,\n",
        "                              stateful=True,\n",
        "                              recurrent_initializer='glorot_uniform'),\n",
        "    tf.keras.layers.Dense(vocab_size)\n",
        "  ])\n",
        "  return model"
      ],
      "metadata": {
        "id": "lh8RJ-xqYiAK"
      },
      "execution_count": 10,
      "outputs": []
    },
    {
      "cell_type": "code",
      "source": [
        "model_simple = build_model_simple(\n",
        "    vocab_size = len(vocab), # no. of unique characters\n",
        "    embedding_dim=embedding_dim, # 256\n",
        "    rnn_units=rnn_units, # 1024\n",
        "    batch_size=BATCH_SIZE)  # 64 for the traning\n",
        "\n",
        "model_simple.summary()"
      ],
      "metadata": {
        "colab": {
          "base_uri": "https://localhost:8080/"
        },
        "id": "Ly3WNk-mZlyH",
        "outputId": "e959fcc2-7433-4a7d-99fc-381e99888471"
      },
      "execution_count": 11,
      "outputs": [
        {
          "output_type": "stream",
          "name": "stdout",
          "text": [
            "Model: \"sequential\"\n",
            "_________________________________________________________________\n",
            " Layer (type)                Output Shape              Param #   \n",
            "=================================================================\n",
            " embedding (Embedding)       (64, None, 256)           28416     \n",
            "                                                                 \n",
            " simple_rnn (SimpleRNN)      (64, None, 1024)          1311744   \n",
            "                                                                 \n",
            " dense (Dense)               (64, None, 111)           113775    \n",
            "                                                                 \n",
            "=================================================================\n",
            "Total params: 1,453,935\n",
            "Trainable params: 1,453,935\n",
            "Non-trainable params: 0\n",
            "_________________________________________________________________\n"
          ]
        }
      ]
    },
    {
      "cell_type": "code",
      "source": [
        "def loss(labels, logits):\n",
        "  return tf.keras.losses.sparse_categorical_crossentropy(labels, logits, from_logits=True)\n",
        "\n",
        "# example_batch_loss  = loss(target_example_batch, example_batch_predictions)\n",
        "# print(\"Prediction shape: \", example_batch_predictions.shape, \" (batch_size, sequence_length, vocab_size)\")\n",
        "# print(\"scalar_loss:      \", example_batch_loss.numpy().mean())\n",
        "\n",
        "model_simple.compile(optimizer='adam', loss=loss)"
      ],
      "metadata": {
        "id": "J6ifUsrpZ2I1"
      },
      "execution_count": 12,
      "outputs": []
    },
    {
      "cell_type": "code",
      "source": [
        "# Directory where the checkpoints will be saved\n",
        "checkpoint_dir_simple = './training_checkpoints'\n",
        "# Name of the checkpoint files\n",
        "checkpoint_prefix_simple = os.path.join(checkpoint_dir_simple, \"ckpt_{epoch}\")\n",
        "\n",
        "checkpoint_callback_simple=tf.keras.callbacks.ModelCheckpoint(\n",
        "    filepath=checkpoint_prefix_simple,\n",
        "    save_weights_only=True)"
      ],
      "metadata": {
        "id": "c6wriEy3Z90D"
      },
      "execution_count": 13,
      "outputs": []
    },
    {
      "cell_type": "code",
      "source": [
        "EPOCHS = 30\n",
        "history_simple = model_simple.fit(dataset, \n",
        "                    epochs=EPOCHS, \n",
        "                    callbacks=[checkpoint_callback_simple])"
      ],
      "metadata": {
        "colab": {
          "base_uri": "https://localhost:8080/"
        },
        "id": "fMpEEPapaMeg",
        "outputId": "80d2082a-fa1a-4240-9520-cc5c2053130d"
      },
      "execution_count": 14,
      "outputs": [
        {
          "output_type": "stream",
          "name": "stdout",
          "text": [
            "Epoch 1/30\n",
            "876/876 [==============================] - 61s 63ms/step - loss: 2.0394\n",
            "Epoch 2/30\n",
            "876/876 [==============================] - 53s 59ms/step - loss: 1.5890\n",
            "Epoch 3/30\n",
            "876/876 [==============================] - 53s 59ms/step - loss: 1.4793\n",
            "Epoch 4/30\n",
            "876/876 [==============================] - 53s 59ms/step - loss: 1.4292\n",
            "Epoch 5/30\n",
            "876/876 [==============================] - 53s 59ms/step - loss: 1.4002\n",
            "Epoch 6/30\n",
            "876/876 [==============================] - 53s 59ms/step - loss: 1.3811\n",
            "Epoch 7/30\n",
            "876/876 [==============================] - 53s 59ms/step - loss: 1.3683\n",
            "Epoch 8/30\n",
            "876/876 [==============================] - 53s 59ms/step - loss: 1.3580\n",
            "Epoch 9/30\n",
            "876/876 [==============================] - 53s 59ms/step - loss: 1.3499\n",
            "Epoch 10/30\n",
            "876/876 [==============================] - 53s 59ms/step - loss: 1.3424\n",
            "Epoch 11/30\n",
            "876/876 [==============================] - 53s 58ms/step - loss: 1.3370\n",
            "Epoch 12/30\n",
            "876/876 [==============================] - 52s 58ms/step - loss: 1.3327\n",
            "Epoch 13/30\n",
            "876/876 [==============================] - 53s 59ms/step - loss: 1.3284\n",
            "Epoch 14/30\n",
            "876/876 [==============================] - 53s 59ms/step - loss: 1.3249\n",
            "Epoch 15/30\n",
            "876/876 [==============================] - 53s 59ms/step - loss: 1.3224\n",
            "Epoch 16/30\n",
            "876/876 [==============================] - 53s 59ms/step - loss: 1.3199\n",
            "Epoch 17/30\n",
            "876/876 [==============================] - 53s 59ms/step - loss: 1.3178\n",
            "Epoch 18/30\n",
            "876/876 [==============================] - 53s 59ms/step - loss: 1.3156\n",
            "Epoch 19/30\n",
            "876/876 [==============================] - 53s 59ms/step - loss: 1.3142\n",
            "Epoch 20/30\n",
            "876/876 [==============================] - 53s 59ms/step - loss: 1.3140\n",
            "Epoch 21/30\n",
            "876/876 [==============================] - 54s 60ms/step - loss: 1.3119\n",
            "Epoch 22/30\n",
            "876/876 [==============================] - 53s 59ms/step - loss: 1.3104\n",
            "Epoch 23/30\n",
            "876/876 [==============================] - 53s 60ms/step - loss: 1.3089\n",
            "Epoch 24/30\n",
            "876/876 [==============================] - 53s 59ms/step - loss: 1.3096\n",
            "Epoch 25/30\n",
            "876/876 [==============================] - 53s 59ms/step - loss: 1.3081\n",
            "Epoch 26/30\n",
            "876/876 [==============================] - 52s 58ms/step - loss: 1.3072\n",
            "Epoch 27/30\n",
            "876/876 [==============================] - 52s 58ms/step - loss: 1.3069\n",
            "Epoch 28/30\n",
            "876/876 [==============================] - 53s 59ms/step - loss: 1.3072\n",
            "Epoch 29/30\n",
            "876/876 [==============================] - 53s 59ms/step - loss: 1.3076\n",
            "Epoch 30/30\n",
            "876/876 [==============================] - 53s 59ms/step - loss: 1.3067\n"
          ]
        }
      ]
    },
    {
      "cell_type": "code",
      "source": [
        "loss_simple = model_simple.history.history['loss']"
      ],
      "metadata": {
        "id": "PdA-yOHAnWNh"
      },
      "execution_count": 15,
      "outputs": []
    },
    {
      "cell_type": "code",
      "source": [
        "# plot\n",
        "epochs_range = range(EPOCHS)\n",
        "plt.plot(epochs_range, loss_simple, '-x')\n",
        "plt.xlabel('Epoch')\n",
        "plt.ylabel('Loss')\n",
        "plt.title('Simple RNN Training Loss')"
      ],
      "metadata": {
        "colab": {
          "base_uri": "https://localhost:8080/",
          "height": 312
        },
        "id": "tcf2aXpVnq1K",
        "outputId": "9dae5ca7-e531-45aa-c18e-659106726c0d"
      },
      "execution_count": 17,
      "outputs": [
        {
          "output_type": "execute_result",
          "data": {
            "text/plain": [
              "Text(0.5, 1.0, 'Simple RNN Training Loss')"
            ]
          },
          "metadata": {},
          "execution_count": 17
        },
        {
          "output_type": "display_data",
          "data": {
            "text/plain": [
              "<Figure size 432x288 with 1 Axes>"
            ],
            "image/png": "[encoded data removed]"
          },
          "metadata": {
            "needs_background": "light"
          }
        }
      ]
    },
    {
      "cell_type": "code",
      "source": [
        "tf.train.latest_checkpoint(checkpoint_dir_simple)"
      ],
      "metadata": {
        "colab": {
          "base_uri": "https://localhost:8080/",
          "height": 36
        },
        "id": "i-8zY62voK7Z",
        "outputId": "9d60aaf0-4c4d-4c04-d30c-cd5eb05793b4"
      },
      "execution_count": 18,
      "outputs": [
        {
          "output_type": "execute_result",
          "data": {
            "text/plain": [
              "'./training_checkpoints/ckpt_30'"
            ],
            "application/vnd.google.colaboratory.intrinsic+json": {
              "type": "string"
            }
          },
          "metadata": {},
          "execution_count": 18
        }
      ]
    },
    {
      "cell_type": "code",
      "source": [
        "model_simple = build_model_simple(vocab_size, embedding_dim, rnn_units, batch_size=1)\n",
        "model_simple.load_weights(tf.train.latest_checkpoint(checkpoint_dir_simple))\n",
        "model_simple.build(tf.TensorShape([1, None]))\n",
        "model_simple.summary()"
      ],
      "metadata": {
        "colab": {
          "base_uri": "https://localhost:8080/"
        },
        "id": "S-LxXzJWoO82",
        "outputId": "d019c184-26be-4cfa-bc79-cfa2fc150bb0"
      },
      "execution_count": 19,
      "outputs": [
        {
          "output_type": "stream",
          "name": "stdout",
          "text": [
            "Model: \"sequential_1\"\n",
            "_________________________________________________________________\n",
            " Layer (type)                Output Shape              Param #   \n",
            "=================================================================\n",
            " embedding_1 (Embedding)     (1, None, 256)            28416     \n",
            "                                                                 \n",
            " simple_rnn_1 (SimpleRNN)    (1, None, 1024)           1311744   \n",
            "                                                                 \n",
            " dense_1 (Dense)             (1, None, 111)            113775    \n",
            "                                                                 \n",
            "=================================================================\n",
            "Total params: 1,453,935\n",
            "Trainable params: 1,453,935\n",
            "Non-trainable params: 0\n",
            "_________________________________________________________________\n"
          ]
        }
      ]
    },
    {
      "cell_type": "code",
      "source": [
        "def generate_text(model, num_generate, temperature, start_string):\n",
        "  input_eval = [char2idx[s] for s in start_string] # string to numbers (vectorizing)\n",
        "  input_eval = tf.expand_dims(input_eval, 0) # dimension expansion\n",
        "  text_generated = [] # Empty string to store our results\n",
        "  model.reset_states() # Clears the hidden states in the RNN\n",
        "\n",
        "  for i in range(num_generate): #Run a loop for number of characters to generate\n",
        "    predictions = model(input_eval) # prediction for single character\n",
        "    predictions = tf.squeeze(predictions, 0) # remove the batch dimension\n",
        "\n",
        "    # using a categorical distribution to predict the character returned by the model\n",
        "    # higher temperature increases the probability of selecting a less likely character\n",
        "    # lower --> more predictable\n",
        "    predictions = predictions / temperature\n",
        "    predicted_id = tf.random.categorical(predictions, num_samples=1)[-1,0].numpy()\n",
        "\n",
        "    # The predicted character as the next input to the model\n",
        "    # along with the previous hidden state\n",
        "    # So the model makes the next prediction based on the previous character\n",
        "    input_eval = tf.expand_dims([predicted_id], 0) \n",
        "    # Also devectorize the number and add to the generated text\n",
        "    text_generated.append(idx2char[predicted_id]) \n",
        "\n",
        "  return (start_string + ''.join(text_generated))"
      ],
      "metadata": {
        "id": "Z6-yPNdQowqq"
      },
      "execution_count": 19,
      "outputs": []
    },
    {
      "cell_type": "code",
      "source": [
        "# Simple RNN sample 1\n",
        "generated_text = generate_text(\n",
        "                    model_simple, \n",
        "                    num_generate=500, \n",
        "                    temperature=1, \n",
        "                    start_string=u\"ROMEO\")\n",
        "print(generated_text)"
      ],
      "metadata": {
        "colab": {
          "base_uri": "https://localhost:8080/"
        },
        "id": "WhwEfea7o1B4",
        "outputId": "67ab6916-37ed-46a3-e317-cacc7fd64045"
      },
      "execution_count": 21,
      "outputs": [
        {
          "output_type": "stream",
          "name": "stdout",
          "text": [
            "ROMEO.\r\n",
            "I shall be coctet\r\n",
            "As is to\r\n",
            "My cram takes of towns” meant to the sky staith speak to hangs the safety and honour in the scapform,\r\n",
            "Whose groan. Proclaim from the art vawnts this it more inclasy.\r\n",
            "Sit,\r\n",
            "Fit threater more kiss,\r\n",
            "As to sit a past will live\r\n",
            "    Hence, howless for mine\r\n",
            "Unlesse shall believiral state to swift; and in that graces,\r\n",
            "Of quastly to myself. I am\r\n",
            "    age so thus each as it to would lay with violents\r\n",
            "Herself these chalror; why may not mind.\r\n",
            "\r\n",
            "THERSITES.\r\n",
            "I have rath\n"
          ]
        }
      ]
    },
    {
      "cell_type": "code",
      "source": [
        "# Simple RNN sample 2\n",
        "generated_text = generate_text(\n",
        "                    model_simple, \n",
        "                    num_generate=500, \n",
        "                    temperature=1, \n",
        "                    start_string=u\"J\")\n",
        "print(generated_text)"
      ],
      "metadata": {
        "colab": {
          "base_uri": "https://localhost:8080/"
        },
        "id": "loAqHuONw_9c",
        "outputId": "2a5b3d1b-d1ed-4185-b2cd-84517e260b34"
      },
      "execution_count": 22,
      "outputs": [
        {
          "output_type": "stream",
          "name": "stdout",
          "text": [
            "JOYZ#…â\n",
            "FOLK.\r\n",
            "Am I now reason, I will sword that hath unain’d pardon, lost to use hilvia\r\n",
            "conflines.\r\n",
            "That you would figs,\r\n",
            "Star men die, I’ll make then to be rises.\r\n",
            "Copsitted.\r\n",
            "\r\n",
            "FALSTAFF.\r\n",
            "Say “Sounds, and recolsp'riew’d is your chiands,\r\n",
            "    Why, I read.\r\n",
            "\r\n",
            "LEONTES.\r\n",
            "How dogether.\r\n",
            "\r\n",
            "SIR TOBY.\r\n",
            "It is typalural vestarity._\r\n",
            "\r\n",
            "SIR ANDREW.\r\n",
            "O, thou art not so true prino.\r\n",
            "I have seen to bridlers prove in such a Saliste.\r\n",
            "\r\n",
            "LEONTES.\r\n",
            "I have spirit\r\n",
            "    To seeke to vicious issue of his breast his\n"
          ]
        }
      ]
    },
    {
      "cell_type": "markdown",
      "source": [
        "3. Train a GRU RNN (as described in chapter 9 of [the textbook](http://d2l.ai)) on the Shakespeare datatset. Is the final training loss higher or lower than the vanilla RNN? Are the samples from the model more or less realistic?"
      ],
      "metadata": {
        "id": "_OrX9V5LX2ZM"
      }
    },
    {
      "cell_type": "code",
      "source": [
        "def build_model(vocab_size, embedding_dim, rnn_units, batch_size):\n",
        "  model = tf.keras.Sequential([\n",
        "    tf.keras.layers.Embedding(vocab_size, embedding_dim,\n",
        "                              batch_input_shape=[batch_size, None]),\n",
        "    tf.keras.layers.GRU(rnn_units,\n",
        "                        return_sequences=True,\n",
        "                        stateful=True,\n",
        "                        recurrent_initializer='glorot_uniform'),\n",
        "    tf.keras.layers.Dense(vocab_size)\n",
        "  ])\n",
        "  return model"
      ],
      "metadata": {
        "id": "ptvnOUhgL93D"
      },
      "execution_count": 11,
      "outputs": []
    },
    {
      "cell_type": "code",
      "source": [
        "model = build_model(\n",
        "    vocab_size = len(vocab), # no. of unique characters\n",
        "    embedding_dim=embedding_dim, # 256\n",
        "    rnn_units=rnn_units, # 1024\n",
        "    batch_size=BATCH_SIZE)  # 64 for the traning\n",
        "\n",
        "model.summary()"
      ],
      "metadata": {
        "colab": {
          "base_uri": "https://localhost:8080/"
        },
        "id": "iZoRhivXL_nI",
        "outputId": "fbc5ff83-e61a-4085-dc15-cd815a468950"
      },
      "execution_count": 12,
      "outputs": [
        {
          "output_type": "stream",
          "name": "stdout",
          "text": [
            "Model: \"sequential\"\n",
            "_________________________________________________________________\n",
            " Layer (type)                Output Shape              Param #   \n",
            "=================================================================\n",
            " embedding (Embedding)       (64, None, 256)           28416     \n",
            "                                                                 \n",
            " gru (GRU)                   (64, None, 1024)          3938304   \n",
            "                                                                 \n",
            " dense (Dense)               (64, None, 111)           113775    \n",
            "                                                                 \n",
            "=================================================================\n",
            "Total params: 4,080,495\n",
            "Trainable params: 4,080,495\n",
            "Non-trainable params: 0\n",
            "_________________________________________________________________\n"
          ]
        }
      ]
    },
    {
      "cell_type": "code",
      "source": [
        "def loss(labels, logits):\n",
        "  return tf.keras.losses.sparse_categorical_crossentropy(labels, logits, from_logits=True)\n",
        "\n",
        "# example_batch_loss  = loss(target_example_batch, example_batch_predictions)\n",
        "# print(\"Prediction shape: \", example_batch_predictions.shape, \" (batch_size, sequence_length, vocab_size)\")\n",
        "# print(\"scalar_loss:      \", example_batch_loss.numpy().mean())\n",
        "\n",
        "model.compile(optimizer='adam', loss=loss)"
      ],
      "metadata": {
        "id": "sFp0deNLMBF2"
      },
      "execution_count": 13,
      "outputs": []
    },
    {
      "cell_type": "code",
      "source": [
        "# Directory where the checkpoints will be saved\n",
        "checkpoint_dir = './training_checkpoints_gru'\n",
        "# Name of the checkpoint files\n",
        "checkpoint_prefix = os.path.join(checkpoint_dir, \"ckpt_{epoch}\")\n",
        "\n",
        "checkpoint_callback=tf.keras.callbacks.ModelCheckpoint(\n",
        "    filepath=checkpoint_prefix,\n",
        "    save_weights_only=True)"
      ],
      "metadata": {
        "id": "riGurU0nME-T"
      },
      "execution_count": 14,
      "outputs": []
    },
    {
      "cell_type": "code",
      "source": [
        "EPOCHS = 30\n",
        "history = model.fit(dataset, \n",
        "                    epochs=EPOCHS, \n",
        "                    callbacks=[checkpoint_callback])"
      ],
      "metadata": {
        "colab": {
          "base_uri": "https://localhost:8080/"
        },
        "id": "uIc1IjNCMGkL",
        "outputId": "093857d9-23b3-4a1c-a232-a666542e6482"
      },
      "execution_count": 15,
      "outputs": [
        {
          "output_type": "stream",
          "name": "stdout",
          "text": [
            "Epoch 1/30\n",
            "876/876 [==============================] - 18s 14ms/step - loss: 1.9273\n",
            "Epoch 2/30\n",
            "876/876 [==============================] - 10s 10ms/step - loss: 1.3960\n",
            "Epoch 3/30\n",
            "876/876 [==============================] - 10s 11ms/step - loss: 1.3054\n",
            "Epoch 4/30\n",
            "876/876 [==============================] - 10s 10ms/step - loss: 1.2610\n",
            "Epoch 5/30\n",
            "876/876 [==============================] - 10s 10ms/step - loss: 1.2309\n",
            "Epoch 6/30\n",
            "876/876 [==============================] - 10s 10ms/step - loss: 1.2095\n",
            "Epoch 7/30\n",
            "876/876 [==============================] - 10s 10ms/step - loss: 1.1914\n",
            "Epoch 8/30\n",
            "876/876 [==============================] - 10s 10ms/step - loss: 1.1767\n",
            "Epoch 9/30\n",
            "876/876 [==============================] - 10s 10ms/step - loss: 1.1648\n",
            "Epoch 10/30\n",
            "876/876 [==============================] - 10s 10ms/step - loss: 1.1546\n",
            "Epoch 11/30\n",
            "876/876 [==============================] - 10s 10ms/step - loss: 1.1466\n",
            "Epoch 12/30\n",
            "876/876 [==============================] - 10s 10ms/step - loss: 1.1396\n",
            "Epoch 13/30\n",
            "876/876 [==============================] - 10s 10ms/step - loss: 1.1341\n",
            "Epoch 14/30\n",
            "876/876 [==============================] - 10s 10ms/step - loss: 1.1299\n",
            "Epoch 15/30\n",
            "876/876 [==============================] - 10s 10ms/step - loss: 1.1270\n",
            "Epoch 16/30\n",
            "876/876 [==============================] - 10s 10ms/step - loss: 1.1253\n",
            "Epoch 17/30\n",
            "876/876 [==============================] - 10s 10ms/step - loss: 1.1247\n",
            "Epoch 18/30\n",
            "876/876 [==============================] - 10s 10ms/step - loss: 1.1245\n",
            "Epoch 19/30\n",
            "876/876 [==============================] - 10s 10ms/step - loss: 1.1251\n",
            "Epoch 20/30\n",
            "876/876 [==============================] - 10s 10ms/step - loss: 1.1288\n",
            "Epoch 21/30\n",
            "876/876 [==============================] - 10s 10ms/step - loss: 1.1311\n",
            "Epoch 22/30\n",
            "876/876 [==============================] - 10s 10ms/step - loss: 1.1344\n",
            "Epoch 23/30\n",
            "876/876 [==============================] - 10s 10ms/step - loss: 1.1408\n",
            "Epoch 24/30\n",
            "876/876 [==============================] - 10s 10ms/step - loss: 1.1520\n",
            "Epoch 25/30\n",
            "876/876 [==============================] - 10s 10ms/step - loss: 1.1551\n",
            "Epoch 26/30\n",
            "876/876 [==============================] - 10s 10ms/step - loss: 1.1736\n",
            "Epoch 27/30\n",
            "876/876 [==============================] - 10s 10ms/step - loss: 1.1833\n",
            "Epoch 28/30\n",
            "876/876 [==============================] - 10s 10ms/step - loss: 1.2126\n",
            "Epoch 29/30\n",
            "876/876 [==============================] - 10s 10ms/step - loss: 1.2701\n",
            "Epoch 30/30\n",
            "876/876 [==============================] - 10s 10ms/step - loss: 1.2795\n"
          ]
        }
      ]
    },
    {
      "cell_type": "code",
      "source": [
        "loss = model.history.history['loss']"
      ],
      "metadata": {
        "id": "xIjlGOVku451"
      },
      "execution_count": 16,
      "outputs": []
    },
    {
      "cell_type": "code",
      "source": [
        "# plot\n",
        "epochs_range = range(EPOCHS)\n",
        "plt.plot(epochs_range, loss, '-x')\n",
        "plt.xlabel('Epoch')\n",
        "plt.ylabel('Loss')\n",
        "plt.title('Gru RNN Training Loss')"
      ],
      "metadata": {
        "colab": {
          "base_uri": "https://localhost:8080/",
          "height": 312
        },
        "id": "1LtMTTJS9qmB",
        "outputId": "4b1bdc96-d668-4f20-d881-04d47c1d5c92"
      },
      "execution_count": 17,
      "outputs": [
        {
          "output_type": "execute_result",
          "data": {
            "text/plain": [
              "Text(0.5, 1.0, 'Gru RNN Training Loss')"
            ]
          },
          "metadata": {},
          "execution_count": 17
        },
        {
          "output_type": "display_data",
          "data": {
            "text/plain": [
              "<Figure size 432x288 with 1 Axes>"
            ],
            "image/png": "[encoded data removed]"
          },
          "metadata": {
            "needs_background": "light"
          }
        }
      ]
    },
    {
      "cell_type": "code",
      "source": [
        "tf.train.latest_checkpoint(checkpoint_dir)"
      ],
      "metadata": {
        "colab": {
          "base_uri": "https://localhost:8080/",
          "height": 36
        },
        "id": "bBy6vGwuMI3n",
        "outputId": "580bf942-2316-4a65-afb7-94b51f44e897"
      },
      "execution_count": 18,
      "outputs": [
        {
          "output_type": "execute_result",
          "data": {
            "text/plain": [
              "'./training_checkpoints_gru/ckpt_30'"
            ],
            "application/vnd.google.colaboratory.intrinsic+json": {
              "type": "string"
            }
          },
          "metadata": {},
          "execution_count": 18
        }
      ]
    },
    {
      "cell_type": "code",
      "source": [
        "model = build_model(vocab_size, embedding_dim, rnn_units, batch_size=1)\n",
        "model.load_weights(tf.train.latest_checkpoint(checkpoint_dir))\n",
        "model.build(tf.TensorShape([1, None]))\n",
        "model.summary()"
      ],
      "metadata": {
        "colab": {
          "base_uri": "https://localhost:8080/"
        },
        "id": "YY0yY8qkWxej",
        "outputId": "4fa583a3-becb-4d2c-c627-a8b5d26ae18d"
      },
      "execution_count": 19,
      "outputs": [
        {
          "output_type": "stream",
          "name": "stdout",
          "text": [
            "Model: \"sequential_1\"\n",
            "_________________________________________________________________\n",
            " Layer (type)                Output Shape              Param #   \n",
            "=================================================================\n",
            " embedding_1 (Embedding)     (1, None, 256)            28416     \n",
            "                                                                 \n",
            " gru_1 (GRU)                 (1, None, 1024)           3938304   \n",
            "                                                                 \n",
            " dense_1 (Dense)             (1, None, 111)            113775    \n",
            "                                                                 \n",
            "=================================================================\n",
            "Total params: 4,080,495\n",
            "Trainable params: 4,080,495\n",
            "Non-trainable params: 0\n",
            "_________________________________________________________________\n"
          ]
        }
      ]
    },
    {
      "cell_type": "code",
      "source": [
        "# Gru Sample 1\n",
        "generated_text = generate_text(\n",
        "                    model, \n",
        "                    num_generate=500, \n",
        "                    temperature=1, \n",
        "                    start_string=u\"ROMEO\")\n",
        "print(generated_text)"
      ],
      "metadata": {
        "colab": {
          "base_uri": "https://localhost:8080/"
        },
        "id": "JcFHwDZlW2Rc",
        "outputId": "97e41ece-7a30-4a59-9f2c-bf05d298b350"
      },
      "execution_count": 20,
      "outputs": [
        {
          "output_type": "stream",
          "name": "stdout",
          "text": [
            "ROMEONA\r\n",
            "O, i’ thy love for we, a husband.\r\n",
            "That slanders hid when it confus'd too\r\n",
            " To notice that they cold: they were\r\n",
            "When he’s e._\r\n",
            "She is enclas’d; did, blame, sir, calls,\r\n",
            "Beg tryies wooer. Look, where he hath gold and naturally depend.\r\n",
            "\r\n",
            "BAWD.\r\n",
            "O, the dust at thy fored-liv’d contrain with, that “thus, nor irhember Juliet of the weat,\r\n",
            "Stature with the sweat noble Sterning ripes,\r\n",
            "For sound improbined the neighe of teachs\r\n",
            "Were well in collor forswo no man but burn to cut of this flames\r\n",
            "    \n"
          ]
        }
      ]
    },
    {
      "cell_type": "code",
      "source": [
        "# Gru Sample 2\n",
        "generated_text = generate_text(\n",
        "                    model, \n",
        "                    num_generate=500, \n",
        "                    temperature=1, \n",
        "                    start_string=u\"J\")\n",
        "print(generated_text)"
      ],
      "metadata": {
        "colab": {
          "base_uri": "https://localhost:8080/"
        },
        "id": "YlP6leWXYE7s",
        "outputId": "35318c15-b10c-4925-c0a2-956c7a793b97"
      },
      "execution_count": 21,
      "outputs": [
        {
          "output_type": "stream",
          "name": "stdout",
          "text": [
            "JEAN.\r\n",
            "It will did you answer him. Which vouchsaffrant’s deaf? I pray.\r\n",
            "\r\n",
            "FALSTAFF.\r\n",
            "By thought of Puce not favours sight.\r\n",
            "Thricate thought; I shall enjoy the a proter. That act aud\r\n",
            "glads,—a hag-gapphient, Priducepolux, hors,\r\n",
            "  'SCALUS. Me, lord, I see the silver loud\r\n",
            "    Water sweet Bid it.\r\n",
            "  VALENTINE. Will I do thuntil end on whter I one; shall all chastish at your cited in it contagus?\r\n",
            "Whereto my cour?\r\n",
            "\r\n",
            "BRUTULLALO.\r\n",
            "The saught there seen ill by her fortuned design and a boas.\r\n",
            "\r\n",
            "VALER\n"
          ]
        }
      ]
    },
    {
      "cell_type": "markdown",
      "source": [
        "\n",
        "\n",
        "*   The final training loss of Gru is smaller than simple RNN model. But the difference between them is very small. For me, the text generated by the Gru model is more realistic. When starting with the letter J as a seed character, the Simple RNN model produces unintelligible special symbols in the generated text, whereas the GRU model maintains coherence and produces more plausible output."
      ],
      "metadata": {
        "id": "h5i_bh32D2Hx"
      }
    },
    {
      "cell_type": "markdown",
      "source": [
        "4. Find a smaller, simpler dataset than the Shakespeare data (you can find some ideas in Andrej's blog post, but feel free to get creative!) and train either the vanilla or GRU RNN on it instead. Is the final training loss higher or lower than it was for the Shakespeare data?"
      ],
      "metadata": {
        "id": "di8GHhK0EHUP"
      }
    },
    {
      "cell_type": "code",
      "source": [
        "!wget https://raw.githubusercontent.com/yjjjjxx/COMP664-Deep-Learning/main/datasets/disney.txt"
      ],
      "metadata": {
        "colab": {
          "base_uri": "https://localhost:8080/"
        },
        "id": "E9gpPI-ED3s8",
        "outputId": "3f02fe7e-f6ab-4c87-d791-76d1079f455a"
      },
      "execution_count": 4,
      "outputs": [
        {
          "output_type": "stream",
          "name": "stdout",
          "text": [
            "--2023-03-07 22:30:01--  https://raw.githubusercontent.com/yjjjjxx/COMP664-Deep-Learning/main/datasets/disney.txt\n",
            "Resolving raw.githubusercontent.com (raw.githubusercontent.com)... 185.199.108.133, 185.199.109.133, 185.199.110.133, ...\n",
            "Connecting to raw.githubusercontent.com (raw.githubusercontent.com)|185.199.108.133|:443... connected.\n",
            "HTTP request sent, awaiting response... 200 OK\n",
            "Length: 87715 (86K) [text/plain]\n",
            "Saving to: ‘disney.txt’\n",
            "\n",
            "\rdisney.txt            0%[                    ]       0  --.-KB/s               \rdisney.txt          100%[===================>]  85.66K  --.-KB/s    in 0.01s   \n",
            "\n",
            "2023-03-07 22:30:01 (6.08 MB/s) - ‘disney.txt’ saved [87715/87715]\n",
            "\n"
          ]
        }
      ]
    },
    {
      "cell_type": "markdown",
      "source": [
        "**Read in the Text**"
      ],
      "metadata": {
        "id": "CCt5i2FvNsiA"
      }
    },
    {
      "cell_type": "code",
      "source": [
        "# Read, then decode for py2 compat.\n",
        "text_disney = open('disney.txt', 'rb').read()\n",
        "text_disney = text_disney.decode(encoding='utf-8')\n",
        "print ('Total number of characters in the corpus is:', len(text_disney))\n",
        "print('The first 200 characters of the corpus are as follows:\\n', text_disney[:200])"
      ],
      "metadata": {
        "colab": {
          "base_uri": "https://localhost:8080/"
        },
        "id": "CPLj02_kHcZ5",
        "outputId": "a89d591a-c4f4-4775-805f-a578a88773be"
      },
      "execution_count": 1,
      "outputs": [
        {
          "output_type": "stream",
          "name": "stdout",
          "text": [
            "Total number of characters in the corpus is: 87688\n",
            "The first 200 characters of the corpus are as follows:\n",
            " When somebody loved me\n",
            "Everything was beautiful\n",
            "Every hour we spent together\n",
            "Lives within my heart And when she was sad\n",
            "I was there to dry her tears\n",
            "And when she was happy so was I\n",
            "When she loved me T\n"
          ]
        }
      ]
    },
    {
      "cell_type": "markdown",
      "source": [
        "**Vectorizing the Text**"
      ],
      "metadata": {
        "id": "X0ZTZkAZN2DD"
      }
    },
    {
      "cell_type": "code",
      "source": [
        "# The unique characters in the corpus\n",
        "vocab1 = sorted(set(text_disney))\n",
        "print ('The number of unique characters in the corpus is', len(vocab1))\n",
        "print('A slice of the unique characters set:\\n', vocab1[:10])"
      ],
      "metadata": {
        "colab": {
          "base_uri": "https://localhost:8080/"
        },
        "id": "ikwzsPXQK3Yk",
        "outputId": "d1ed4463-a8e1-4b3c-f60e-57a1e8dc9768"
      },
      "execution_count": 2,
      "outputs": [
        {
          "output_type": "stream",
          "name": "stdout",
          "text": [
            "The number of unique characters in the corpus is 78\n",
            "A slice of the unique characters set:\n",
            " ['\\n', ' ', '!', '\"', \"'\", '(', ')', ',', '-', '.']\n"
          ]
        }
      ]
    },
    {
      "cell_type": "code",
      "source": [
        "# Create a mapping from unique characters to indices\n",
        "char2idx_1 = {u:i for i, u in enumerate(vocab1)}\n",
        "# Make a copy of the unique set elements in NumPy array format for later use in the decoding the predictions\n",
        "idx2char_1 = np.array(vocab1)\n",
        "# Vectorize the text with a for loop\n",
        "text_as_int_1 = np.array([char2idx_1[c] for c in text_disney])"
      ],
      "metadata": {
        "id": "KuV3UnqwNA9_"
      },
      "execution_count": 5,
      "outputs": []
    },
    {
      "cell_type": "markdown",
      "source": [
        "**Creating the Dataset**"
      ],
      "metadata": {
        "id": "2kxJV7uRN52s"
      }
    },
    {
      "cell_type": "code",
      "source": [
        "# Create training examples / targets\n",
        "char_dataset_disney = tf.data.Dataset.from_tensor_slices(text_as_int_1) \n",
        "# for i in char_dataset.take(5): \n",
        "#   print(i.numpy())\n",
        "seq_length = 100 # The max. length for single input\n",
        "# examples_per_epoch = len(text)//(seq_length+1) # double-slash for “floor” division\n",
        "sequences_disney = char_dataset_disney.batch(seq_length+1, drop_remainder=True)"
      ],
      "metadata": {
        "id": "1FP8VcU1NeM2"
      },
      "execution_count": 6,
      "outputs": []
    },
    {
      "cell_type": "code",
      "source": [
        "def split_input_target(chunk):\n",
        "  input_text = chunk[:-1]\n",
        "  target_text = chunk[1:]\n",
        "  return input_text, target_text\n",
        "\n",
        "dataset_disney = sequences_disney.map(split_input_target)"
      ],
      "metadata": {
        "id": "nYv01cQ3OX0D"
      },
      "execution_count": 7,
      "outputs": []
    },
    {
      "cell_type": "code",
      "source": [
        "BUFFER_SIZE = 10000 # TF shuffles the data only within buffers\n",
        "\n",
        "BATCH_SIZE = 64 # Batch size\n",
        "\n",
        "dataset_disney = dataset_disney.shuffle(BUFFER_SIZE).batch(BATCH_SIZE, drop_remainder=True)\n",
        "\n",
        "print(dataset_disney)"
      ],
      "metadata": {
        "colab": {
          "base_uri": "https://localhost:8080/"
        },
        "id": "vC_tDSx2Okl6",
        "outputId": "3334a91e-11f2-4d4b-8799-d69743bc11e3"
      },
      "execution_count": 8,
      "outputs": [
        {
          "output_type": "stream",
          "name": "stdout",
          "text": [
            "<BatchDataset element_spec=(TensorSpec(shape=(64, 100), dtype=tf.int64, name=None), TensorSpec(shape=(64, 100), dtype=tf.int64, name=None))>\n"
          ]
        }
      ]
    },
    {
      "cell_type": "markdown",
      "source": [
        "**Building the Model**"
      ],
      "metadata": {
        "id": "3nFMnyttOxrw"
      }
    },
    {
      "cell_type": "code",
      "source": [
        "# Length of the vocabulary in chars\n",
        "vocab_size = len(vocab1)\n",
        "# The embedding dimension\n",
        "embedding_dim = 256\n",
        "# Number of RNN units\n",
        "rnn_units = 1024"
      ],
      "metadata": {
        "id": "SQVMBX7oOrzl"
      },
      "execution_count": 9,
      "outputs": []
    },
    {
      "cell_type": "code",
      "source": [
        "def build_model(vocab_size, embedding_dim, rnn_units, batch_size):\n",
        "  model = tf.keras.Sequential([\n",
        "    tf.keras.layers.Embedding(vocab_size, embedding_dim,\n",
        "                              batch_input_shape=[batch_size, None]),\n",
        "    tf.keras.layers.GRU(rnn_units,\n",
        "                        return_sequences=True,\n",
        "                        stateful=True,\n",
        "                        recurrent_initializer='glorot_uniform'),\n",
        "    tf.keras.layers.Dense(vocab_size)\n",
        "  ])\n",
        "  return model"
      ],
      "metadata": {
        "id": "WnZb5QNPO3On"
      },
      "execution_count": 10,
      "outputs": []
    },
    {
      "cell_type": "code",
      "source": [
        "model_disney = build_model(\n",
        "    vocab_size = len(vocab1), # no. of unique characters\n",
        "    embedding_dim=embedding_dim, # 256\n",
        "    rnn_units=rnn_units, # 1024\n",
        "    batch_size=BATCH_SIZE)  # 64 for the traning\n",
        "\n",
        "model_disney.summary()"
      ],
      "metadata": {
        "colab": {
          "base_uri": "https://localhost:8080/"
        },
        "id": "f3VVPmFzO69K",
        "outputId": "13d24cd3-1ee3-4d36-a4ff-b0c13922ad6d"
      },
      "execution_count": 11,
      "outputs": [
        {
          "output_type": "stream",
          "name": "stdout",
          "text": [
            "Model: \"sequential\"\n",
            "_________________________________________________________________\n",
            " Layer (type)                Output Shape              Param #   \n",
            "=================================================================\n",
            " embedding (Embedding)       (64, None, 256)           19968     \n",
            "                                                                 \n",
            " gru (GRU)                   (64, None, 1024)          3938304   \n",
            "                                                                 \n",
            " dense (Dense)               (64, None, 78)            79950     \n",
            "                                                                 \n",
            "=================================================================\n",
            "Total params: 4,038,222\n",
            "Trainable params: 4,038,222\n",
            "Non-trainable params: 0\n",
            "_________________________________________________________________\n"
          ]
        }
      ]
    },
    {
      "cell_type": "markdown",
      "source": [
        "**Compiling and Training**"
      ],
      "metadata": {
        "id": "SsWSLNTpRlJu"
      }
    },
    {
      "cell_type": "code",
      "source": [
        "def loss(labels, logits):\n",
        "  return tf.keras.losses.sparse_categorical_crossentropy(labels, logits, from_logits=True)\n",
        "\n",
        "# example_batch_loss  = loss(target_example_batch, example_batch_predictions)\n",
        "# print(\"Prediction shape: \", example_batch_predictions.shape, \" (batch_size, sequence_length, vocab_size)\")\n",
        "# print(\"scalar_loss:      \", example_batch_loss.numpy().mean())\n",
        "\n",
        "model_disney.compile(optimizer='adam', loss=loss)"
      ],
      "metadata": {
        "id": "YEpNcfy_PDh3"
      },
      "execution_count": 12,
      "outputs": []
    },
    {
      "cell_type": "code",
      "source": [
        "# Directory where the checkpoints will be saved\n",
        "checkpoint_dir_disney = './training_checkpoints/disney'\n",
        "# Name of the checkpoint files\n",
        "checkpoint_prefix_disney = os.path.join(checkpoint_dir_disney, \"ckpt_{epoch}\")\n",
        "\n",
        "checkpoint_callback_disney=tf.keras.callbacks.ModelCheckpoint(\n",
        "    filepath=checkpoint_prefix_disney,\n",
        "    save_weights_only=True)"
      ],
      "metadata": {
        "id": "EeskWahQRuaK"
      },
      "execution_count": 13,
      "outputs": []
    },
    {
      "cell_type": "code",
      "source": [
        "EPOCHS = 30\n",
        "history_disney = model_disney.fit(dataset_disney, \n",
        "                    epochs=EPOCHS, \n",
        "                    callbacks=[checkpoint_callback_disney])"
      ],
      "metadata": {
        "colab": {
          "base_uri": "https://localhost:8080/"
        },
        "id": "RSK4sOKyR8cV",
        "outputId": "af2413a7-143e-4ff8-ed9d-dfbc6cb24b39"
      },
      "execution_count": 14,
      "outputs": [
        {
          "output_type": "stream",
          "name": "stdout",
          "text": [
            "Epoch 1/30\n",
            "13/13 [==============================] - 10s 132ms/step - loss: 4.1921\n",
            "Epoch 2/30\n",
            "13/13 [==============================] - 1s 59ms/step - loss: 3.3241\n",
            "Epoch 3/30\n",
            "13/13 [==============================] - 0s 21ms/step - loss: 2.9795\n",
            "Epoch 4/30\n",
            "13/13 [==============================] - 0s 18ms/step - loss: 2.7543\n",
            "Epoch 5/30\n",
            "13/13 [==============================] - 0s 19ms/step - loss: 2.5650\n",
            "Epoch 6/30\n",
            "13/13 [==============================] - 0s 18ms/step - loss: 2.4430\n",
            "Epoch 7/30\n",
            "13/13 [==============================] - 0s 18ms/step - loss: 2.3766\n",
            "Epoch 8/30\n",
            "13/13 [==============================] - 0s 18ms/step - loss: 2.3288\n",
            "Epoch 9/30\n",
            "13/13 [==============================] - 0s 19ms/step - loss: 2.2900\n",
            "Epoch 10/30\n",
            "13/13 [==============================] - 0s 17ms/step - loss: 2.2516\n",
            "Epoch 11/30\n",
            "13/13 [==============================] - 0s 17ms/step - loss: 2.2114\n",
            "Epoch 12/30\n",
            "13/13 [==============================] - 0s 19ms/step - loss: 2.1711\n",
            "Epoch 13/30\n",
            "13/13 [==============================] - 0s 18ms/step - loss: 2.1299\n",
            "Epoch 14/30\n",
            "13/13 [==============================] - 0s 17ms/step - loss: 2.0855\n",
            "Epoch 15/30\n",
            "13/13 [==============================] - 0s 18ms/step - loss: 2.0376\n",
            "Epoch 16/30\n",
            "13/13 [==============================] - 1s 34ms/step - loss: 1.9950\n",
            "Epoch 17/30\n",
            "13/13 [==============================] - 0s 22ms/step - loss: 1.9466\n",
            "Epoch 18/30\n",
            "13/13 [==============================] - 0s 18ms/step - loss: 1.8997\n",
            "Epoch 19/30\n",
            "13/13 [==============================] - 1s 32ms/step - loss: 1.8508\n",
            "Epoch 20/30\n",
            "13/13 [==============================] - 0s 18ms/step - loss: 1.8105\n",
            "Epoch 21/30\n",
            "13/13 [==============================] - 0s 18ms/step - loss: 1.7532\n",
            "Epoch 22/30\n",
            "13/13 [==============================] - 0s 20ms/step - loss: 1.7070\n",
            "Epoch 23/30\n",
            "13/13 [==============================] - 0s 19ms/step - loss: 1.6557\n",
            "Epoch 24/30\n",
            "13/13 [==============================] - 1s 76ms/step - loss: 1.6076\n",
            "Epoch 25/30\n",
            "13/13 [==============================] - 0s 19ms/step - loss: 1.5587\n",
            "Epoch 26/30\n",
            "13/13 [==============================] - 0s 19ms/step - loss: 1.5025\n",
            "Epoch 27/30\n",
            "13/13 [==============================] - 0s 19ms/step - loss: 1.4506\n",
            "Epoch 28/30\n",
            "13/13 [==============================] - 0s 18ms/step - loss: 1.3868\n",
            "Epoch 29/30\n",
            "13/13 [==============================] - 0s 18ms/step - loss: 1.3299\n",
            "Epoch 30/30\n",
            "13/13 [==============================] - 0s 18ms/step - loss: 1.2718\n"
          ]
        }
      ]
    },
    {
      "cell_type": "code",
      "source": [
        "loss_disney = model_disney.history.history['loss']"
      ],
      "metadata": {
        "id": "LzF39hC5SEMB"
      },
      "execution_count": 15,
      "outputs": []
    },
    {
      "cell_type": "code",
      "source": [
        "# plot\n",
        "epochs_range = range(EPOCHS)\n",
        "plt.plot(epochs_range, loss_disney, '-x')\n",
        "plt.xlabel('Epoch')\n",
        "plt.ylabel('Loss')\n",
        "plt.title('Gru RNN Training Loss for Disney Song')\n",
        "plt.show()"
      ],
      "metadata": {
        "colab": {
          "base_uri": "https://localhost:8080/",
          "height": 295
        },
        "id": "PLvlPbp_SX8B",
        "outputId": "2b2706e1-80b2-4ab9-b427-2324fd48f777"
      },
      "execution_count": 25,
      "outputs": [
        {
          "output_type": "display_data",
          "data": {
            "text/plain": [
              "<Figure size 432x288 with 1 Axes>"
            ],
            "image/png": "[encoded data removed]"
          },
          "metadata": {
            "needs_background": "light"
          }
        }
      ]
    },
    {
      "cell_type": "markdown",
      "source": [
        "**Generating New Text**"
      ],
      "metadata": {
        "id": "Nr-2vRf0Soh1"
      }
    },
    {
      "cell_type": "code",
      "source": [
        "tf.train.latest_checkpoint(checkpoint_dir_disney)"
      ],
      "metadata": {
        "colab": {
          "base_uri": "https://localhost:8080/",
          "height": 36
        },
        "id": "_a_SQnd-Shk4",
        "outputId": "880e9b01-7105-445f-dfc7-929bb1761caa"
      },
      "execution_count": 17,
      "outputs": [
        {
          "output_type": "execute_result",
          "data": {
            "text/plain": [
              "'./training_checkpoints/disney/ckpt_30'"
            ],
            "application/vnd.google.colaboratory.intrinsic+json": {
              "type": "string"
            }
          },
          "metadata": {},
          "execution_count": 17
        }
      ]
    },
    {
      "cell_type": "code",
      "source": [
        "model_disney = build_model(vocab_size, embedding_dim, rnn_units, batch_size=1)\n",
        "model_disney.load_weights(tf.train.latest_checkpoint(checkpoint_dir_disney))\n",
        "model_disney.build(tf.TensorShape([1, None]))\n",
        "model_disney.summary()"
      ],
      "metadata": {
        "colab": {
          "base_uri": "https://localhost:8080/"
        },
        "id": "WJIiC3OcSuws",
        "outputId": "d43a58ec-1ca4-4f20-935f-2de470d91169"
      },
      "execution_count": 18,
      "outputs": [
        {
          "output_type": "stream",
          "name": "stdout",
          "text": [
            "Model: \"sequential_1\"\n",
            "_________________________________________________________________\n",
            " Layer (type)                Output Shape              Param #   \n",
            "=================================================================\n",
            " embedding_1 (Embedding)     (1, None, 256)            19968     \n",
            "                                                                 \n",
            " gru_1 (GRU)                 (1, None, 1024)           3938304   \n",
            "                                                                 \n",
            " dense_1 (Dense)             (1, None, 78)             79950     \n",
            "                                                                 \n",
            "=================================================================\n",
            "Total params: 4,038,222\n",
            "Trainable params: 4,038,222\n",
            "Non-trainable params: 0\n",
            "_________________________________________________________________\n"
          ]
        }
      ]
    },
    {
      "cell_type": "code",
      "source": [
        "def generate_text(model, num_generate, temperature, start_string):\n",
        "  input_eval = [char2idx_1[s] for s in start_string] # string to numbers (vectorizing)\n",
        "  input_eval = tf.expand_dims(input_eval, 0) # dimension expansion\n",
        "  text_generated = [] # Empty string to store our results\n",
        "  model.reset_states() # Clears the hidden states in the RNN\n",
        "\n",
        "  for i in range(num_generate): #Run a loop for number of characters to generate\n",
        "    predictions = model(input_eval) # prediction for single character\n",
        "    predictions = tf.squeeze(predictions, 0) # remove the batch dimension\n",
        "\n",
        "    # using a categorical distribution to predict the character returned by the model\n",
        "    # higher temperature increases the probability of selecting a less likely character\n",
        "    # lower --> more predictable\n",
        "    predictions = predictions / temperature\n",
        "    predicted_id = tf.random.categorical(predictions, num_samples=1)[-1,0].numpy()\n",
        "\n",
        "    # The predicted character as the next input to the model\n",
        "    # along with the previous hidden state\n",
        "    # So the model makes the next prediction based on the previous character\n",
        "    input_eval = tf.expand_dims([predicted_id], 0) \n",
        "    # Also devectorize the number and add to the generated text\n",
        "    text_generated.append(idx2char_1[predicted_id]) \n",
        "\n",
        "  return (start_string + ''.join(text_generated))"
      ],
      "metadata": {
        "id": "kDExEi3QTVR0"
      },
      "execution_count": 21,
      "outputs": []
    },
    {
      "cell_type": "code",
      "source": [
        "# Disney Sample 1\n",
        "generated_text = generate_text(\n",
        "                    model_disney, \n",
        "                    num_generate=500, \n",
        "                    temperature=1, \n",
        "                    start_string=u\"Love\")\n",
        "print(generated_text)"
      ],
      "metadata": {
        "colab": {
          "base_uri": "https://localhost:8080/"
        },
        "id": "Z1Cqwcq0TCHJ",
        "outputId": "6600b6df-f80b-479a-b629-6a9b8357fde2"
      },
      "execution_count": 23,
      "outputs": [
        {
          "output_type": "stream",
          "name": "stdout",
          "text": [
            "Lovef, Now And you girl ;no I'll bo know hom vime an are\n",
            "I'm nothe bame A senord there you cunnow\n",
            "Who is there's dogne the just Leaves It's thes can\n",
            "When take a little that gett got hoigh\n",
            "That's decly faralady\n",
            "I'm hand as sterun\n",
            "But no rest chem,\n",
            "heng then world atter in a lot on the bulls of the cluck. Better now I'm to can bellion\n",
            "Everything? it's agrown that you are I welcome won't star nowereshes for che wish, 'reilot, neverssen to be?\n",
            "M-I-C-K-E-Y M-O-U-S-E! Mickey\n",
            "Mous that? I'll sho it the eas\n"
          ]
        }
      ]
    },
    {
      "cell_type": "markdown",
      "source": [
        "\n",
        "\n",
        "*   The final training loss of Gru RNN for Disney song lyrics is really similar with Shakespeare data. And it is slightly lower than Simple RNN of Shakespeare data.\n"
      ],
      "metadata": {
        "id": "CShOMJZOU5hy"
      }
    }
  ]
}