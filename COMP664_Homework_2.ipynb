{
  "nbformat": 4,
  "nbformat_minor": 0,
  "metadata": {
    "colab": {
      "provenance": []
    },
    "kernelspec": {
      "name": "python3",
      "display_name": "Python 3"
    },
    "language_info": {
      "name": "python"
    }
  },
  "cells": [
    {
      "cell_type": "markdown",
      "source": [
        "# 1. Logistic Regression for Binary Classification (1.5 points)\n",
        "\n",
        "In softmax regression, the model's output probabilities are given by\n",
        "\n",
        "$$p(y|\\mathbf{o}) = \\mathrm{softmax}(\\mathbf{o})_y = \\frac{\\exp(o_y)}{\\sum_{y'} \\exp(o_{y'})}$$\n",
        "\n",
        "1. Show that this parametrization has a spurious degree of freedom. That is, show that both $\\mathbf{o}$ and $\\mathbf{o} + c$ with $c \\in \\mathbb{R}$ lead to the same probability estimate.\n",
        "\n",
        "2. For binary classification, i.e. whenever we have only two classes $\\{-1, 1\\}$, we can arbitrarily set $o_{-1} = 0$. Using the shorthand $o = o_1$ show that this is equivalent to \n",
        "\n",
        "$$p(y=1|o) = \\frac{1}{1 + \\exp(-o)}$$\n",
        "\n",
        "3. Show that the log-likelihood loss (often called logistic loss) for labels $y \\in \\{-1, 1\\}$ is thus given by \n",
        "\n",
        "$$-\\log p(y|o) = \\log (1 + \\exp(-y \\cdot o))$$\n",
        "\n",
        "4. Show that for $y = 1$ the logistic loss asymptotes to $0$ for $o \\to \\infty$ and to $\\infty$ for $o \\to -\\infty$. "
      ],
      "metadata": {
        "id": "0VV0ToY_fa2M"
      }
    },
    {
      "cell_type": "markdown",
      "source": [
        "\n",
        "\n",
        "\n",
        "\n",
        "*   Q1.1: $$p(y|o+c)={exp(o_y+c) \\over \\sum_{y'}exp(o_{y'}+c)}=  {e^{c}exp(o_y) \\over e^{c}\\sum_{y'}exp(o_{y'})}={exp(o_y) \\over \\sum_{y'}exp(o_{y'})}$$\n",
        "\n"
      ],
      "metadata": {
        "id": "aLAqUmfH7dXO"
      }
    },
    {
      "cell_type": "markdown",
      "source": [
        "\n",
        "\n",
        "*   Q1.2: $$p(y=1|o)=p(y=1|o_{-1}=0, o_{1}=o)={exp(o_{1}) \\over {exp(o_{-1})+exp(o_{1})}}={exp(o_{1}) \\over {1+exp(o_{1})}}={1 \\over {(1+exp(o_{1})) \\times exp(-o_{1})}}={1 \\over {1+exp(-o_{1})}}={1 \\over {1+exp(-o)}}$$\n",
        "\n"
      ],
      "metadata": {
        "id": "S9TgWaImel8W"
      }
    },
    {
      "cell_type": "markdown",
      "source": [
        "\n",
        "\n",
        "*   Q1.3: \n",
        "From Q1.2, we can get to know that $$p(y=1|o)={1 \\over {1+exp(-o)}}$$\n",
        "Based on that we can also get &rarr; $$p(y=-1|o)=1-{1 \\over {1+exp(-o)}}={{1+exp(-o)} \\over {1+exp(-o)}}-{1 \\over {1+exp(-o)}}={exp(-o) \\over {1+exp(-o)}}={1 \\over {1+exp(o)}}$$\n",
        "Then &rarr; $$p(y|o)={1 \\over {1+exp(-y⋅o)}}$$\n",
        "Thus, $$-\\log p(y|o)=-log({1 \\over {1+exp(-y⋅o)}})=-(log(1)-log(1+exp(-y \\cdot o)))=log(1+exp(-y \\cdot o))$$\n",
        "\n"
      ],
      "metadata": {
        "id": "QuOCuiVsqlCd"
      }
    },
    {
      "cell_type": "markdown",
      "source": [
        "\n",
        "\n",
        "*   Q1.4: From Q1.3 and $y=1$ \n",
        "  * $o \\to \\infty : \\infty log(1+exp(-o))=log(1+\\lim_{o \\to \\infty}exp(-o))=log(1+{\\lim_{o \\to \\infty}1 \\over \\lim_{o \\to \\infty}exp(o)})=log(1+{1 \\over ∞})=log(1)=0$\n",
        "  * $o \\to -\\infty : -\\infty log(1+exp(-o))=log(1+\\lim_{o \\to -\\infty}exp(-o))=log(1+\\lim_{o \\to \\infty}exp(o))=log(\\infty)=\\infty$\n",
        "\n"
      ],
      "metadata": {
        "id": "xYngvX6l48AI"
      }
    },
    {
      "cell_type": "markdown",
      "source": [
        "# 2. Implementing the logistic loss (1 point)\n",
        "\n",
        "1. Implement the binary logistic loss $l(y,o) = \\log (1 + \\exp(-y \\cdot o))$ in numpy.\n",
        "1. Plot its values for $y \\in \\{-1, 1\\}$ over the range of $o \\in [-5, 5]$.\n",
        "1. Derive the derivative of $l(y,o)$ and show your work. Then, in a new plot, plot derivative of $l(y,o)$ with respect to $o$ for $y \\in \\{-1, 1\\}$ and for $o \\in [-5, 5]$ without using any automatic differentiation software (e.g. Pytorch, TensorFlow, JAX, etc.).\n",
        "1. In a new plot, plot $l(y,o)$ with $y = 1$ and $o ∈ [-1000, 1000]$. What happens for large positive and large negative values of $o$? Why?"
      ],
      "metadata": {
        "id": "dMcRnYVRfxfp"
      }
    },
    {
      "cell_type": "code",
      "source": [
        "import numpy as np\n",
        "import matplotlib.pyplot as plt\n",
        "\n",
        "import warnings\n",
        "\n",
        "#suppress warnings\n",
        "warnings.filterwarnings('ignore')"
      ],
      "metadata": {
        "id": "EbPftxnEJj-1"
      },
      "execution_count": 1,
      "outputs": []
    },
    {
      "cell_type": "code",
      "source": [
        "# Q2.1\n",
        "def logistic_loss(y, o):\n",
        "  return np.log(1+np.exp(-y*o))"
      ],
      "metadata": {
        "id": "BKLFRRRzGcLK"
      },
      "execution_count": 2,
      "outputs": []
    },
    {
      "cell_type": "code",
      "source": [
        "# Q2.2\n",
        "o = np.linspace(-5, 5, 100)\n",
        "\n",
        "plt.title(\"logistic loss\")\n",
        "plt.plot(o, logistic_loss(1.0, o), color='g', label=\"$y=1$\")\n",
        "plt.plot(o, logistic_loss(-1.0, o), color='b', label=\"$y=-1$\")\n",
        "plt.legend()\n",
        "plt.show()"
      ],
      "metadata": {
        "colab": {
          "base_uri": "https://localhost:8080/",
          "height": 281
        },
        "id": "-tCCytt8KQmR",
        "outputId": "c29d874a-6112-4b55-eca4-3afb95e287d6"
      },
      "execution_count": 3,
      "outputs": [
        {
          "output_type": "display_data",
          "data": {
            "text/plain": [
              "<Figure size 432x288 with 1 Axes>"
            ],
            "image/png": "[encoded data removed]"
          },
          "metadata": {
            "needs_background": "light"
          }
        }
      ]
    },
    {
      "cell_type": "code",
      "source": [
        "# Q2.3\n",
        "def loss_derivative(y, o):\n",
        "  return -y/(np.exp(y*o)+1)"
      ],
      "metadata": {
        "id": "dfEV2NGUOvzr"
      },
      "execution_count": 4,
      "outputs": []
    },
    {
      "cell_type": "markdown",
      "source": [
        "$${∂l \\over ∂o}={1 \\over 1+exp(-y \\cdot o)} \\cdot exp(-y*o) \\cdot -y = {-y \\cdot exop(-y \\cdot o) \\over 1+exp(-y \\cdot o)}={-y \\over 1+exp(y \\cdot o)}$$"
      ],
      "metadata": {
        "id": "GeMLaL1lJlRh"
      }
    },
    {
      "cell_type": "code",
      "source": [
        "plt.title(\"logistic loss derivative\")\n",
        "plt.plot(o, loss_derivative(1.0, o), color='g', label=\"$y=1$\")\n",
        "plt.plot(o, loss_derivative(-1.0, o), color='b', label=\"$y=-1$\")\n",
        "plt.legend()\n",
        "plt.show()"
      ],
      "metadata": {
        "colab": {
          "base_uri": "https://localhost:8080/",
          "height": 281
        },
        "id": "Hn-SEbSkTI5o",
        "outputId": "fdc64411-3f1e-4dbf-c2c5-d2488261059a"
      },
      "execution_count": 5,
      "outputs": [
        {
          "output_type": "display_data",
          "data": {
            "text/plain": [
              "<Figure size 432x288 with 1 Axes>"
            ],
            "image/png": "[encoded data removed]"
          },
          "metadata": {
            "needs_background": "light"
          }
        }
      ]
    },
    {
      "cell_type": "code",
      "source": [
        "# Q2.4\n",
        "o = np.linspace(-1000, 1000, 100)\n",
        "\n",
        "plt.title(\"logistic loss\")\n",
        "plt.plot(o, loss_derivative(1.0, o), color='g', label=\"$y=1$\")\n",
        "plt.legend()\n",
        "plt.show()"
      ],
      "metadata": {
        "colab": {
          "base_uri": "https://localhost:8080/",
          "height": 281
        },
        "id": "_O8E9VB5UXFQ",
        "outputId": "49f267b2-2b81-4fe6-cdb4-9dad1e693627"
      },
      "execution_count": 14,
      "outputs": [
        {
          "output_type": "display_data",
          "data": {
            "text/plain": [
              "<Figure size 432x288 with 1 Axes>"
            ],
            "image/png": "[encoded data removed]"
          },
          "metadata": {
            "needs_background": "light"
          }
        }
      ]
    },
    {
      "cell_type": "markdown",
      "source": [
        "\n",
        "\n",
        "*   In the previous steps, we have proved that the binary logistic loss will be infinite when the value O tends to negative infinity. And when the value of O tends to positive infinity, the binary logistic loss will be 0. This is becasue that the exponential function is an increasing function which has a very steep slope for large positive values and very small slope for large negative values.\n",
        "\n"
      ],
      "metadata": {
        "id": "U01wvBV_WtKy"
      }
    },
    {
      "cell_type": "markdown",
      "source": [
        "# 3. Implementing logistic regression (1.5 points)\n",
        "\n",
        "Implement a basic logistic regression model and fit it to the data from the new `generate_data` function (below) using gradient descent.\n",
        "Your model should take the form `o = m*x + b`, where `o` is the output (logits), `x` is the input, `m` is a weight parameter, and `b` is a bias parameter.\n",
        "Train the model using the logistic loss function you derived in the previous problem.\n",
        "You must use only `numpy` and derive any derivatives yourself (i.e. no autograd from TensorFlow, MXNet, Pytorch, JAX etc!).\n",
        "Print out or plot the loss over the course of training.\n",
        "You should be able to get a loss that is close to zero by the end of training - make sure you achieve this and **explain why**."
      ],
      "metadata": {
        "id": "pSBRk8vpsqA3"
      }
    },
    {
      "cell_type": "code",
      "source": [
        "def generate_data():\n",
        "    size = 1000\n",
        "    rng = np.random.default_rng(seed=0)\n",
        "    y = 2*rng.integers(0, 2, size) - 1\n",
        "    x = rng.standard_normal((1000,)) + 4*y\n",
        "    return x, y"
      ],
      "metadata": {
        "id": "L150buNSoFes"
      },
      "execution_count": 7,
      "outputs": []
    },
    {
      "cell_type": "code",
      "source": [
        "# Data\n",
        "x, y = generate_data()"
      ],
      "metadata": {
        "id": "dpPnzaHcfnDS"
      },
      "execution_count": 8,
      "outputs": []
    },
    {
      "cell_type": "code",
      "source": [
        "def gradientDescent(x, y, m, b, learn_rate, N, n_iter):\n",
        "    loss_i = np.zeros(n_iter)\n",
        "    for i in range(n_iter):\n",
        "        o = m*x+b\n",
        "        loss = np.sum(logistic_loss(y,o))\n",
        "        loss_i[i] = loss\n",
        "        derivative = loss_derivative(y, o)\n",
        "        #print(\"i:%d, loss: %f\" % (i, loss))\n",
        "\n",
        "        gradient_m = np.dot(x,derivative)/N\n",
        "        gradient_b = np.sum(derivative)/N\n",
        "        m = m - learn_rate*gradient_m\n",
        "        b = b - learn_rate*gradient_b\n",
        "    return m,b,loss_i"
      ],
      "metadata": {
        "id": "3gsMxf6LgLgs"
      },
      "execution_count": 9,
      "outputs": []
    },
    {
      "cell_type": "code",
      "source": [
        "N = len(x)"
      ],
      "metadata": {
        "id": "RTAXC88FNL-z"
      },
      "execution_count": 10,
      "outputs": []
    },
    {
      "cell_type": "code",
      "source": [
        "m,b,loss = gradientDescent(x,y, m=0, b=0, learn_rate=0.1, N=N, n_iter=10000)"
      ],
      "metadata": {
        "id": "EM5jeCKDONpe"
      },
      "execution_count": 11,
      "outputs": []
    },
    {
      "cell_type": "code",
      "source": [
        "# Plot the loss over interations\n",
        "epoch = range(len(loss))\n",
        "plt.plot(epoch,loss,'o')\n",
        "plt.xlabel('iteration')\n",
        "plt.ylabel('loss')\n",
        "plt.show()"
      ],
      "metadata": {
        "colab": {
          "base_uri": "https://localhost:8080/",
          "height": 279
        },
        "id": "W3fEg9uRPQ_Y",
        "outputId": "dade5072-f8d1-4534-f7a3-ba8d8b2fd828"
      },
      "execution_count": 12,
      "outputs": [
        {
          "output_type": "display_data",
          "data": {
            "text/plain": [
              "<Figure size 432x288 with 1 Axes>"
            ],
            "image/png": "[encoded data removed]"
          },
          "metadata": {
            "needs_background": "light"
          }
        }
      ]
    },
    {
      "cell_type": "markdown",
      "source": [
        "\n",
        "\n",
        "*   From the plot, we can find that the loss is close to zero by the end of training. That is because that over the course of training, the parameters get much closer to the optimal values which also minimize the loss function.\n",
        "\n"
      ],
      "metadata": {
        "id": "AQqw7OYCuqWL"
      }
    }
  ]
}