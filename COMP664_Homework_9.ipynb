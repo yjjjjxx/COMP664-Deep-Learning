{
  "nbformat": 4,
  "nbformat_minor": 0,
  "metadata": {
    "colab": {
      "provenance": []
    },
    "kernelspec": {
      "name": "python3",
      "display_name": "Python 3"
    },
    "language_info": {
      "name": "python"
    },
    "accelerator": "GPU",
    "gpuClass": "standard"
  },
  "cells": [
    {
      "cell_type": "markdown",
      "metadata": {
        "id": "Ovi3rNd9BeZ4"
      },
      "source": [
        "# Homework 9\n",
        "\n",
        "In this homework, you will be using a form of attention called *attention pooling* to solve the \"addition problem\". The addition problem was introduced in the [LSTM paper](https://www.bioinf.jku.at/publications/older/2604.pdf) as a way to test whether an RNN could propagate information across many time steps. In the addition problem, the model is given a sequence of 2D vectors in the format:\n",
        "\n",
        "|     |      |     |     |      |     |      |     |     |     |     |\n",
        "|-----|------|-----|-----|------|-----|------|-----|-----|-----|-----|\n",
        "| 0.5 | -0.7 | 0.3 | 0.1 | -0.2 | ... | -0.5 | 0.9 | ... | 0.8 | 0.2 |\n",
        "| 0   |   0  |  1  |  0  |   0  |     |   0  |  1  |     |  0  |  0  |\n",
        "\n",
        "The first dimension of each vector in the sequence is a random number between 0 and 1. The second dimension is 0 for all entries of the sequence expect for 2, where it is 1. The goal of the addition problem is to output the sum of the values in the first dimension at the two indices where the second dimension is 1. In the example above, the target would be 0.9 + 0.3 = 1.2. Below is a code snippet that generates a sequence and its target for the addition problem."
      ]
    },
    {
      "cell_type": "code",
      "metadata": {
        "id": "r42nn-jOxhKp"
      },
      "source": [
        "import numpy as np\n",
        "\n",
        "def addition_problem(sequence_length=50):\n",
        "    output = np.random.uniform(-1, 1, (sequence_length, 2))\n",
        "    output[:, 0] = 0.\n",
        "    random_indices = np.random.choice(sequence_length, size=2, replace=False)\n",
        "    output[random_indices, [0, 0]] = 1\n",
        "    return output, (output[:, 0]*output[:, 1]).sum(keepdims=True)"
      ],
      "execution_count": null,
      "outputs": []
    },
    {
      "cell_type": "markdown",
      "metadata": {
        "id": "Ew0FypwYCwpn"
      },
      "source": [
        "Attention pooling is a form of attention that allows a model to solve the addition problem without using an RNN. In attention pooling, the query vector $q$ is a *learnable parameter*. The keys and values are both the input sequence. Specifically, given a sequence $\\{h_1, h_2, \\ldots, h_T\\}$, attention pooling computes\n",
        "\\begin{align}\n",
        "e_t &= \\mathrm{a}(q, h_t) \\\\\n",
        "\\alpha_t &= \\frac{\\exp(e_t)}{\\sum_k \\exp(e_k)} \\\\\n",
        "c &= \\sum_{t = 1}^T \\alpha_t h_t\n",
        "\\end{align}\n",
        "where $\\mathrm{a}(q, h_t)$ is the attention energy function. Note that c will always be a fixed-length vector (which amounts to a weighted average of the elements of the sequence $h$) regardless of how long the sequence is (i.e. the value of $T$). $\\mathrm{a}(q, h_t)$ can be any function that takes in a single entry of the sequence $h_t$ and outputs an unnormalizes scalar value. One option is to use\n",
        "$$\\mathrm{a}(q, h_t) = q^\\top \\tanh(W_a h_t + b_a)$$\n",
        "where $q \\in \\mathbb{R}^q$, $W_a \\in \\mathbb{R}^{q \\times d}$, and $b_a \\in \\mathbb{R}^q$ are learnable parameters, and $d$ is the dimensionality of $h_t$ (i.e. $h_t \\in \\mathbb{R}^d$).\n",
        "\n",
        "\n",
        "1. Build and train a neural network that uses attention pooling to solve the addition problem. The model should output a scalar which corresponds to the target value for the addition problem (i.e. the sum of the sequence entries that are marked with a \"1\"). Here, \"solved\" means that the squared error of the model's predicitons is always below $0.05$. Use a sequence length of $50$ (which is the default for the `addition_problem` function defined above). *Hints*:\n",
        "\n",
        "\n",
        "*   This is a regression problem. Your model should predict a continuous scalar value and you can use a squared-error loss.\n",
        "*   The point of the attention pooling layer is to allow you to put it in an otherwise feed-forward network. So, consider just using simple dense feed-forward layers before and/or after the attention pooling layer. To start, you can try the architecture: feed-forward, attention pooling, feed-forward, output layer.\n",
        "*   If you are finding that the model is getting stuck at a non-zero squared error, it could be that it's just outputting the mean value and having trouble learning a good solution. Try different initialization, nonlinearities, architecture, learning rate, etc."
      ]
    },
    {
      "cell_type": "markdown",
      "source": [
        "**Model**"
      ],
      "metadata": {
        "id": "u9ggNFRih5sr"
      }
    },
    {
      "cell_type": "code",
      "source": [
        "import torch\n",
        "import torch.nn as nn\n",
        "import torch.optim as optim\n",
        "\n",
        "class SimpleFeedForwardAttentionPoolingModel(nn.Module):\n",
        "    def __init__(self, input_dim, q_dim, hidden_size):\n",
        "        super(SimpleFeedForwardAttentionPoolingModel, self).__init__()\n",
        "        self.ff1 = nn.Linear(input_dim, hidden_size)\n",
        "        self.q = nn.Parameter(torch.randn(q_dim))\n",
        "        self.Wa = nn.Linear(hidden_size, q_dim)\n",
        "        self.output_layer = nn.Linear(hidden_size, 1)\n",
        "\n",
        "    def forward(self, x):\n",
        "        h1 = torch.relu(self.ff1(x))\n",
        "        h2 = torch.tanh(self.Wa(h1))\n",
        "        e = torch.matmul(h2, self.q)\n",
        "        alpha = torch.softmax(e, dim=1)\n",
        "        context_vector = torch.sum(alpha.unsqueeze(2) * h1, dim=1)\n",
        "        output = self.output_layer(context_vector)\n",
        "        return output"
      ],
      "metadata": {
        "id": "OmyAlWo6jGR-"
      },
      "execution_count": null,
      "outputs": []
    },
    {
      "cell_type": "markdown",
      "source": [
        "**Traning**"
      ],
      "metadata": {
        "id": "InuUE3XFh_Z_"
      }
    },
    {
      "cell_type": "code",
      "source": [
        "%%time\n",
        "\n",
        "def train(model, data, targets, epochs=500, lr=0.001, threshold=0.001):\n",
        "    criterion = nn.MSELoss()\n",
        "    optimizer = optim.Adam(model.parameters(), lr=lr)\n",
        "\n",
        "    for epoch in range(epochs):\n",
        "        optimizer.zero_grad()\n",
        "        predictions = model(data)\n",
        "        loss = criterion(predictions, targets)\n",
        "        loss.backward()\n",
        "        optimizer.step()\n",
        "\n",
        "        if epoch % 10 == 0:\n",
        "            print(f\"Epoch: {epoch}, Loss: {loss.item()}\")\n",
        "\n",
        "        if loss.item() < threshold:\n",
        "            print(f\"Training stopped at epoch: {epoch}, Loss: {loss.item()}\")\n",
        "            break\n",
        "\n",
        "sequence_length = 50\n",
        "num_samples = 1000\n",
        "input_dim = 2\n",
        "q_dim = 16\n",
        "hidden_size = 64\n",
        "\n",
        "# Generate data\n",
        "data = []\n",
        "targets = []\n",
        "for _ in range(num_samples):\n",
        "    seq, target = addition_problem(sequence_length)\n",
        "    data.append(seq)\n",
        "    targets.append(target)\n",
        "data = torch.tensor(data, dtype=torch.float32)\n",
        "targets = torch.tensor(targets, dtype=torch.float32)\n",
        "\n",
        "# Initialize and train the model\n",
        "model = SimpleFeedForwardAttentionPoolingModel(input_dim, q_dim, hidden_size)\n",
        "train(model, data, targets, epochs=500)"
      ],
      "metadata": {
        "colab": {
          "base_uri": "https://localhost:8080/"
        },
        "id": "8UcBc3ymh2X5",
        "outputId": "ddd25890-b90f-4169-9aeb-36c4ecc04668"
      },
      "execution_count": null,
      "outputs": [
        {
          "output_type": "stream",
          "name": "stderr",
          "text": [
            "<timed exec>:32: UserWarning: Creating a tensor from a list of numpy.ndarrays is extremely slow. Please consider converting the list to a single numpy.ndarray with numpy.array() before converting to a tensor. (Triggered internally at ../torch/csrc/utils/tensor_new.cpp:230.)\n"
          ]
        },
        {
          "output_type": "stream",
          "name": "stdout",
          "text": [
            "Epoch: 0, Loss: 0.6705251932144165\n",
            "Epoch: 10, Loss: 0.6281407475471497\n",
            "Epoch: 20, Loss: 0.626194953918457\n",
            "Epoch: 30, Loss: 0.6027065515518188\n",
            "Epoch: 40, Loss: 0.5329394936561584\n",
            "Epoch: 50, Loss: 0.45004162192344666\n",
            "Epoch: 60, Loss: 0.37415850162506104\n",
            "Epoch: 70, Loss: 0.31431126594543457\n",
            "Epoch: 80, Loss: 0.27119624614715576\n",
            "Epoch: 90, Loss: 0.24267184734344482\n",
            "Epoch: 100, Loss: 0.22456641495227814\n",
            "Epoch: 110, Loss: 0.21235284209251404\n",
            "Epoch: 120, Loss: 0.2025628387928009\n",
            "Epoch: 130, Loss: 0.19345694780349731\n",
            "Epoch: 140, Loss: 0.18463744223117828\n",
            "Epoch: 150, Loss: 0.1762034147977829\n",
            "Epoch: 160, Loss: 0.16833040118217468\n",
            "Epoch: 170, Loss: 0.1611117571592331\n",
            "Epoch: 180, Loss: 0.15452344715595245\n",
            "Epoch: 190, Loss: 0.14851288497447968\n",
            "Epoch: 200, Loss: 0.1429648995399475\n",
            "Epoch: 210, Loss: 0.13779427111148834\n",
            "Epoch: 220, Loss: 0.13286909461021423\n",
            "Epoch: 230, Loss: 0.12815730273723602\n",
            "Epoch: 240, Loss: 0.1235155314207077\n",
            "Epoch: 250, Loss: 0.11889184266328812\n",
            "Epoch: 260, Loss: 0.11436417698860168\n",
            "Epoch: 270, Loss: 0.10989075154066086\n",
            "Epoch: 280, Loss: 0.10589733719825745\n",
            "Epoch: 290, Loss: 0.10140586644411087\n",
            "Epoch: 300, Loss: 0.09730357676744461\n",
            "Epoch: 310, Loss: 0.09349047392606735\n",
            "Epoch: 320, Loss: 0.08980922400951385\n",
            "Epoch: 330, Loss: 0.0864086002111435\n",
            "Epoch: 340, Loss: 0.08328765630722046\n",
            "Epoch: 350, Loss: 0.08022317290306091\n",
            "Epoch: 360, Loss: 0.07754287123680115\n",
            "Epoch: 370, Loss: 0.07512250542640686\n",
            "Epoch: 380, Loss: 0.07352477312088013\n",
            "Epoch: 390, Loss: 0.07098162919282913\n",
            "Epoch: 400, Loss: 0.06912816315889359\n",
            "Epoch: 410, Loss: 0.067393958568573\n",
            "Epoch: 420, Loss: 0.06577029824256897\n",
            "Epoch: 430, Loss: 0.06447181105613708\n",
            "Epoch: 440, Loss: 0.06279990077018738\n",
            "Epoch: 450, Loss: 0.061203040182590485\n",
            "Epoch: 460, Loss: 0.05946996062994003\n",
            "Epoch: 470, Loss: 0.058277375996112823\n",
            "Epoch: 480, Loss: 0.05586860328912735\n",
            "Epoch: 490, Loss: 0.05379590764641762\n",
            "CPU times: user 19.5 s, sys: 2.98 s, total: 22.5 s\n",
            "Wall time: 26.4 s\n"
          ]
        }
      ]
    },
    {
      "cell_type": "markdown",
      "source": [
        "2. Once you have trained a model that gets solid performance at sequence length $50$, plot the model's average squared error for sequence lengths $50, 55, 65, 80, 100, 125, 150$. You should generate this plot by averaging the squared error over at least $100$ sequences of a given length. Does the model's error get worse (go up) for longer sequences, or does it generalize to longer sequence lengths?"
      ],
      "metadata": {
        "id": "PKulJP__dyCz"
      }
    },
    {
      "cell_type": "code",
      "source": [
        "import matplotlib.pyplot as plt\n",
        "\n",
        "def evaluate(model, data, targets):\n",
        "    criterion = nn.MSELoss()\n",
        "    with torch.no_grad():\n",
        "        predictions = model(data)\n",
        "        loss = criterion(predictions, targets)\n",
        "    return loss.item()\n",
        "\n",
        "sequence_lengths = [50, 55, 65, 80, 100, 125, 150]\n",
        "num_sequences = 100\n",
        "averages = []\n",
        "\n",
        "for sequence_length in sequence_lengths:\n",
        "    errors = []\n",
        "    for _ in range(num_sequences):\n",
        "        seq, target = addition_problem(sequence_length)\n",
        "        data = torch.tensor([seq], dtype=torch.float32)\n",
        "        targets = torch.tensor([target], dtype=torch.float32)\n",
        "        error = evaluate(model, data, targets)\n",
        "        errors.append(error)\n",
        "    average_error = np.mean(errors)\n",
        "    averages.append(average_error)\n",
        "    print(f\"Average squared error for sequence length {sequence_length}: {average_error}\")\n",
        "\n",
        "plt.plot(sequence_lengths, averages, marker='o')\n",
        "plt.xlabel(\"Sequence Length\")\n",
        "plt.ylabel(\"Average Squared Error\")\n",
        "plt.title(\"Model's Average Squared Error for Different Sequence Lengths\")\n",
        "plt.show()"
      ],
      "metadata": {
        "colab": {
          "base_uri": "https://localhost:8080/",
          "height": 420
        },
        "id": "bZCT1f6mjTye",
        "outputId": "fbcfdf82-4c96-4435-94b1-e9d5a2ba0fb8"
      },
      "execution_count": null,
      "outputs": [
        {
          "output_type": "stream",
          "name": "stdout",
          "text": [
            "Average squared error for sequence length 50: 0.06214616441877297\n",
            "Average squared error for sequence length 55: 0.07295161183144046\n",
            "Average squared error for sequence length 65: 0.1079443109805652\n",
            "Average squared error for sequence length 80: 0.2836637293518288\n",
            "Average squared error for sequence length 100: 0.5419081193360035\n",
            "Average squared error for sequence length 125: 0.7847145444673203\n",
            "Average squared error for sequence length 150: 0.9544320073118433\n"
          ]
        },
        {
          "output_type": "display_data",
          "data": {
            "text/plain": [
              "<Figure size 432x288 with 1 Axes>"
            ],
            "image/png": "[encoded data removed]"
          },
          "metadata": {
            "needs_background": "light"
          }
        }
      ]
    },
    {
      "cell_type": "markdown",
      "source": [
        "From the plot and the observed results, we can conclude that the error increases as the sequence length increases."
      ],
      "metadata": {
        "id": "iEVSK20BjcOw"
      }
    }
  ]
}